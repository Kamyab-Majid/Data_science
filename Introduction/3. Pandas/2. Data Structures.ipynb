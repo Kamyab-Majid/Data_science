{
 "cells": [
  {
   "cell_type": "markdown",
   "id": "another-stability",
   "metadata": {},
   "source": [
    "# Data structures in pandas\n",
    "\n",
    "The pandas package was created by Wes McKinney in 2008 as a result of frustrations he encountered while working on time series data in R. It is built on top of NumPy and provides features not available in it. It provides fast, easy-to-understand data structures and helps fill the gap between Python and a language like R. NumPy deals with homogeneous blocks of data. Using pandas helps to deal with data in a tabular structure composed of different data types.\n",
    "\n",
    "The official documentation for pandas can be found at http://pandas.pydata.org/pandas-docs/stable/dsintro.html."
   ]
  },
  {
   "cell_type": "markdown",
   "id": "large-surprise",
   "metadata": {},
   "source": [
    "There are three main data structures in pandas:\n",
    "\n",
    "- Series—1D\n",
    "- DataFrame—2D\n",
    "- Panel—3D"
   ]
  }
 ],
 "metadata": {
  "kernelspec": {
   "display_name": "Python 3",
   "language": "python",
   "name": "python3"
  },
  "language_info": {
   "codemirror_mode": {
    "name": "ipython",
    "version": 3
   },
   "file_extension": ".py",
   "mimetype": "text/x-python",
   "name": "python",
   "nbconvert_exporter": "python",
   "pygments_lexer": "ipython3",
   "version": "3.7.9"
  }
 },
 "nbformat": 4,
 "nbformat_minor": 5
}
