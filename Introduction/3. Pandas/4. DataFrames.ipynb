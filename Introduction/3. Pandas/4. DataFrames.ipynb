{
 "cells": [
  {
   "cell_type": "markdown",
   "id": "unknown-cleveland",
   "metadata": {},
   "source": [
    "# DataFrames\n",
    "\n",
    "A `DataFrame` is a two-dimensional data structure composed of rows and columns—exactly like a simple spreadsheet or a SQL table. Each column of a DataFrame is a pandas Series. These columns should be of the same length, but they can be of different data types—float, int, bool, and so on. DataFrames are both value-mutable and size-mutable. This lets us perform operations that would alter values held within the DataFrame or add/delete columns to/from the DataFrame."
   ]
  },
  {
   "cell_type": "markdown",
   "id": "superb-onion",
   "metadata": {},
   "source": [
    "## `DataFrame` Creation"
   ]
  },
  {
   "cell_type": "markdown",
   "id": "suitable-spyware",
   "metadata": {},
   "source": [
    "Similar to a `Series`, which has a `name` and `index` as attributes, a `DataFrame` has column names and a row index. The row index can be made of either numerical values or strings such as month names. Indexes are needed for fast lookups as well as proper aligning and joining of data in pandas multilevel indexing is also possible in DataFrames. The following is a simple view of a `DataFrame` with five rows and three columns. In general, the `index` is not counted as a column:"
   ]
  },
  {
   "cell_type": "markdown",
   "id": "animated-integration",
   "metadata": {},
   "source": [
    "|Index | Event type | Total attendees | Percentage of student participants|\n",
    "|:--|:--|:--|:--|\n",
    "|Monday | C | 42 | 23.56%| \n",
    "|Tuesday | B | 58 | 12.89%| \n",
    "|Wednesday | A | 27 | 45.90%| \n",
    "|Thursday | A | 78 | 47.89%| \n",
    "|Friday | B| 92 | 63.25%| "
   ]
  },
  {
   "cell_type": "markdown",
   "id": "scenic-batman",
   "metadata": {},
   "source": [
    "A DataFrame is the most commonly used data structure in pandas. The constructor accepts many different types of arguments:\n",
    "\n",
    "- Dictionary of 1D ndarrays, lists, dictionaries, or Series structures\n",
    "- 2D NumPy array\n",
    "- Structured or record ndarray\n",
    "- Series\n",
    "- Another DataFrame"
   ]
  },
  {
   "cell_type": "markdown",
   "id": "expressed-fountain",
   "metadata": {},
   "source": [
    "Row label indexes and column labels can be specified along with the data. If they're not specified, they will be generated from the input data in an intuitive fashion, for example, from the `keys` of `dict` (in the case of column labels) or by using `range(n)` in the case of row labels, where `n` corresponds to the number of rows."
   ]
  },
  {
   "cell_type": "markdown",
   "id": "transparent-chick",
   "metadata": {},
   "source": [
    "### Using a dictionary of `Series`"
   ]
  },
  {
   "cell_type": "code",
   "execution_count": 1,
   "id": "circular-court",
   "metadata": {},
   "outputs": [],
   "source": [
    "import pandas as pd"
   ]
  },
  {
   "cell_type": "code",
   "execution_count": 26,
   "id": "specialized-traffic",
   "metadata": {},
   "outputs": [],
   "source": [
    "stockSummaries = {\n",
    "    'AMZN': pd.Series(\n",
    "        [346.15, 0.59, 459, 0.52, 589.8, 158.88],\n",
    "        index=['Closing price', 'EPS', 'Shares Outstanding(M)', 'Beta', 'P/E', 'Market Cap(B)']\n",
    "    ),\n",
    "    'GOOG': pd.Series(\n",
    "        [1133.43, 36.05, 335.83, 0.87, 31.44, 380.64],\n",
    "        index=['Closing price', 'EPS', 'Shares Outstanding(M)', 'Beta', 'P/E', 'Market Cap(B)']\n",
    "    ),\n",
    "    'FB': pd.Series(\n",
    "        [61.48, 0.59, 2450, 104.93, 150.92],\n",
    "        index=['Closing price', 'EPS', 'Shares Outstanding(M)', 'P/E', 'Market Cap(B)']\n",
    "    ),\n",
    "    'YHOO': pd.Series(\n",
    "        [34.90, 1.27, 1010, 27.48, 0.66, 35.36],\n",
    "        index=['Closing price', 'EPS', 'Shares Outstanding(M)', 'P/E', 'Beta', 'Market Cap(B)']\n",
    "    ),\n",
    "    'TWTR':pd.Series(\n",
    "        [65.25, -0.3, 555.2, 36.23],\n",
    "        index=['Closing price', 'EPS', 'Shares Outstanding(M)', 'Market Cap(B)']\n",
    "    ),\n",
    "    'AAPL':pd.Series(\n",
    "        [501.53, 40.32, 892.45, 12.44, 447.59, 0.84],\n",
    "        index=['Closing price', 'EPS','Shares Outstanding(M)', 'P/E', 'Market Cap(B)', 'Beta']\n",
    "    )\n",
    "}"
   ]
  },
  {
   "cell_type": "markdown",
   "id": "digital-julian",
   "metadata": {},
   "source": [
    "The preceding dictionary summarizes the performance of six different stocks and indicates that the DataFrame will have six columns. Observe that each series has a different set of indices and is of different length. The final `DataFrame` will contain a unique set of the values in each of the indices. If a certain column has no value at a row index, `NA` is appended to that cell automatically. Now, the following step wraps up this dictionary into a DataFrame:"
   ]
  },
  {
   "cell_type": "code",
   "execution_count": 27,
   "id": "dense-generator",
   "metadata": {},
   "outputs": [
    {
     "data": {
      "text/html": [
       "<div>\n",
       "<style scoped>\n",
       "    .dataframe tbody tr th:only-of-type {\n",
       "        vertical-align: middle;\n",
       "    }\n",
       "\n",
       "    .dataframe tbody tr th {\n",
       "        vertical-align: top;\n",
       "    }\n",
       "\n",
       "    .dataframe thead th {\n",
       "        text-align: right;\n",
       "    }\n",
       "</style>\n",
       "<table border=\"1\" class=\"dataframe\">\n",
       "  <thead>\n",
       "    <tr style=\"text-align: right;\">\n",
       "      <th></th>\n",
       "      <th>AMZN</th>\n",
       "      <th>GOOG</th>\n",
       "      <th>FB</th>\n",
       "      <th>YHOO</th>\n",
       "      <th>TWTR</th>\n",
       "      <th>AAPL</th>\n",
       "    </tr>\n",
       "  </thead>\n",
       "  <tbody>\n",
       "    <tr>\n",
       "      <th>Beta</th>\n",
       "      <td>0.52</td>\n",
       "      <td>0.87</td>\n",
       "      <td>NaN</td>\n",
       "      <td>0.66</td>\n",
       "      <td>NaN</td>\n",
       "      <td>0.84</td>\n",
       "    </tr>\n",
       "    <tr>\n",
       "      <th>Closing price</th>\n",
       "      <td>346.15</td>\n",
       "      <td>1133.43</td>\n",
       "      <td>61.48</td>\n",
       "      <td>34.90</td>\n",
       "      <td>65.25</td>\n",
       "      <td>501.53</td>\n",
       "    </tr>\n",
       "    <tr>\n",
       "      <th>EPS</th>\n",
       "      <td>0.59</td>\n",
       "      <td>36.05</td>\n",
       "      <td>0.59</td>\n",
       "      <td>1.27</td>\n",
       "      <td>-0.30</td>\n",
       "      <td>40.32</td>\n",
       "    </tr>\n",
       "    <tr>\n",
       "      <th>Market Cap(B)</th>\n",
       "      <td>158.88</td>\n",
       "      <td>380.64</td>\n",
       "      <td>150.92</td>\n",
       "      <td>35.36</td>\n",
       "      <td>36.23</td>\n",
       "      <td>447.59</td>\n",
       "    </tr>\n",
       "    <tr>\n",
       "      <th>P/E</th>\n",
       "      <td>589.80</td>\n",
       "      <td>31.44</td>\n",
       "      <td>104.93</td>\n",
       "      <td>27.48</td>\n",
       "      <td>NaN</td>\n",
       "      <td>12.44</td>\n",
       "    </tr>\n",
       "    <tr>\n",
       "      <th>Shares Outstanding(M)</th>\n",
       "      <td>459.00</td>\n",
       "      <td>335.83</td>\n",
       "      <td>2450.00</td>\n",
       "      <td>1010.00</td>\n",
       "      <td>555.20</td>\n",
       "      <td>892.45</td>\n",
       "    </tr>\n",
       "  </tbody>\n",
       "</table>\n",
       "</div>"
      ],
      "text/plain": [
       "                         AMZN     GOOG       FB     YHOO    TWTR    AAPL\n",
       "Beta                     0.52     0.87      NaN     0.66     NaN    0.84\n",
       "Closing price          346.15  1133.43    61.48    34.90   65.25  501.53\n",
       "EPS                      0.59    36.05     0.59     1.27   -0.30   40.32\n",
       "Market Cap(B)          158.88   380.64   150.92    35.36   36.23  447.59\n",
       "P/E                    589.80    31.44   104.93    27.48     NaN   12.44\n",
       "Shares Outstanding(M)  459.00   335.83  2450.00  1010.00  555.20  892.45"
      ]
     },
     "execution_count": 27,
     "metadata": {},
     "output_type": "execute_result"
    }
   ],
   "source": [
    "pd.DataFrame(stockSummaries)"
   ]
  },
  {
   "cell_type": "markdown",
   "id": "acting-transparency",
   "metadata": {},
   "source": [
    "The DataFrame need not necessarily have all the row and column labels from the original dictionary. At times, only a subset of these rows and columns may be needed. In such cases, the row and column indices can be restricted as shown in the following code:"
   ]
  },
  {
   "cell_type": "code",
   "execution_count": 33,
   "id": "cross-break",
   "metadata": {},
   "outputs": [],
   "source": [
    "stock_df = pd.DataFrame(\n",
    "    stockSummaries,\n",
    "    index=['Closing price','EPS', 'Shares Outstanding(M)', 'P/E', 'Market Cap(B)', 'Beta'],\n",
    "    columns=['FB', 'TWTR', 'SCNW']\n",
    ")"
   ]
  },
  {
   "cell_type": "code",
   "execution_count": 34,
   "id": "lyric-hungary",
   "metadata": {},
   "outputs": [
    {
     "data": {
      "text/html": [
       "<div>\n",
       "<style scoped>\n",
       "    .dataframe tbody tr th:only-of-type {\n",
       "        vertical-align: middle;\n",
       "    }\n",
       "\n",
       "    .dataframe tbody tr th {\n",
       "        vertical-align: top;\n",
       "    }\n",
       "\n",
       "    .dataframe thead th {\n",
       "        text-align: right;\n",
       "    }\n",
       "</style>\n",
       "<table border=\"1\" class=\"dataframe\">\n",
       "  <thead>\n",
       "    <tr style=\"text-align: right;\">\n",
       "      <th></th>\n",
       "      <th>FB</th>\n",
       "      <th>TWTR</th>\n",
       "      <th>SCNW</th>\n",
       "    </tr>\n",
       "  </thead>\n",
       "  <tbody>\n",
       "    <tr>\n",
       "      <th>Closing price</th>\n",
       "      <td>61.48</td>\n",
       "      <td>65.25</td>\n",
       "      <td>NaN</td>\n",
       "    </tr>\n",
       "    <tr>\n",
       "      <th>EPS</th>\n",
       "      <td>0.59</td>\n",
       "      <td>-0.30</td>\n",
       "      <td>NaN</td>\n",
       "    </tr>\n",
       "    <tr>\n",
       "      <th>Shares Outstanding(M)</th>\n",
       "      <td>2450.00</td>\n",
       "      <td>555.20</td>\n",
       "      <td>NaN</td>\n",
       "    </tr>\n",
       "    <tr>\n",
       "      <th>P/E</th>\n",
       "      <td>104.93</td>\n",
       "      <td>NaN</td>\n",
       "      <td>NaN</td>\n",
       "    </tr>\n",
       "    <tr>\n",
       "      <th>Market Cap(B)</th>\n",
       "      <td>150.92</td>\n",
       "      <td>36.23</td>\n",
       "      <td>NaN</td>\n",
       "    </tr>\n",
       "    <tr>\n",
       "      <th>Beta</th>\n",
       "      <td>NaN</td>\n",
       "      <td>NaN</td>\n",
       "      <td>NaN</td>\n",
       "    </tr>\n",
       "  </tbody>\n",
       "</table>\n",
       "</div>"
      ],
      "text/plain": [
       "                            FB    TWTR SCNW\n",
       "Closing price            61.48   65.25  NaN\n",
       "EPS                       0.59   -0.30  NaN\n",
       "Shares Outstanding(M)  2450.00  555.20  NaN\n",
       "P/E                     104.93     NaN  NaN\n",
       "Market Cap(B)           150.92   36.23  NaN\n",
       "Beta                       NaN     NaN  NaN"
      ]
     },
     "execution_count": 34,
     "metadata": {},
     "output_type": "execute_result"
    }
   ],
   "source": [
    "stock_df"
   ]
  },
  {
   "cell_type": "markdown",
   "id": "spanish-hotel",
   "metadata": {},
   "source": [
    "Here, a new column name, `SCNW`, which is not found in the original dictionary, has been added. This will result in a column named SCNW with NAs throughout. Similarly, manually passing an index name that is absent in the original data structure will result in a row with `NA`s throughout."
   ]
  },
  {
   "cell_type": "code",
   "execution_count": 49,
   "id": "portable-phase",
   "metadata": {},
   "outputs": [
    {
     "data": {
      "text/plain": [
       "Index(['FB', 'TWTR', 'SCNW'], dtype='object')"
      ]
     },
     "execution_count": 49,
     "metadata": {},
     "output_type": "execute_result"
    }
   ],
   "source": [
    "stock_df.columns"
   ]
  },
  {
   "cell_type": "code",
   "execution_count": 50,
   "id": "monetary-armstrong",
   "metadata": {},
   "outputs": [
    {
     "data": {
      "text/plain": [
       "Index(['Closing price', 'EPS', 'Shares Outstanding(M)', 'P/E', 'Market Cap(B)',\n",
       "       'Beta'],\n",
       "      dtype='object')"
      ]
     },
     "execution_count": 50,
     "metadata": {},
     "output_type": "execute_result"
    }
   ],
   "source": [
    "stock_df.index"
   ]
  },
  {
   "cell_type": "markdown",
   "id": "moderate-location",
   "metadata": {},
   "source": [
    "### Using a dictionary of `ndarrays`/`list`s\n",
    "\n",
    "In the preceding example, the dictionary consisted of Series as the values in the key-value pair. It is possible to construct a DataFrame with a dictionary of lists instead of a dictionary of Series. Unlike the previous case, the row index will not be defined anywhere in the dictionary. Hence, the row label indices are generated using `range(n)`. Therefore, **it is crucial in this case for all lists or arrays in the dictionary to be of equal length**. If this condition is not met, a `ValueError` occurs."
   ]
  },
  {
   "cell_type": "code",
   "execution_count": 51,
   "id": "noted-lodging",
   "metadata": {},
   "outputs": [],
   "source": [
    "algos = {\n",
    "    'search': ['DFS', 'BFS', 'Binary Search', 'Linear','ShortestPath (Djikstra)'],\n",
    "    'sorting': ['Quicksort','Mergesort', 'Heapsort', 'Bubble Sort', 'Insertion Sort'],\n",
    "    'machine learning': ['RandomForest', 'K Nearest Neighbor', 'Logistic Regression', 'K-Means Clustering', 'Linear Regression']\n",
    "}"
   ]
  },
  {
   "cell_type": "code",
   "execution_count": 52,
   "id": "mature-nicaragua",
   "metadata": {},
   "outputs": [],
   "source": [
    "algo_df = pd.DataFrame(algos)"
   ]
  },
  {
   "cell_type": "code",
   "execution_count": 53,
   "id": "built-antique",
   "metadata": {},
   "outputs": [
    {
     "data": {
      "text/html": [
       "<div>\n",
       "<style scoped>\n",
       "    .dataframe tbody tr th:only-of-type {\n",
       "        vertical-align: middle;\n",
       "    }\n",
       "\n",
       "    .dataframe tbody tr th {\n",
       "        vertical-align: top;\n",
       "    }\n",
       "\n",
       "    .dataframe thead th {\n",
       "        text-align: right;\n",
       "    }\n",
       "</style>\n",
       "<table border=\"1\" class=\"dataframe\">\n",
       "  <thead>\n",
       "    <tr style=\"text-align: right;\">\n",
       "      <th></th>\n",
       "      <th>search</th>\n",
       "      <th>sorting</th>\n",
       "      <th>machine learning</th>\n",
       "    </tr>\n",
       "  </thead>\n",
       "  <tbody>\n",
       "    <tr>\n",
       "      <th>0</th>\n",
       "      <td>DFS</td>\n",
       "      <td>Quicksort</td>\n",
       "      <td>RandomForest</td>\n",
       "    </tr>\n",
       "    <tr>\n",
       "      <th>1</th>\n",
       "      <td>BFS</td>\n",
       "      <td>Mergesort</td>\n",
       "      <td>K Nearest Neighbor</td>\n",
       "    </tr>\n",
       "    <tr>\n",
       "      <th>2</th>\n",
       "      <td>Binary Search</td>\n",
       "      <td>Heapsort</td>\n",
       "      <td>Logistic Regression</td>\n",
       "    </tr>\n",
       "    <tr>\n",
       "      <th>3</th>\n",
       "      <td>Linear</td>\n",
       "      <td>Bubble Sort</td>\n",
       "      <td>K-Means Clustering</td>\n",
       "    </tr>\n",
       "    <tr>\n",
       "      <th>4</th>\n",
       "      <td>ShortestPath (Djikstra)</td>\n",
       "      <td>Insertion Sort</td>\n",
       "      <td>Linear Regression</td>\n",
       "    </tr>\n",
       "  </tbody>\n",
       "</table>\n",
       "</div>"
      ],
      "text/plain": [
       "                    search         sorting     machine learning\n",
       "0                      DFS       Quicksort         RandomForest\n",
       "1                      BFS       Mergesort   K Nearest Neighbor\n",
       "2            Binary Search        Heapsort  Logistic Regression\n",
       "3                   Linear     Bubble Sort   K-Means Clustering\n",
       "4  ShortestPath (Djikstra)  Insertion Sort    Linear Regression"
      ]
     },
     "execution_count": 53,
     "metadata": {},
     "output_type": "execute_result"
    }
   ],
   "source": [
    "algo_df"
   ]
  },
  {
   "cell_type": "code",
   "execution_count": 54,
   "id": "international-waterproof",
   "metadata": {},
   "outputs": [
    {
     "data": {
      "text/html": [
       "<div>\n",
       "<style scoped>\n",
       "    .dataframe tbody tr th:only-of-type {\n",
       "        vertical-align: middle;\n",
       "    }\n",
       "\n",
       "    .dataframe tbody tr th {\n",
       "        vertical-align: top;\n",
       "    }\n",
       "\n",
       "    .dataframe thead th {\n",
       "        text-align: right;\n",
       "    }\n",
       "</style>\n",
       "<table border=\"1\" class=\"dataframe\">\n",
       "  <thead>\n",
       "    <tr style=\"text-align: right;\">\n",
       "      <th></th>\n",
       "      <th>search</th>\n",
       "      <th>sorting</th>\n",
       "      <th>machine learning</th>\n",
       "    </tr>\n",
       "  </thead>\n",
       "  <tbody>\n",
       "    <tr>\n",
       "      <th>algo_1</th>\n",
       "      <td>DFS</td>\n",
       "      <td>Quicksort</td>\n",
       "      <td>RandomForest</td>\n",
       "    </tr>\n",
       "    <tr>\n",
       "      <th>algo_2</th>\n",
       "      <td>BFS</td>\n",
       "      <td>Mergesort</td>\n",
       "      <td>K Nearest Neighbor</td>\n",
       "    </tr>\n",
       "    <tr>\n",
       "      <th>algo_3</th>\n",
       "      <td>Binary Search</td>\n",
       "      <td>Heapsort</td>\n",
       "      <td>Logistic Regression</td>\n",
       "    </tr>\n",
       "    <tr>\n",
       "      <th>algo_4</th>\n",
       "      <td>Linear</td>\n",
       "      <td>Bubble Sort</td>\n",
       "      <td>K-Means Clustering</td>\n",
       "    </tr>\n",
       "    <tr>\n",
       "      <th>algo_5</th>\n",
       "      <td>ShortestPath (Djikstra)</td>\n",
       "      <td>Insertion Sort</td>\n",
       "      <td>Linear Regression</td>\n",
       "    </tr>\n",
       "  </tbody>\n",
       "</table>\n",
       "</div>"
      ],
      "text/plain": [
       "                         search         sorting     machine learning\n",
       "algo_1                      DFS       Quicksort         RandomForest\n",
       "algo_2                      BFS       Mergesort   K Nearest Neighbor\n",
       "algo_3            Binary Search        Heapsort  Logistic Regression\n",
       "algo_4                   Linear     Bubble Sort   K-Means Clustering\n",
       "algo_5  ShortestPath (Djikstra)  Insertion Sort    Linear Regression"
      ]
     },
     "execution_count": 54,
     "metadata": {},
     "output_type": "execute_result"
    }
   ],
   "source": [
    "pd.DataFrame(algos, index = ['algo_1', 'algo_2', 'algo_3', 'algo_4', 'algo_5'])"
   ]
  },
  {
   "cell_type": "code",
   "execution_count": 55,
   "id": "dutch-cradle",
   "metadata": {},
   "outputs": [
    {
     "data": {
      "text/html": [
       "<div>\n",
       "<style scoped>\n",
       "    .dataframe tbody tr th:only-of-type {\n",
       "        vertical-align: middle;\n",
       "    }\n",
       "\n",
       "    .dataframe tbody tr th {\n",
       "        vertical-align: top;\n",
       "    }\n",
       "\n",
       "    .dataframe thead th {\n",
       "        text-align: right;\n",
       "    }\n",
       "</style>\n",
       "<table border=\"1\" class=\"dataframe\">\n",
       "  <thead>\n",
       "    <tr style=\"text-align: right;\">\n",
       "      <th></th>\n",
       "      <th>search</th>\n",
       "    </tr>\n",
       "  </thead>\n",
       "  <tbody>\n",
       "    <tr>\n",
       "      <th>0</th>\n",
       "      <td>DFS</td>\n",
       "    </tr>\n",
       "    <tr>\n",
       "      <th>1</th>\n",
       "      <td>BFS</td>\n",
       "    </tr>\n",
       "    <tr>\n",
       "      <th>2</th>\n",
       "      <td>Binary Search</td>\n",
       "    </tr>\n",
       "    <tr>\n",
       "      <th>3</th>\n",
       "      <td>Linear</td>\n",
       "    </tr>\n",
       "    <tr>\n",
       "      <th>4</th>\n",
       "      <td>ShortestPath (Djikstra)</td>\n",
       "    </tr>\n",
       "  </tbody>\n",
       "</table>\n",
       "</div>"
      ],
      "text/plain": [
       "                    search\n",
       "0                      DFS\n",
       "1                      BFS\n",
       "2            Binary Search\n",
       "3                   Linear\n",
       "4  ShortestPath (Djikstra)"
      ]
     },
     "execution_count": 55,
     "metadata": {},
     "output_type": "execute_result"
    }
   ],
   "source": [
    "pd.DataFrame(algos, columns=['search'])"
   ]
  },
  {
   "cell_type": "markdown",
   "id": "champion-overview",
   "metadata": {},
   "source": [
    "### Using a structured array\n",
    "\n",
    "Structured arrays are covered in `NumPy` section. Each field in a structured array can be of a different data type."
   ]
  },
  {
   "cell_type": "code",
   "execution_count": 93,
   "id": "taken-australia",
   "metadata": {},
   "outputs": [],
   "source": [
    "member_data = np.array(\n",
    "    [\n",
    "        ('Sanjeev', 37, 162.4),\n",
    "        ('Yingluck', 45, 137.8),\n",
    "        ('Emeka', 28, 153.2),\n",
    "        ('Amy', 67, 101.3)\n",
    "    ],\n",
    "    dtype = [\n",
    "        ('Name', 'a15'),\n",
    "        ('Age', 'i4'),\n",
    "        ('Weight', 'f4')\n",
    "    ]\n",
    ")"
   ]
  },
  {
   "cell_type": "code",
   "execution_count": 95,
   "id": "comfortable-passenger",
   "metadata": {},
   "outputs": [
    {
     "data": {
      "text/html": [
       "<div>\n",
       "<style scoped>\n",
       "    .dataframe tbody tr th:only-of-type {\n",
       "        vertical-align: middle;\n",
       "    }\n",
       "\n",
       "    .dataframe tbody tr th {\n",
       "        vertical-align: top;\n",
       "    }\n",
       "\n",
       "    .dataframe thead th {\n",
       "        text-align: right;\n",
       "    }\n",
       "</style>\n",
       "<table border=\"1\" class=\"dataframe\">\n",
       "  <thead>\n",
       "    <tr style=\"text-align: right;\">\n",
       "      <th></th>\n",
       "      <th>Name</th>\n",
       "      <th>Age</th>\n",
       "      <th>Weight</th>\n",
       "    </tr>\n",
       "  </thead>\n",
       "  <tbody>\n",
       "    <tr>\n",
       "      <th>0</th>\n",
       "      <td>b'Sanjeev'</td>\n",
       "      <td>37</td>\n",
       "      <td>162.399994</td>\n",
       "    </tr>\n",
       "    <tr>\n",
       "      <th>1</th>\n",
       "      <td>b'Yingluck'</td>\n",
       "      <td>45</td>\n",
       "      <td>137.800003</td>\n",
       "    </tr>\n",
       "    <tr>\n",
       "      <th>2</th>\n",
       "      <td>b'Emeka'</td>\n",
       "      <td>28</td>\n",
       "      <td>153.199997</td>\n",
       "    </tr>\n",
       "    <tr>\n",
       "      <th>3</th>\n",
       "      <td>b'Amy'</td>\n",
       "      <td>67</td>\n",
       "      <td>101.300003</td>\n",
       "    </tr>\n",
       "  </tbody>\n",
       "</table>\n",
       "</div>"
      ],
      "text/plain": [
       "          Name  Age      Weight\n",
       "0   b'Sanjeev'   37  162.399994\n",
       "1  b'Yingluck'   45  137.800003\n",
       "2     b'Emeka'   28  153.199997\n",
       "3       b'Amy'   67  101.300003"
      ]
     },
     "execution_count": 95,
     "metadata": {},
     "output_type": "execute_result"
    }
   ],
   "source": [
    "pd.DataFrame(member_data)"
   ]
  },
  {
   "cell_type": "code",
   "execution_count": 97,
   "id": "alien-evanescence",
   "metadata": {},
   "outputs": [
    {
     "data": {
      "text/html": [
       "<div>\n",
       "<style scoped>\n",
       "    .dataframe tbody tr th:only-of-type {\n",
       "        vertical-align: middle;\n",
       "    }\n",
       "\n",
       "    .dataframe tbody tr th {\n",
       "        vertical-align: top;\n",
       "    }\n",
       "\n",
       "    .dataframe thead th {\n",
       "        text-align: right;\n",
       "    }\n",
       "</style>\n",
       "<table border=\"1\" class=\"dataframe\">\n",
       "  <thead>\n",
       "    <tr style=\"text-align: right;\">\n",
       "      <th></th>\n",
       "      <th>Name</th>\n",
       "      <th>Age</th>\n",
       "      <th>Weight</th>\n",
       "    </tr>\n",
       "  </thead>\n",
       "  <tbody>\n",
       "    <tr>\n",
       "      <th>a</th>\n",
       "      <td>b'Sanjeev'</td>\n",
       "      <td>37</td>\n",
       "      <td>162.399994</td>\n",
       "    </tr>\n",
       "    <tr>\n",
       "      <th>b</th>\n",
       "      <td>b'Yingluck'</td>\n",
       "      <td>45</td>\n",
       "      <td>137.800003</td>\n",
       "    </tr>\n",
       "    <tr>\n",
       "      <th>c</th>\n",
       "      <td>b'Emeka'</td>\n",
       "      <td>28</td>\n",
       "      <td>153.199997</td>\n",
       "    </tr>\n",
       "    <tr>\n",
       "      <th>d</th>\n",
       "      <td>b'Amy'</td>\n",
       "      <td>67</td>\n",
       "      <td>101.300003</td>\n",
       "    </tr>\n",
       "  </tbody>\n",
       "</table>\n",
       "</div>"
      ],
      "text/plain": [
       "          Name  Age      Weight\n",
       "a   b'Sanjeev'   37  162.399994\n",
       "b  b'Yingluck'   45  137.800003\n",
       "c     b'Emeka'   28  153.199997\n",
       "d       b'Amy'   67  101.300003"
      ]
     },
     "execution_count": 97,
     "metadata": {},
     "output_type": "execute_result"
    }
   ],
   "source": [
    "pd.DataFrame(member_data, index=['a', 'b', 'c', 'd'])"
   ]
  },
  {
   "cell_type": "code",
   "execution_count": 99,
   "id": "experimental-horizon",
   "metadata": {},
   "outputs": [
    {
     "data": {
      "text/html": [
       "<div>\n",
       "<style scoped>\n",
       "    .dataframe tbody tr th:only-of-type {\n",
       "        vertical-align: middle;\n",
       "    }\n",
       "\n",
       "    .dataframe tbody tr th {\n",
       "        vertical-align: top;\n",
       "    }\n",
       "\n",
       "    .dataframe thead th {\n",
       "        text-align: right;\n",
       "    }\n",
       "</style>\n",
       "<table border=\"1\" class=\"dataframe\">\n",
       "  <thead>\n",
       "    <tr style=\"text-align: right;\">\n",
       "      <th></th>\n",
       "      <th>Name</th>\n",
       "    </tr>\n",
       "  </thead>\n",
       "  <tbody>\n",
       "    <tr>\n",
       "      <th>0</th>\n",
       "      <td>b'Sanjeev'</td>\n",
       "    </tr>\n",
       "    <tr>\n",
       "      <th>1</th>\n",
       "      <td>b'Yingluck'</td>\n",
       "    </tr>\n",
       "    <tr>\n",
       "      <th>2</th>\n",
       "      <td>b'Emeka'</td>\n",
       "    </tr>\n",
       "    <tr>\n",
       "      <th>3</th>\n",
       "      <td>b'Amy'</td>\n",
       "    </tr>\n",
       "  </tbody>\n",
       "</table>\n",
       "</div>"
      ],
      "text/plain": [
       "          Name\n",
       "0   b'Sanjeev'\n",
       "1  b'Yingluck'\n",
       "2     b'Emeka'\n",
       "3       b'Amy'"
      ]
     },
     "execution_count": 99,
     "metadata": {},
     "output_type": "execute_result"
    }
   ],
   "source": [
    "pd.DataFrame(member_data, columns=['Name'])"
   ]
  },
  {
   "cell_type": "markdown",
   "id": "relevant-tooth",
   "metadata": {},
   "source": [
    "### Using a list of dictionaries\n",
    "\n",
    "When a list of dictionaries is converted to a `DataFrame`, each dictionary in the list corresponds to a row in the `DataFrame` and each key in each dictionary represents a column label."
   ]
  },
  {
   "cell_type": "code",
   "execution_count": 102,
   "id": "tutorial-timing",
   "metadata": {},
   "outputs": [],
   "source": [
    "demographic_data = [\n",
    "    {\"Age\": 32, \"Gender\": \"Male\"},\n",
    "    {\"Race\": \"Hispanic\", \"Gender\": \"Female\", \"Age\": 26}\n",
    "]"
   ]
  },
  {
   "cell_type": "code",
   "execution_count": 103,
   "id": "aware-minnesota",
   "metadata": {},
   "outputs": [
    {
     "data": {
      "text/html": [
       "<div>\n",
       "<style scoped>\n",
       "    .dataframe tbody tr th:only-of-type {\n",
       "        vertical-align: middle;\n",
       "    }\n",
       "\n",
       "    .dataframe tbody tr th {\n",
       "        vertical-align: top;\n",
       "    }\n",
       "\n",
       "    .dataframe thead th {\n",
       "        text-align: right;\n",
       "    }\n",
       "</style>\n",
       "<table border=\"1\" class=\"dataframe\">\n",
       "  <thead>\n",
       "    <tr style=\"text-align: right;\">\n",
       "      <th></th>\n",
       "      <th>Age</th>\n",
       "      <th>Gender</th>\n",
       "      <th>Race</th>\n",
       "    </tr>\n",
       "  </thead>\n",
       "  <tbody>\n",
       "    <tr>\n",
       "      <th>0</th>\n",
       "      <td>32</td>\n",
       "      <td>Male</td>\n",
       "      <td>NaN</td>\n",
       "    </tr>\n",
       "    <tr>\n",
       "      <th>1</th>\n",
       "      <td>26</td>\n",
       "      <td>Female</td>\n",
       "      <td>Hispanic</td>\n",
       "    </tr>\n",
       "  </tbody>\n",
       "</table>\n",
       "</div>"
      ],
      "text/plain": [
       "   Age  Gender      Race\n",
       "0   32    Male       NaN\n",
       "1   26  Female  Hispanic"
      ]
     },
     "execution_count": 103,
     "metadata": {},
     "output_type": "execute_result"
    }
   ],
   "source": [
    "pd.DataFrame(demographic_data)"
   ]
  },
  {
   "cell_type": "markdown",
   "id": "thrown-crystal",
   "metadata": {},
   "source": [
    "### Using a dictionary of tuples for multilevel indexing\n",
    "\n",
    "A dictionary of tuples can create a structured DataFrame with hierarchically indexed rows and columns. The following is a dictionary of tuples:"
   ]
  },
  {
   "cell_type": "code",
   "execution_count": 104,
   "id": "familiar-principle",
   "metadata": {},
   "outputs": [],
   "source": [
    "sales_data = {\n",
    "    (\"2012\", \"Q1\"): {\n",
    "        (\"North\", \"Brand A\"): 100,\n",
    "        (\"North\", \"Brand B\"): 80,\n",
    "        (\"South\", \"Brand A\"): 25,\n",
    "        (\"South\", \"Brand B\"): 40,\n",
    "    },\n",
    "    (\"2012\", \"Q2\"): {(\"North\", \"Brand A\"): 30, (\"South\", \"Brand B\"): 50},\n",
    "    (\"2013\", \"Q1\"): {\n",
    "        (\"North\", \"Brand A\"): 80,\n",
    "        (\"North\", \"Brand B\"): 10,\n",
    "        (\"South\", \"Brand B\"): 25,\n",
    "    },\n",
    "    (\"2013\", \"Q2\"): {\n",
    "        (\"North\", \"Brand A\"): 70,\n",
    "        (\"North\", \"Brand B\"): 50,\n",
    "        (\"South\", \"Brand A\"): 35,\n",
    "        (\"South\", \"Brand B\"): 40,\n",
    "    },\n",
    "}"
   ]
  },
  {
   "cell_type": "code",
   "execution_count": 105,
   "id": "flexible-commission",
   "metadata": {},
   "outputs": [
    {
     "data": {
      "text/html": [
       "<div>\n",
       "<style scoped>\n",
       "    .dataframe tbody tr th:only-of-type {\n",
       "        vertical-align: middle;\n",
       "    }\n",
       "\n",
       "    .dataframe tbody tr th {\n",
       "        vertical-align: top;\n",
       "    }\n",
       "\n",
       "    .dataframe thead tr th {\n",
       "        text-align: left;\n",
       "    }\n",
       "</style>\n",
       "<table border=\"1\" class=\"dataframe\">\n",
       "  <thead>\n",
       "    <tr>\n",
       "      <th></th>\n",
       "      <th></th>\n",
       "      <th colspan=\"2\" halign=\"left\">2012</th>\n",
       "      <th colspan=\"2\" halign=\"left\">2013</th>\n",
       "    </tr>\n",
       "    <tr>\n",
       "      <th></th>\n",
       "      <th></th>\n",
       "      <th>Q1</th>\n",
       "      <th>Q2</th>\n",
       "      <th>Q1</th>\n",
       "      <th>Q2</th>\n",
       "    </tr>\n",
       "  </thead>\n",
       "  <tbody>\n",
       "    <tr>\n",
       "      <th rowspan=\"2\" valign=\"top\">North</th>\n",
       "      <th>Brand A</th>\n",
       "      <td>100</td>\n",
       "      <td>30.0</td>\n",
       "      <td>80.0</td>\n",
       "      <td>70</td>\n",
       "    </tr>\n",
       "    <tr>\n",
       "      <th>Brand B</th>\n",
       "      <td>80</td>\n",
       "      <td>NaN</td>\n",
       "      <td>10.0</td>\n",
       "      <td>50</td>\n",
       "    </tr>\n",
       "    <tr>\n",
       "      <th rowspan=\"2\" valign=\"top\">South</th>\n",
       "      <th>Brand A</th>\n",
       "      <td>25</td>\n",
       "      <td>NaN</td>\n",
       "      <td>NaN</td>\n",
       "      <td>35</td>\n",
       "    </tr>\n",
       "    <tr>\n",
       "      <th>Brand B</th>\n",
       "      <td>40</td>\n",
       "      <td>50.0</td>\n",
       "      <td>25.0</td>\n",
       "      <td>40</td>\n",
       "    </tr>\n",
       "  </tbody>\n",
       "</table>\n",
       "</div>"
      ],
      "text/plain": [
       "              2012        2013    \n",
       "                Q1    Q2    Q1  Q2\n",
       "North Brand A  100  30.0  80.0  70\n",
       "      Brand B   80   NaN  10.0  50\n",
       "South Brand A   25   NaN   NaN  35\n",
       "      Brand B   40  50.0  25.0  40"
      ]
     },
     "execution_count": 105,
     "metadata": {},
     "output_type": "execute_result"
    }
   ],
   "source": [
    "pd.DataFrame(sales_data)"
   ]
  },
  {
   "cell_type": "markdown",
   "id": "ahead-cancellation",
   "metadata": {},
   "source": [
    "Instead of a regular key-value pair, the key is a `tuple` with two values denoting two levels in the row index, and the value is a dictionary in which each key-value pair represents a column. Here, again, the key is a `tuple` and denotes two column indices."
   ]
  },
  {
   "cell_type": "markdown",
   "id": "different-subscriber",
   "metadata": {},
   "source": [
    "### Using a Series\n",
    "\n",
    "Consider the following series:"
   ]
  },
  {
   "cell_type": "code",
   "execution_count": 114,
   "id": "empty-tiger",
   "metadata": {},
   "outputs": [],
   "source": [
    "curr_dict = {\n",
    "    \"US\": \"dollar\",\n",
    "    \"UK\": \"pound\",\n",
    "    \"Germany\": \"euro\",\n",
    "    \"Mexico\": \"peso\",\n",
    "    \"Nigeria\": \"naira\",\n",
    "    \"China\": \"yuan\",\n",
    "    \"Japan\": \"yen\",\n",
    "}"
   ]
  },
  {
   "cell_type": "code",
   "execution_count": 118,
   "id": "incorporated-gather",
   "metadata": {},
   "outputs": [],
   "source": [
    "curr_series = pd.Series(curr_dict, name='Currency')"
   ]
  },
  {
   "cell_type": "code",
   "execution_count": 119,
   "id": "perceived-alexander",
   "metadata": {},
   "outputs": [
    {
     "data": {
      "text/plain": [
       "US         dollar\n",
       "UK          pound\n",
       "Germany      euro\n",
       "Mexico       peso\n",
       "Nigeria     naira\n",
       "China        yuan\n",
       "Japan         yen\n",
       "Name: Currency, dtype: object"
      ]
     },
     "execution_count": 119,
     "metadata": {},
     "output_type": "execute_result"
    }
   ],
   "source": [
    "curr_series"
   ]
  },
  {
   "cell_type": "markdown",
   "id": "awful-plastic",
   "metadata": {},
   "source": [
    "Here, the `Series` has a defined `index` and `name`. When being converted to a `DataFrame`, this `index` is retained and the `name` of the `Series` gets assigned as a column name:"
   ]
  },
  {
   "cell_type": "code",
   "execution_count": 125,
   "id": "proud-blame",
   "metadata": {},
   "outputs": [],
   "source": [
    "df = pd.DataFrame(curr_series)"
   ]
  },
  {
   "cell_type": "markdown",
   "id": "controlling-contrary",
   "metadata": {},
   "source": [
    "### Alternative Ways\n",
    "\n",
    "There are also alternative constructors for DataFrames; they can be summarized as follows:\n",
    "\n",
    "1. `DataFrame.from_dict`: It takes a dictionary of dictionaries or sequences and returns a DataFrame. It slightly differs from the method discussed earlier due to an argument to specify order. While the other method always converts keys of dictionaries to columns, this constructor provides an option to convert the keys to row labels:"
   ]
  },
  {
   "cell_type": "code",
   "execution_count": null,
   "id": "impaired-quilt",
   "metadata": {},
   "outputs": [],
   "source": [
    "class DataFrame:\n",
    "    @staticmethod\n",
    "    def from_dict():\n",
    "        pass"
   ]
  },
  {
   "cell_type": "code",
   "execution_count": 139,
   "id": "voluntary-technique",
   "metadata": {},
   "outputs": [
    {
     "data": {
      "text/html": [
       "<div>\n",
       "<style scoped>\n",
       "    .dataframe tbody tr th:only-of-type {\n",
       "        vertical-align: middle;\n",
       "    }\n",
       "\n",
       "    .dataframe tbody tr th {\n",
       "        vertical-align: top;\n",
       "    }\n",
       "\n",
       "    .dataframe thead th {\n",
       "        text-align: right;\n",
       "    }\n",
       "</style>\n",
       "<table border=\"1\" class=\"dataframe\">\n",
       "  <thead>\n",
       "    <tr style=\"text-align: right;\">\n",
       "      <th></th>\n",
       "      <th>search</th>\n",
       "      <th>sorting</th>\n",
       "      <th>machine learning</th>\n",
       "    </tr>\n",
       "  </thead>\n",
       "  <tbody>\n",
       "    <tr>\n",
       "      <th>0</th>\n",
       "      <td>DFS</td>\n",
       "      <td>Quicksort</td>\n",
       "      <td>RandomForest</td>\n",
       "    </tr>\n",
       "    <tr>\n",
       "      <th>1</th>\n",
       "      <td>BFS</td>\n",
       "      <td>Mergesort</td>\n",
       "      <td>K Nearest Neighbor</td>\n",
       "    </tr>\n",
       "    <tr>\n",
       "      <th>2</th>\n",
       "      <td>Binary Search</td>\n",
       "      <td>Heapsort</td>\n",
       "      <td>Logistic Regression</td>\n",
       "    </tr>\n",
       "    <tr>\n",
       "      <th>3</th>\n",
       "      <td>Linear</td>\n",
       "      <td>Bubble Sort</td>\n",
       "      <td>K-Means Clustering</td>\n",
       "    </tr>\n",
       "    <tr>\n",
       "      <th>4</th>\n",
       "      <td>ShortestPath (Djikstra)</td>\n",
       "      <td>Insertion Sort</td>\n",
       "      <td>Linear Regression</td>\n",
       "    </tr>\n",
       "  </tbody>\n",
       "</table>\n",
       "</div>"
      ],
      "text/plain": [
       "                    search         sorting     machine learning\n",
       "0                      DFS       Quicksort         RandomForest\n",
       "1                      BFS       Mergesort   K Nearest Neighbor\n",
       "2            Binary Search        Heapsort  Logistic Regression\n",
       "3                   Linear     Bubble Sort   K-Means Clustering\n",
       "4  ShortestPath (Djikstra)  Insertion Sort    Linear Regression"
      ]
     },
     "execution_count": 139,
     "metadata": {},
     "output_type": "execute_result"
    }
   ],
   "source": [
    "pd.DataFrame.from_dict(algos, orient = \"columns\")"
   ]
  },
  {
   "cell_type": "code",
   "execution_count": 140,
   "id": "cross-dynamics",
   "metadata": {},
   "outputs": [
    {
     "data": {
      "text/html": [
       "<div>\n",
       "<style scoped>\n",
       "    .dataframe tbody tr th:only-of-type {\n",
       "        vertical-align: middle;\n",
       "    }\n",
       "\n",
       "    .dataframe tbody tr th {\n",
       "        vertical-align: top;\n",
       "    }\n",
       "\n",
       "    .dataframe thead th {\n",
       "        text-align: right;\n",
       "    }\n",
       "</style>\n",
       "<table border=\"1\" class=\"dataframe\">\n",
       "  <thead>\n",
       "    <tr style=\"text-align: right;\">\n",
       "      <th></th>\n",
       "      <th>0</th>\n",
       "      <th>1</th>\n",
       "      <th>2</th>\n",
       "      <th>3</th>\n",
       "      <th>4</th>\n",
       "    </tr>\n",
       "  </thead>\n",
       "  <tbody>\n",
       "    <tr>\n",
       "      <th>search</th>\n",
       "      <td>DFS</td>\n",
       "      <td>BFS</td>\n",
       "      <td>Binary Search</td>\n",
       "      <td>Linear</td>\n",
       "      <td>ShortestPath (Djikstra)</td>\n",
       "    </tr>\n",
       "    <tr>\n",
       "      <th>sorting</th>\n",
       "      <td>Quicksort</td>\n",
       "      <td>Mergesort</td>\n",
       "      <td>Heapsort</td>\n",
       "      <td>Bubble Sort</td>\n",
       "      <td>Insertion Sort</td>\n",
       "    </tr>\n",
       "    <tr>\n",
       "      <th>machine learning</th>\n",
       "      <td>RandomForest</td>\n",
       "      <td>K Nearest Neighbor</td>\n",
       "      <td>Logistic Regression</td>\n",
       "      <td>K-Means Clustering</td>\n",
       "      <td>Linear Regression</td>\n",
       "    </tr>\n",
       "  </tbody>\n",
       "</table>\n",
       "</div>"
      ],
      "text/plain": [
       "                             0                   1                    2  \\\n",
       "search                     DFS                 BFS        Binary Search   \n",
       "sorting              Quicksort           Mergesort             Heapsort   \n",
       "machine learning  RandomForest  K Nearest Neighbor  Logistic Regression   \n",
       "\n",
       "                                   3                        4  \n",
       "search                        Linear  ShortestPath (Djikstra)  \n",
       "sorting                  Bubble Sort           Insertion Sort  \n",
       "machine learning  K-Means Clustering        Linear Regression  "
      ]
     },
     "execution_count": 140,
     "metadata": {},
     "output_type": "execute_result"
    }
   ],
   "source": [
    "pd.DataFrame.from_dict(algos, orient = \"index\")"
   ]
  },
  {
   "cell_type": "code",
   "execution_count": 141,
   "id": "manual-variance",
   "metadata": {},
   "outputs": [
    {
     "data": {
      "text/html": [
       "<div>\n",
       "<style scoped>\n",
       "    .dataframe tbody tr th:only-of-type {\n",
       "        vertical-align: middle;\n",
       "    }\n",
       "\n",
       "    .dataframe tbody tr th {\n",
       "        vertical-align: top;\n",
       "    }\n",
       "\n",
       "    .dataframe thead th {\n",
       "        text-align: right;\n",
       "    }\n",
       "</style>\n",
       "<table border=\"1\" class=\"dataframe\">\n",
       "  <thead>\n",
       "    <tr style=\"text-align: right;\">\n",
       "      <th></th>\n",
       "      <th>A</th>\n",
       "      <th>B</th>\n",
       "      <th>C</th>\n",
       "      <th>D</th>\n",
       "      <th>E</th>\n",
       "    </tr>\n",
       "  </thead>\n",
       "  <tbody>\n",
       "    <tr>\n",
       "      <th>search</th>\n",
       "      <td>DFS</td>\n",
       "      <td>BFS</td>\n",
       "      <td>Binary Search</td>\n",
       "      <td>Linear</td>\n",
       "      <td>ShortestPath (Djikstra)</td>\n",
       "    </tr>\n",
       "    <tr>\n",
       "      <th>sorting</th>\n",
       "      <td>Quicksort</td>\n",
       "      <td>Mergesort</td>\n",
       "      <td>Heapsort</td>\n",
       "      <td>Bubble Sort</td>\n",
       "      <td>Insertion Sort</td>\n",
       "    </tr>\n",
       "    <tr>\n",
       "      <th>machine learning</th>\n",
       "      <td>RandomForest</td>\n",
       "      <td>K Nearest Neighbor</td>\n",
       "      <td>Logistic Regression</td>\n",
       "      <td>K-Means Clustering</td>\n",
       "      <td>Linear Regression</td>\n",
       "    </tr>\n",
       "  </tbody>\n",
       "</table>\n",
       "</div>"
      ],
      "text/plain": [
       "                             A                   B                    C  \\\n",
       "search                     DFS                 BFS        Binary Search   \n",
       "sorting              Quicksort           Mergesort             Heapsort   \n",
       "machine learning  RandomForest  K Nearest Neighbor  Logistic Regression   \n",
       "\n",
       "                                   D                        E  \n",
       "search                        Linear  ShortestPath (Djikstra)  \n",
       "sorting                  Bubble Sort           Insertion Sort  \n",
       "machine learning  K-Means Clustering        Linear Regression  "
      ]
     },
     "execution_count": 141,
     "metadata": {},
     "output_type": "execute_result"
    }
   ],
   "source": [
    "pd.DataFrame.from_dict(algos, orient = \"index\", columns = [\"A\", \"B\", \"C\", \"D\", \"E\"])"
   ]
  },
  {
   "cell_type": "markdown",
   "id": "powered-cursor",
   "metadata": {},
   "source": [
    "2. `DataFrame.from_records`: It takes a list of tuples or structured `ndarray` to construct a `DataFrame`. Unlike the method mentioned earlier for structured arrays, this function allows you to set one of the fields of the array as an `index`:"
   ]
  },
  {
   "cell_type": "code",
   "execution_count": 148,
   "id": "about-elder",
   "metadata": {},
   "outputs": [
    {
     "data": {
      "text/html": [
       "<div>\n",
       "<style scoped>\n",
       "    .dataframe tbody tr th:only-of-type {\n",
       "        vertical-align: middle;\n",
       "    }\n",
       "\n",
       "    .dataframe tbody tr th {\n",
       "        vertical-align: top;\n",
       "    }\n",
       "\n",
       "    .dataframe thead th {\n",
       "        text-align: right;\n",
       "    }\n",
       "</style>\n",
       "<table border=\"1\" class=\"dataframe\">\n",
       "  <thead>\n",
       "    <tr style=\"text-align: right;\">\n",
       "      <th></th>\n",
       "      <th>Name</th>\n",
       "      <th>Age</th>\n",
       "    </tr>\n",
       "    <tr>\n",
       "      <th>Weight</th>\n",
       "      <th></th>\n",
       "      <th></th>\n",
       "    </tr>\n",
       "  </thead>\n",
       "  <tbody>\n",
       "    <tr>\n",
       "      <th>162.399994</th>\n",
       "      <td>b'Sanjeev'</td>\n",
       "      <td>37</td>\n",
       "    </tr>\n",
       "    <tr>\n",
       "      <th>137.800003</th>\n",
       "      <td>b'Yingluck'</td>\n",
       "      <td>45</td>\n",
       "    </tr>\n",
       "    <tr>\n",
       "      <th>153.199997</th>\n",
       "      <td>b'Emeka'</td>\n",
       "      <td>28</td>\n",
       "    </tr>\n",
       "    <tr>\n",
       "      <th>101.300003</th>\n",
       "      <td>b'Amy'</td>\n",
       "      <td>67</td>\n",
       "    </tr>\n",
       "  </tbody>\n",
       "</table>\n",
       "</div>"
      ],
      "text/plain": [
       "                   Name  Age\n",
       "Weight                      \n",
       "162.399994   b'Sanjeev'   37\n",
       "137.800003  b'Yingluck'   45\n",
       "153.199997     b'Emeka'   28\n",
       "101.300003       b'Amy'   67"
      ]
     },
     "execution_count": 148,
     "metadata": {},
     "output_type": "execute_result"
    }
   ],
   "source": [
    "pd.DataFrame.from_records(member_data, index=\"Weight\")"
   ]
  }
 ],
 "metadata": {
  "kernelspec": {
   "display_name": "Python 3",
   "language": "python",
   "name": "python3"
  },
  "language_info": {
   "codemirror_mode": {
    "name": "ipython",
    "version": 3
   },
   "file_extension": ".py",
   "mimetype": "text/x-python",
   "name": "python",
   "nbconvert_exporter": "python",
   "pygments_lexer": "ipython3",
   "version": "3.7.9"
  }
 },
 "nbformat": 4,
 "nbformat_minor": 5
}
