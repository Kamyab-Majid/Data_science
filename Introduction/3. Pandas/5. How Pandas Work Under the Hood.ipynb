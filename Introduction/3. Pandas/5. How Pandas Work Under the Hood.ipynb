{
 "cells": [
  {
   "cell_type": "markdown",
   "id": "dense-second",
   "metadata": {},
   "source": [
    "# How Pandas Work Under the Hood\n",
    "\n",
    "As with any program language, it’s important to understand what is going on underneath because it helps you write more explicit, simpler, performant, and correct code."
   ]
  },
  {
   "cell_type": "markdown",
   "id": "neutral-greensboro",
   "metadata": {},
   "source": [
    "Pandas is a wrapper around NumPy and NumPy is a wrapper around C; thus, pandas gets its performance from running things in C and not in Python. This concept is fundamental to everything you do in pandas. When you are in C, you are fast, and when you are in Python, you are slow."
   ]
  },
  {
   "cell_type": "markdown",
   "id": "agreed-divide",
   "metadata": {},
   "source": [
    "The same requirements present for working with NumPy arrays hold true when working with pandas DataFrames—namely, the Python code must be translatable to C code; this includes the types that hold the data and the operations performed on the data."
   ]
  },
  {
   "cell_type": "markdown",
   "id": "developed-courage",
   "metadata": {},
   "source": [
    "Here is a table of pandas types to NumPy types. Note that `datetime`s and `timedelta`s don’t translate into NumPy types. This is because C does not have a datetime data structure, and so in cases where operations must be made on `datetime` data, it is more performant to, instead, convert the `datetime`s to an `int` type of seconds since the epoch."
   ]
  },
  {
   "cell_type": "markdown",
   "id": "formed-piano",
   "metadata": {},
   "source": [
    "|pandas type | NumPy type|\n",
    "|:--|:--|\n",
    "|`object` | `string_`, `unicode_`|\n",
    "|`int64` | `int_`, `int8`, `int16`, `int32`, `int64`, `uint8`, `uint16`, `uint32`, `uint64`|\n",
    "|`float64` | `float_`, `float16`, `float32`, `float64`|\n",
    "|`bool` | `bool_`|\n",
    "|`datetime64` | `datetime64[ns]`|\n",
    "|`timedelta[ns]` | N/A|\n",
    "|`category` | N/A|"
   ]
  },
  {
   "cell_type": "markdown",
   "id": "smoking-soundtrack",
   "metadata": {},
   "source": [
    "Note that `category` is also not translatable into C. `category` is similar to a `tuple` in that it is intended to hold a collection of categorical variables, meaning metadata with a fixed unique set of values. Because it’s not translatable into C, it should never be used to hold data that needs to be analyzed. Its advantage mainly comes in its ability to sort things in a custom sort order efficiently and simply. Underneath it looks like a data array of indexes where the indexes correspond to a unique value in an array of categories. The documentation claims that it can result in a huge memory savings when using string categories. Of course, we know  that Python already has a built-in string cache that does that for us automatically for certain strings so this would really only make a difference if the strings contained characters other than alphanumeric and underscore."
   ]
  },
  {
   "cell_type": "markdown",
   "id": "honey-version",
   "metadata": {},
   "source": [
    "Below shows an example of a `category` and its representation in memory. Note that it uses integers to represent the value and those integers map to an `index` in the `category` array. This is a common method of conserving memory in pandas. We’ll run into this again later when we look at multi-indexing."
   ]
  },
  {
   "cell_type": "code",
   "execution_count": 30,
   "id": "sized-dream",
   "metadata": {},
   "outputs": [],
   "source": [
    "import pandas as pd\n",
    "produce = pd.Series(\n",
    "     [\"apple\", \"banana\", \"carrot\", \"apple\"], dtype=\"category\"\n",
    ")"
   ]
  },
  {
   "cell_type": "code",
   "execution_count": 31,
   "id": "dimensional-peter",
   "metadata": {},
   "outputs": [
    {
     "data": {
      "text/plain": [
       "0     apple\n",
       "1    banana\n",
       "2    carrot\n",
       "3     apple\n",
       "dtype: category\n",
       "Categories (3, object): ['apple', 'banana', 'carrot']"
      ]
     },
     "execution_count": 31,
     "metadata": {},
     "output_type": "execute_result"
    }
   ],
   "source": [
    "produce"
   ]
  },
  {
   "cell_type": "markdown",
   "id": "announced-reverse",
   "metadata": {},
   "source": [
    "Operations must also be translatable into C in order to take advantage of NumPy’s performance optimizations. This means custom functions like the one below will not be performant because they will run in Python and not in C. We’ll dig more into this example and the apply function specifically in later sections."
   ]
  },
  {
   "cell_type": "code",
   "execution_count": 35,
   "id": "careful-casino",
   "metadata": {},
   "outputs": [],
   "source": [
    "def grade(values):\n",
    "    if 70 <= values[\"score\"] < 80:\n",
    "        values[\"score\"] = \"C\"\n",
    "    elif 80 <= values[\"score\"] < 90:\n",
    "        values[\"score\"] = \"B\"\n",
    "    elif 90 <= values[\"score\"]:\n",
    "        values[\"score\"] = \"A\"\n",
    "    else:\n",
    "        values[\"score\"] = \"F\"\n",
    "    return values"
   ]
  },
  {
   "cell_type": "code",
   "execution_count": 36,
   "id": "muslim-operations",
   "metadata": {},
   "outputs": [],
   "source": [
    "scores = pd.DataFrame({\"score\": [89, 70, 71, 65, 30, 93, 100, 75]})"
   ]
  },
  {
   "cell_type": "code",
   "execution_count": 38,
   "id": "armed-natural",
   "metadata": {},
   "outputs": [
    {
     "data": {
      "text/html": [
       "<div>\n",
       "<style scoped>\n",
       "    .dataframe tbody tr th:only-of-type {\n",
       "        vertical-align: middle;\n",
       "    }\n",
       "\n",
       "    .dataframe tbody tr th {\n",
       "        vertical-align: top;\n",
       "    }\n",
       "\n",
       "    .dataframe thead th {\n",
       "        text-align: right;\n",
       "    }\n",
       "</style>\n",
       "<table border=\"1\" class=\"dataframe\">\n",
       "  <thead>\n",
       "    <tr style=\"text-align: right;\">\n",
       "      <th></th>\n",
       "      <th>score</th>\n",
       "    </tr>\n",
       "  </thead>\n",
       "  <tbody>\n",
       "    <tr>\n",
       "      <th>0</th>\n",
       "      <td>B</td>\n",
       "    </tr>\n",
       "    <tr>\n",
       "      <th>1</th>\n",
       "      <td>C</td>\n",
       "    </tr>\n",
       "    <tr>\n",
       "      <th>2</th>\n",
       "      <td>C</td>\n",
       "    </tr>\n",
       "    <tr>\n",
       "      <th>3</th>\n",
       "      <td>F</td>\n",
       "    </tr>\n",
       "    <tr>\n",
       "      <th>4</th>\n",
       "      <td>F</td>\n",
       "    </tr>\n",
       "    <tr>\n",
       "      <th>5</th>\n",
       "      <td>A</td>\n",
       "    </tr>\n",
       "    <tr>\n",
       "      <th>6</th>\n",
       "      <td>A</td>\n",
       "    </tr>\n",
       "    <tr>\n",
       "      <th>7</th>\n",
       "      <td>C</td>\n",
       "    </tr>\n",
       "  </tbody>\n",
       "</table>\n",
       "</div>"
      ],
      "text/plain": [
       "  score\n",
       "0     B\n",
       "1     C\n",
       "2     C\n",
       "3     F\n",
       "4     F\n",
       "5     A\n",
       "6     A\n",
       "7     C"
      ]
     },
     "execution_count": 38,
     "metadata": {},
     "output_type": "execute_result"
    }
   ],
   "source": [
    "scores.apply(grade, axis=1)"
   ]
  }
 ],
 "metadata": {
  "kernelspec": {
   "display_name": "Python 3",
   "language": "python",
   "name": "python3"
  },
  "language_info": {
   "codemirror_mode": {
    "name": "ipython",
    "version": 3
   },
   "file_extension": ".py",
   "mimetype": "text/x-python",
   "name": "python",
   "nbconvert_exporter": "python",
   "pygments_lexer": "ipython3",
   "version": "3.7.10"
  }
 },
 "nbformat": 4,
 "nbformat_minor": 5
}
