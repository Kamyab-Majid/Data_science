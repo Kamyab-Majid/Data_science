{
 "cells": [
  {
   "cell_type": "markdown",
   "id": "canadian-occasion",
   "metadata": {},
   "source": [
    "# Series\n",
    "\n",
    "A Series is really a 1D NumPy array under the hood. It consists of a NumPy array coupled with an array of labels. Just like a NumPy array, a series can be wholly composed of any data type. The labels are together called the index of the series. A series consists of two components—1D data and the index."
   ]
  },
  {
   "cell_type": "markdown",
   "id": "quality-humanitarian",
   "metadata": {},
   "source": [
    "The general construct for creating a series data structure is as follows:"
   ]
  },
  {
   "cell_type": "code",
   "execution_count": 1,
   "id": "quiet-angel",
   "metadata": {},
   "outputs": [],
   "source": [
    "import pandas as pd\n",
    "import numpy as np\n",
    "\n",
    "index = np.arange(1,11)\n",
    "data = np.random.rand(10)\n",
    "s = pd.Series(data, index=index)\n"
   ]
  },
  {
   "cell_type": "code",
   "execution_count": 3,
   "id": "308968cb-5d5a-4aaf-87c0-4dc6858d61b8",
   "metadata": {},
   "outputs": [
    {
     "data": {
      "text/plain": [
       "array([0.        , 0.06614176, 0.25208197, 0.73551032, 0.85779239,\n",
       "       0.45176961, 0.40112904, 0.99204802, 0.24115998, 0.20428025])"
      ]
     },
     "execution_count": 3,
     "metadata": {},
     "output_type": "execute_result"
    }
   ],
   "source": [
    "s[1] = 0\n",
    "data"
   ]
  },
  {
   "cell_type": "markdown",
   "id": "planned-least",
   "metadata": {},
   "source": [
    "Here, data can be one of the following:\n",
    "\n",
    "- An array\n",
    "- Any kind of iterables\n",
    "- A Python dictionary\n",
    "- A scalar value"
   ]
  },
  {
   "cell_type": "markdown",
   "id": "rental-skirt",
   "metadata": {},
   "source": [
    "> **Note:** If an index is not specified, the following default index `[0,... n-1]` will be created, where `n` is the length of the data."
   ]
  },
  {
   "cell_type": "code",
   "execution_count": 4,
   "id": "settled-benjamin",
   "metadata": {},
   "outputs": [
    {
     "data": {
      "text/plain": [
       "1    1\n",
       "2    2\n",
       "3    3\n",
       "dtype: int64"
      ]
     },
     "execution_count": 4,
     "metadata": {},
     "output_type": "execute_result"
    }
   ],
   "source": [
    "from array import array\n",
    "\n",
    "# iterable: array\n",
    "v = pd.Series(array('B', [1, 2, 3]))\n",
    "v.index = [1,2,3]\n",
    "v"
   ]
  },
  {
   "cell_type": "code",
   "execution_count": 5,
   "id": "synthetic-legend",
   "metadata": {},
   "outputs": [
    {
     "name": "stdout",
     "output_type": "stream",
     "text": [
      "['January', 'February', 'March', 'April', 'May']\n"
     ]
    },
    {
     "data": {
      "text/plain": [
       "January     1\n",
       "February    2\n",
       "March       3\n",
       "April       4\n",
       "May         5\n",
       "dtype: int64"
      ]
     },
     "execution_count": 5,
     "metadata": {},
     "output_type": "execute_result"
    }
   ],
   "source": [
    "import calendar as cal\n",
    "\n",
    "# iterable: list\n",
    "monthNames = [cal.month_name[i] for i in np.arange(1,6)]\n",
    "print(monthNames)\n",
    "# print(monthNames)\n",
    "months = pd.Series(np.arange(1, 6), index = monthNames)\n",
    "months"
   ]
  },
  {
   "cell_type": "markdown",
   "id": "adjacent-status",
   "metadata": {},
   "source": [
    "When a dictionary is used to create a Series, the keys form the index, and the values form the 1D data of the Series:"
   ]
  },
  {
   "cell_type": "code",
   "execution_count": 12,
   "id": "fancy-andrew",
   "metadata": {},
   "outputs": [
    {
     "data": {
      "text/plain": [
       "UK        pound\n",
       "Mexico     peso\n",
       "China      yuan\n",
       "dtype: object"
      ]
     },
     "execution_count": 12,
     "metadata": {},
     "output_type": "execute_result"
    }
   ],
   "source": [
    "currDict = {\n",
    "    'US' : 'dollar',\n",
    "    'UK' : 'pound',\n",
    "    'Germany': 'euro',\n",
    "    'Mexico':'peso',\n",
    "    'Nigeria':'naira',\n",
    "    'China':'yuan',\n",
    "    'Japan':'yen'\n",
    "}\n",
    "\n",
    "x = pd.Series(currDict)\n",
    "x['UK'::2]"
   ]
  },
  {
   "cell_type": "markdown",
   "id": "close-baptist",
   "metadata": {},
   "source": [
    "The index of a pandas Series structure is of type `pandas.core.index.Index‍`"
   ]
  },
  {
   "cell_type": "markdown",
   "id": "according-complement",
   "metadata": {},
   "source": [
    "If an index is also specified when creating the Series, then this specified index setting overrides the dictionary keys. If the specified index contains values that are not keys in the original dictionary, `NaN` is appended against that index in the `Series`:"
   ]
  },
  {
   "cell_type": "code",
   "execution_count": 15,
   "id": "seven-highland",
   "metadata": {},
   "outputs": [
    {
     "data": {
      "text/plain": [
       "GOOG    1180.97\n",
       "FB        62.57\n",
       "YHOO        NaN\n",
       "TWTR      64.50\n",
       "AMZN     358.69\n",
       "AAPL     500.60\n",
       "Name: stockPrices, dtype: float64"
      ]
     },
     "execution_count": 15,
     "metadata": {},
     "output_type": "execute_result"
    }
   ],
   "source": [
    "stock_prices = {\n",
    "    'GOOG': 1180.97,\n",
    "    'FB': 62.57,\n",
    "    'TWTR': 64.50,\n",
    "    'AMZN': 358.69,\n",
    "    'AAPL': 500.6\n",
    "}\n",
    "stock_price_series = pd.Series(\n",
    "    stock_prices,\n",
    "    index = ['GOOG','FB','YHOO','TWTR','AMZN','AAPL'],\n",
    "    name = 'stockPrices',\n",
    ")\n",
    "stock_price_series"
   ]
  },
  {
   "cell_type": "markdown",
   "id": "brilliant-entrepreneur",
   "metadata": {},
   "source": [
    "Note that a Series also has a name attribute that can be set as shown in the preceding snippet. The name attribute is useful in tasks such as combining Series objects into a DataFrame structure (DataFrame will be introduced later)."
   ]
  },
  {
   "cell_type": "markdown",
   "id": "manual-seminar",
   "metadata": {},
   "source": [
    "A Series can also be initialized with just a scalar value. For scalar data, an index must be provided. The value will be repeated for as many index values as possible. One possible use of this method is to provide a quick and dirty method of initialization, with the Series structure to be filled in later."
   ]
  },
  {
   "cell_type": "code",
   "execution_count": 88,
   "id": "israeli-above",
   "metadata": {},
   "outputs": [
    {
     "data": {
      "text/plain": [
       "0    1\n",
       "1    1\n",
       "2    1\n",
       "3    1\n",
       "4    1\n",
       "dtype: int64"
      ]
     },
     "execution_count": 88,
     "metadata": {},
     "output_type": "execute_result"
    }
   ],
   "source": [
    "# scalar\n",
    "pd.Series(1, index=range(5))"
   ]
  },
  {
   "cell_type": "markdown",
   "id": "found-diagram",
   "metadata": {},
   "source": [
    "## Operations on Series"
   ]
  },
  {
   "cell_type": "markdown",
   "id": "natural-contractor",
   "metadata": {},
   "source": [
    "The behavior of a Series is very similar to that of NumPy arrays, discussed previously, with one caveat being that an operation such as slicing also slices the index of the series."
   ]
  },
  {
   "cell_type": "markdown",
   "id": "quantitative-compound",
   "metadata": {},
   "source": [
    "### Assignment\n",
    "\n",
    "Values can be set and accessed using the index label in a dictionary-like manner:"
   ]
  },
  {
   "cell_type": "code",
   "execution_count": 90,
   "id": "provincial-paragraph",
   "metadata": {},
   "outputs": [
    {
     "data": {
      "text/plain": [
       "1180.97"
      ]
     },
     "execution_count": 90,
     "metadata": {},
     "output_type": "execute_result"
    }
   ],
   "source": [
    "stock_price_series['GOOG']"
   ]
  },
  {
   "cell_type": "code",
   "execution_count": 17,
   "id": "rising-marijuana",
   "metadata": {},
   "outputs": [
    {
     "data": {
      "text/plain": [
       "GOOG    1200.00\n",
       "FB        62.57\n",
       "YHOO        NaN\n",
       "TWTR      64.50\n",
       "AMZN     358.69\n",
       "AAPL     500.60\n",
       "Name: stockPrices, dtype: float64"
      ]
     },
     "execution_count": 17,
     "metadata": {},
     "output_type": "execute_result"
    }
   ],
   "source": [
    "stock_price_series['GOOG'] = 1200.0\n",
    "stock_price_series"
   ]
  },
  {
   "cell_type": "markdown",
   "id": "modern-description",
   "metadata": {},
   "source": [
    "Just as in the case of `dict`, `KeyError` is raised if you try to retrieve a missing label:"
   ]
  },
  {
   "cell_type": "code",
   "execution_count": 7,
   "id": "altered-syria",
   "metadata": {},
   "outputs": [
    {
     "ename": "KeyError",
     "evalue": "'MSFT'",
     "output_type": "error",
     "traceback": [
      "\u001b[0;31m---------------------------------------------------------------------------\u001b[0m",
      "\u001b[0;31mKeyError\u001b[0m                                  Traceback (most recent call last)",
      "\u001b[0;32m/mnt/d/Anaconda/envs/class/lib/python3.8/site-packages/pandas/core/indexes/base.py\u001b[0m in \u001b[0;36mget_loc\u001b[0;34m(self, key, method, tolerance)\u001b[0m\n\u001b[1;32m   3360\u001b[0m             \u001b[0;32mtry\u001b[0m\u001b[0;34m:\u001b[0m\u001b[0;34m\u001b[0m\u001b[0;34m\u001b[0m\u001b[0m\n\u001b[0;32m-> 3361\u001b[0;31m                 \u001b[0;32mreturn\u001b[0m \u001b[0mself\u001b[0m\u001b[0;34m.\u001b[0m\u001b[0m_engine\u001b[0m\u001b[0;34m.\u001b[0m\u001b[0mget_loc\u001b[0m\u001b[0;34m(\u001b[0m\u001b[0mcasted_key\u001b[0m\u001b[0;34m)\u001b[0m\u001b[0;34m\u001b[0m\u001b[0;34m\u001b[0m\u001b[0m\n\u001b[0m\u001b[1;32m   3362\u001b[0m             \u001b[0;32mexcept\u001b[0m \u001b[0mKeyError\u001b[0m \u001b[0;32mas\u001b[0m \u001b[0merr\u001b[0m\u001b[0;34m:\u001b[0m\u001b[0;34m\u001b[0m\u001b[0;34m\u001b[0m\u001b[0m\n",
      "\u001b[0;32m/mnt/d/Anaconda/envs/class/lib/python3.8/site-packages/pandas/_libs/index.pyx\u001b[0m in \u001b[0;36mpandas._libs.index.IndexEngine.get_loc\u001b[0;34m()\u001b[0m\n",
      "\u001b[0;32m/mnt/d/Anaconda/envs/class/lib/python3.8/site-packages/pandas/_libs/index.pyx\u001b[0m in \u001b[0;36mpandas._libs.index.IndexEngine.get_loc\u001b[0;34m()\u001b[0m\n",
      "\u001b[0;32mpandas/_libs/hashtable_class_helper.pxi\u001b[0m in \u001b[0;36mpandas._libs.hashtable.PyObjectHashTable.get_item\u001b[0;34m()\u001b[0m\n",
      "\u001b[0;32mpandas/_libs/hashtable_class_helper.pxi\u001b[0m in \u001b[0;36mpandas._libs.hashtable.PyObjectHashTable.get_item\u001b[0;34m()\u001b[0m\n",
      "\u001b[0;31mKeyError\u001b[0m: 'MSFT'",
      "\nThe above exception was the direct cause of the following exception:\n",
      "\u001b[0;31mKeyError\u001b[0m                                  Traceback (most recent call last)",
      "\u001b[0;32m/tmp/ipykernel_1038/3381980284.py\u001b[0m in \u001b[0;36m<module>\u001b[0;34m\u001b[0m\n\u001b[0;32m----> 1\u001b[0;31m \u001b[0mstock_price_series\u001b[0m\u001b[0;34m[\u001b[0m\u001b[0;34m'MSFT'\u001b[0m\u001b[0;34m]\u001b[0m\u001b[0;34m\u001b[0m\u001b[0;34m\u001b[0m\u001b[0m\n\u001b[0m",
      "\u001b[0;32m/mnt/d/Anaconda/envs/class/lib/python3.8/site-packages/pandas/core/series.py\u001b[0m in \u001b[0;36m__getitem__\u001b[0;34m(self, key)\u001b[0m\n\u001b[1;32m    940\u001b[0m \u001b[0;34m\u001b[0m\u001b[0m\n\u001b[1;32m    941\u001b[0m         \u001b[0;32melif\u001b[0m \u001b[0mkey_is_scalar\u001b[0m\u001b[0;34m:\u001b[0m\u001b[0;34m\u001b[0m\u001b[0;34m\u001b[0m\u001b[0m\n\u001b[0;32m--> 942\u001b[0;31m             \u001b[0;32mreturn\u001b[0m \u001b[0mself\u001b[0m\u001b[0;34m.\u001b[0m\u001b[0m_get_value\u001b[0m\u001b[0;34m(\u001b[0m\u001b[0mkey\u001b[0m\u001b[0;34m)\u001b[0m\u001b[0;34m\u001b[0m\u001b[0;34m\u001b[0m\u001b[0m\n\u001b[0m\u001b[1;32m    943\u001b[0m \u001b[0;34m\u001b[0m\u001b[0m\n\u001b[1;32m    944\u001b[0m         \u001b[0;32mif\u001b[0m \u001b[0mis_hashable\u001b[0m\u001b[0;34m(\u001b[0m\u001b[0mkey\u001b[0m\u001b[0;34m)\u001b[0m\u001b[0;34m:\u001b[0m\u001b[0;34m\u001b[0m\u001b[0;34m\u001b[0m\u001b[0m\n",
      "\u001b[0;32m/mnt/d/Anaconda/envs/class/lib/python3.8/site-packages/pandas/core/series.py\u001b[0m in \u001b[0;36m_get_value\u001b[0;34m(self, label, takeable)\u001b[0m\n\u001b[1;32m   1049\u001b[0m \u001b[0;34m\u001b[0m\u001b[0m\n\u001b[1;32m   1050\u001b[0m         \u001b[0;31m# Similar to Index.get_value, but we do not fall back to positional\u001b[0m\u001b[0;34m\u001b[0m\u001b[0;34m\u001b[0m\u001b[0;34m\u001b[0m\u001b[0m\n\u001b[0;32m-> 1051\u001b[0;31m         \u001b[0mloc\u001b[0m \u001b[0;34m=\u001b[0m \u001b[0mself\u001b[0m\u001b[0;34m.\u001b[0m\u001b[0mindex\u001b[0m\u001b[0;34m.\u001b[0m\u001b[0mget_loc\u001b[0m\u001b[0;34m(\u001b[0m\u001b[0mlabel\u001b[0m\u001b[0;34m)\u001b[0m\u001b[0;34m\u001b[0m\u001b[0;34m\u001b[0m\u001b[0m\n\u001b[0m\u001b[1;32m   1052\u001b[0m         \u001b[0;32mreturn\u001b[0m \u001b[0mself\u001b[0m\u001b[0;34m.\u001b[0m\u001b[0mindex\u001b[0m\u001b[0;34m.\u001b[0m\u001b[0m_get_values_for_loc\u001b[0m\u001b[0;34m(\u001b[0m\u001b[0mself\u001b[0m\u001b[0;34m,\u001b[0m \u001b[0mloc\u001b[0m\u001b[0;34m,\u001b[0m \u001b[0mlabel\u001b[0m\u001b[0;34m)\u001b[0m\u001b[0;34m\u001b[0m\u001b[0;34m\u001b[0m\u001b[0m\n\u001b[1;32m   1053\u001b[0m \u001b[0;34m\u001b[0m\u001b[0m\n",
      "\u001b[0;32m/mnt/d/Anaconda/envs/class/lib/python3.8/site-packages/pandas/core/indexes/base.py\u001b[0m in \u001b[0;36mget_loc\u001b[0;34m(self, key, method, tolerance)\u001b[0m\n\u001b[1;32m   3361\u001b[0m                 \u001b[0;32mreturn\u001b[0m \u001b[0mself\u001b[0m\u001b[0;34m.\u001b[0m\u001b[0m_engine\u001b[0m\u001b[0;34m.\u001b[0m\u001b[0mget_loc\u001b[0m\u001b[0;34m(\u001b[0m\u001b[0mcasted_key\u001b[0m\u001b[0;34m)\u001b[0m\u001b[0;34m\u001b[0m\u001b[0;34m\u001b[0m\u001b[0m\n\u001b[1;32m   3362\u001b[0m             \u001b[0;32mexcept\u001b[0m \u001b[0mKeyError\u001b[0m \u001b[0;32mas\u001b[0m \u001b[0merr\u001b[0m\u001b[0;34m:\u001b[0m\u001b[0;34m\u001b[0m\u001b[0;34m\u001b[0m\u001b[0m\n\u001b[0;32m-> 3363\u001b[0;31m                 \u001b[0;32mraise\u001b[0m \u001b[0mKeyError\u001b[0m\u001b[0;34m(\u001b[0m\u001b[0mkey\u001b[0m\u001b[0;34m)\u001b[0m \u001b[0;32mfrom\u001b[0m \u001b[0merr\u001b[0m\u001b[0;34m\u001b[0m\u001b[0;34m\u001b[0m\u001b[0m\n\u001b[0m\u001b[1;32m   3364\u001b[0m \u001b[0;34m\u001b[0m\u001b[0m\n\u001b[1;32m   3365\u001b[0m         \u001b[0;32mif\u001b[0m \u001b[0mis_scalar\u001b[0m\u001b[0;34m(\u001b[0m\u001b[0mkey\u001b[0m\u001b[0;34m)\u001b[0m \u001b[0;32mand\u001b[0m \u001b[0misna\u001b[0m\u001b[0;34m(\u001b[0m\u001b[0mkey\u001b[0m\u001b[0;34m)\u001b[0m \u001b[0;32mand\u001b[0m \u001b[0;32mnot\u001b[0m \u001b[0mself\u001b[0m\u001b[0;34m.\u001b[0m\u001b[0mhasnans\u001b[0m\u001b[0;34m:\u001b[0m\u001b[0;34m\u001b[0m\u001b[0;34m\u001b[0m\u001b[0m\n",
      "\u001b[0;31mKeyError\u001b[0m: 'MSFT'"
     ]
    }
   ],
   "source": [
    "stock_price_series['MSFT']"
   ]
  },
  {
   "cell_type": "markdown",
   "id": "spanish-manor",
   "metadata": {},
   "source": [
    "This error can be avoided by explicitly using get as follows:"
   ]
  },
  {
   "cell_type": "code",
   "execution_count": 8,
   "id": "missing-hello",
   "metadata": {},
   "outputs": [
    {
     "data": {
      "text/plain": [
       "nan"
      ]
     },
     "execution_count": 8,
     "metadata": {},
     "output_type": "execute_result"
    }
   ],
   "source": [
    "stock_price_series.get('MSFT', np.NaN)"
   ]
  },
  {
   "cell_type": "code",
   "execution_count": 97,
   "id": "hollywood-stretch",
   "metadata": {},
   "outputs": [
    {
     "data": {
      "text/plain": [
       "GOOG    1200.00\n",
       "FB        62.57\n",
       "YHOO        NaN\n",
       "TWTR      64.50\n",
       "AMZN     358.69\n",
       "AAPL     500.60\n",
       "Name: stockPrices, dtype: float64"
      ]
     },
     "execution_count": 97,
     "metadata": {},
     "output_type": "execute_result"
    }
   ],
   "source": [
    "stock_price_series"
   ]
  },
  {
   "cell_type": "markdown",
   "id": "oriental-lawrence",
   "metadata": {},
   "source": [
    "### Slicing\n",
    "\n",
    "The slice operation behaves the same way as a NumPy array. Slicing can be done using the index numbers as shown in the following code:"
   ]
  },
  {
   "cell_type": "code",
   "execution_count": 105,
   "id": "contemporary-zambia",
   "metadata": {},
   "outputs": [
    {
     "data": {
      "text/plain": [
       "GOOG    1200.00\n",
       "FB        62.57\n",
       "YHOO        NaN\n",
       "TWTR      64.50\n",
       "Name: stockPrices, dtype: float64"
      ]
     },
     "execution_count": 105,
     "metadata": {},
     "output_type": "execute_result"
    }
   ],
   "source": [
    "stock_price_series[:4]"
   ]
  },
  {
   "cell_type": "code",
   "execution_count": 19,
   "id": "heated-birthday",
   "metadata": {},
   "outputs": [
    {
     "data": {
      "text/plain": [
       "GOOG    1200.00\n",
       "AMZN     358.69\n",
       "AAPL     500.60\n",
       "Name: stockPrices, dtype: float64"
      ]
     },
     "execution_count": 19,
     "metadata": {},
     "output_type": "execute_result"
    }
   ],
   "source": [
    "stock_price_series[stock_price_series > 100]"
   ]
  },
  {
   "cell_type": "markdown",
   "id": "young-keeping",
   "metadata": {},
   "source": [
    "### Other Operations\n",
    "\n",
    "Arithmetic and statistical operations can be applied, just like for a NumPy array. Such operations take place in a vectorized mode in a Series, just as in NumPy arrays, and do not require to be looped through:"
   ]
  },
  {
   "cell_type": "code",
   "execution_count": 20,
   "id": "protecting-montreal",
   "metadata": {},
   "outputs": [
    {
     "data": {
      "text/plain": [
       "GOOG    1200.00\n",
       "FB        62.57\n",
       "YHOO        NaN\n",
       "TWTR      64.50\n",
       "AMZN     358.69\n",
       "AAPL     500.60\n",
       "Name: stockPrices, dtype: float64"
      ]
     },
     "execution_count": 20,
     "metadata": {},
     "output_type": "execute_result"
    }
   ],
   "source": [
    "stock_price_series"
   ]
  },
  {
   "cell_type": "code",
   "execution_count": 157,
   "id": "injured-bonus",
   "metadata": {},
   "outputs": [
    {
     "data": {
      "text/plain": [
       "437.27200000000005"
      ]
     },
     "execution_count": 157,
     "metadata": {},
     "output_type": "execute_result"
    }
   ],
   "source": [
    "np.mean(stock_price_series)"
   ]
  },
  {
   "cell_type": "code",
   "execution_count": 158,
   "id": "played-panama",
   "metadata": {},
   "outputs": [
    {
     "data": {
      "text/plain": [
       "437.27200000000005"
      ]
     },
     "execution_count": 158,
     "metadata": {},
     "output_type": "execute_result"
    }
   ],
   "source": [
    "stock_price_series.mean()"
   ]
  },
  {
   "cell_type": "code",
   "execution_count": 21,
   "id": "minor-anxiety",
   "metadata": {},
   "outputs": [
    {
     "data": {
      "text/plain": [
       "417.4446361087899"
      ]
     },
     "execution_count": 21,
     "metadata": {},
     "output_type": "execute_result"
    }
   ],
   "source": [
    "np.std(stock_price_series)"
   ]
  },
  {
   "cell_type": "code",
   "execution_count": 22,
   "id": "configured-elevation",
   "metadata": {},
   "outputs": [
    {
     "data": {
      "text/plain": [
       "466.7172915909588"
      ]
     },
     "execution_count": 22,
     "metadata": {},
     "output_type": "execute_result"
    }
   ],
   "source": [
    "stock_price_series.std()"
   ]
  },
  {
   "cell_type": "code",
   "execution_count": 161,
   "id": "opposed-hayes",
   "metadata": {},
   "outputs": [
    {
     "data": {
      "text/plain": [
       "417.4446361087899"
      ]
     },
     "execution_count": 161,
     "metadata": {},
     "output_type": "execute_result"
    }
   ],
   "source": [
    "np.std(stock_price_series)"
   ]
  },
  {
   "cell_type": "code",
   "execution_count": 11,
   "id": "healthy-valley",
   "metadata": {},
   "outputs": [
    {
     "data": {
      "text/plain": [
       "458.95544612739917"
      ]
     },
     "execution_count": 11,
     "metadata": {},
     "output_type": "execute_result"
    }
   ],
   "source": [
    "np.std(stock_price_series, ddof=1)"
   ]
  },
  {
   "cell_type": "markdown",
   "id": "contemporary-uncle",
   "metadata": {},
   "source": [
    "Elementwise operations can also be performed on a Series:"
   ]
  },
  {
   "cell_type": "code",
   "execution_count": 167,
   "id": "blank-trading",
   "metadata": {},
   "outputs": [
    {
     "data": {
      "text/plain": [
       "0    1.0\n",
       "1    1.0\n",
       "2    NaN\n",
       "3    1.0\n",
       "4    1.0\n",
       "5    1.0\n",
       "Name: stockPrices, dtype: float64"
      ]
     },
     "execution_count": 167,
     "metadata": {},
     "output_type": "execute_result"
    }
   ],
   "source": [
    "stock_price_series / stock_price_series"
   ]
  },
  {
   "cell_type": "markdown",
   "id": "stock-lesbian",
   "metadata": {},
   "source": [
    "An important feature of a Series is that data is automatically aligned based on the label:"
   ]
  },
  {
   "cell_type": "code",
   "execution_count": 164,
   "id": "collected-laser",
   "metadata": {},
   "outputs": [
    {
     "data": {
      "text/plain": [
       "1     62.57\n",
       "2       NaN\n",
       "3     64.50\n",
       "4    358.69\n",
       "5    500.60\n",
       "Name: stockPrices, dtype: float64"
      ]
     },
     "execution_count": 164,
     "metadata": {},
     "output_type": "execute_result"
    }
   ],
   "source": [
    "stock_price_series[1:]"
   ]
  },
  {
   "cell_type": "code",
   "execution_count": 165,
   "id": "formed-fever",
   "metadata": {},
   "outputs": [
    {
     "data": {
      "text/plain": [
       "0    1200.00\n",
       "1      62.57\n",
       "2        NaN\n",
       "3      64.50\n",
       "Name: stockPrices, dtype: float64"
      ]
     },
     "execution_count": 165,
     "metadata": {},
     "output_type": "execute_result"
    }
   ],
   "source": [
    "stock_price_series[:-2]"
   ]
  },
  {
   "cell_type": "code",
   "execution_count": 166,
   "id": "ethical-wilson",
   "metadata": {},
   "outputs": [
    {
     "data": {
      "text/plain": [
       "0       NaN\n",
       "1    125.14\n",
       "2       NaN\n",
       "3    129.00\n",
       "4       NaN\n",
       "5       NaN\n",
       "Name: stockPrices, dtype: float64"
      ]
     },
     "execution_count": 166,
     "metadata": {},
     "output_type": "execute_result"
    }
   ],
   "source": [
    "stock_price_series[1:] + stock_price_series[:-2]"
   ]
  },
  {
   "cell_type": "markdown",
   "id": "constitutional-century",
   "metadata": {},
   "source": [
    "Thus, we can see that for non-matching labels, `NaN` is inserted. The default behavior is that the union of the indexes is produced for unaligned Series structures. This is preferable as information is preserved rather than lost. "
   ]
  }
 ],
 "metadata": {
  "kernelspec": {
   "display_name": "Python 3 (ipykernel)",
   "language": "python",
   "name": "python3"
  },
  "language_info": {
   "codemirror_mode": {
    "name": "ipython",
    "version": 3
   },
   "file_extension": ".py",
   "mimetype": "text/x-python",
   "name": "python",
   "nbconvert_exporter": "python",
   "pygments_lexer": "ipython3",
   "version": "3.8.12"
  }
 },
 "nbformat": 4,
 "nbformat_minor": 5
}
