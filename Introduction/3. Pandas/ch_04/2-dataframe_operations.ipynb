{
 "cells": [
  {
   "cell_type": "markdown",
   "metadata": {},
   "source": [
    "# DataFrame Operations\n",
    "\n",
    "## About the Data\n",
    "In this notebook, we will be working with 2 data sets:\n",
    "- Facebook's stock price throughout 2018 (obtained using the [`stock_analysis` package](https://github.com/stefmolin/stock-analysis)).\n",
    "- daily weather data for NYC from the [National Centers for Environmental Information (NCEI) API](https://www.ncdc.noaa.gov/cdo-web/webservices/v2).\n",
    "\n",
    "*Note: The NCEI is part of the National Oceanic and Atmospheric Administration (NOAA) and, as you can see from the URL for the API, this resource was created when the NCEI was called the NCDC. Should the URL for this resource change in the future, you can search for the NCEI weather API to find the updated one.*\n",
    "\n",
    "## Background on the weather data\n",
    "\n",
    "Data meanings:\n",
    "- `AWND`: average wind speed\n",
    "- `PRCP`: precipitation in millimeters\n",
    "- `SNOW`: snowfall in millimeters\n",
    "- `SNWD`: snow depth in millimeters\n",
    "- `TMAX`: maximum daily temperature in Celsius\n",
    "- `TMIN`: minimum daily temperature in Celsius\n",
    "\n",
    "## Setup"
   ]
  },
  {
   "cell_type": "code",
   "execution_count": 1,
   "metadata": {},
   "outputs": [
    {
     "data": {
      "text/html": [
       "<div>\n",
       "<style scoped>\n",
       "    .dataframe tbody tr th:only-of-type {\n",
       "        vertical-align: middle;\n",
       "    }\n",
       "\n",
       "    .dataframe tbody tr th {\n",
       "        vertical-align: top;\n",
       "    }\n",
       "\n",
       "    .dataframe thead th {\n",
       "        text-align: right;\n",
       "    }\n",
       "</style>\n",
       "<table border=\"1\" class=\"dataframe\">\n",
       "  <thead>\n",
       "    <tr style=\"text-align: right;\">\n",
       "      <th></th>\n",
       "      <th>attributes</th>\n",
       "      <th>datatype</th>\n",
       "      <th>date</th>\n",
       "      <th>station</th>\n",
       "      <th>value</th>\n",
       "    </tr>\n",
       "  </thead>\n",
       "  <tbody>\n",
       "    <tr>\n",
       "      <th>0</th>\n",
       "      <td>,,N,</td>\n",
       "      <td>PRCP</td>\n",
       "      <td>2018-01-01</td>\n",
       "      <td>GHCND:US1CTFR0039</td>\n",
       "      <td>0.0</td>\n",
       "    </tr>\n",
       "    <tr>\n",
       "      <th>1</th>\n",
       "      <td>,,N,</td>\n",
       "      <td>PRCP</td>\n",
       "      <td>2018-01-01</td>\n",
       "      <td>GHCND:US1NJBG0015</td>\n",
       "      <td>0.0</td>\n",
       "    </tr>\n",
       "    <tr>\n",
       "      <th>2</th>\n",
       "      <td>,,N,</td>\n",
       "      <td>SNOW</td>\n",
       "      <td>2018-01-01</td>\n",
       "      <td>GHCND:US1NJBG0015</td>\n",
       "      <td>0.0</td>\n",
       "    </tr>\n",
       "    <tr>\n",
       "      <th>3</th>\n",
       "      <td>,,N,</td>\n",
       "      <td>PRCP</td>\n",
       "      <td>2018-01-01</td>\n",
       "      <td>GHCND:US1NJBG0017</td>\n",
       "      <td>0.0</td>\n",
       "    </tr>\n",
       "    <tr>\n",
       "      <th>4</th>\n",
       "      <td>,,N,</td>\n",
       "      <td>SNOW</td>\n",
       "      <td>2018-01-01</td>\n",
       "      <td>GHCND:US1NJBG0017</td>\n",
       "      <td>0.0</td>\n",
       "    </tr>\n",
       "  </tbody>\n",
       "</table>\n",
       "</div>"
      ],
      "text/plain": [
       "  attributes datatype       date            station  value\n",
       "0       ,,N,     PRCP 2018-01-01  GHCND:US1CTFR0039    0.0\n",
       "1       ,,N,     PRCP 2018-01-01  GHCND:US1NJBG0015    0.0\n",
       "2       ,,N,     SNOW 2018-01-01  GHCND:US1NJBG0015    0.0\n",
       "3       ,,N,     PRCP 2018-01-01  GHCND:US1NJBG0017    0.0\n",
       "4       ,,N,     SNOW 2018-01-01  GHCND:US1NJBG0017    0.0"
      ]
     },
     "execution_count": 1,
     "metadata": {},
     "output_type": "execute_result"
    }
   ],
   "source": [
    "import numpy as np\n",
    "import pandas as pd\n",
    "\n",
    "weather = pd.read_csv('data/nyc_weather_2018.csv', parse_dates=['date'])\n",
    "weather.head()"
   ]
  },
  {
   "cell_type": "code",
   "execution_count": 2,
   "metadata": {},
   "outputs": [
    {
     "data": {
      "text/html": [
       "<div>\n",
       "<style scoped>\n",
       "    .dataframe tbody tr th:only-of-type {\n",
       "        vertical-align: middle;\n",
       "    }\n",
       "\n",
       "    .dataframe tbody tr th {\n",
       "        vertical-align: top;\n",
       "    }\n",
       "\n",
       "    .dataframe thead th {\n",
       "        text-align: right;\n",
       "    }\n",
       "</style>\n",
       "<table border=\"1\" class=\"dataframe\">\n",
       "  <thead>\n",
       "    <tr style=\"text-align: right;\">\n",
       "      <th></th>\n",
       "      <th>open</th>\n",
       "      <th>high</th>\n",
       "      <th>low</th>\n",
       "      <th>close</th>\n",
       "      <th>volume</th>\n",
       "    </tr>\n",
       "    <tr>\n",
       "      <th>date</th>\n",
       "      <th></th>\n",
       "      <th></th>\n",
       "      <th></th>\n",
       "      <th></th>\n",
       "      <th></th>\n",
       "    </tr>\n",
       "  </thead>\n",
       "  <tbody>\n",
       "    <tr>\n",
       "      <th>2018-01-02</th>\n",
       "      <td>177.68</td>\n",
       "      <td>181.58</td>\n",
       "      <td>177.5500</td>\n",
       "      <td>181.42</td>\n",
       "      <td>18151903</td>\n",
       "    </tr>\n",
       "    <tr>\n",
       "      <th>2018-01-03</th>\n",
       "      <td>181.88</td>\n",
       "      <td>184.78</td>\n",
       "      <td>181.3300</td>\n",
       "      <td>184.67</td>\n",
       "      <td>16886563</td>\n",
       "    </tr>\n",
       "    <tr>\n",
       "      <th>2018-01-04</th>\n",
       "      <td>184.90</td>\n",
       "      <td>186.21</td>\n",
       "      <td>184.0996</td>\n",
       "      <td>184.33</td>\n",
       "      <td>13880896</td>\n",
       "    </tr>\n",
       "    <tr>\n",
       "      <th>2018-01-05</th>\n",
       "      <td>185.59</td>\n",
       "      <td>186.90</td>\n",
       "      <td>184.9300</td>\n",
       "      <td>186.85</td>\n",
       "      <td>13574535</td>\n",
       "    </tr>\n",
       "    <tr>\n",
       "      <th>2018-01-08</th>\n",
       "      <td>187.20</td>\n",
       "      <td>188.90</td>\n",
       "      <td>186.3300</td>\n",
       "      <td>188.28</td>\n",
       "      <td>17994726</td>\n",
       "    </tr>\n",
       "  </tbody>\n",
       "</table>\n",
       "</div>"
      ],
      "text/plain": [
       "              open    high       low   close    volume\n",
       "date                                                  \n",
       "2018-01-02  177.68  181.58  177.5500  181.42  18151903\n",
       "2018-01-03  181.88  184.78  181.3300  184.67  16886563\n",
       "2018-01-04  184.90  186.21  184.0996  184.33  13880896\n",
       "2018-01-05  185.59  186.90  184.9300  186.85  13574535\n",
       "2018-01-08  187.20  188.90  186.3300  188.28  17994726"
      ]
     },
     "execution_count": 2,
     "metadata": {},
     "output_type": "execute_result"
    }
   ],
   "source": [
    "fb = pd.read_csv('data/fb_2018.csv', index_col='date', parse_dates=True)\n",
    "fb.head()"
   ]
  },
  {
   "cell_type": "markdown",
   "metadata": {},
   "source": [
    "## Arithmetic and statistics\n",
    "We already saw that we can use mathematical operators like `+` and `/` with dataframes directly. However, we can also use methods, which allow us to specify the axis to perform the calculation over. By default this is per column. Let's find the z-scores for the volume traded and look at the days where this was more than 3 standard deviations from the mean:"
   ]
  },
  {
   "cell_type": "code",
   "execution_count": 3,
   "metadata": {},
   "outputs": [
    {
     "data": {
      "text/html": [
       "<div>\n",
       "<style scoped>\n",
       "    .dataframe tbody tr th:only-of-type {\n",
       "        vertical-align: middle;\n",
       "    }\n",
       "\n",
       "    .dataframe tbody tr th {\n",
       "        vertical-align: top;\n",
       "    }\n",
       "\n",
       "    .dataframe thead th {\n",
       "        text-align: right;\n",
       "    }\n",
       "</style>\n",
       "<table border=\"1\" class=\"dataframe\">\n",
       "  <thead>\n",
       "    <tr style=\"text-align: right;\">\n",
       "      <th></th>\n",
       "      <th>open</th>\n",
       "      <th>high</th>\n",
       "      <th>low</th>\n",
       "      <th>close</th>\n",
       "      <th>volume</th>\n",
       "      <th>abs_z_score_volume</th>\n",
       "    </tr>\n",
       "    <tr>\n",
       "      <th>date</th>\n",
       "      <th></th>\n",
       "      <th></th>\n",
       "      <th></th>\n",
       "      <th></th>\n",
       "      <th></th>\n",
       "      <th></th>\n",
       "    </tr>\n",
       "  </thead>\n",
       "  <tbody>\n",
       "    <tr>\n",
       "      <th>2018-03-19</th>\n",
       "      <td>177.01</td>\n",
       "      <td>177.17</td>\n",
       "      <td>170.06</td>\n",
       "      <td>172.56</td>\n",
       "      <td>88140060</td>\n",
       "      <td>3.145078</td>\n",
       "    </tr>\n",
       "    <tr>\n",
       "      <th>2018-03-20</th>\n",
       "      <td>167.47</td>\n",
       "      <td>170.20</td>\n",
       "      <td>161.95</td>\n",
       "      <td>168.15</td>\n",
       "      <td>129851768</td>\n",
       "      <td>5.315169</td>\n",
       "    </tr>\n",
       "    <tr>\n",
       "      <th>2018-03-21</th>\n",
       "      <td>164.80</td>\n",
       "      <td>173.40</td>\n",
       "      <td>163.30</td>\n",
       "      <td>169.39</td>\n",
       "      <td>106598834</td>\n",
       "      <td>4.105413</td>\n",
       "    </tr>\n",
       "    <tr>\n",
       "      <th>2018-03-26</th>\n",
       "      <td>160.82</td>\n",
       "      <td>161.10</td>\n",
       "      <td>149.02</td>\n",
       "      <td>160.06</td>\n",
       "      <td>126116634</td>\n",
       "      <td>5.120845</td>\n",
       "    </tr>\n",
       "    <tr>\n",
       "      <th>2018-07-26</th>\n",
       "      <td>174.89</td>\n",
       "      <td>180.13</td>\n",
       "      <td>173.75</td>\n",
       "      <td>176.26</td>\n",
       "      <td>169803668</td>\n",
       "      <td>7.393705</td>\n",
       "    </tr>\n",
       "  </tbody>\n",
       "</table>\n",
       "</div>"
      ],
      "text/plain": [
       "              open    high     low   close     volume  abs_z_score_volume\n",
       "date                                                                     \n",
       "2018-03-19  177.01  177.17  170.06  172.56   88140060            3.145078\n",
       "2018-03-20  167.47  170.20  161.95  168.15  129851768            5.315169\n",
       "2018-03-21  164.80  173.40  163.30  169.39  106598834            4.105413\n",
       "2018-03-26  160.82  161.10  149.02  160.06  126116634            5.120845\n",
       "2018-07-26  174.89  180.13  173.75  176.26  169803668            7.393705"
      ]
     },
     "execution_count": 3,
     "metadata": {},
     "output_type": "execute_result"
    }
   ],
   "source": [
    "fb.assign(\n",
    "    abs_z_score_volume=lambda x: x.volume.sub(x.volume.mean()).div(x.volume.std()).abs()\n",
    ").query('abs_z_score_volume > 3')"
   ]
  },
  {
   "cell_type": "markdown",
   "metadata": {},
   "source": [
    "We can use `rank()` and `pct_change()` to see which days had the largest change in volume traded from the day before:"
   ]
  },
  {
   "cell_type": "code",
   "execution_count": 4,
   "metadata": {},
   "outputs": [
    {
     "data": {
      "text/html": [
       "<div>\n",
       "<style scoped>\n",
       "    .dataframe tbody tr th:only-of-type {\n",
       "        vertical-align: middle;\n",
       "    }\n",
       "\n",
       "    .dataframe tbody tr th {\n",
       "        vertical-align: top;\n",
       "    }\n",
       "\n",
       "    .dataframe thead th {\n",
       "        text-align: right;\n",
       "    }\n",
       "</style>\n",
       "<table border=\"1\" class=\"dataframe\">\n",
       "  <thead>\n",
       "    <tr style=\"text-align: right;\">\n",
       "      <th></th>\n",
       "      <th>open</th>\n",
       "      <th>high</th>\n",
       "      <th>low</th>\n",
       "      <th>close</th>\n",
       "      <th>volume</th>\n",
       "      <th>volume_pct_change</th>\n",
       "      <th>pct_change_rank</th>\n",
       "    </tr>\n",
       "    <tr>\n",
       "      <th>date</th>\n",
       "      <th></th>\n",
       "      <th></th>\n",
       "      <th></th>\n",
       "      <th></th>\n",
       "      <th></th>\n",
       "      <th></th>\n",
       "      <th></th>\n",
       "    </tr>\n",
       "  </thead>\n",
       "  <tbody>\n",
       "    <tr>\n",
       "      <th>2018-01-12</th>\n",
       "      <td>178.06</td>\n",
       "      <td>181.48</td>\n",
       "      <td>177.40</td>\n",
       "      <td>179.37</td>\n",
       "      <td>77551299</td>\n",
       "      <td>7.087876</td>\n",
       "      <td>1.0</td>\n",
       "    </tr>\n",
       "    <tr>\n",
       "      <th>2018-03-19</th>\n",
       "      <td>177.01</td>\n",
       "      <td>177.17</td>\n",
       "      <td>170.06</td>\n",
       "      <td>172.56</td>\n",
       "      <td>88140060</td>\n",
       "      <td>2.611789</td>\n",
       "      <td>2.0</td>\n",
       "    </tr>\n",
       "    <tr>\n",
       "      <th>2018-07-26</th>\n",
       "      <td>174.89</td>\n",
       "      <td>180.13</td>\n",
       "      <td>173.75</td>\n",
       "      <td>176.26</td>\n",
       "      <td>169803668</td>\n",
       "      <td>1.628841</td>\n",
       "      <td>3.0</td>\n",
       "    </tr>\n",
       "    <tr>\n",
       "      <th>2018-09-21</th>\n",
       "      <td>166.64</td>\n",
       "      <td>167.25</td>\n",
       "      <td>162.81</td>\n",
       "      <td>162.93</td>\n",
       "      <td>45994800</td>\n",
       "      <td>1.428956</td>\n",
       "      <td>4.0</td>\n",
       "    </tr>\n",
       "    <tr>\n",
       "      <th>2018-03-26</th>\n",
       "      <td>160.82</td>\n",
       "      <td>161.10</td>\n",
       "      <td>149.02</td>\n",
       "      <td>160.06</td>\n",
       "      <td>126116634</td>\n",
       "      <td>1.352496</td>\n",
       "      <td>5.0</td>\n",
       "    </tr>\n",
       "  </tbody>\n",
       "</table>\n",
       "</div>"
      ],
      "text/plain": [
       "              open    high     low   close     volume  volume_pct_change  \\\n",
       "date                                                                       \n",
       "2018-01-12  178.06  181.48  177.40  179.37   77551299           7.087876   \n",
       "2018-03-19  177.01  177.17  170.06  172.56   88140060           2.611789   \n",
       "2018-07-26  174.89  180.13  173.75  176.26  169803668           1.628841   \n",
       "2018-09-21  166.64  167.25  162.81  162.93   45994800           1.428956   \n",
       "2018-03-26  160.82  161.10  149.02  160.06  126116634           1.352496   \n",
       "\n",
       "            pct_change_rank  \n",
       "date                         \n",
       "2018-01-12              1.0  \n",
       "2018-03-19              2.0  \n",
       "2018-07-26              3.0  \n",
       "2018-09-21              4.0  \n",
       "2018-03-26              5.0  "
      ]
     },
     "execution_count": 4,
     "metadata": {},
     "output_type": "execute_result"
    }
   ],
   "source": [
    "fb.assign(\n",
    "    volume_pct_change=fb.volume.pct_change(),\n",
    "    pct_change_rank=lambda x: x.volume_pct_change.abs().rank(\n",
    "        ascending=False\n",
    "    )\n",
    ").nsmallest(5, 'pct_change_rank')"
   ]
  },
  {
   "cell_type": "markdown",
   "metadata": {},
   "source": [
    "January 12th was when the news that Facebook changed its news feed product to focus more on content from a users' friends over the brands they follow. Given that Facebook's advertising is a key component of its business ([nearly 89% in 2017](https://www.investopedia.com/ask/answers/120114/how-does-facebook-fb-make-money.asp)), many shares were sold and the price dropped in panic:"
   ]
  },
  {
   "cell_type": "code",
   "execution_count": 5,
   "metadata": {},
   "outputs": [
    {
     "data": {
      "text/html": [
       "<div>\n",
       "<style scoped>\n",
       "    .dataframe tbody tr th:only-of-type {\n",
       "        vertical-align: middle;\n",
       "    }\n",
       "\n",
       "    .dataframe tbody tr th {\n",
       "        vertical-align: top;\n",
       "    }\n",
       "\n",
       "    .dataframe thead th {\n",
       "        text-align: right;\n",
       "    }\n",
       "</style>\n",
       "<table border=\"1\" class=\"dataframe\">\n",
       "  <thead>\n",
       "    <tr style=\"text-align: right;\">\n",
       "      <th></th>\n",
       "      <th>open</th>\n",
       "      <th>high</th>\n",
       "      <th>low</th>\n",
       "      <th>close</th>\n",
       "      <th>volume</th>\n",
       "    </tr>\n",
       "    <tr>\n",
       "      <th>date</th>\n",
       "      <th></th>\n",
       "      <th></th>\n",
       "      <th></th>\n",
       "      <th></th>\n",
       "      <th></th>\n",
       "    </tr>\n",
       "  </thead>\n",
       "  <tbody>\n",
       "    <tr>\n",
       "      <th>2018-01-11</th>\n",
       "      <td>188.40</td>\n",
       "      <td>188.40</td>\n",
       "      <td>187.38</td>\n",
       "      <td>187.77</td>\n",
       "      <td>9588587</td>\n",
       "    </tr>\n",
       "    <tr>\n",
       "      <th>2018-01-12</th>\n",
       "      <td>178.06</td>\n",
       "      <td>181.48</td>\n",
       "      <td>177.40</td>\n",
       "      <td>179.37</td>\n",
       "      <td>77551299</td>\n",
       "    </tr>\n",
       "  </tbody>\n",
       "</table>\n",
       "</div>"
      ],
      "text/plain": [
       "              open    high     low   close    volume\n",
       "date                                                \n",
       "2018-01-11  188.40  188.40  187.38  187.77   9588587\n",
       "2018-01-12  178.06  181.48  177.40  179.37  77551299"
      ]
     },
     "execution_count": 5,
     "metadata": {},
     "output_type": "execute_result"
    }
   ],
   "source": [
    "fb['2018-01-11':'2018-01-12']"
   ]
  },
  {
   "cell_type": "markdown",
   "metadata": {},
   "source": [
    "Throughout 2018, Facebook's stock price never had a low above $215:"
   ]
  },
  {
   "cell_type": "code",
   "execution_count": 6,
   "metadata": {},
   "outputs": [
    {
     "data": {
      "text/plain": [
       "open       True\n",
       "high       True\n",
       "low       False\n",
       "close      True\n",
       "volume     True\n",
       "dtype: bool"
      ]
     },
     "execution_count": 6,
     "metadata": {},
     "output_type": "execute_result"
    }
   ],
   "source": [
    "(fb > 215).any()"
   ]
  },
  {
   "cell_type": "markdown",
   "metadata": {},
   "source": [
    "Facebook's OHLC (open, high, low, and close) prices all had at least one day they were at $215 or less:"
   ]
  },
  {
   "cell_type": "code",
   "execution_count": 7,
   "metadata": {},
   "outputs": [
    {
     "data": {
      "text/plain": [
       "open      False\n",
       "high      False\n",
       "low       False\n",
       "close     False\n",
       "volume     True\n",
       "dtype: bool"
      ]
     },
     "execution_count": 7,
     "metadata": {},
     "output_type": "execute_result"
    }
   ],
   "source": [
    "(fb > 215).all()"
   ]
  },
  {
   "cell_type": "markdown",
   "metadata": {},
   "source": [
    "## Binning and thresholds\n",
    "When working with the volume traded, we may be interested in ranges of volume rather than the exact values. No two days have the same volume traded:"
   ]
  },
  {
   "cell_type": "code",
   "execution_count": 8,
   "metadata": {},
   "outputs": [
    {
     "data": {
      "text/plain": [
       "0"
      ]
     },
     "execution_count": 8,
     "metadata": {},
     "output_type": "execute_result"
    }
   ],
   "source": [
    "(fb.volume.value_counts() > 1).sum()"
   ]
  },
  {
   "cell_type": "markdown",
   "metadata": {},
   "source": [
    "We can use `pd.cut()` to create 3 bins of even an even range in volume traded and name them. Then we can work with low, medium, and high volume traded categories:"
   ]
  },
  {
   "cell_type": "code",
   "execution_count": 9,
   "metadata": {},
   "outputs": [
    {
     "data": {
      "text/plain": [
       "low     240\n",
       "med       8\n",
       "high      3\n",
       "Name: volume, dtype: int64"
      ]
     },
     "execution_count": 9,
     "metadata": {},
     "output_type": "execute_result"
    }
   ],
   "source": [
    "volume_binned = pd.cut(fb.volume, bins=3, labels=['low', 'med', 'high'])\n",
    "volume_binned.value_counts()"
   ]
  },
  {
   "cell_type": "code",
   "execution_count": 10,
   "metadata": {},
   "outputs": [
    {
     "data": {
      "text/html": [
       "<div>\n",
       "<style scoped>\n",
       "    .dataframe tbody tr th:only-of-type {\n",
       "        vertical-align: middle;\n",
       "    }\n",
       "\n",
       "    .dataframe tbody tr th {\n",
       "        vertical-align: top;\n",
       "    }\n",
       "\n",
       "    .dataframe thead th {\n",
       "        text-align: right;\n",
       "    }\n",
       "</style>\n",
       "<table border=\"1\" class=\"dataframe\">\n",
       "  <thead>\n",
       "    <tr style=\"text-align: right;\">\n",
       "      <th></th>\n",
       "      <th>open</th>\n",
       "      <th>high</th>\n",
       "      <th>low</th>\n",
       "      <th>close</th>\n",
       "      <th>volume</th>\n",
       "    </tr>\n",
       "    <tr>\n",
       "      <th>date</th>\n",
       "      <th></th>\n",
       "      <th></th>\n",
       "      <th></th>\n",
       "      <th></th>\n",
       "      <th></th>\n",
       "    </tr>\n",
       "  </thead>\n",
       "  <tbody>\n",
       "    <tr>\n",
       "      <th>2018-07-26</th>\n",
       "      <td>174.89</td>\n",
       "      <td>180.13</td>\n",
       "      <td>173.75</td>\n",
       "      <td>176.26</td>\n",
       "      <td>169803668</td>\n",
       "    </tr>\n",
       "    <tr>\n",
       "      <th>2018-03-20</th>\n",
       "      <td>167.47</td>\n",
       "      <td>170.20</td>\n",
       "      <td>161.95</td>\n",
       "      <td>168.15</td>\n",
       "      <td>129851768</td>\n",
       "    </tr>\n",
       "    <tr>\n",
       "      <th>2018-03-26</th>\n",
       "      <td>160.82</td>\n",
       "      <td>161.10</td>\n",
       "      <td>149.02</td>\n",
       "      <td>160.06</td>\n",
       "      <td>126116634</td>\n",
       "    </tr>\n",
       "  </tbody>\n",
       "</table>\n",
       "</div>"
      ],
      "text/plain": [
       "              open    high     low   close     volume\n",
       "date                                                 \n",
       "2018-07-26  174.89  180.13  173.75  176.26  169803668\n",
       "2018-03-20  167.47  170.20  161.95  168.15  129851768\n",
       "2018-03-26  160.82  161.10  149.02  160.06  126116634"
      ]
     },
     "execution_count": 10,
     "metadata": {},
     "output_type": "execute_result"
    }
   ],
   "source": [
    "fb[volume_binned == 'high'].sort_values(\n",
    "    'volume', ascending=False\n",
    ")"
   ]
  },
  {
   "cell_type": "markdown",
   "metadata": {},
   "source": [
    "July 25th Facebook announced disappointing user growth and the stock tanked in the after hours:"
   ]
  },
  {
   "cell_type": "code",
   "execution_count": 11,
   "metadata": {},
   "outputs": [
    {
     "data": {
      "text/html": [
       "<div>\n",
       "<style scoped>\n",
       "    .dataframe tbody tr th:only-of-type {\n",
       "        vertical-align: middle;\n",
       "    }\n",
       "\n",
       "    .dataframe tbody tr th {\n",
       "        vertical-align: top;\n",
       "    }\n",
       "\n",
       "    .dataframe thead th {\n",
       "        text-align: right;\n",
       "    }\n",
       "</style>\n",
       "<table border=\"1\" class=\"dataframe\">\n",
       "  <thead>\n",
       "    <tr style=\"text-align: right;\">\n",
       "      <th></th>\n",
       "      <th>open</th>\n",
       "      <th>high</th>\n",
       "      <th>low</th>\n",
       "      <th>close</th>\n",
       "      <th>volume</th>\n",
       "    </tr>\n",
       "    <tr>\n",
       "      <th>date</th>\n",
       "      <th></th>\n",
       "      <th></th>\n",
       "      <th></th>\n",
       "      <th></th>\n",
       "      <th></th>\n",
       "    </tr>\n",
       "  </thead>\n",
       "  <tbody>\n",
       "    <tr>\n",
       "      <th>2018-07-25</th>\n",
       "      <td>215.715</td>\n",
       "      <td>218.62</td>\n",
       "      <td>214.27</td>\n",
       "      <td>217.50</td>\n",
       "      <td>64592585</td>\n",
       "    </tr>\n",
       "    <tr>\n",
       "      <th>2018-07-26</th>\n",
       "      <td>174.890</td>\n",
       "      <td>180.13</td>\n",
       "      <td>173.75</td>\n",
       "      <td>176.26</td>\n",
       "      <td>169803668</td>\n",
       "    </tr>\n",
       "  </tbody>\n",
       "</table>\n",
       "</div>"
      ],
      "text/plain": [
       "               open    high     low   close     volume\n",
       "date                                                  \n",
       "2018-07-25  215.715  218.62  214.27  217.50   64592585\n",
       "2018-07-26  174.890  180.13  173.75  176.26  169803668"
      ]
     },
     "execution_count": 11,
     "metadata": {},
     "output_type": "execute_result"
    }
   ],
   "source": [
    "fb['2018-07-25':'2018-07-26']"
   ]
  },
  {
   "cell_type": "markdown",
   "metadata": {},
   "source": [
    "Cambridge Analytica scandal broke on Saturday March 17th, so we look to the Monday for the numbers:"
   ]
  },
  {
   "cell_type": "code",
   "execution_count": 12,
   "metadata": {},
   "outputs": [
    {
     "data": {
      "text/html": [
       "<div>\n",
       "<style scoped>\n",
       "    .dataframe tbody tr th:only-of-type {\n",
       "        vertical-align: middle;\n",
       "    }\n",
       "\n",
       "    .dataframe tbody tr th {\n",
       "        vertical-align: top;\n",
       "    }\n",
       "\n",
       "    .dataframe thead th {\n",
       "        text-align: right;\n",
       "    }\n",
       "</style>\n",
       "<table border=\"1\" class=\"dataframe\">\n",
       "  <thead>\n",
       "    <tr style=\"text-align: right;\">\n",
       "      <th></th>\n",
       "      <th>open</th>\n",
       "      <th>high</th>\n",
       "      <th>low</th>\n",
       "      <th>close</th>\n",
       "      <th>volume</th>\n",
       "    </tr>\n",
       "    <tr>\n",
       "      <th>date</th>\n",
       "      <th></th>\n",
       "      <th></th>\n",
       "      <th></th>\n",
       "      <th></th>\n",
       "      <th></th>\n",
       "    </tr>\n",
       "  </thead>\n",
       "  <tbody>\n",
       "    <tr>\n",
       "      <th>2018-03-16</th>\n",
       "      <td>184.49</td>\n",
       "      <td>185.33</td>\n",
       "      <td>183.41</td>\n",
       "      <td>185.09</td>\n",
       "      <td>24403438</td>\n",
       "    </tr>\n",
       "    <tr>\n",
       "      <th>2018-03-19</th>\n",
       "      <td>177.01</td>\n",
       "      <td>177.17</td>\n",
       "      <td>170.06</td>\n",
       "      <td>172.56</td>\n",
       "      <td>88140060</td>\n",
       "    </tr>\n",
       "    <tr>\n",
       "      <th>2018-03-20</th>\n",
       "      <td>167.47</td>\n",
       "      <td>170.20</td>\n",
       "      <td>161.95</td>\n",
       "      <td>168.15</td>\n",
       "      <td>129851768</td>\n",
       "    </tr>\n",
       "  </tbody>\n",
       "</table>\n",
       "</div>"
      ],
      "text/plain": [
       "              open    high     low   close     volume\n",
       "date                                                 \n",
       "2018-03-16  184.49  185.33  183.41  185.09   24403438\n",
       "2018-03-19  177.01  177.17  170.06  172.56   88140060\n",
       "2018-03-20  167.47  170.20  161.95  168.15  129851768"
      ]
     },
     "execution_count": 12,
     "metadata": {},
     "output_type": "execute_result"
    }
   ],
   "source": [
    "fb['2018-03-16':'2018-03-20']"
   ]
  },
  {
   "cell_type": "markdown",
   "metadata": {},
   "source": [
    "Since most days have similar volume, but a few are very large, we have very wide bins. Most of the data is in the low bin. \n",
    "\n",
    "*Note: visualizations will be covered in chapters [5](https://github.com/stefmolin/Hands-On-Data-Analysis-with-Pandas/tree/master/ch_05) and [6](https://github.com/stefmolin/Hands-On-Data-Analysis-with-Pandas/tree/master/ch_05).*"
   ]
  },
  {
   "cell_type": "code",
   "execution_count": 13,
   "metadata": {},
   "outputs": [],
   "source": [
    "import matplotlib.pyplot as plt"
   ]
  },
  {
   "cell_type": "code",
   "execution_count": 14,
   "metadata": {},
   "outputs": [
    {
     "data": {
      "image/png": "[encoded data removed]",
      "text/plain": [
       "<Figure size 1080x216 with 1 Axes>"
      ]
     },
     "metadata": {
      "needs_background": "light"
     },
     "output_type": "display_data"
    }
   ],
   "source": [
    "fb.plot(y='volume', figsize=(15, 3), title='Daily Volume Traded of Facebook Stock in 2018 (with bins)')\n",
    "\n",
    "for bin_name, alpha, bounds in zip(\n",
    "    ['low', 'med', 'high'], [0.1, 0.2, 0.3], pd.cut(fb.volume, bins=3).unique().categories.values\n",
    "):\n",
    "    plt.axhspan(bounds.left, bounds.right, alpha=alpha, label=bin_name, color='mediumturquoise')\n",
    "    plt.annotate(bin_name, xy=('2017-12-17', (bounds.left + bounds.right)/2.1))\n",
    "    \n",
    "plt.ylabel('volume traded')\n",
    "plt.legend()\n",
    "plt.show()"
   ]
  },
  {
   "cell_type": "markdown",
   "metadata": {},
   "source": [
    "If we split using quantiles, the bins will have roughly the same number of observations. For this, we use `qcut()`. We will make 4 quartiles:"
   ]
  },
  {
   "cell_type": "code",
   "execution_count": 15,
   "metadata": {},
   "outputs": [
    {
     "data": {
      "text/plain": [
       "q4    63\n",
       "q2    63\n",
       "q1    63\n",
       "q3    62\n",
       "Name: volume, dtype: int64"
      ]
     },
     "execution_count": 15,
     "metadata": {},
     "output_type": "execute_result"
    }
   ],
   "source": [
    "volume_qbinned = pd.qcut(fb.volume, q=4, labels=['q1', 'q2', 'q3', 'q4'])\n",
    "volume_qbinned.value_counts()"
   ]
  },
  {
   "cell_type": "markdown",
   "metadata": {},
   "source": [
    "Notice the bins don't cover ranges of the same size anymore:"
   ]
  },
  {
   "cell_type": "code",
   "execution_count": 16,
   "metadata": {},
   "outputs": [
    {
     "data": {
      "image/png": "[encoded data removed]",
      "text/plain": [
       "<Figure size 1080x576 with 1 Axes>"
      ]
     },
     "metadata": {
      "needs_background": "light"
     },
     "output_type": "display_data"
    }
   ],
   "source": [
    "fb.plot(y='volume', figsize=(15, 8), title='Daily Volume Traded of Facebook Stock in 2018 (with quartile bins)')\n",
    "\n",
    "for bin_name, alpha, bounds in zip(\n",
    "    ['q1', 'q2', 'q3', 'q4'], [0.1, 0.35, 0.2, 0.3], pd.qcut(fb.volume, q=4).unique().categories.values\n",
    "):\n",
    "    plt.axhspan(bounds.left, bounds.right, alpha=alpha, label=bin_name, color='mediumturquoise')\n",
    "    plt.annotate(bin_name, xy=('2017-12-17', (bounds.left + bounds.right)/2.1))\n",
    "    \n",
    "plt.ylabel('volume traded')\n",
    "plt.legend()\n",
    "plt.show()"
   ]
  },
  {
   "cell_type": "markdown",
   "metadata": {},
   "source": [
    "Sometimes we don't want to make bins, but rather cap values at a threshold. Before we look at an example, let's pivot our weather data for the Central Park station:"
   ]
  },
  {
   "cell_type": "code",
   "execution_count": 17,
   "metadata": {},
   "outputs": [
    {
     "data": {
      "text/html": [
       "<div>\n",
       "<style scoped>\n",
       "    .dataframe tbody tr th:only-of-type {\n",
       "        vertical-align: middle;\n",
       "    }\n",
       "\n",
       "    .dataframe tbody tr th {\n",
       "        vertical-align: top;\n",
       "    }\n",
       "\n",
       "    .dataframe thead th {\n",
       "        text-align: right;\n",
       "    }\n",
       "</style>\n",
       "<table border=\"1\" class=\"dataframe\">\n",
       "  <thead>\n",
       "    <tr style=\"text-align: right;\">\n",
       "      <th>datatype</th>\n",
       "      <th>AWND</th>\n",
       "      <th>PRCP</th>\n",
       "      <th>SNOW</th>\n",
       "      <th>SNWD</th>\n",
       "      <th>TMAX</th>\n",
       "      <th>TMIN</th>\n",
       "      <th>WDF2</th>\n",
       "      <th>WDF5</th>\n",
       "      <th>WSF2</th>\n",
       "      <th>WSF5</th>\n",
       "      <th>WT01</th>\n",
       "      <th>WT02</th>\n",
       "      <th>WT03</th>\n",
       "      <th>WT06</th>\n",
       "      <th>WT08</th>\n",
       "    </tr>\n",
       "    <tr>\n",
       "      <th>date</th>\n",
       "      <th></th>\n",
       "      <th></th>\n",
       "      <th></th>\n",
       "      <th></th>\n",
       "      <th></th>\n",
       "      <th></th>\n",
       "      <th></th>\n",
       "      <th></th>\n",
       "      <th></th>\n",
       "      <th></th>\n",
       "      <th></th>\n",
       "      <th></th>\n",
       "      <th></th>\n",
       "      <th></th>\n",
       "      <th></th>\n",
       "    </tr>\n",
       "  </thead>\n",
       "  <tbody>\n",
       "    <tr>\n",
       "      <th>2018-01-01</th>\n",
       "      <td>3.5</td>\n",
       "      <td>0.0</td>\n",
       "      <td>0.0</td>\n",
       "      <td>0.0</td>\n",
       "      <td>-7.1</td>\n",
       "      <td>-13.8</td>\n",
       "      <td>300.0</td>\n",
       "      <td>300.0</td>\n",
       "      <td>6.7</td>\n",
       "      <td>11.2</td>\n",
       "      <td>NaN</td>\n",
       "      <td>NaN</td>\n",
       "      <td>NaN</td>\n",
       "      <td>NaN</td>\n",
       "      <td>NaN</td>\n",
       "    </tr>\n",
       "    <tr>\n",
       "      <th>2018-01-02</th>\n",
       "      <td>3.6</td>\n",
       "      <td>0.0</td>\n",
       "      <td>0.0</td>\n",
       "      <td>0.0</td>\n",
       "      <td>-3.2</td>\n",
       "      <td>-10.5</td>\n",
       "      <td>260.0</td>\n",
       "      <td>250.0</td>\n",
       "      <td>7.2</td>\n",
       "      <td>12.5</td>\n",
       "      <td>NaN</td>\n",
       "      <td>NaN</td>\n",
       "      <td>NaN</td>\n",
       "      <td>NaN</td>\n",
       "      <td>NaN</td>\n",
       "    </tr>\n",
       "    <tr>\n",
       "      <th>2018-01-03</th>\n",
       "      <td>1.4</td>\n",
       "      <td>0.0</td>\n",
       "      <td>0.0</td>\n",
       "      <td>0.0</td>\n",
       "      <td>-1.0</td>\n",
       "      <td>-8.8</td>\n",
       "      <td>260.0</td>\n",
       "      <td>270.0</td>\n",
       "      <td>6.3</td>\n",
       "      <td>9.8</td>\n",
       "      <td>NaN</td>\n",
       "      <td>NaN</td>\n",
       "      <td>NaN</td>\n",
       "      <td>NaN</td>\n",
       "      <td>NaN</td>\n",
       "    </tr>\n",
       "    <tr>\n",
       "      <th>2018-01-04</th>\n",
       "      <td>5.6</td>\n",
       "      <td>19.3</td>\n",
       "      <td>249.0</td>\n",
       "      <td>30.0</td>\n",
       "      <td>-1.6</td>\n",
       "      <td>-7.1</td>\n",
       "      <td>310.0</td>\n",
       "      <td>310.0</td>\n",
       "      <td>10.7</td>\n",
       "      <td>19.2</td>\n",
       "      <td>1.0</td>\n",
       "      <td>1.0</td>\n",
       "      <td>NaN</td>\n",
       "      <td>NaN</td>\n",
       "      <td>1.0</td>\n",
       "    </tr>\n",
       "    <tr>\n",
       "      <th>2018-01-05</th>\n",
       "      <td>5.8</td>\n",
       "      <td>0.0</td>\n",
       "      <td>0.0</td>\n",
       "      <td>180.0</td>\n",
       "      <td>-7.1</td>\n",
       "      <td>-12.7</td>\n",
       "      <td>280.0</td>\n",
       "      <td>280.0</td>\n",
       "      <td>9.4</td>\n",
       "      <td>15.7</td>\n",
       "      <td>NaN</td>\n",
       "      <td>NaN</td>\n",
       "      <td>NaN</td>\n",
       "      <td>NaN</td>\n",
       "      <td>NaN</td>\n",
       "    </tr>\n",
       "  </tbody>\n",
       "</table>\n",
       "</div>"
      ],
      "text/plain": [
       "datatype    AWND  PRCP   SNOW   SNWD  TMAX  TMIN   WDF2   WDF5  WSF2  WSF5  \\\n",
       "date                                                                         \n",
       "2018-01-01   3.5   0.0    0.0    0.0  -7.1 -13.8  300.0  300.0   6.7  11.2   \n",
       "2018-01-02   3.6   0.0    0.0    0.0  -3.2 -10.5  260.0  250.0   7.2  12.5   \n",
       "2018-01-03   1.4   0.0    0.0    0.0  -1.0  -8.8  260.0  270.0   6.3   9.8   \n",
       "2018-01-04   5.6  19.3  249.0   30.0  -1.6  -7.1  310.0  310.0  10.7  19.2   \n",
       "2018-01-05   5.8   0.0    0.0  180.0  -7.1 -12.7  280.0  280.0   9.4  15.7   \n",
       "\n",
       "datatype    WT01  WT02  WT03  WT06  WT08  \n",
       "date                                      \n",
       "2018-01-01   NaN   NaN   NaN   NaN   NaN  \n",
       "2018-01-02   NaN   NaN   NaN   NaN   NaN  \n",
       "2018-01-03   NaN   NaN   NaN   NaN   NaN  \n",
       "2018-01-04   1.0   1.0   NaN   NaN   1.0  \n",
       "2018-01-05   NaN   NaN   NaN   NaN   NaN  "
      ]
     },
     "execution_count": 17,
     "metadata": {},
     "output_type": "execute_result"
    }
   ],
   "source": [
    "central_park_weather = weather.query(\n",
    "    'station == \"GHCND:USW00094728\"'\n",
    ").pivot(index='date', columns='datatype', values='value')"
   ]
  },
  {
   "cell_type": "markdown",
   "metadata": {},
   "source": [
    "Say we don't care how much snow their was, just that it snowed in Central Park. However, we don't want to make a Boolean column since we need to preserve the data type of float. We can use `clip()` to replace values above a upper threshold with the threshold and replace values below a lower threshold with the lower threshold. This means we can use `clip(0, 1)` to change all the snow values of one or more to 1, which easily shows us the days snow was recorded in Central Park. Preserving the data type will save some work later on if we are building a model:"
   ]
  },
  {
   "cell_type": "code",
   "execution_count": 18,
   "metadata": {},
   "outputs": [
    {
     "data": {
      "text/plain": [
       "0.0    354\n",
       "1.0     11\n",
       "Name: SNOW, dtype: int64"
      ]
     },
     "execution_count": 18,
     "metadata": {},
     "output_type": "execute_result"
    }
   ],
   "source": [
    "central_park_weather.SNOW.clip(0, 1).value_counts()"
   ]
  },
  {
   "cell_type": "markdown",
   "metadata": {},
   "source": [
    "*Note: the `clip()` method can also be called on the dataframe itself.*\n",
    "\n",
    "## Applying Functions\n",
    "We can use the `apply()` method to run the same operation on all columns (or rows) of the dataframe. Let's calculate the z-scores of the TMIN, TMAX, and PRCP observations in Central Park in October 2018:"
   ]
  },
  {
   "cell_type": "code",
   "execution_count": 19,
   "metadata": {},
   "outputs": [
    {
     "data": {
      "text/html": [
       "<div>\n",
       "<style scoped>\n",
       "    .dataframe tbody tr th:only-of-type {\n",
       "        vertical-align: middle;\n",
       "    }\n",
       "\n",
       "    .dataframe tbody tr th {\n",
       "        vertical-align: top;\n",
       "    }\n",
       "\n",
       "    .dataframe thead th {\n",
       "        text-align: right;\n",
       "    }\n",
       "</style>\n",
       "<table border=\"1\" class=\"dataframe\">\n",
       "  <thead>\n",
       "    <tr style=\"text-align: right;\">\n",
       "      <th></th>\n",
       "      <th>count</th>\n",
       "      <th>mean</th>\n",
       "      <th>std</th>\n",
       "      <th>min</th>\n",
       "      <th>25%</th>\n",
       "      <th>50%</th>\n",
       "      <th>75%</th>\n",
       "      <th>max</th>\n",
       "    </tr>\n",
       "    <tr>\n",
       "      <th>datatype</th>\n",
       "      <th></th>\n",
       "      <th></th>\n",
       "      <th></th>\n",
       "      <th></th>\n",
       "      <th></th>\n",
       "      <th></th>\n",
       "      <th></th>\n",
       "      <th></th>\n",
       "    </tr>\n",
       "  </thead>\n",
       "  <tbody>\n",
       "    <tr>\n",
       "      <th>TMIN</th>\n",
       "      <td>31.0</td>\n",
       "      <td>-1.790682e-16</td>\n",
       "      <td>1.0</td>\n",
       "      <td>-1.339112</td>\n",
       "      <td>-0.751019</td>\n",
       "      <td>-0.474269</td>\n",
       "      <td>1.065152</td>\n",
       "      <td>1.843511</td>\n",
       "    </tr>\n",
       "    <tr>\n",
       "      <th>TMAX</th>\n",
       "      <td>31.0</td>\n",
       "      <td>1.951844e-16</td>\n",
       "      <td>1.0</td>\n",
       "      <td>-1.305582</td>\n",
       "      <td>-0.870013</td>\n",
       "      <td>-0.138258</td>\n",
       "      <td>1.011643</td>\n",
       "      <td>1.604016</td>\n",
       "    </tr>\n",
       "    <tr>\n",
       "      <th>PRCP</th>\n",
       "      <td>31.0</td>\n",
       "      <td>4.655774e-17</td>\n",
       "      <td>1.0</td>\n",
       "      <td>-0.394438</td>\n",
       "      <td>-0.394438</td>\n",
       "      <td>-0.394438</td>\n",
       "      <td>-0.240253</td>\n",
       "      <td>3.936167</td>\n",
       "    </tr>\n",
       "  </tbody>\n",
       "</table>\n",
       "</div>"
      ],
      "text/plain": [
       "          count          mean  std       min       25%       50%       75%  \\\n",
       "datatype                                                                     \n",
       "TMIN       31.0 -1.790682e-16  1.0 -1.339112 -0.751019 -0.474269  1.065152   \n",
       "TMAX       31.0  1.951844e-16  1.0 -1.305582 -0.870013 -0.138258  1.011643   \n",
       "PRCP       31.0  4.655774e-17  1.0 -0.394438 -0.394438 -0.394438 -0.240253   \n",
       "\n",
       "               max  \n",
       "datatype            \n",
       "TMIN      1.843511  \n",
       "TMAX      1.604016  \n",
       "PRCP      3.936167  "
      ]
     },
     "execution_count": 19,
     "metadata": {},
     "output_type": "execute_result"
    }
   ],
   "source": [
    "oct_weather_z_scores = central_park_weather.loc[\n",
    "    '2018-10', ['TMIN', 'TMAX', 'PRCP']\n",
    "].apply(lambda x: x.sub(x.mean()).div(x.std()))\n",
    "oct_weather_z_scores.describe().T"
   ]
  },
  {
   "cell_type": "markdown",
   "metadata": {},
   "source": [
    "October 27th rained much more than the rest of the days:"
   ]
  },
  {
   "cell_type": "code",
   "execution_count": 20,
   "metadata": {},
   "outputs": [
    {
     "data": {
      "text/html": [
       "<div>\n",
       "<style scoped>\n",
       "    .dataframe tbody tr th:only-of-type {\n",
       "        vertical-align: middle;\n",
       "    }\n",
       "\n",
       "    .dataframe tbody tr th {\n",
       "        vertical-align: top;\n",
       "    }\n",
       "\n",
       "    .dataframe thead th {\n",
       "        text-align: right;\n",
       "    }\n",
       "</style>\n",
       "<table border=\"1\" class=\"dataframe\">\n",
       "  <thead>\n",
       "    <tr style=\"text-align: right;\">\n",
       "      <th>datatype</th>\n",
       "      <th>TMIN</th>\n",
       "      <th>TMAX</th>\n",
       "      <th>PRCP</th>\n",
       "    </tr>\n",
       "    <tr>\n",
       "      <th>date</th>\n",
       "      <th></th>\n",
       "      <th></th>\n",
       "      <th></th>\n",
       "    </tr>\n",
       "  </thead>\n",
       "  <tbody>\n",
       "    <tr>\n",
       "      <th>2018-10-27</th>\n",
       "      <td>-0.751019</td>\n",
       "      <td>-1.201045</td>\n",
       "      <td>3.936167</td>\n",
       "    </tr>\n",
       "  </tbody>\n",
       "</table>\n",
       "</div>"
      ],
      "text/plain": [
       "datatype        TMIN      TMAX      PRCP\n",
       "date                                    \n",
       "2018-10-27 -0.751019 -1.201045  3.936167"
      ]
     },
     "execution_count": 20,
     "metadata": {},
     "output_type": "execute_result"
    }
   ],
   "source": [
    "oct_weather_z_scores.query('PRCP > 3')"
   ]
  },
  {
   "cell_type": "markdown",
   "metadata": {},
   "source": [
    "Indeed, this day was much higher than the rest:"
   ]
  },
  {
   "cell_type": "code",
   "execution_count": 21,
   "metadata": {},
   "outputs": [
    {
     "data": {
      "text/plain": [
       "count    31.000000\n",
       "mean      2.941935\n",
       "std       7.458542\n",
       "min       0.000000\n",
       "25%       0.000000\n",
       "50%       0.000000\n",
       "75%       1.150000\n",
       "max      32.300000\n",
       "Name: PRCP, dtype: float64"
      ]
     },
     "execution_count": 21,
     "metadata": {},
     "output_type": "execute_result"
    }
   ],
   "source": [
    "central_park_weather.loc['2018-10', 'PRCP'].describe()"
   ]
  },
  {
   "cell_type": "markdown",
   "metadata": {},
   "source": [
    "When the function we want to apply isn't vectorized, we can:\n",
    "- use `np.vectorize()` to vectorize it (similar to how `map()` works) and then use it with `apply()`\n",
    "- use `applymap()` and pass it the non-vectorized function directly\n",
    "\n",
    "Say we wanted to count the digits of the whole numbers for the Facebook data. `len()` is not vectorized:"
   ]
  },
  {
   "cell_type": "code",
   "execution_count": 22,
   "metadata": {},
   "outputs": [
    {
     "data": {
      "text/plain": [
       "True"
      ]
     },
     "execution_count": 22,
     "metadata": {},
     "output_type": "execute_result"
    }
   ],
   "source": [
    "import numpy as np\n",
    "\n",
    "fb.apply(\n",
    "    lambda x: np.vectorize(lambda y: len(str(np.ceil(y))))(x)\n",
    ").astype('int64').equals(\n",
    "    fb.applymap(lambda x: len(str(np.ceil(x))))\n",
    ")"
   ]
  },
  {
   "cell_type": "markdown",
   "metadata": {},
   "source": [
    "A simple operation of addition to each element in a series grows linearly in time complexity when using `iteritems()`, but stays near 0 when using vectorized operations. `iteritems()` and related methods should only be used if there is no vectorized solution:"
   ]
  },
  {
   "cell_type": "code",
   "execution_count": 23,
   "metadata": {},
   "outputs": [
    {
     "data": {
      "image/png": "[encoded data removed]",
      "text/plain": [
       "<Figure size 432x288 with 1 Axes>"
      ]
     },
     "metadata": {
      "needs_background": "light"
     },
     "output_type": "display_data"
    }
   ],
   "source": [
    "import time\n",
    "\n",
    "import matplotlib.pyplot as plt\n",
    "import numpy as np\n",
    "import pandas as pd\n",
    "\n",
    "np.random.seed(0)\n",
    "\n",
    "vectorized_results = {}\n",
    "iteritems_results = {}\n",
    "\n",
    "for size in [10, 100, 1000, 10000, 100000, 500000, 1000000, 5000000, 10000000]:\n",
    "    test = pd.Series(np.random.uniform(size=size))\n",
    "    \n",
    "    start = time.time()\n",
    "    x = test + 10\n",
    "    end = time.time()\n",
    "    vectorized_results[size] = end - start\n",
    "    \n",
    "    start = time.time()\n",
    "    x = []\n",
    "    for i, v in test.iteritems():\n",
    "        x.append(v + 10)\n",
    "    x = pd.Series(x)\n",
    "    end = time.time()\n",
    "    iteritems_results[size] = end - start\n",
    "\n",
    "pd.DataFrame(\n",
    "    [pd.Series(vectorized_results, name='vectorized'), pd.Series(iteritems_results, name='iteritems')]\n",
    ").T.plot(title='Time Complexity of Vectorized Operations vs. iteritems()')\n",
    "plt.xlabel('item size (rows)')\n",
    "plt.ylabel('time')\n",
    "plt.show()"
   ]
  },
  {
   "cell_type": "markdown",
   "metadata": {},
   "source": [
    "## Window Calculations\n",
    "*Consult the [understanding_window_calculations.ipynb notebook](https://github.com/stefmolin/Hands-On-Data-Analysis-with-Pandas/blob/master/ch_04/understanding_window_calculations.ipynb) for interactive visualizations to help understand window calculations.*\n",
    "\n",
    "The `rolling()` method allows us to perform rolling window calculations. We simply specify the window size (3 days here) and follow it with a call to an aggregation function (sum here):"
   ]
  },
  {
   "cell_type": "code",
   "execution_count": 24,
   "metadata": {},
   "outputs": [
    {
     "data": {
      "text/html": [
       "<div>\n",
       "<style scoped>\n",
       "    .dataframe tbody tr th:only-of-type {\n",
       "        vertical-align: middle;\n",
       "    }\n",
       "\n",
       "    .dataframe tbody tr th {\n",
       "        vertical-align: top;\n",
       "    }\n",
       "\n",
       "    .dataframe thead th {\n",
       "        text-align: right;\n",
       "    }\n",
       "</style>\n",
       "<table border=\"1\" class=\"dataframe\">\n",
       "  <thead>\n",
       "    <tr style=\"text-align: right;\">\n",
       "      <th>date</th>\n",
       "      <th>2018-10-01 00:00:00</th>\n",
       "      <th>2018-10-02 00:00:00</th>\n",
       "      <th>2018-10-03 00:00:00</th>\n",
       "      <th>2018-10-04 00:00:00</th>\n",
       "      <th>2018-10-05 00:00:00</th>\n",
       "      <th>2018-10-06 00:00:00</th>\n",
       "      <th>2018-10-07 00:00:00</th>\n",
       "    </tr>\n",
       "    <tr>\n",
       "      <th>datatype</th>\n",
       "      <th></th>\n",
       "      <th></th>\n",
       "      <th></th>\n",
       "      <th></th>\n",
       "      <th></th>\n",
       "      <th></th>\n",
       "      <th></th>\n",
       "    </tr>\n",
       "  </thead>\n",
       "  <tbody>\n",
       "    <tr>\n",
       "      <th>PRCP</th>\n",
       "      <td>0.0</td>\n",
       "      <td>17.5</td>\n",
       "      <td>0.0</td>\n",
       "      <td>1.0</td>\n",
       "      <td>0.0</td>\n",
       "      <td>0.0</td>\n",
       "      <td>0.0</td>\n",
       "    </tr>\n",
       "    <tr>\n",
       "      <th>rolling_PRCP</th>\n",
       "      <td>0.0</td>\n",
       "      <td>17.5</td>\n",
       "      <td>17.5</td>\n",
       "      <td>18.5</td>\n",
       "      <td>1.0</td>\n",
       "      <td>1.0</td>\n",
       "      <td>0.0</td>\n",
       "    </tr>\n",
       "  </tbody>\n",
       "</table>\n",
       "</div>"
      ],
      "text/plain": [
       "date          2018-10-01  2018-10-02  2018-10-03  2018-10-04  2018-10-05  \\\n",
       "datatype                                                                   \n",
       "PRCP                 0.0        17.5         0.0         1.0         0.0   \n",
       "rolling_PRCP         0.0        17.5        17.5        18.5         1.0   \n",
       "\n",
       "date          2018-10-06  2018-10-07  \n",
       "datatype                              \n",
       "PRCP                 0.0         0.0  \n",
       "rolling_PRCP         1.0         0.0  "
      ]
     },
     "execution_count": 24,
     "metadata": {},
     "output_type": "execute_result"
    }
   ],
   "source": [
    "central_park_weather['2018-10'].assign(\n",
    "    rolling_PRCP=lambda x: x.PRCP.rolling('3D').sum()\n",
    ")[['PRCP', 'rolling_PRCP']].head(7).T"
   ]
  },
  {
   "cell_type": "markdown",
   "metadata": {},
   "source": [
    "We can also perform the rolling calculations on the entire dataframe at once. This will apply the same aggregation function to each column:"
   ]
  },
  {
   "cell_type": "code",
   "execution_count": 25,
   "metadata": {},
   "outputs": [
    {
     "data": {
      "text/html": [
       "<div>\n",
       "<style scoped>\n",
       "    .dataframe tbody tr th:only-of-type {\n",
       "        vertical-align: middle;\n",
       "    }\n",
       "\n",
       "    .dataframe tbody tr th {\n",
       "        vertical-align: top;\n",
       "    }\n",
       "\n",
       "    .dataframe thead th {\n",
       "        text-align: right;\n",
       "    }\n",
       "</style>\n",
       "<table border=\"1\" class=\"dataframe\">\n",
       "  <thead>\n",
       "    <tr style=\"text-align: right;\">\n",
       "      <th>datatype</th>\n",
       "      <th>AWND</th>\n",
       "      <th>PRCP</th>\n",
       "      <th>SNOW</th>\n",
       "      <th>SNWD</th>\n",
       "      <th>TMAX</th>\n",
       "      <th>TMIN</th>\n",
       "    </tr>\n",
       "    <tr>\n",
       "      <th>date</th>\n",
       "      <th></th>\n",
       "      <th></th>\n",
       "      <th></th>\n",
       "      <th></th>\n",
       "      <th></th>\n",
       "      <th></th>\n",
       "    </tr>\n",
       "  </thead>\n",
       "  <tbody>\n",
       "    <tr>\n",
       "      <th>2018-10-01</th>\n",
       "      <td>0.900000</td>\n",
       "      <td>0.000000</td>\n",
       "      <td>0.0</td>\n",
       "      <td>0.0</td>\n",
       "      <td>24.400000</td>\n",
       "      <td>17.200000</td>\n",
       "    </tr>\n",
       "    <tr>\n",
       "      <th>2018-10-02</th>\n",
       "      <td>0.900000</td>\n",
       "      <td>8.750000</td>\n",
       "      <td>0.0</td>\n",
       "      <td>0.0</td>\n",
       "      <td>24.700000</td>\n",
       "      <td>17.750000</td>\n",
       "    </tr>\n",
       "    <tr>\n",
       "      <th>2018-10-03</th>\n",
       "      <td>0.966667</td>\n",
       "      <td>5.833333</td>\n",
       "      <td>0.0</td>\n",
       "      <td>0.0</td>\n",
       "      <td>24.233333</td>\n",
       "      <td>17.566667</td>\n",
       "    </tr>\n",
       "    <tr>\n",
       "      <th>2018-10-04</th>\n",
       "      <td>0.800000</td>\n",
       "      <td>6.166667</td>\n",
       "      <td>0.0</td>\n",
       "      <td>0.0</td>\n",
       "      <td>24.233333</td>\n",
       "      <td>17.200000</td>\n",
       "    </tr>\n",
       "    <tr>\n",
       "      <th>2018-10-05</th>\n",
       "      <td>1.033333</td>\n",
       "      <td>0.333333</td>\n",
       "      <td>0.0</td>\n",
       "      <td>0.0</td>\n",
       "      <td>23.133333</td>\n",
       "      <td>16.300000</td>\n",
       "    </tr>\n",
       "    <tr>\n",
       "      <th>2018-10-06</th>\n",
       "      <td>0.833333</td>\n",
       "      <td>0.333333</td>\n",
       "      <td>0.0</td>\n",
       "      <td>0.0</td>\n",
       "      <td>22.033333</td>\n",
       "      <td>16.300000</td>\n",
       "    </tr>\n",
       "    <tr>\n",
       "      <th>2018-10-07</th>\n",
       "      <td>1.066667</td>\n",
       "      <td>0.000000</td>\n",
       "      <td>0.0</td>\n",
       "      <td>0.0</td>\n",
       "      <td>22.600000</td>\n",
       "      <td>17.400000</td>\n",
       "    </tr>\n",
       "  </tbody>\n",
       "</table>\n",
       "</div>"
      ],
      "text/plain": [
       "datatype        AWND      PRCP  SNOW  SNWD       TMAX       TMIN\n",
       "date                                                            \n",
       "2018-10-01  0.900000  0.000000   0.0   0.0  24.400000  17.200000\n",
       "2018-10-02  0.900000  8.750000   0.0   0.0  24.700000  17.750000\n",
       "2018-10-03  0.966667  5.833333   0.0   0.0  24.233333  17.566667\n",
       "2018-10-04  0.800000  6.166667   0.0   0.0  24.233333  17.200000\n",
       "2018-10-05  1.033333  0.333333   0.0   0.0  23.133333  16.300000\n",
       "2018-10-06  0.833333  0.333333   0.0   0.0  22.033333  16.300000\n",
       "2018-10-07  1.066667  0.000000   0.0   0.0  22.600000  17.400000"
      ]
     },
     "execution_count": 25,
     "metadata": {},
     "output_type": "execute_result"
    }
   ],
   "source": [
    "central_park_weather['2018-10'].rolling('3D').mean().head(7).iloc[:,:6]"
   ]
  },
  {
   "cell_type": "markdown",
   "metadata": {},
   "source": [
    "We can use different aggregation functions per column if we use `agg()` instead. We pass in a dictionary mapping the column to the aggregation to perform on it:"
   ]
  },
  {
   "cell_type": "code",
   "execution_count": 26,
   "metadata": {},
   "outputs": [
    {
     "data": {
      "text/html": [
       "<div>\n",
       "<style scoped>\n",
       "    .dataframe tbody tr th:only-of-type {\n",
       "        vertical-align: middle;\n",
       "    }\n",
       "\n",
       "    .dataframe tbody tr th {\n",
       "        vertical-align: top;\n",
       "    }\n",
       "\n",
       "    .dataframe thead th {\n",
       "        text-align: right;\n",
       "    }\n",
       "</style>\n",
       "<table border=\"1\" class=\"dataframe\">\n",
       "  <thead>\n",
       "    <tr style=\"text-align: right;\">\n",
       "      <th></th>\n",
       "      <th>AWND</th>\n",
       "      <th>AWND_rolling</th>\n",
       "      <th>PRCP</th>\n",
       "      <th>PRCP_rolling</th>\n",
       "      <th>TMAX</th>\n",
       "      <th>TMAX_rolling</th>\n",
       "      <th>TMIN</th>\n",
       "      <th>TMIN_rolling</th>\n",
       "    </tr>\n",
       "    <tr>\n",
       "      <th>date</th>\n",
       "      <th></th>\n",
       "      <th></th>\n",
       "      <th></th>\n",
       "      <th></th>\n",
       "      <th></th>\n",
       "      <th></th>\n",
       "      <th></th>\n",
       "      <th></th>\n",
       "    </tr>\n",
       "  </thead>\n",
       "  <tbody>\n",
       "    <tr>\n",
       "      <th>2018-10-01</th>\n",
       "      <td>0.9</td>\n",
       "      <td>0.900000</td>\n",
       "      <td>0.0</td>\n",
       "      <td>0.0</td>\n",
       "      <td>24.4</td>\n",
       "      <td>24.4</td>\n",
       "      <td>17.2</td>\n",
       "      <td>17.2</td>\n",
       "    </tr>\n",
       "    <tr>\n",
       "      <th>2018-10-02</th>\n",
       "      <td>0.9</td>\n",
       "      <td>0.900000</td>\n",
       "      <td>17.5</td>\n",
       "      <td>17.5</td>\n",
       "      <td>25.0</td>\n",
       "      <td>25.0</td>\n",
       "      <td>18.3</td>\n",
       "      <td>17.2</td>\n",
       "    </tr>\n",
       "    <tr>\n",
       "      <th>2018-10-03</th>\n",
       "      <td>1.1</td>\n",
       "      <td>0.966667</td>\n",
       "      <td>0.0</td>\n",
       "      <td>17.5</td>\n",
       "      <td>23.3</td>\n",
       "      <td>25.0</td>\n",
       "      <td>17.2</td>\n",
       "      <td>17.2</td>\n",
       "    </tr>\n",
       "    <tr>\n",
       "      <th>2018-10-04</th>\n",
       "      <td>0.4</td>\n",
       "      <td>0.800000</td>\n",
       "      <td>1.0</td>\n",
       "      <td>18.5</td>\n",
       "      <td>24.4</td>\n",
       "      <td>25.0</td>\n",
       "      <td>16.1</td>\n",
       "      <td>16.1</td>\n",
       "    </tr>\n",
       "    <tr>\n",
       "      <th>2018-10-05</th>\n",
       "      <td>1.6</td>\n",
       "      <td>1.033333</td>\n",
       "      <td>0.0</td>\n",
       "      <td>1.0</td>\n",
       "      <td>21.7</td>\n",
       "      <td>24.4</td>\n",
       "      <td>15.6</td>\n",
       "      <td>15.6</td>\n",
       "    </tr>\n",
       "    <tr>\n",
       "      <th>2018-10-06</th>\n",
       "      <td>0.5</td>\n",
       "      <td>0.833333</td>\n",
       "      <td>0.0</td>\n",
       "      <td>1.0</td>\n",
       "      <td>20.0</td>\n",
       "      <td>24.4</td>\n",
       "      <td>17.2</td>\n",
       "      <td>15.6</td>\n",
       "    </tr>\n",
       "    <tr>\n",
       "      <th>2018-10-07</th>\n",
       "      <td>1.1</td>\n",
       "      <td>1.066667</td>\n",
       "      <td>0.0</td>\n",
       "      <td>0.0</td>\n",
       "      <td>26.1</td>\n",
       "      <td>26.1</td>\n",
       "      <td>19.4</td>\n",
       "      <td>15.6</td>\n",
       "    </tr>\n",
       "  </tbody>\n",
       "</table>\n",
       "</div>"
      ],
      "text/plain": [
       "            AWND  AWND_rolling  PRCP  PRCP_rolling  TMAX  TMAX_rolling  TMIN  \\\n",
       "date                                                                           \n",
       "2018-10-01   0.9      0.900000   0.0           0.0  24.4          24.4  17.2   \n",
       "2018-10-02   0.9      0.900000  17.5          17.5  25.0          25.0  18.3   \n",
       "2018-10-03   1.1      0.966667   0.0          17.5  23.3          25.0  17.2   \n",
       "2018-10-04   0.4      0.800000   1.0          18.5  24.4          25.0  16.1   \n",
       "2018-10-05   1.6      1.033333   0.0           1.0  21.7          24.4  15.6   \n",
       "2018-10-06   0.5      0.833333   0.0           1.0  20.0          24.4  17.2   \n",
       "2018-10-07   1.1      1.066667   0.0           0.0  26.1          26.1  19.4   \n",
       "\n",
       "            TMIN_rolling  \n",
       "date                      \n",
       "2018-10-01          17.2  \n",
       "2018-10-02          17.2  \n",
       "2018-10-03          17.2  \n",
       "2018-10-04          16.1  \n",
       "2018-10-05          15.6  \n",
       "2018-10-06          15.6  \n",
       "2018-10-07          15.6  "
      ]
     },
     "execution_count": 26,
     "metadata": {},
     "output_type": "execute_result"
    }
   ],
   "source": [
    "central_park_weather['2018-10-01':'2018-10-07'].rolling('3D').agg(\n",
    "    {'TMAX': 'max', 'TMIN': 'min', 'AWND': 'mean', 'PRCP': 'sum'}\n",
    ").join( # join with original data for comparison\n",
    "    central_park_weather[['TMAX', 'TMIN', 'AWND', 'PRCP']], \n",
    "    lsuffix='_rolling'\n",
    ").sort_index(axis=1) # sort columns so rolling calcs are next to originals"
   ]
  },
  {
   "cell_type": "markdown",
   "metadata": {},
   "source": [
    "Rolling calculations (`rolling()`) use a sliding window. Expanding calculations (`expanding()`) however grow in size. These are equivalent to cumulative aggregations like `cumsum()`; however, we can specify the minimum number of periods required to start calculating (default is 1):"
   ]
  },
  {
   "cell_type": "code",
   "execution_count": 27,
   "metadata": {},
   "outputs": [
    {
     "data": {
      "text/plain": [
       "True"
      ]
     },
     "execution_count": 27,
     "metadata": {},
     "output_type": "execute_result"
    }
   ],
   "source": [
    "central_park_weather.PRCP.expanding().sum().equals(central_park_weather.PRCP.cumsum())"
   ]
  },
  {
   "cell_type": "markdown",
   "metadata": {},
   "source": [
    "Separate expanding aggregations per column. Note that `agg()` will accept numpy functions too:"
   ]
  },
  {
   "cell_type": "code",
   "execution_count": 28,
   "metadata": {},
   "outputs": [
    {
     "data": {
      "text/html": [
       "<div>\n",
       "<style scoped>\n",
       "    .dataframe tbody tr th:only-of-type {\n",
       "        vertical-align: middle;\n",
       "    }\n",
       "\n",
       "    .dataframe tbody tr th {\n",
       "        vertical-align: top;\n",
       "    }\n",
       "\n",
       "    .dataframe thead th {\n",
       "        text-align: right;\n",
       "    }\n",
       "</style>\n",
       "<table border=\"1\" class=\"dataframe\">\n",
       "  <thead>\n",
       "    <tr style=\"text-align: right;\">\n",
       "      <th></th>\n",
       "      <th>AWND</th>\n",
       "      <th>AWND_expanding</th>\n",
       "      <th>PRCP</th>\n",
       "      <th>PRCP_expanding</th>\n",
       "      <th>TMAX</th>\n",
       "      <th>TMAX_expanding</th>\n",
       "      <th>TMIN</th>\n",
       "      <th>TMIN_expanding</th>\n",
       "    </tr>\n",
       "    <tr>\n",
       "      <th>date</th>\n",
       "      <th></th>\n",
       "      <th></th>\n",
       "      <th></th>\n",
       "      <th></th>\n",
       "      <th></th>\n",
       "      <th></th>\n",
       "      <th></th>\n",
       "      <th></th>\n",
       "    </tr>\n",
       "  </thead>\n",
       "  <tbody>\n",
       "    <tr>\n",
       "      <th>2018-10-01</th>\n",
       "      <td>0.9</td>\n",
       "      <td>0.900000</td>\n",
       "      <td>0.0</td>\n",
       "      <td>0.0</td>\n",
       "      <td>24.4</td>\n",
       "      <td>24.4</td>\n",
       "      <td>17.2</td>\n",
       "      <td>17.2</td>\n",
       "    </tr>\n",
       "    <tr>\n",
       "      <th>2018-10-02</th>\n",
       "      <td>0.9</td>\n",
       "      <td>0.900000</td>\n",
       "      <td>17.5</td>\n",
       "      <td>17.5</td>\n",
       "      <td>25.0</td>\n",
       "      <td>25.0</td>\n",
       "      <td>18.3</td>\n",
       "      <td>17.2</td>\n",
       "    </tr>\n",
       "    <tr>\n",
       "      <th>2018-10-03</th>\n",
       "      <td>1.1</td>\n",
       "      <td>0.966667</td>\n",
       "      <td>0.0</td>\n",
       "      <td>17.5</td>\n",
       "      <td>23.3</td>\n",
       "      <td>25.0</td>\n",
       "      <td>17.2</td>\n",
       "      <td>17.2</td>\n",
       "    </tr>\n",
       "    <tr>\n",
       "      <th>2018-10-04</th>\n",
       "      <td>0.4</td>\n",
       "      <td>0.825000</td>\n",
       "      <td>1.0</td>\n",
       "      <td>18.5</td>\n",
       "      <td>24.4</td>\n",
       "      <td>25.0</td>\n",
       "      <td>16.1</td>\n",
       "      <td>16.1</td>\n",
       "    </tr>\n",
       "    <tr>\n",
       "      <th>2018-10-05</th>\n",
       "      <td>1.6</td>\n",
       "      <td>0.980000</td>\n",
       "      <td>0.0</td>\n",
       "      <td>18.5</td>\n",
       "      <td>21.7</td>\n",
       "      <td>25.0</td>\n",
       "      <td>15.6</td>\n",
       "      <td>15.6</td>\n",
       "    </tr>\n",
       "    <tr>\n",
       "      <th>2018-10-06</th>\n",
       "      <td>0.5</td>\n",
       "      <td>0.900000</td>\n",
       "      <td>0.0</td>\n",
       "      <td>18.5</td>\n",
       "      <td>20.0</td>\n",
       "      <td>25.0</td>\n",
       "      <td>17.2</td>\n",
       "      <td>15.6</td>\n",
       "    </tr>\n",
       "    <tr>\n",
       "      <th>2018-10-07</th>\n",
       "      <td>1.1</td>\n",
       "      <td>0.928571</td>\n",
       "      <td>0.0</td>\n",
       "      <td>18.5</td>\n",
       "      <td>26.1</td>\n",
       "      <td>26.1</td>\n",
       "      <td>19.4</td>\n",
       "      <td>15.6</td>\n",
       "    </tr>\n",
       "  </tbody>\n",
       "</table>\n",
       "</div>"
      ],
      "text/plain": [
       "            AWND  AWND_expanding  PRCP  PRCP_expanding  TMAX  TMAX_expanding  \\\n",
       "date                                                                           \n",
       "2018-10-01   0.9        0.900000   0.0             0.0  24.4            24.4   \n",
       "2018-10-02   0.9        0.900000  17.5            17.5  25.0            25.0   \n",
       "2018-10-03   1.1        0.966667   0.0            17.5  23.3            25.0   \n",
       "2018-10-04   0.4        0.825000   1.0            18.5  24.4            25.0   \n",
       "2018-10-05   1.6        0.980000   0.0            18.5  21.7            25.0   \n",
       "2018-10-06   0.5        0.900000   0.0            18.5  20.0            25.0   \n",
       "2018-10-07   1.1        0.928571   0.0            18.5  26.1            26.1   \n",
       "\n",
       "            TMIN  TMIN_expanding  \n",
       "date                              \n",
       "2018-10-01  17.2            17.2  \n",
       "2018-10-02  18.3            17.2  \n",
       "2018-10-03  17.2            17.2  \n",
       "2018-10-04  16.1            16.1  \n",
       "2018-10-05  15.6            15.6  \n",
       "2018-10-06  17.2            15.6  \n",
       "2018-10-07  19.4            15.6  "
      ]
     },
     "execution_count": 28,
     "metadata": {},
     "output_type": "execute_result"
    }
   ],
   "source": [
    "central_park_weather['2018-10-01':'2018-10-07'].expanding().agg(\n",
    "    {'TMAX': np.max, 'TMIN': np.min, 'AWND': np.mean, 'PRCP': np.sum}\n",
    ").join(\n",
    "    central_park_weather[['TMAX', 'TMIN', 'AWND', 'PRCP']], \n",
    "    lsuffix='_expanding'\n",
    ").sort_index(axis=1)"
   ]
  },
  {
   "cell_type": "markdown",
   "metadata": {},
   "source": [
    "We can calculate the exponentially weighted moving average as follows. Note that `span` here is the periods to use:"
   ]
  },
  {
   "cell_type": "code",
   "execution_count": 29,
   "metadata": {},
   "outputs": [
    {
     "data": {
      "text/html": [
       "<div>\n",
       "<style scoped>\n",
       "    .dataframe tbody tr th:only-of-type {\n",
       "        vertical-align: middle;\n",
       "    }\n",
       "\n",
       "    .dataframe tbody tr th {\n",
       "        vertical-align: top;\n",
       "    }\n",
       "\n",
       "    .dataframe thead th {\n",
       "        text-align: right;\n",
       "    }\n",
       "</style>\n",
       "<table border=\"1\" class=\"dataframe\">\n",
       "  <thead>\n",
       "    <tr style=\"text-align: right;\">\n",
       "      <th></th>\n",
       "      <th>close</th>\n",
       "      <th>close_ewma</th>\n",
       "    </tr>\n",
       "    <tr>\n",
       "      <th>date</th>\n",
       "      <th></th>\n",
       "      <th></th>\n",
       "    </tr>\n",
       "  </thead>\n",
       "  <tbody>\n",
       "    <tr>\n",
       "      <th>2018-12-17</th>\n",
       "      <td>140.19</td>\n",
       "      <td>142.235433</td>\n",
       "    </tr>\n",
       "    <tr>\n",
       "      <th>2018-12-18</th>\n",
       "      <td>143.66</td>\n",
       "      <td>142.710289</td>\n",
       "    </tr>\n",
       "    <tr>\n",
       "      <th>2018-12-19</th>\n",
       "      <td>133.24</td>\n",
       "      <td>139.553526</td>\n",
       "    </tr>\n",
       "    <tr>\n",
       "      <th>2018-12-20</th>\n",
       "      <td>133.40</td>\n",
       "      <td>137.502350</td>\n",
       "    </tr>\n",
       "    <tr>\n",
       "      <th>2018-12-21</th>\n",
       "      <td>124.95</td>\n",
       "      <td>133.318234</td>\n",
       "    </tr>\n",
       "    <tr>\n",
       "      <th>2018-12-24</th>\n",
       "      <td>124.06</td>\n",
       "      <td>130.232156</td>\n",
       "    </tr>\n",
       "    <tr>\n",
       "      <th>2018-12-26</th>\n",
       "      <td>134.18</td>\n",
       "      <td>131.548104</td>\n",
       "    </tr>\n",
       "    <tr>\n",
       "      <th>2018-12-27</th>\n",
       "      <td>134.52</td>\n",
       "      <td>132.538736</td>\n",
       "    </tr>\n",
       "    <tr>\n",
       "      <th>2018-12-28</th>\n",
       "      <td>133.20</td>\n",
       "      <td>132.759157</td>\n",
       "    </tr>\n",
       "    <tr>\n",
       "      <th>2018-12-31</th>\n",
       "      <td>131.09</td>\n",
       "      <td>132.202772</td>\n",
       "    </tr>\n",
       "  </tbody>\n",
       "</table>\n",
       "</div>"
      ],
      "text/plain": [
       "             close  close_ewma\n",
       "date                          \n",
       "2018-12-17  140.19  142.235433\n",
       "2018-12-18  143.66  142.710289\n",
       "2018-12-19  133.24  139.553526\n",
       "2018-12-20  133.40  137.502350\n",
       "2018-12-21  124.95  133.318234\n",
       "2018-12-24  124.06  130.232156\n",
       "2018-12-26  134.18  131.548104\n",
       "2018-12-27  134.52  132.538736\n",
       "2018-12-28  133.20  132.759157\n",
       "2018-12-31  131.09  132.202772"
      ]
     },
     "execution_count": 29,
     "metadata": {},
     "output_type": "execute_result"
    }
   ],
   "source": [
    "fb.assign(\n",
    "    close_ewma=lambda x: x.close.ewm(span=5).mean()\n",
    ").tail(10)[['close', 'close_ewma']]"
   ]
  },
  {
   "cell_type": "markdown",
   "metadata": {},
   "source": [
    "*Consult the [understanding_window_calculations.ipynb notebook](https://github.com/stefmolin/Hands-On-Data-Analysis-with-Pandas/blob/master/ch_04/understanding_window_calculations.ipynb) for interactive visualizations to help understand window calculations.*\n",
    "\n",
    "## Pipes\n",
    "Pipes all use to apply any function that accepts our data as the first argument and pass in any additional arguments. This makes it easy to chain steps together regardless of if they are methods or functions:\n",
    "\n",
    "We can pass any function that will accept the caller of `pipe()` as the first argument:"
   ]
  },
  {
   "cell_type": "code",
   "execution_count": 30,
   "metadata": {},
   "outputs": [
    {
     "data": {
      "text/plain": [
       "True"
      ]
     },
     "execution_count": 30,
     "metadata": {},
     "output_type": "execute_result"
    }
   ],
   "source": [
    "def get_info(df):\n",
    "    return '%d rows and %d columns and max closing z-score was %d' % (*df.shape, df.close.max())\n",
    "\n",
    "fb['2018-Q1'].apply(lambda x: (x - x.mean())/x.std()).pipe(get_info)\\\n",
    "    == get_info(fb['2018-Q1'].apply(lambda x: (x - x.mean())/x.std()))"
   ]
  },
  {
   "cell_type": "markdown",
   "metadata": {},
   "source": [
    "For example, passing `pd.DataFrame.rolling` to `pipe()` is equivalent to calling `rolling()` directly on the dataframe, except we have more flexiblity to change this:"
   ]
  },
  {
   "cell_type": "code",
   "execution_count": 31,
   "metadata": {},
   "outputs": [
    {
     "data": {
      "text/plain": [
       "True"
      ]
     },
     "execution_count": 31,
     "metadata": {},
     "output_type": "execute_result"
    }
   ],
   "source": [
    "fb.pipe(pd.DataFrame.rolling, '20D').mean().equals(fb.rolling('20D').mean())"
   ]
  },
  {
   "cell_type": "markdown",
   "metadata": {},
   "source": [
    "The pipe takes the function passed in and calls it with the object that called `pipe()` as the first argument. Positional and keyword arguments are passed down:"
   ]
  },
  {
   "cell_type": "code",
   "execution_count": 32,
   "metadata": {},
   "outputs": [
    {
     "data": {
      "text/plain": [
       "True"
      ]
     },
     "execution_count": 32,
     "metadata": {},
     "output_type": "execute_result"
    }
   ],
   "source": [
    "pd.DataFrame.rolling(fb, '20D').mean().equals(fb.rolling('20D').mean())"
   ]
  },
  {
   "cell_type": "markdown",
   "metadata": {},
   "source": [
    "We can use a pipe to make a function that we can use for all our window calculation needs:"
   ]
  },
  {
   "cell_type": "code",
   "execution_count": 33,
   "metadata": {},
   "outputs": [
    {
     "data": {
      "text/plain": [
       "\u001b[1;31mSignature:\u001b[0m \u001b[0mwindow_calc\u001b[0m\u001b[1;33m(\u001b[0m\u001b[0mdf\u001b[0m\u001b[1;33m,\u001b[0m \u001b[0mfunc\u001b[0m\u001b[1;33m,\u001b[0m \u001b[0magg_dict\u001b[0m\u001b[1;33m,\u001b[0m \u001b[1;33m*\u001b[0m\u001b[0margs\u001b[0m\u001b[1;33m,\u001b[0m \u001b[1;33m**\u001b[0m\u001b[0mkwargs\u001b[0m\u001b[1;33m)\u001b[0m\u001b[1;33m\u001b[0m\u001b[1;33m\u001b[0m\u001b[0m\n",
       "\u001b[1;31mSource:\u001b[0m   \n",
       "\u001b[1;32mdef\u001b[0m \u001b[0mwindow_calc\u001b[0m\u001b[1;33m(\u001b[0m\u001b[0mdf\u001b[0m\u001b[1;33m,\u001b[0m \u001b[0mfunc\u001b[0m\u001b[1;33m,\u001b[0m \u001b[0magg_dict\u001b[0m\u001b[1;33m,\u001b[0m \u001b[1;33m*\u001b[0m\u001b[0margs\u001b[0m\u001b[1;33m,\u001b[0m \u001b[1;33m**\u001b[0m\u001b[0mkwargs\u001b[0m\u001b[1;33m)\u001b[0m\u001b[1;33m:\u001b[0m\u001b[1;33m\n",
       "\u001b[0m    \u001b[1;34m\"\"\"\n",
       "    Run a window calculation of your choice on a DataFrame.\n",
       "    \n",
       "    Parameters:\n",
       "        - df: The DataFrame to run the calculation on.\n",
       "        - func: The window calculation method that takes df \n",
       "                as the first argument.\n",
       "        - agg_dict: Information to pass to `agg()`, could be a \n",
       "                    dictionary mapping the columns to the aggregation \n",
       "                    function to use, a string name for the function, \n",
       "                    or the function itself.\n",
       "        - args: Positional arguments to pass to `func`.\n",
       "        - kwargs: Keyword arguments to pass to `func`.\n",
       "    \n",
       "    Returns:\n",
       "        - A new DataFrame object.\n",
       "    \"\"\"\u001b[0m\u001b[1;33m\n",
       "\u001b[0m    \u001b[1;32mreturn\u001b[0m \u001b[0mdf\u001b[0m\u001b[1;33m.\u001b[0m\u001b[0mpipe\u001b[0m\u001b[1;33m(\u001b[0m\u001b[0mfunc\u001b[0m\u001b[1;33m,\u001b[0m \u001b[1;33m*\u001b[0m\u001b[0margs\u001b[0m\u001b[1;33m,\u001b[0m \u001b[1;33m**\u001b[0m\u001b[0mkwargs\u001b[0m\u001b[1;33m)\u001b[0m\u001b[1;33m.\u001b[0m\u001b[0magg\u001b[0m\u001b[1;33m(\u001b[0m\u001b[0magg_dict\u001b[0m\u001b[1;33m)\u001b[0m\u001b[1;33m\u001b[0m\u001b[1;33m\u001b[0m\u001b[0m\n",
       "\u001b[1;31mFile:\u001b[0m      c:\\users\\molinstefanie\\packt\\hands-on-data-analysis-with-pandas\\ch_04\\window_calc.py\n",
       "\u001b[1;31mType:\u001b[0m      function\n"
      ]
     },
     "metadata": {},
     "output_type": "display_data"
    }
   ],
   "source": [
    "from window_calc import window_calc\n",
    "window_calc??"
   ]
  },
  {
   "cell_type": "markdown",
   "metadata": {},
   "source": [
    "We can use the same interface to calculate various window calculations now. Let's find the expanding median for the Facebook data:"
   ]
  },
  {
   "cell_type": "code",
   "execution_count": 34,
   "metadata": {},
   "outputs": [
    {
     "data": {
      "text/html": [
       "<div>\n",
       "<style scoped>\n",
       "    .dataframe tbody tr th:only-of-type {\n",
       "        vertical-align: middle;\n",
       "    }\n",
       "\n",
       "    .dataframe tbody tr th {\n",
       "        vertical-align: top;\n",
       "    }\n",
       "\n",
       "    .dataframe thead th {\n",
       "        text-align: right;\n",
       "    }\n",
       "</style>\n",
       "<table border=\"1\" class=\"dataframe\">\n",
       "  <thead>\n",
       "    <tr style=\"text-align: right;\">\n",
       "      <th></th>\n",
       "      <th>open</th>\n",
       "      <th>high</th>\n",
       "      <th>low</th>\n",
       "      <th>close</th>\n",
       "      <th>volume</th>\n",
       "    </tr>\n",
       "    <tr>\n",
       "      <th>date</th>\n",
       "      <th></th>\n",
       "      <th></th>\n",
       "      <th></th>\n",
       "      <th></th>\n",
       "      <th></th>\n",
       "    </tr>\n",
       "  </thead>\n",
       "  <tbody>\n",
       "    <tr>\n",
       "      <th>2018-01-02</th>\n",
       "      <td>177.68</td>\n",
       "      <td>181.580</td>\n",
       "      <td>177.5500</td>\n",
       "      <td>181.420</td>\n",
       "      <td>18151903.0</td>\n",
       "    </tr>\n",
       "    <tr>\n",
       "      <th>2018-01-03</th>\n",
       "      <td>179.78</td>\n",
       "      <td>183.180</td>\n",
       "      <td>179.4400</td>\n",
       "      <td>183.045</td>\n",
       "      <td>17519233.0</td>\n",
       "    </tr>\n",
       "    <tr>\n",
       "      <th>2018-01-04</th>\n",
       "      <td>181.88</td>\n",
       "      <td>184.780</td>\n",
       "      <td>181.3300</td>\n",
       "      <td>184.330</td>\n",
       "      <td>16886563.0</td>\n",
       "    </tr>\n",
       "    <tr>\n",
       "      <th>2018-01-05</th>\n",
       "      <td>183.39</td>\n",
       "      <td>185.495</td>\n",
       "      <td>182.7148</td>\n",
       "      <td>184.500</td>\n",
       "      <td>15383729.5</td>\n",
       "    </tr>\n",
       "    <tr>\n",
       "      <th>2018-01-08</th>\n",
       "      <td>184.90</td>\n",
       "      <td>186.210</td>\n",
       "      <td>184.0996</td>\n",
       "      <td>184.670</td>\n",
       "      <td>16886563.0</td>\n",
       "    </tr>\n",
       "  </tbody>\n",
       "</table>\n",
       "</div>"
      ],
      "text/plain": [
       "              open     high       low    close      volume\n",
       "date                                                      \n",
       "2018-01-02  177.68  181.580  177.5500  181.420  18151903.0\n",
       "2018-01-03  179.78  183.180  179.4400  183.045  17519233.0\n",
       "2018-01-04  181.88  184.780  181.3300  184.330  16886563.0\n",
       "2018-01-05  183.39  185.495  182.7148  184.500  15383729.5\n",
       "2018-01-08  184.90  186.210  184.0996  184.670  16886563.0"
      ]
     },
     "execution_count": 34,
     "metadata": {},
     "output_type": "execute_result"
    }
   ],
   "source": [
    "window_calc(fb, pd.DataFrame.expanding, np.median).head()"
   ]
  },
  {
   "cell_type": "markdown",
   "metadata": {},
   "source": [
    "Using the exponentially weighted moving average requires we pass in a keyword argument:"
   ]
  },
  {
   "cell_type": "code",
   "execution_count": 35,
   "metadata": {},
   "outputs": [
    {
     "data": {
      "text/html": [
       "<div>\n",
       "<style scoped>\n",
       "    .dataframe tbody tr th:only-of-type {\n",
       "        vertical-align: middle;\n",
       "    }\n",
       "\n",
       "    .dataframe tbody tr th {\n",
       "        vertical-align: top;\n",
       "    }\n",
       "\n",
       "    .dataframe thead th {\n",
       "        text-align: right;\n",
       "    }\n",
       "</style>\n",
       "<table border=\"1\" class=\"dataframe\">\n",
       "  <thead>\n",
       "    <tr style=\"text-align: right;\">\n",
       "      <th></th>\n",
       "      <th>open</th>\n",
       "      <th>high</th>\n",
       "      <th>low</th>\n",
       "      <th>close</th>\n",
       "      <th>volume</th>\n",
       "    </tr>\n",
       "    <tr>\n",
       "      <th>date</th>\n",
       "      <th></th>\n",
       "      <th></th>\n",
       "      <th></th>\n",
       "      <th></th>\n",
       "      <th></th>\n",
       "    </tr>\n",
       "  </thead>\n",
       "  <tbody>\n",
       "    <tr>\n",
       "      <th>2018-01-02</th>\n",
       "      <td>177.680000</td>\n",
       "      <td>181.580000</td>\n",
       "      <td>177.550000</td>\n",
       "      <td>181.420000</td>\n",
       "      <td>1.815190e+07</td>\n",
       "    </tr>\n",
       "    <tr>\n",
       "      <th>2018-01-03</th>\n",
       "      <td>180.480000</td>\n",
       "      <td>183.713333</td>\n",
       "      <td>180.070000</td>\n",
       "      <td>183.586667</td>\n",
       "      <td>1.730834e+07</td>\n",
       "    </tr>\n",
       "    <tr>\n",
       "      <th>2018-01-04</th>\n",
       "      <td>183.005714</td>\n",
       "      <td>185.140000</td>\n",
       "      <td>182.372629</td>\n",
       "      <td>184.011429</td>\n",
       "      <td>1.534980e+07</td>\n",
       "    </tr>\n",
       "    <tr>\n",
       "      <th>2018-01-05</th>\n",
       "      <td>184.384000</td>\n",
       "      <td>186.078667</td>\n",
       "      <td>183.736560</td>\n",
       "      <td>185.525333</td>\n",
       "      <td>1.440299e+07</td>\n",
       "    </tr>\n",
       "    <tr>\n",
       "      <th>2018-01-08</th>\n",
       "      <td>185.837419</td>\n",
       "      <td>187.534839</td>\n",
       "      <td>185.075110</td>\n",
       "      <td>186.947097</td>\n",
       "      <td>1.625679e+07</td>\n",
       "    </tr>\n",
       "  </tbody>\n",
       "</table>\n",
       "</div>"
      ],
      "text/plain": [
       "                  open        high         low       close        volume\n",
       "date                                                                    \n",
       "2018-01-02  177.680000  181.580000  177.550000  181.420000  1.815190e+07\n",
       "2018-01-03  180.480000  183.713333  180.070000  183.586667  1.730834e+07\n",
       "2018-01-04  183.005714  185.140000  182.372629  184.011429  1.534980e+07\n",
       "2018-01-05  184.384000  186.078667  183.736560  185.525333  1.440299e+07\n",
       "2018-01-08  185.837419  187.534839  185.075110  186.947097  1.625679e+07"
      ]
     },
     "execution_count": 35,
     "metadata": {},
     "output_type": "execute_result"
    }
   ],
   "source": [
    "window_calc(fb, pd.DataFrame.ewm, 'mean', span=3).head()"
   ]
  },
  {
   "cell_type": "markdown",
   "metadata": {},
   "source": [
    "With rolling calculations, we can pass in a positional argument for the window size:"
   ]
  },
  {
   "cell_type": "code",
   "execution_count": 36,
   "metadata": {},
   "outputs": [
    {
     "data": {
      "text/html": [
       "<div>\n",
       "<style scoped>\n",
       "    .dataframe tbody tr th:only-of-type {\n",
       "        vertical-align: middle;\n",
       "    }\n",
       "\n",
       "    .dataframe tbody tr th {\n",
       "        vertical-align: top;\n",
       "    }\n",
       "\n",
       "    .dataframe thead th {\n",
       "        text-align: right;\n",
       "    }\n",
       "</style>\n",
       "<table border=\"1\" class=\"dataframe\">\n",
       "  <thead>\n",
       "    <tr style=\"text-align: right;\">\n",
       "      <th></th>\n",
       "      <th>TMAX</th>\n",
       "      <th>TMIN</th>\n",
       "      <th>AWND</th>\n",
       "      <th>PRCP</th>\n",
       "    </tr>\n",
       "    <tr>\n",
       "      <th>date</th>\n",
       "      <th></th>\n",
       "      <th></th>\n",
       "      <th></th>\n",
       "      <th></th>\n",
       "    </tr>\n",
       "  </thead>\n",
       "  <tbody>\n",
       "    <tr>\n",
       "      <th>2018-10-01</th>\n",
       "      <td>24.4</td>\n",
       "      <td>17.2</td>\n",
       "      <td>0.900000</td>\n",
       "      <td>0.0</td>\n",
       "    </tr>\n",
       "    <tr>\n",
       "      <th>2018-10-02</th>\n",
       "      <td>25.0</td>\n",
       "      <td>17.2</td>\n",
       "      <td>0.900000</td>\n",
       "      <td>17.5</td>\n",
       "    </tr>\n",
       "    <tr>\n",
       "      <th>2018-10-03</th>\n",
       "      <td>25.0</td>\n",
       "      <td>17.2</td>\n",
       "      <td>0.966667</td>\n",
       "      <td>17.5</td>\n",
       "    </tr>\n",
       "    <tr>\n",
       "      <th>2018-10-04</th>\n",
       "      <td>25.0</td>\n",
       "      <td>16.1</td>\n",
       "      <td>0.800000</td>\n",
       "      <td>18.5</td>\n",
       "    </tr>\n",
       "    <tr>\n",
       "      <th>2018-10-05</th>\n",
       "      <td>24.4</td>\n",
       "      <td>15.6</td>\n",
       "      <td>1.033333</td>\n",
       "      <td>1.0</td>\n",
       "    </tr>\n",
       "  </tbody>\n",
       "</table>\n",
       "</div>"
      ],
      "text/plain": [
       "            TMAX  TMIN      AWND  PRCP\n",
       "date                                  \n",
       "2018-10-01  24.4  17.2  0.900000   0.0\n",
       "2018-10-02  25.0  17.2  0.900000  17.5\n",
       "2018-10-03  25.0  17.2  0.966667  17.5\n",
       "2018-10-04  25.0  16.1  0.800000  18.5\n",
       "2018-10-05  24.4  15.6  1.033333   1.0"
      ]
     },
     "execution_count": 36,
     "metadata": {},
     "output_type": "execute_result"
    }
   ],
   "source": [
    "window_calc(\n",
    "    central_park_weather['2018-10'], \n",
    "    pd.DataFrame.rolling, \n",
    "    {'TMAX': 'max', 'TMIN': 'min', 'AWND': 'mean', 'PRCP': 'sum'},\n",
    "    '3D'\n",
    ").head()"
   ]
  }
 ],
 "metadata": {
  "kernelspec": {
   "display_name": "Python 3",
   "language": "python",
   "name": "python3"
  },
  "language_info": {
   "codemirror_mode": {
    "name": "ipython",
    "version": 3
   },
   "file_extension": ".py",
   "mimetype": "text/x-python",
   "name": "python",
   "nbconvert_exporter": "python",
   "pygments_lexer": "ipython3",
   "version": "3.7.2"
  }
 },
 "nbformat": 4,
 "nbformat_minor": 2
}
