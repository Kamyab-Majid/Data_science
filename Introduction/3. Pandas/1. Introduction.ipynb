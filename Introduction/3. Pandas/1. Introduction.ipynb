{
 "cells": [
  {
   "cell_type": "markdown",
   "id": "acknowledged-clearance",
   "metadata": {},
   "source": [
    "# Introduction"
   ]
  },
  {
   "cell_type": "markdown",
   "id": "mysterious-novel",
   "metadata": {},
   "source": [
    "## What is pandas?\n",
    "\n",
    "**Pandas** is a high-performance open source library for data analysis in Python developed by Wes McKinney in 2008. pandas stands for panel data, a reference to the tabular format in which it processes the data. It is available for free and is distributed with a 3-Clause BSD License under the open source initiative."
   ]
  },
  {
   "cell_type": "markdown",
   "id": "exposed-breeding",
   "metadata": {},
   "source": [
    "Over the years, it has become the de-facto standard library for data analysis using Python. There's been great adoption of the tool, and there's a large community behind it, (1,200+ contributors, 17,000+ commits, 23 versions, and 15,000+ stars) rapid iteration, features, and enhancements are continuously made.\n",
    "\n",
    "Some key features of pandas include the following:\n",
    "\n",
    "- It can process a variety of datasets in different formats: time series, tabular heterogeneous, and matrix data.\n",
    "- It facilitates loading/importing data from varied sources, such as CSV and databases such as SQL.\n",
    "- It can handle myriad operations on datasets: subsetting, slicing, filtering, merging, groupBy, re-ordering, and re-shaping.\n",
    "- It can deal with missing data according to rules defined by the user/developer, such as ignore, convert to 0, and so on.\n",
    "- It can be used for parsing and munging (conversion) of data as well as modeling and statistical analysis.\n",
    "- It integrates well with other Python libraries such as statsmodels, SciPy, and scikit-learn.\n",
    "- It delivers fast performance and can be sped up even more by making use of Cython (C extensions to Python)."
   ]
  },
  {
   "cell_type": "markdown",
   "id": "israeli-amount",
   "metadata": {},
   "source": [
    "For more information, go through the official pandas documentation at https://pandas.pydata.org/pandas-docs/stable/."
   ]
  },
  {
   "cell_type": "markdown",
   "id": "industrial-adoption",
   "metadata": {},
   "source": [
    "The pandas package was created by Wes McKinney in 2008 as a result of frustrations he encountered while working on time series data in R. It is built on top of NumPy and provides features not available in it. It provides fast, easy-to-understand data structures and helps fill the gap between Python and a language like R. NumPy deals with homogeneous blocks of data. Using pandas helps to deal with data in a tabular structure composed of different data types."
   ]
  },
  {
   "cell_type": "markdown",
   "id": "featured-employer",
   "metadata": {},
   "source": [
    "## Benefits of using pandas\n",
    "\n",
    "pandas forms a core component of the Python data analysis corpus. The distinguishing feature of pandas is that the suite of data structures that it provides is naturally suited to data analysis, primarily the DataFrame and, to a lesser extent, series (1-D vectors) and panel (3D tables)."
   ]
  },
  {
   "cell_type": "markdown",
   "id": "combined-morning",
   "metadata": {},
   "source": [
    "Simply put, pandas and statstools can be described as Python's answer to R, the data analysis and statistical programming language that provides both data structures, such as R-dataframes, and a rich statistical library for data analysis."
   ]
  },
  {
   "cell_type": "markdown",
   "id": "eastern-democrat",
   "metadata": {},
   "source": [
    "The benefits of pandas compared to using a language such as Java, C, or C++ for data analysis are manifold:\n",
    "\n",
    "- **Data representation**: It can easily represent data in a form that's naturally suited for data analysis via its DataFrame and series data structures in a concise manner. Doing the equivalent in Java/C/C++ requires many lines of custom code as these languages were not built for data analysis but rather networking and kernel development.\n",
    "- **Data subsetting and filtering**: It permits easy subsetting and filtering of data, procedures that are a staple of doing data analysis.\n",
    "- **Concise and clear code**: Its concise and clear API allows the user to focus more on their core goal, rather than having to write a lot of scaffolding code in order to perform routine tasks. For example, reading a CSV file into a DataFrame data structure in memory takes two lines of code, while doing the same task in Java/C/C++ requires many more lines of code or calls to non-standard libraries."
   ]
  },
  {
   "cell_type": "markdown",
   "id": "matched-possession",
   "metadata": {},
   "source": [
    "In addition, pandas is built upon the NumPy library and hence inherits many of the performance benefits of this package, especially when it comes to numerical and scientific computing. One oft-touted drawback of using Python is that as a scripting language, its performance relative to languages such as Java/C/C++ has been rather slow. However, this is not really the case for pandas."
   ]
  },
  {
   "cell_type": "markdown",
   "id": "insured-double",
   "metadata": {},
   "source": [
    "## History of pandas\n",
    "\n",
    "The basic version of pandas was built in 2008 by Wes McKinney, an MIT grad with heavy quantitative finance experience. Now a celebrity in his own right, thanks to his open source contributions and the wildly popular book called Data Analysis with Python, he was reportedly frustrated with the time he had to waste doing simple data manipulation tasks at his job, such as reading a CSV file, with the popular tools at that time. He said he quickly fell in love with Python for its intuitive and accessible nature after not finding Excel and R suitable for his needs. But he found that it was missing key features that would make it the go-to tool for data analysis—for example, an intuitive format to deal with spreadsheet data or to create new calculated columns from existing columns."
   ]
  },
  {
   "cell_type": "markdown",
   "id": "liberal-omega",
   "metadata": {},
   "source": [
    "According to an interview he gave to Quartz, the design considerations and vision that he had in mind while creating the tool were the following:\n",
    "\n",
    "- Quality of data is far more important than any fancy analysis\n",
    "- Treating in-memory data like a SQL table or an Excel spreadsheet\n",
    "- Intuitive analysis and exploration with minimal and elegant code\n",
    "- Easier compatibility with other libraries used for the same or different steps in the data pipeline"
   ]
  },
  {
   "cell_type": "markdown",
   "id": "loving-enterprise",
   "metadata": {},
   "source": [
    "After building the basic version, he went on to pursue a PhD at Duke University but dropped out in a quest to make the tool he had created a cornerstone for data science and Python. With his dedicated contribution, together with the release of popular Python visualization libraries such as Matplotlib, followed by machine learning libraries such as Scikit-Learn and interactive user interfaces such as Jupyter and Spyder, pandas and eventually Python became the hottest tool in the armory of any data scientist."
   ]
  },
  {
   "cell_type": "markdown",
   "id": "operational-arnold",
   "metadata": {},
   "source": [
    "Wes is heavily invested in the constant improvement of the tool he created from scratch. He coordinates the development of new features and the improvement of existing ones. The data science community owes him big time."
   ]
  }
 ],
 "metadata": {
  "kernelspec": {
   "display_name": "Python 3",
   "language": "python",
   "name": "python3"
  },
  "language_info": {
   "codemirror_mode": {
    "name": "ipython",
    "version": 3
   },
   "file_extension": ".py",
   "mimetype": "text/x-python",
   "name": "python",
   "nbconvert_exporter": "python",
   "pygments_lexer": "ipython3",
   "version": "3.7.9"
  }
 },
 "nbformat": 4,
 "nbformat_minor": 5
}
