{
 "cells": [
  {
   "cell_type": "markdown",
   "metadata": {},
   "source": [
    "# Checking your setup\n",
    "Run through this notebook to make sure your environment is properly setup. Be sure to launch Jupyter from inside the virtual environment."
   ]
  },
  {
   "cell_type": "code",
   "execution_count": 1,
   "metadata": {},
   "outputs": [
    {
     "name": "stdout",
     "output_type": "stream",
     "text": [
      "Using Python in c:\\users\\molinstefanie\\packt\\venv:\n",
      "\u001b[42m[ OK ]\u001b[0m Python is version 3.7.2 (tags/v3.7.2:9a3ffc0492, Dec 23 2018, 22:20:52) [MSC v.1916 32 bit (Intel)]\n",
      "\n",
      "\u001b[42m[ OK ]\u001b[0m graphviz\n",
      "\u001b[42m[ OK ]\u001b[0m imblearn\n",
      "\u001b[42m[ OK ]\u001b[0m jupyter\n",
      "\u001b[42m[ OK ]\u001b[0m jupyterlab\n",
      "\u001b[42m[ OK ]\u001b[0m matplotlib\n",
      "\u001b[42m[ OK ]\u001b[0m numpy\n",
      "\u001b[42m[ OK ]\u001b[0m pandas\n",
      "\u001b[42m[ OK ]\u001b[0m pandas_datareader\n",
      "\u001b[42m[ OK ]\u001b[0m requests\n",
      "\u001b[42m[ OK ]\u001b[0m sklearn\n",
      "\u001b[42m[ OK ]\u001b[0m scipy\n",
      "\u001b[42m[ OK ]\u001b[0m seaborn\n",
      "\u001b[42m[ OK ]\u001b[0m sqlalchemy\n",
      "\u001b[42m[ OK ]\u001b[0m statsmodels\n",
      "\u001b[42m[ OK ]\u001b[0m login_attempt_simulator\n",
      "\u001b[42m[ OK ]\u001b[0m ml_utils\n",
      "\u001b[42m[ OK ]\u001b[0m stock_analysis\n"
     ]
    }
   ],
   "source": [
    "from check_environment import run_checks\n",
    "run_checks()"
   ]
  },
  {
   "cell_type": "markdown",
   "metadata": {},
   "source": [
    "*Note: Adapted from Andreas Mueller's [`check_env.ipynb` notebook](https://github.com/amueller/ml-workshop-1-of-4/blob/master/check_env.ipynb).*"
   ]
  }
 ],
 "metadata": {
  "kernelspec": {
   "display_name": "Python 3",
   "language": "python",
   "name": "python3"
  },
  "language_info": {
   "codemirror_mode": {
    "name": "ipython",
    "version": 3
   },
   "file_extension": ".py",
   "mimetype": "text/x-python",
   "name": "python",
   "nbconvert_exporter": "python",
   "pygments_lexer": "ipython3",
   "version": "3.7.2"
  }
 },
 "nbformat": 4,
 "nbformat_minor": 2
}
