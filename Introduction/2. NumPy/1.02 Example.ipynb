{
 "cells": [
  {
   "cell_type": "markdown",
   "id": "offensive-quarter",
   "metadata": {},
   "source": [
    "# Practical Example 1: Implementing a Maclaurin Series\n",
    "\n",
    "Now it’s time to see a realistic use case for the skills introduced in the sections above: implementing an equation.|"
   ]
  },
  {
   "cell_type": "markdown",
   "id": "brave-reporter",
   "metadata": {},
   "source": [
    "Using NumPy allows you to keep closer to a one-to-one representation from equation to code."
   ]
  },
  {
   "cell_type": "markdown",
   "id": "first-shower",
   "metadata": {},
   "source": [
    "In this next example, you’ll encode the Maclaurin series for $e^x$. Maclaurin series are a way of approximating more complicated functions with an infinite series of summed terms centered about zero.\n",
    "\n",
    "For ex, the Maclaurin series is the following summation:\n",
    "\n",
    "$e^x = \\sum _{n=0} ^{\\infty} \\frac{x^n}{n!} = 1 + x + \\frac{x^2}{2} + \\frac{x^3}{6} + ...$"
   ]
  },
  {
   "cell_type": "markdown",
   "id": "following-there",
   "metadata": {},
   "source": [
    "You add up terms starting at zero and going theoretically to infinity. Each nth term will be x raised to n and divided by n!, which is the notation for the factorial operation."
   ]
  },
  {
   "cell_type": "markdown",
   "id": "considerable-court",
   "metadata": {},
   "source": [
    "Now it’s time for you to put that into NumPy code."
   ]
  },
  {
   "cell_type": "code",
   "execution_count": 12,
   "id": "elegant-highlight",
   "metadata": {},
   "outputs": [],
   "source": [
    "from math import e, factorial\n",
    "import numpy as np"
   ]
  },
  {
   "cell_type": "code",
   "execution_count": 13,
   "id": "composed-harmony",
   "metadata": {},
   "outputs": [],
   "source": [
    "fac = np.vectorize(factorial)"
   ]
  },
  {
   "cell_type": "code",
   "execution_count": 14,
   "id": "choice-theater",
   "metadata": {},
   "outputs": [],
   "source": [
    "def e_x(x, terms=10):\n",
    "    \"\"\"Approximates e^x using a given number of terms of\n",
    "    the Maclaurin series\n",
    "    \"\"\"\n",
    "    n = np.arange(terms)\n",
    "    return np.sum((x ** n) / fac(n))"
   ]
  },
  {
   "cell_type": "code",
   "execution_count": 15,
   "id": "functional-millennium",
   "metadata": {},
   "outputs": [
    {
     "name": "stdout",
     "output_type": "stream",
     "text": [
      "Actual: 20.085536923187664\n"
     ]
    }
   ],
   "source": [
    "print(\"Actual:\", e ** 3)  # Using e from the standard library"
   ]
  },
  {
   "cell_type": "code",
   "execution_count": 16,
   "id": "broadband-reliance",
   "metadata": {},
   "outputs": [
    {
     "name": "stdout",
     "output_type": "stream",
     "text": [
      "N (terms)\tMaclaurin\tError\n",
      "1\t\t1.000\t\t19.086\n",
      "2\t\t4.000\t\t16.086\n",
      "3\t\t8.500\t\t11.586\n",
      "4\t\t13.000\t\t7.086\n",
      "5\t\t16.375\t\t3.711\n",
      "6\t\t18.400\t\t1.686\n",
      "7\t\t19.412\t\t0.673\n",
      "8\t\t19.846\t\t0.239\n",
      "9\t\t20.009\t\t0.076\n",
      "10\t\t20.063\t\t0.022\n",
      "11\t\t20.080\t\t0.006\n",
      "12\t\t20.084\t\t0.001\n",
      "13\t\t20.085\t\t0.000\n"
     ]
    }
   ],
   "source": [
    "print(\"N (terms)\\tMaclaurin\\tError\")\n",
    "for n in range(1, 14):\n",
    "    maclaurin = e_x(3, terms=n)\n",
    "    print(f\"{n}\\t\\t{maclaurin:.03f}\\t\\t{e**3 - maclaurin:.03f}\")"
   ]
  },
  {
   "cell_type": "markdown",
   "id": "progressive-triangle",
   "metadata": {},
   "source": [
    "`np.vectorize()` is almost same as a for loop however it is more readable."
   ]
  },
  {
   "cell_type": "markdown",
   "id": "severe-italy",
   "metadata": {},
   "source": [
    "Once your vectorized factorial is in place, the actual code to calculate the entire Maclaurin series is shockingly short. It’s also readable. Most importantly, it’s almost exactly one-to-one with how the mathematical equation looks:\n",
    "\n",
    "```python\n",
    "n = np.arange(terms)\n",
    "return np.sum((x ** n) / fac(n))\n",
    "```"
   ]
  }
 ],
 "metadata": {
  "kernelspec": {
   "display_name": "Python 3 (ipykernel)",
   "language": "python",
   "name": "python3"
  },
  "language_info": {
   "codemirror_mode": {
    "name": "ipython",
    "version": 3
   },
   "file_extension": ".py",
   "mimetype": "text/x-python",
   "name": "python",
   "nbconvert_exporter": "python",
   "pygments_lexer": "ipython3",
   "version": "3.8.12"
  }
 },
 "nbformat": 4,
 "nbformat_minor": 5
}
