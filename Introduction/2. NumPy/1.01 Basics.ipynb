{
 "cells": [
  {
   "cell_type": "markdown",
   "id": "premium-friday",
   "metadata": {},
   "source": [
    "# NumPy Basics"
   ]
  },
  {
   "cell_type": "code",
   "execution_count": null,
   "id": "5ae3eacb-9475-4c9a-99d3-d904002dbc0e",
   "metadata": {},
   "outputs": [],
   "source": []
  },
  {
   "cell_type": "markdown",
   "id": "liberal-lingerie",
   "metadata": {},
   "source": [
    "Numerical Python (NumPy) is a successor to the Numeric package. It was originally written by Travis Oliphant and had its first stable release in mid-2006."
   ]
  },
  {
   "cell_type": "code",
   "execution_count": 12,
   "id": "6900f612-14ec-4a93-b4c0-9313dc571765",
   "metadata": {},
   "outputs": [],
   "source": [
    "my_list = ['1',2.0,3]"
   ]
  },
  {
   "cell_type": "code",
   "execution_count": 16,
   "id": "d8173ad0-d9a2-4445-aa0a-ea1d4910e304",
   "metadata": {},
   "outputs": [],
   "source": [
    "for i in range(len(my_list)):\n",
    "    my_list[i] +=1"
   ]
  },
  {
   "cell_type": "code",
   "execution_count": null,
   "id": "476bca92-c6b6-4cbe-89bd-d8d78382f72a",
   "metadata": {},
   "outputs": [],
   "source": [
    "!pip install "
   ]
  },
  {
   "cell_type": "code",
   "execution_count": 15,
   "id": "69287a44-3684-4848-ac4f-ada58bd6ac82",
   "metadata": {},
   "outputs": [
    {
     "data": {
      "text/plain": [
       "[2, 3, 4]"
      ]
     },
     "execution_count": 15,
     "metadata": {},
     "output_type": "execute_result"
    }
   ],
   "source": [
    "my_list"
   ]
  },
  {
   "cell_type": "markdown",
   "id": "occupational-phoenix",
   "metadata": {},
   "source": [
    "NumPy provides a simple yet powerful data structure: the **n-dimensional array**. "
   ]
  },
  {
   "cell_type": "markdown",
   "id": "angry-shanghai",
   "metadata": {},
   "source": [
    "**In this tutorial you’ll learn:**\n",
    "\n",
    "- What **core concepts** in data science are made possible by NumPy\n",
    "- How to create **NumPy arrays** using various methods\n",
    "- How to manipulate NumPy arrays to perform **useful calculations**\n",
    "- How to apply these new skills to **real-world problems**"
   ]
  },
  {
   "cell_type": "markdown",
   "id": "published-leader",
   "metadata": {},
   "source": [
    "## Choosing NumPy: The Benefits"
   ]
  },
  {
   "cell_type": "markdown",
   "id": "moral-closure",
   "metadata": {},
   "source": [
    "Here are the top four benefits that NumPy can bring to your code:\n",
    "\n",
    "1. **More speed:** NumPy uses algorithms written in C that complete in nanoseconds rather than seconds.\n",
    "2. **Fewer loops:** NumPy helps you to reduce loops and keep from getting tangled up in iteration indices.\n",
    "3. **Clearer code:** Without loops, your code will look more like the equations you’re trying to calculate."
   ]
  },
  {
   "cell_type": "markdown",
   "id": "imperial-kazakhstan",
   "metadata": {},
   "source": [
    "Because of these benefits, NumPy is the de facto standard for multidimensional arrays in Python data science, and many of the most popular libraries are built on top of it."
   ]
  },
  {
   "cell_type": "markdown",
   "id": "sealed-thailand",
   "metadata": {},
   "source": [
    "## Installing NumPy"
   ]
  },
  {
   "cell_type": "markdown",
   "id": "outside-patch",
   "metadata": {},
   "source": [
    "It’s time to get everything set up so you can start learning how to work with NumPy. There are a few different ways to do this, and you can’t go wrong by following the instructions on the NumPy website. But there are some extra details to be aware of that are outlined below."
   ]
  },
  {
   "cell_type": "markdown",
   "id": "posted-forest",
   "metadata": {},
   "source": [
    "### Installing NumPy With Anaconda"
   ]
  },
  {
   "cell_type": "markdown",
   "id": "second-popularity",
   "metadata": {},
   "source": [
    "\n",
    "```bash\n",
    "$ conda install numpy\n",
    "```\n",
    "\n",
    "This will install what you need for this NumPy tutorial, and you’ll be all set to go."
   ]
  },
  {
   "cell_type": "markdown",
   "id": "convenient-fellowship",
   "metadata": {},
   "source": [
    "### Installing NumPy With `pip`"
   ]
  },
  {
   "cell_type": "markdown",
   "id": "covered-aside",
   "metadata": {},
   "source": [
    "Although the NumPy project recommends using `conda` if you’re starting fresh, there’s nothing wrong with managing your environment yourself and just using good old `pip`, Pipenv, Poetry, or whatever other alternative to `pip` is your favorite."
   ]
  },
  {
   "cell_type": "markdown",
   "id": "wrong-sudan",
   "metadata": {},
   "source": [
    "Here are the commands to get set up with `pip`:\n",
    "\n",
    "```bash\n",
    "$ pip install numpy\n",
    "```"
   ]
  },
  {
   "cell_type": "markdown",
   "id": "original-fitting",
   "metadata": {},
   "source": [
    "After this, make sure your virtual environment is activated, and all your code should run as expected."
   ]
  },
  {
   "cell_type": "markdown",
   "id": "agreed-keeping",
   "metadata": {},
   "source": [
    "## The Need for NumPy Arrays"
   ]
  },
  {
   "cell_type": "markdown",
   "id": "characteristic-grounds",
   "metadata": {},
   "source": [
    "A fundamental question that beginners ask is. Why are arrays necessary for scientific computing at all? Surely, one can perform complex mathematical operations on any abstract data type, such as a list. The answer lies in the numerous properties of arrays that make them significantly more useful. In this section, let's go over a few of these properties to emphasize why something such as the NumPy ndarray object exists at all."
   ]
  },
  {
   "cell_type": "markdown",
   "id": "split-yugoslavia",
   "metadata": {},
   "source": [
    "### Representing of matrices and vectors\n",
    "In scientific literature, an expression such as $A_{ij}$ is typically used to denote the element in the $i^{th}$ row and $j^{th}$ column of array `A`. The corresponding expression in NumPy would simply be `A[i,j]`. For matrix operations, NumPy arrays also support **vectorization** (details are addressed later, Using NumPy Arrays), which speeds up execution greatly."
   ]
  },
  {
   "cell_type": "markdown",
   "id": "incoming-kazakhstan",
   "metadata": {},
   "source": [
    "### Efficiency\n",
    "\n",
    "NumPy arrays are better than most other data structures with respect to almost all of these characteristics (with a few exceptions such as pandas, DataFrames, or SciPy's sparse matrices, which we shall deal with later). Since NumPy arrays are statically typed and homogenous, fast mathematical operations can be implemented in compiled languages (the default implementation uses C and Fortran). Efficiency (the availability of fast algorithms working on homogeneous arrays) makes NumPy popular and important."
   ]
  },
  {
   "cell_type": "markdown",
   "id": "dressed-biodiversity",
   "metadata": {},
   "source": [
    "## Array Objects"
   ]
  },
  {
   "cell_type": "markdown",
   "id": "modified-sword",
   "metadata": {},
   "source": [
    "NumPy provides an N-dimensional array type, the `ndarray`, which describes a collection of “items” of the same type. The items can be indexed using for example N integers."
   ]
  },
  {
   "cell_type": "markdown",
   "id": "bacterial-economy",
   "metadata": {},
   "source": [
    "**All ndarrays are homogeneous.**"
   ]
  },
  {
   "cell_type": "markdown",
   "id": "surface-technical",
   "metadata": {},
   "source": [
    "An item extracted from an array, e.g., by indexing, is represented by a Python object whose type is one of the array scalar types built in NumPy. The array scalars allow easy manipulation of also more complicated arrangements of data."
   ]
  },
  {
   "cell_type": "markdown",
   "id": "refined-director",
   "metadata": {},
   "source": [
    "## The N-dimensional Array (`ndarray`)\n",
    "\n",
    "An `ndarray` is a (usually fixed-size) multidimensional container of items of the same type and size. The number of dimensions and items in an array is defined by its `shape`, which is a `tuple` of N non-negative integers that specify the sizes of each dimension. The type of items in the array is specified by a separate data-type object (`dtype`), one of which is associated with each ndarray."
   ]
  },
  {
   "cell_type": "markdown",
   "id": "welcome-sheet",
   "metadata": {},
   "source": [
    "As with other container objects in Python, the contents of an ndarray can be accessed and modified by indexing or slicing the array (using, for example, N integers), and via the methods and attributes of the ndarray."
   ]
  },
  {
   "cell_type": "markdown",
   "id": "effective-numbers",
   "metadata": {},
   "source": [
    "### Creating Arrays"
   ]
  },
  {
   "cell_type": "markdown",
   "id": "stuck-measurement",
   "metadata": {},
   "source": [
    "#### Creating Arrays from List\n",
    "\n",
    "The simplest way to create an array is using the `array` function:\n"
   ]
  },
  {
   "cell_type": "markdown",
   "id": "abroad-worker",
   "metadata": {},
   "source": [
    "A 2-dimensional array of size 2 x 3, composed of 4-byte integer elements:"
   ]
  },
  {
   "cell_type": "code",
   "execution_count": 3,
   "id": "excess-navigation",
   "metadata": {},
   "outputs": [],
   "source": [
    "import numpy as np"
   ]
  },
  {
   "cell_type": "code",
   "execution_count": 9,
   "id": "female-patch",
   "metadata": {},
   "outputs": [],
   "source": [
    "x = np.array([[1.0, 2, 3], [4, 5, 6]])"
   ]
  },
  {
   "cell_type": "code",
   "execution_count": 10,
   "id": "swedish-dietary",
   "metadata": {},
   "outputs": [
    {
     "data": {
      "text/plain": [
       "numpy.ndarray"
      ]
     },
     "execution_count": 10,
     "metadata": {},
     "output_type": "execute_result"
    }
   ],
   "source": [
    "type(x)"
   ]
  },
  {
   "cell_type": "code",
   "execution_count": 11,
   "id": "recognized-captain",
   "metadata": {},
   "outputs": [
    {
     "data": {
      "text/plain": [
       "(2, 3)"
      ]
     },
     "execution_count": 11,
     "metadata": {},
     "output_type": "execute_result"
    }
   ],
   "source": [
    "x.shape"
   ]
  },
  {
   "cell_type": "code",
   "execution_count": 12,
   "id": "distinct-comment",
   "metadata": {},
   "outputs": [
    {
     "data": {
      "text/plain": [
       "dtype('float64')"
      ]
     },
     "execution_count": 12,
     "metadata": {},
     "output_type": "execute_result"
    }
   ],
   "source": [
    "x.dtype"
   ]
  },
  {
   "cell_type": "code",
   "execution_count": 12,
   "id": "exciting-extension",
   "metadata": {},
   "outputs": [],
   "source": [
    "x = np.array(['hello', 'world', 3])"
   ]
  },
  {
   "cell_type": "code",
   "execution_count": 13,
   "id": "b7d57f8f-ea72-4312-8a21-f0877872c5ba",
   "metadata": {},
   "outputs": [
    {
     "data": {
      "text/plain": [
       "numpy.str_"
      ]
     },
     "execution_count": 13,
     "metadata": {},
     "output_type": "execute_result"
    }
   ],
   "source": [
    "type(x[2])"
   ]
  },
  {
   "cell_type": "code",
   "execution_count": null,
   "id": "cedb4046-8163-488a-afbe-4736501e6ad1",
   "metadata": {},
   "outputs": [],
   "source": []
  },
  {
   "cell_type": "markdown",
   "id": "afraid-certificate",
   "metadata": {},
   "source": [
    "The first condition is always true for Python lists and tuples. When creating an array from lists or tuples, the input may consist of different (heterogeneous) data types. The array function, however, will normally cast all input elements into the most suitable data type required for the array. For example, if a list contains both floats and integers, the resulting array will be of type float. If it contains an integer and a boolean, the resulting array will consist of integers."
   ]
  },
  {
   "cell_type": "markdown",
   "id": "expensive-crest",
   "metadata": {},
   "source": [
    "One of the most handy ways of creating lists, and therefore arrays, of integers is using the `range` funct/ion:"
   ]
  },
  {
   "cell_type": "code",
   "execution_count": 14,
   "id": "resident-wallpaper",
   "metadata": {},
   "outputs": [],
   "source": [
    "x = range(5)"
   ]
  },
  {
   "cell_type": "code",
   "execution_count": 15,
   "id": "hazardous-anderson",
   "metadata": {},
   "outputs": [],
   "source": [
    "y = np.array(x)"
   ]
  },
  {
   "cell_type": "code",
   "execution_count": 20,
   "id": "printable-demographic",
   "metadata": {},
   "outputs": [],
   "source": [
    "x = np.arange(10)"
   ]
  },
  {
   "cell_type": "code",
   "execution_count": 21,
   "id": "resident-canal",
   "metadata": {},
   "outputs": [
    {
     "data": {
      "text/plain": [
       "array([0, 1, 2, 3, 4, 5, 6, 7, 8, 9])"
      ]
     },
     "execution_count": 21,
     "metadata": {},
     "output_type": "execute_result"
    }
   ],
   "source": [
    "x"
   ]
  },
  {
   "cell_type": "markdown",
   "id": "functional-substance",
   "metadata": {},
   "source": [
    "#### Creating random arrays\n",
    "\n",
    "The `random` module in NumPy provides various functions to create random arrays of any data type. :\n",
    "- Create random arrays\n",
    "- Create random permutations of arrays\n",
    "- Generate arrays with specific probability distributions"
   ]
  },
  {
   "cell_type": "markdown",
   "id": "constitutional-secretary",
   "metadata": {},
   "source": [
    "For the purposes of this section, we will be focusing on two important functions in the random module-`rand` and `random`."
   ]
  },
  {
   "cell_type": "code",
   "execution_count": 17,
   "id": "organizational-course",
   "metadata": {},
   "outputs": [],
   "source": [
    "x = np.random.rand(2, 2, 2, 4)"
   ]
  },
  {
   "cell_type": "code",
   "execution_count": 19,
   "id": "invisible-trinidad",
   "metadata": {
    "tags": []
   },
   "outputs": [
    {
     "data": {
      "text/plain": [
       "(2, 2, 2, 4)"
      ]
     },
     "execution_count": 19,
     "metadata": {},
     "output_type": "execute_result"
    }
   ],
   "source": [
    "x.shape"
   ]
  },
  {
   "cell_type": "code",
   "execution_count": 87,
   "id": "detailed-layout",
   "metadata": {},
   "outputs": [
    {
     "data": {
      "text/plain": [
       "(2, 2, 2, 4)"
      ]
     },
     "execution_count": 87,
     "metadata": {},
     "output_type": "execute_result"
    }
   ],
   "source": [
    "x.shape"
   ]
  },
  {
   "cell_type": "code",
   "execution_count": 88,
   "id": "indoor-wisconsin",
   "metadata": {},
   "outputs": [],
   "source": [
    "y = np.random.random((2, 3, 4))"
   ]
  },
  {
   "cell_type": "code",
   "execution_count": 89,
   "id": "appropriate-belgium",
   "metadata": {},
   "outputs": [
    {
     "data": {
      "text/plain": [
       "(2, 3, 4)"
      ]
     },
     "execution_count": 89,
     "metadata": {},
     "output_type": "execute_result"
    }
   ],
   "source": [
    "y.shape"
   ]
  },
  {
   "cell_type": "code",
   "execution_count": 90,
   "id": "intimate-stupid",
   "metadata": {},
   "outputs": [
    {
     "data": {
      "text/plain": [
       "array([[[0.33603821, 0.87942418, 0.8595046 , 0.59967352],\n",
       "        [0.39591039, 0.62590545, 0.48937191, 0.93119028],\n",
       "        [0.98885106, 0.48437713, 0.50686744, 0.03488253]],\n",
       "\n",
       "       [[0.43570412, 0.58526035, 0.00675684, 0.93169393],\n",
       "        [0.51591668, 0.29233314, 0.83111965, 0.27099091],\n",
       "        [0.58357156, 0.51186415, 0.17128149, 0.76128687]]])"
      ]
     },
     "execution_count": 90,
     "metadata": {},
     "output_type": "execute_result"
    }
   ],
   "source": [
    "y"
   ]
  },
  {
   "cell_type": "markdown",
   "id": "equal-sword",
   "metadata": {},
   "source": [
    "**What is the difference in the 2 above statements?**"
   ]
  },
  {
   "cell_type": "markdown",
   "id": "muslim-latitude",
   "metadata": {},
   "source": [
    "To create random arrays of integers you can use `randint` function."
   ]
  },
  {
   "cell_type": "code",
   "execution_count": 3,
   "id": "functioning-dance",
   "metadata": {},
   "outputs": [
    {
     "data": {
      "text/plain": [
       "array([2, 4, 4, 8, 7, 1, 1, 1, 3, 4])"
      ]
     },
     "execution_count": 3,
     "metadata": {},
     "output_type": "execute_result"
    }
   ],
   "source": [
    "LOW, HIGH = 1, 11 \n",
    "SIZE = 10\n",
    "np.random.randint(LOW, HIGH, size=SIZE) "
   ]
  },
  {
   "cell_type": "markdown",
   "id": "professional-thought",
   "metadata": {},
   "source": [
    "The `randint` function takes three arguments, of which two are optional. The first argument denotes the desired lower limit of the output values, and the second optional argument denotes the (exclusive) upper limit of the output values. The optional `size` argument is a tuple that determines the shape of the output array."
   ]
  },
  {
   "cell_type": "code",
   "execution_count": 45,
   "id": "angry-husband",
   "metadata": {},
   "outputs": [
    {
     "data": {
      "text/plain": [
       "4"
      ]
     },
     "execution_count": 45,
     "metadata": {},
     "output_type": "execute_result"
    }
   ],
   "source": [
    "np.random.randint(10) "
   ]
  },
  {
   "cell_type": "markdown",
   "id": "stopped-diabetes",
   "metadata": {},
   "source": [
    "#### Other arrays\n",
    "\n",
    "There are a few other array creation functions, such as `zeros()`, `ones()`, `eye()`, and others (similar to the ones in MATLAB) that can be used to create NumPy arrays. Their use is fairly straightforward."
   ]
  },
  {
   "cell_type": "code",
   "execution_count": 94,
   "id": "dense-pressing",
   "metadata": {},
   "outputs": [
    {
     "data": {
      "text/plain": [
       "array([[0., 0., 0., 0.],\n",
       "       [0., 0., 0., 0.],\n",
       "       [0., 0., 0., 0.]])"
      ]
     },
     "execution_count": 94,
     "metadata": {},
     "output_type": "execute_result"
    }
   ],
   "source": [
    "np.zeros((3, 4))"
   ]
  },
  {
   "cell_type": "code",
   "execution_count": 95,
   "id": "composite-float",
   "metadata": {},
   "outputs": [
    {
     "data": {
      "text/plain": [
       "array([[1., 1., 1., 1., 1.],\n",
       "       [1., 1., 1., 1., 1.],\n",
       "       [1., 1., 1., 1., 1.]])"
      ]
     },
     "execution_count": 95,
     "metadata": {},
     "output_type": "execute_result"
    }
   ],
   "source": [
    "np.ones((3, 5))"
   ]
  },
  {
   "cell_type": "code",
   "execution_count": 98,
   "id": "smart-hughes",
   "metadata": {},
   "outputs": [
    {
     "data": {
      "text/plain": [
       "array([[1., 0., 0., 0., 0.],\n",
       "       [0., 1., 0., 0., 0.],\n",
       "       [0., 0., 1., 0., 0.],\n",
       "       [0., 0., 0., 1., 0.],\n",
       "       [0., 0., 0., 0., 1.]])"
      ]
     },
     "execution_count": 98,
     "metadata": {},
     "output_type": "execute_result"
    }
   ],
   "source": [
    "np.eye(5)"
   ]
  },
  {
   "cell_type": "code",
   "execution_count": 107,
   "id": "controlling-malta",
   "metadata": {},
   "outputs": [
    {
     "data": {
      "text/plain": [
       "array([[1., 0., 0., 0.],\n",
       "       [0., 1., 0., 0.],\n",
       "       [0., 0., 1., 0.]])"
      ]
     },
     "execution_count": 107,
     "metadata": {},
     "output_type": "execute_result"
    }
   ],
   "source": [
    "np.eye(3, 4)"
   ]
  },
  {
   "cell_type": "code",
   "execution_count": 108,
   "id": "mighty-category",
   "metadata": {},
   "outputs": [
    {
     "data": {
      "text/plain": [
       "array([[0., 0., 1., 0.],\n",
       "       [0., 0., 0., 1.],\n",
       "       [0., 0., 0., 0.]])"
      ]
     },
     "execution_count": 108,
     "metadata": {},
     "output_type": "execute_result"
    }
   ],
   "source": [
    "np.eye(3, 4, 2)"
   ]
  },
  {
   "cell_type": "markdown",
   "id": "english-pillow",
   "metadata": {},
   "source": [
    "## Array Data Types\n",
    "\n",
    "Data types are another important intrinsic aspect of a NumPy array alongside its memory layout and indexing (Will be discussed later). The data type of a NumPy array can be found by simply checking the `dtype` attribute of the array. Try out the following examples to check the data types of different arrays:"
   ]
  },
  {
   "cell_type": "code",
   "execution_count": 109,
   "id": "union-appointment",
   "metadata": {},
   "outputs": [],
   "source": [
    "x = np.random.random((10, 10)) "
   ]
  },
  {
   "cell_type": "code",
   "execution_count": 111,
   "id": "crude-involvement",
   "metadata": {},
   "outputs": [
    {
     "data": {
      "text/plain": [
       "dtype('float64')"
      ]
     },
     "execution_count": 111,
     "metadata": {},
     "output_type": "execute_result"
    }
   ],
   "source": [
    "x.dtype"
   ]
  },
  {
   "cell_type": "code",
   "execution_count": 21,
   "id": "scenic-fault",
   "metadata": {},
   "outputs": [],
   "source": [
    "x = np.array(range(10)) "
   ]
  },
  {
   "cell_type": "code",
   "execution_count": 22,
   "id": "f183d8a5-4962-46c1-b99f-5403ea216fce",
   "metadata": {},
   "outputs": [
    {
     "data": {
      "text/plain": [
       "array([0, 1, 2, 3, 4, 5, 6, 7, 8, 9])"
      ]
     },
     "execution_count": 22,
     "metadata": {},
     "output_type": "execute_result"
    }
   ],
   "source": [
    "x"
   ]
  },
  {
   "cell_type": "code",
   "execution_count": 113,
   "id": "automated-thesaurus",
   "metadata": {},
   "outputs": [
    {
     "data": {
      "text/plain": [
       "dtype('int64')"
      ]
     },
     "execution_count": 113,
     "metadata": {},
     "output_type": "execute_result"
    }
   ],
   "source": [
    "x.dtype"
   ]
  },
  {
   "cell_type": "code",
   "execution_count": 114,
   "id": "extreme-wednesday",
   "metadata": {},
   "outputs": [],
   "source": [
    "x = np.array(['hello', 'world']) "
   ]
  },
  {
   "cell_type": "code",
   "execution_count": 116,
   "id": "practical-relations",
   "metadata": {},
   "outputs": [
    {
     "data": {
      "text/plain": [
       "dtype('<U5')"
      ]
     },
     "execution_count": 116,
     "metadata": {},
     "output_type": "execute_result"
    }
   ],
   "source": [
    "x.dtype"
   ]
  },
  {
   "cell_type": "markdown",
   "id": "cooked-joint",
   "metadata": {},
   "source": [
    "Many array creation functions provide a default array data type. For example, the `np.zeros` and `np.ones` functions create arrays that are full of floats by default. But it is possible to make them create arrays of other data types too. Consider the following examples that demonstrate how to use the dtype argument to create arrays of arbitrary data types."
   ]
  },
  {
   "cell_type": "code",
   "execution_count": 121,
   "id": "present-princeton",
   "metadata": {},
   "outputs": [],
   "source": [
    "x = np.ones((3, 3), dtype=int) "
   ]
  },
  {
   "cell_type": "code",
   "execution_count": 122,
   "id": "cellular-museum",
   "metadata": {},
   "outputs": [
    {
     "data": {
      "text/plain": [
       "dtype('int64')"
      ]
     },
     "execution_count": 122,
     "metadata": {},
     "output_type": "execute_result"
    }
   ],
   "source": [
    "x.dtype"
   ]
  },
  {
   "cell_type": "code",
   "execution_count": 28,
   "id": "congressional-philippines",
   "metadata": {},
   "outputs": [],
   "source": [
    "x = np.zeros((3, 3))"
   ]
  },
  {
   "cell_type": "code",
   "execution_count": 29,
   "id": "introductory-membership",
   "metadata": {},
   "outputs": [
    {
     "data": {
      "text/plain": [
       "dtype('float64')"
      ]
     },
     "execution_count": 29,
     "metadata": {},
     "output_type": "execute_result"
    }
   ],
   "source": [
    "x.dtype"
   ]
  },
  {
   "cell_type": "code",
   "execution_count": 125,
   "id": "indirect-kenya",
   "metadata": {},
   "outputs": [
    {
     "data": {
      "text/plain": [
       "dtype('int32')"
      ]
     },
     "execution_count": 125,
     "metadata": {},
     "output_type": "execute_result"
    }
   ],
   "source": [
    "x.dtype"
   ]
  },
  {
   "cell_type": "markdown",
   "id": "completed-pattern",
   "metadata": {},
   "source": [
    "For a complete list of data types supported by NumPy, refer to https://numpy.org/doc/stable/user/basics.types.html."
   ]
  },
  {
   "cell_type": "markdown",
   "id": "fantastic-bacteria",
   "metadata": {},
   "source": [
    "## Hello NumPy: Curving Test Grades Tutorial"
   ]
  },
  {
   "cell_type": "markdown",
   "id": "wired-particle",
   "metadata": {},
   "source": [
    "This first example introduces a few core concepts in NumPy that you’ll use throughout the rest of the tutorial:\n",
    "\n",
    "- Creating arrays using `numpy.array()`\n",
    "- Treating complete arrays like individual values to make vectorized calculations more readable\n",
    "- Using built-in NumPy functions to modify and aggregate the data\n"
   ]
  },
  {
   "cell_type": "markdown",
   "id": "everyday-immune",
   "metadata": {},
   "source": [
    "These concepts are the core of using NumPy effectively."
   ]
  },
  {
   "cell_type": "markdown",
   "id": "disciplinary-brick",
   "metadata": {},
   "source": [
    "The scenario is this: You’re a teacher who has just graded your students on a recent test. Unfortunately, you may have made the test too challenging, and most of the students did worse than expected. To help everybody out, you’re going to **curve** everyone’s grades."
   ]
  },
  {
   "cell_type": "code",
   "execution_count": 126,
   "id": "widespread-thumbnail",
   "metadata": {},
   "outputs": [
    {
     "data": {
      "text/plain": [
       "array([ 91.25,  54.25,  83.25, 100.  ,  70.25, 100.  ,  93.25,  31.25])"
      ]
     },
     "execution_count": 126,
     "metadata": {},
     "output_type": "execute_result"
    }
   ],
   "source": [
    "import numpy as np\n",
    "\n",
    "CURVE_CENTER = 80\n",
    "grades = np.array([72, 35, 64, 88, 51, 90, 74, 12])\n",
    "\n",
    "def curve(grades):\n",
    "    average = grades.mean()\n",
    "    change = CURVE_CENTER - average\n",
    "    new_grades = grades + change\n",
    "    \n",
    "    return np.clip(new_grades, grades, 100)\n",
    "\n",
    "curve(grades)"
   ]
  },
  {
   "cell_type": "markdown",
   "id": "final-convention",
   "metadata": {},
   "source": [
    "The original scores have been increased based on where they were in the pack, but none of them were pushed over 100%."
   ]
  },
  {
   "cell_type": "markdown",
   "id": "liberal-columbus",
   "metadata": {},
   "source": [
    "Here are the important highlights:\n",
    "\n",
    "- **Line 1** imports NumPy using the `np` alias, which is a common convention that saves you a few keystrokes.\n",
    "- **Line 3** creates your first NumPy array, which is one-dimensional and has a shape of `(8,)` and a data type of `int64`. Don’t worry too much about these details yet. You’ll explore them in more detail later.\n",
    "- **Line 5** takes the average of all the scores using [`.mean()`](https://numpy.org/doc/stable/reference/generated/numpy.ndarray.mean.html#numpy.ndarray.mean). Arrays have a lot of [methods](https://numpy.org/doc/stable/reference/arrays.ndarray.html#array-methods)."
   ]
  },
  {
   "cell_type": "markdown",
   "id": "suspected-sessions",
   "metadata": {},
   "source": [
    "On line 7, you take advantage of two important concepts at once:\n",
    "\n",
    "- Vectorization\n",
    "- Broadcasting"
   ]
  },
  {
   "cell_type": "markdown",
   "id": "olympic-mayor",
   "metadata": {},
   "source": [
    "**Vectorization** is the process of performing the same operation in the same way for each element in an array. This removes `for` loops from your code but achieves the same result."
   ]
  },
  {
   "cell_type": "markdown",
   "id": "patent-romania",
   "metadata": {},
   "source": [
    "**Broadcasting** is the process of extending two arrays of different shapes and figuring out how to perform a vectorized calculation between them. Remember, grades is an array of numbers of shape `(8,)` and change is a **scalar**, or single number, essentially with shape `(1,)`. In this case, NumPy adds the scalar to each item in the array and returns a new array with the results."
   ]
  },
  {
   "cell_type": "markdown",
   "id": "selected-field",
   "metadata": {},
   "source": [
    "Finally, on line 8, you limit, or **clip**, the values to a set of minimums and maximums."
   ]
  },
  {
   "cell_type": "markdown",
   "id": "liberal-tampa",
   "metadata": {},
   "source": [
    "## Vectorized Operations"
   ]
  },
  {
   "cell_type": "code",
   "execution_count": 36,
   "id": "reverse-princeton",
   "metadata": {},
   "outputs": [],
   "source": [
    "x = np.array([1, 2, 3, 4])"
   ]
  },
  {
   "cell_type": "code",
   "execution_count": null,
   "id": "cf323f95-40ff-45b5-a56b-fac2142d5909",
   "metadata": {},
   "outputs": [],
   "source": []
  },
  {
   "cell_type": "code",
   "execution_count": 5,
   "id": "developed-tunnel",
   "metadata": {},
   "outputs": [
    {
     "data": {
      "text/plain": [
       "array([3, 4, 5, 6])"
      ]
     },
     "execution_count": 5,
     "metadata": {},
     "output_type": "execute_result"
    }
   ],
   "source": [
    "x + 2"
   ]
  },
  {
   "cell_type": "markdown",
   "id": "hidden-checklist",
   "metadata": {},
   "source": [
    "As mentioned, all the elements in the array are added by 1 simultaneously. This is very different from Python or most other programming languages. The elements in a NumPy Array all have the same `dtype`; in the preceding example, this is `numpy.int` (this is either 32 or 64-bit depending on the machine); therefore, NumPy can save time on checking the type of each element at runtime, which, ordinarily, is done by Python. So, just apply these arithmetic operations:"
   ]
  },
  {
   "cell_type": "code",
   "execution_count": 35,
   "id": "awful-corps",
   "metadata": {},
   "outputs": [],
   "source": [
    "y = np.array([-1, 2, 3, 0]) "
   ]
  },
  {
   "cell_type": "code",
   "execution_count": null,
   "id": "5bba9cce-9d2d-4f33-a8d3-daa2b09e3db1",
   "metadata": {},
   "outputs": [],
   "source": []
  },
  {
   "cell_type": "code",
   "execution_count": 138,
   "id": "indie-noise",
   "metadata": {},
   "outputs": [
    {
     "data": {
      "text/plain": [
       "array([-1,  4,  9,  0])"
      ]
     },
     "execution_count": 138,
     "metadata": {},
     "output_type": "execute_result"
    }
   ],
   "source": [
    "x * y"
   ]
  },
  {
   "cell_type": "markdown",
   "id": "great-dining",
   "metadata": {},
   "source": [
    "The result still returns the same shape of NumPy Arrays. A matrix multiplication in NumPy will use `numpy.dot()` or `@` operator. Take a look at this example:"
   ]
  },
  {
   "cell_type": "code",
   "execution_count": 146,
   "id": "small-tribute",
   "metadata": {},
   "outputs": [
    {
     "data": {
      "text/plain": [
       "12"
      ]
     },
     "execution_count": 146,
     "metadata": {},
     "output_type": "execute_result"
    }
   ],
   "source": [
    "np.dot(x, y)"
   ]
  },
  {
   "cell_type": "code",
   "execution_count": 148,
   "id": "later-direction",
   "metadata": {},
   "outputs": [
    {
     "data": {
      "text/plain": [
       "12"
      ]
     },
     "execution_count": 148,
     "metadata": {},
     "output_type": "execute_result"
    }
   ],
   "source": [
    "x @ y"
   ]
  },
  {
   "cell_type": "markdown",
   "id": "adaptive-drain",
   "metadata": {},
   "source": [
    "NumPy also supports logic comparison between two arrays, and the comparison is vectorized as well. The result returns a Boolean, and NumPy Array indicates which element in both arrays is equal. If two different shapes of arrays are compared, the result would only return one `False`, which indicates that the two arrays are different, and would really compare each element:"
   ]
  },
  {
   "cell_type": "code",
   "execution_count": 41,
   "id": "6d79eec2-d5cb-4d4e-88f8-046105f455f4",
   "metadata": {},
   "outputs": [
    {
     "data": {
      "text/plain": [
       "array([1, 2, 3, 4])"
      ]
     },
     "execution_count": 41,
     "metadata": {},
     "output_type": "execute_result"
    }
   ],
   "source": [
    "x"
   ]
  },
  {
   "cell_type": "code",
   "execution_count": 42,
   "id": "f77768dc-b624-4e71-91cc-9c89ed0cb9e7",
   "metadata": {},
   "outputs": [
    {
     "data": {
      "text/plain": [
       "array([-1,  2,  3,  0])"
      ]
     },
     "execution_count": 42,
     "metadata": {},
     "output_type": "execute_result"
    }
   ],
   "source": [
    "y"
   ]
  },
  {
   "cell_type": "code",
   "execution_count": 38,
   "id": "sorted-agriculture",
   "metadata": {},
   "outputs": [],
   "source": [
    "my_bol = x == y"
   ]
  },
  {
   "cell_type": "code",
   "execution_count": 39,
   "id": "c61b264f-fe6e-4372-88de-9715364d468b",
   "metadata": {},
   "outputs": [
    {
     "data": {
      "text/plain": [
       "array([False,  True,  True, False])"
      ]
     },
     "execution_count": 39,
     "metadata": {},
     "output_type": "execute_result"
    }
   ],
   "source": [
    "my_bol"
   ]
  },
  {
   "cell_type": "code",
   "execution_count": 43,
   "id": "bfadbead-8c8c-4308-8537-078927921e9c",
   "metadata": {},
   "outputs": [
    {
     "data": {
      "text/plain": [
       "array([2, 3])"
      ]
     },
     "execution_count": 43,
     "metadata": {},
     "output_type": "execute_result"
    }
   ],
   "source": [
    "x[my_bol]"
   ]
  },
  {
   "cell_type": "code",
   "execution_count": 32,
   "id": "f4d185d2-bbb0-442a-846c-b7cc85455719",
   "metadata": {},
   "outputs": [
    {
     "data": {
      "text/plain": [
       "False"
      ]
     },
     "execution_count": 32,
     "metadata": {},
     "output_type": "execute_result"
    }
   ],
   "source": [
    "my_bol"
   ]
  },
  {
   "cell_type": "markdown",
   "id": "preceding-astrology",
   "metadata": {},
   "source": [
    "From the preceding examples, we get an insight into NumPy's element-wise operations, but what's the benefit of using them? How can we know that an optimization has been made through these NumPy operations? We will use the `%timeit` to show you the difference between NumPy operations and the Python `for` loop:"
   ]
  },
  {
   "cell_type": "code",
   "execution_count": 46,
   "id": "honest-marathon",
   "metadata": {},
   "outputs": [],
   "source": [
    "x = np.arange(1000)"
   ]
  },
  {
   "cell_type": "code",
   "execution_count": 47,
   "id": "strange-mississippi",
   "metadata": {},
   "outputs": [
    {
     "name": "stdout",
     "output_type": "stream",
     "text": [
      "985 ns ± 16 ns per loop (mean ± std. dev. of 7 runs, 1000000 loops each)\n"
     ]
    }
   ],
   "source": [
    "%timeit x + 1"
   ]
  },
  {
   "cell_type": "code",
   "execution_count": 48,
   "id": "resident-series",
   "metadata": {},
   "outputs": [],
   "source": [
    "y = range(1000)"
   ]
  },
  {
   "cell_type": "code",
   "execution_count": 49,
   "id": "owned-michigan",
   "metadata": {},
   "outputs": [
    {
     "name": "stdout",
     "output_type": "stream",
     "text": [
      "48.7 µs ± 1.51 µs per loop (mean ± std. dev. of 7 runs, 10000 loops each)\n"
     ]
    }
   ],
   "source": [
    "%timeit [i+1 for i in y]"
   ]
  },
  {
   "cell_type": "code",
   "execution_count": null,
   "id": "60c67d3f-d1da-4107-bdfb-94effe415f40",
   "metadata": {},
   "outputs": [],
   "source": []
  }
 ],
 "metadata": {
  "kernelspec": {
   "display_name": "Python 3 (ipykernel)",
   "language": "python",
   "name": "python3"
  },
  "language_info": {
   "codemirror_mode": {
    "name": "ipython",
    "version": 3
   },
   "file_extension": ".py",
   "mimetype": "text/x-python",
   "name": "python",
   "nbconvert_exporter": "python",
   "pygments_lexer": "ipython3",
   "version": "3.8.12"
  },
  "nteract": {
   "version": "nteract-on-jupyter@2.1.3"
  }
 },
 "nbformat": 4,
 "nbformat_minor": 5
}
