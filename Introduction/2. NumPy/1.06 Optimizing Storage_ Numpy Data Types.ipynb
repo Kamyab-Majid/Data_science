{
 "cells": [
  {
   "cell_type": "markdown",
   "id": "first-brazilian",
   "metadata": {},
   "source": [
    "# Optimizing Storage: Numpy Data Types"
   ]
  },
  {
   "cell_type": "markdown",
   "id": "international-metro",
   "metadata": {},
   "source": [
    "Now that you have a bit more practical experience, it’s time to go back to theory and look at data types. Data types don’t play a central role in a lot of Python code. Numbers work like they’re supposed to, strings do other things, Booleans are true or false, and other than that, you make your own objects and collections."
   ]
  },
  {
   "cell_type": "markdown",
   "id": "quick-nutrition",
   "metadata": {},
   "source": [
    "In NumPy, though, there’s a little more detail that needs to be covered. NumPy uses C code under the hood to optimize performance, and it can’t do that unless all the items in an array are of the same type. That doesn’t just mean the same Python type. They have to be the same underlying C type, with the same shape and size in bits!"
   ]
  },
  {
   "cell_type": "markdown",
   "id": "overall-privilege",
   "metadata": {},
   "source": [
    "Python defines only one type of a particular data class (there is only one integer type, one floating-point type, etc.). This can be convenient in applications that don’t need to be concerned with all the ways data can be represented in a computer. For scientific computing, however, more control is often needed."
   ]
  },
  {
   "cell_type": "markdown",
   "id": "charged-beijing",
   "metadata": {},
   "source": [
    "In NumPy, there are 24 new fundamental Python types to describe different types of scalars. These type descriptors are mostly based on the types available in the C language that CPython is written in, with several additional types compatible with Python’s types."
   ]
  },
  {
   "cell_type": "markdown",
   "id": "greenhouse-courtesy",
   "metadata": {},
   "source": [
    "## Data Type Objects (`dtype`)"
   ]
  },
  {
   "cell_type": "markdown",
   "id": "diverse-education",
   "metadata": {},
   "source": [
    "A data type object (an instance of numpy.dtype class) describes how the bytes in the fixed-size block of memory corresponding to an array item should be interpreted. It describes the following aspects of the data:\n",
    "\n",
    "- Type of the data (integer, float, Python object, etc.)\n",
    "- Size of the data (how many bytes is in e.g. the integer)\n",
    "- Byte order of the data (little-endian or big-endian)\n",
    "- If the data type is structured data type, an aggregate of other data types, (e.g., describing an array item consisting of an integer and a float),\n",
    "  - what are the names of the “fields” of the structure, by which they can be accessed,\n",
    "  - what is the data-type of each field, and\n",
    "  - which part of the memory block each field takes.\n",
    "- If the data type is a sub-array, what is its shape and data type."
   ]
  },
  {
   "cell_type": "markdown",
   "id": "floral-liberal",
   "metadata": {},
   "source": [
    "To describe the type of scalar data, there are several built-in scalar types in NumPy for various precision of integers, floating-point numbers, etc. An item extracted from an array, e.g., by indexing, will be a Python object whose type is the scalar type associated with the data type of the array."
   ]
  },
  {
   "cell_type": "markdown",
   "id": "divided-radar",
   "metadata": {},
   "source": [
    "> **Note:** Note that the scalar types are not dtype objects, even though they can be used in place of one whenever a data type specification is needed in NumPy."
   ]
  },
  {
   "cell_type": "markdown",
   "id": "strategic-smart",
   "metadata": {},
   "source": [
    "Structured data types are formed by creating a data type whose field contain other data types. Each field has a name by which it can be accessed. The parent data type should be of sufficient size to contain all its fields; the parent is nearly always based on the void type which allows an arbitrary item size. Structured data types may also contain nested structured sub-array data types in their fields."
   ]
  },
  {
   "cell_type": "markdown",
   "id": "alien-grass",
   "metadata": {},
   "source": [
    "Finally, a data type can describe items that are themselves arrays of items of another data type. These sub-arrays must, however, be of a fixed size.m"
   ]
  },
  {
   "cell_type": "markdown",
   "id": "motivated-aurora",
   "metadata": {},
   "source": [
    "If an array is created using a data-type describing a sub-array, the dimensions of the sub-array are appended to the shape of the array when the array is created. Sub-arrays in a field of a structured type behave differently, see [Field Access Numpy Documentation](https://numpy.org/doc/stable/reference/arrays.indexing.html#arrays-indexing-fields)."
   ]
  },
  {
   "cell_type": "markdown",
   "id": "occasional-island",
   "metadata": {},
   "source": [
    "Sub-arrays always have a C-contiguous memory layout."
   ]
  },
  {
   "cell_type": "markdown",
   "id": "loose-trust",
   "metadata": {},
   "source": [
    "A simple data type containing a 32-bit big-endian integer:"
   ]
  },
  {
   "cell_type": "code",
   "execution_count": 36,
   "id": "lesbian-guidance",
   "metadata": {},
   "outputs": [],
   "source": [
    "dt = np.dtype('>i4')"
   ]
  },
  {
   "cell_type": "code",
   "execution_count": 37,
   "id": "violent-black",
   "metadata": {},
   "outputs": [
    {
     "data": {
      "text/plain": [
       "'>'"
      ]
     },
     "execution_count": 37,
     "metadata": {},
     "output_type": "execute_result"
    }
   ],
   "source": [
    "dt.byteorder"
   ]
  },
  {
   "cell_type": "code",
   "execution_count": 38,
   "id": "worth-provider",
   "metadata": {},
   "outputs": [
    {
     "data": {
      "text/plain": [
       "4"
      ]
     },
     "execution_count": 38,
     "metadata": {},
     "output_type": "execute_result"
    }
   ],
   "source": [
    "dt.itemsize"
   ]
  },
  {
   "cell_type": "code",
   "execution_count": 39,
   "id": "sacred-donna",
   "metadata": {},
   "outputs": [
    {
     "data": {
      "text/plain": [
       "'int32'"
      ]
     },
     "execution_count": 39,
     "metadata": {},
     "output_type": "execute_result"
    }
   ],
   "source": [
    "dt.name"
   ]
  },
  {
   "cell_type": "code",
   "execution_count": 40,
   "id": "alive-keeping",
   "metadata": {},
   "outputs": [
    {
     "data": {
      "text/plain": [
       "True"
      ]
     },
     "execution_count": 40,
     "metadata": {},
     "output_type": "execute_result"
    }
   ],
   "source": [
    "dt.type is np.int32"
   ]
  },
  {
   "cell_type": "markdown",
   "id": "interior-somewhere",
   "metadata": {},
   "source": [
    "A structured data type containing a 16-character string (in field ‍`name`) and a sub-array of two 64-bit floating-point number (in field `grades`):"
   ]
  },
  {
   "cell_type": "code",
   "execution_count": 49,
   "id": "explicit-links",
   "metadata": {},
   "outputs": [],
   "source": [
    "dt = np.dtype([('name', np.unicode_, 16), ('grades', np.float64, (2,))])"
   ]
  },
  {
   "cell_type": "code",
   "execution_count": 50,
   "id": "curious-arthritis",
   "metadata": {},
   "outputs": [
    {
     "data": {
      "text/plain": [
       "dtype('<U16')"
      ]
     },
     "execution_count": 50,
     "metadata": {},
     "output_type": "execute_result"
    }
   ],
   "source": [
    "dt['name']"
   ]
  },
  {
   "cell_type": "code",
   "execution_count": 51,
   "id": "solved-starter",
   "metadata": {},
   "outputs": [
    {
     "data": {
      "text/plain": [
       "dtype(('<f8', (2,)))"
      ]
     },
     "execution_count": 51,
     "metadata": {},
     "output_type": "execute_result"
    }
   ],
   "source": [
    "dt['grades']"
   ]
  },
  {
   "cell_type": "markdown",
   "id": "formal-puzzle",
   "metadata": {},
   "source": [
    "Items of an array of this data type are wrapped in an array scalar type that also has two fields:"
   ]
  },
  {
   "cell_type": "code",
   "execution_count": 53,
   "id": "traditional-sharp",
   "metadata": {},
   "outputs": [],
   "source": [
    "x = np.array([('Sarah', (8.0, 7.0)), ('John', (6.0, 7.0))], dtype=dt)"
   ]
  },
  {
   "cell_type": "code",
   "execution_count": 64,
   "id": "beneficial-mentor",
   "metadata": {},
   "outputs": [
    {
     "data": {
      "text/plain": [
       "array(['Sarah', 'John'], dtype='<U16')"
      ]
     },
     "execution_count": 64,
     "metadata": {},
     "output_type": "execute_result"
    }
   ],
   "source": [
    "x[0]"
   ]
  },
  {
   "cell_type": "code",
   "execution_count": 26,
   "id": "respective-georgia",
   "metadata": {},
   "outputs": [
    {
     "data": {
      "text/plain": [
       "array([6., 7.])"
      ]
     },
     "execution_count": 26,
     "metadata": {},
     "output_type": "execute_result"
    }
   ],
   "source": [
    "x[1]['grades']"
   ]
  },
  {
   "cell_type": "code",
   "execution_count": 28,
   "id": "french-mixer",
   "metadata": {},
   "outputs": [
    {
     "data": {
      "text/plain": [
       "numpy.void"
      ]
     },
     "execution_count": 28,
     "metadata": {},
     "output_type": "execute_result"
    }
   ],
   "source": [
    "type(x[1])"
   ]
  },
  {
   "cell_type": "code",
   "execution_count": 29,
   "id": "foster-cholesterol",
   "metadata": {},
   "outputs": [
    {
     "data": {
      "text/plain": [
       "numpy.ndarray"
      ]
     },
     "execution_count": 29,
     "metadata": {},
     "output_type": "execute_result"
    }
   ],
   "source": [
    "type(x[1]['grades'])"
   ]
  },
  {
   "cell_type": "markdown",
   "id": "annual-print",
   "metadata": {},
   "source": [
    "## Specifying and constructing data types"
   ]
  },
  {
   "cell_type": "markdown",
   "id": "perfect-opinion",
   "metadata": {},
   "source": [
    "Whenever a data-type is required in a NumPy function or method, either a dtype object or something that can be converted to one can be supplied. Such conversions are done by the dtype constructor:"
   ]
  },
  {
   "cell_type": "code",
   "execution_count": 30,
   "id": "valuable-progress",
   "metadata": {},
   "outputs": [],
   "source": [
    "dt = np.dtype(np.int32)      # 32-bit integer"
   ]
  },
  {
   "cell_type": "code",
   "execution_count": 31,
   "id": "comparable-people",
   "metadata": {},
   "outputs": [],
   "source": [
    "dt = np.dtype(np.complex128) # 128-bit complex floating-point number"
   ]
  },
  {
   "cell_type": "markdown",
   "id": "aerial-convenience",
   "metadata": {},
   "source": [
    "Several python types are equivalent to a corresponding array scalar when used to generate a dtype object:"
   ]
  },
  {
   "cell_type": "markdown",
   "id": "purple-print",
   "metadata": {},
   "source": [
    "|built-in python type|numpy type|\n",
    "|:--|:--|\n",
    "|`int`|`int_`|\n",
    "|`bool`|`bool_`|\n",
    "|`float`|`float_`|\n",
    "|`complex`|`cfloat`|\n",
    "|`bytes`|`bytes_`|\n",
    "|`str`|`str_`|\n",
    "|`buffer`|`void`|\n",
    "|all others|`object_`|"
   ]
  },
  {
   "cell_type": "markdown",
   "id": "ethical-zambia",
   "metadata": {},
   "source": [
    "### More on Data Types"
   ]
  },
  {
   "cell_type": "markdown",
   "id": "soviet-judge",
   "metadata": {},
   "source": [
    "This section of the tutorial was designed to get you just enough knowledge to be productive with NumPy’s data types, understand a little of how things work under the hood, and recognize some common pitfalls. It’s certainly not an exhaustive guide. The [NumPy documentation on `ndarrays`](https://numpy.org/doc/stable/reference/arrays.ndarray.html#internal-memory-layout-of-an-ndarray) has tons more resources."
   ]
  },
  {
   "cell_type": "markdown",
   "id": "dental-notebook",
   "metadata": {},
   "source": [
    "There’s also a lot more information on [`dtype` objects](https://numpy.org/doc/stable/reference/arrays.dtypes.html), including the different ways to construct, customize, and optimize them and how to make them more robust for all your data-handling needs. If you run into trouble and your data isn’t loading into arrays exactly how you expected, then that’s a good place to start."
   ]
  },
  {
   "cell_type": "markdown",
   "id": "decreased-thousand",
   "metadata": {},
   "source": [
    "Lastly, the NumPy `recarray` is a powerful object in its own right, and you’ve really only scratched the surface of the capabilities of structured datasets. It’s definitely worth reading through the [`recarray` documentation](https://numpy.org/doc/stable/reference/generated/numpy.recarray.html) as well as the documentation for the other specialized array [subclasses](https://numpy.org/doc/stable/reference/arrays.classes.html) that NumPy provides."
   ]
  }
 ],
 "metadata": {
  "kernelspec": {
   "display_name": "Python 3",
   "language": "python",
   "name": "python3"
  },
  "language_info": {
   "codemirror_mode": {
    "name": "ipython",
    "version": 3
   },
   "file_extension": ".py",
   "mimetype": "text/x-python",
   "name": "python",
   "nbconvert_exporter": "python",
   "pygments_lexer": "ipython3",
   "version": "3.7.9"
  }
 },
 "nbformat": 4,
 "nbformat_minor": 5
}
