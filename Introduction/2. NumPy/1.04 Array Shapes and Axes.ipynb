{
 "cells": [
  {
   "cell_type": "markdown",
   "id": "numeric-equivalent",
   "metadata": {},
   "source": [
    "# Getting Into Shape: Array Shapes and Axes\n",
    "\n",
    "Now that you’ve seen some of what NumPy can do, it’s time to firm up that foundation with some important theory. There are a few concepts that are important to keep in mind, especially as you work with arrays in higher dimensions."
   ]
  },
  {
   "cell_type": "markdown",
   "id": "fancy-hunger",
   "metadata": {},
   "source": [
    "**Vectors**, which are one-dimensional arrays of numbers, are the least complicated to keep track of. Two dimensions aren’t too bad, either, because they’re similar to spreadsheets. But things start to get tricky at three dimensions, and visualizing four? Forget about it."
   ]
  },
  {
   "cell_type": "markdown",
   "id": "related-money",
   "metadata": {},
   "source": [
    "## Mastering Shape\n",
    "\n",
    "Shape is a key concept when you’re using multidimensional arrays. At a certain point, it’s easier to forget about visualizing the shape of your data and to instead follow some mental rules and trust NumPy to tell you the correct shape."
   ]
  },
  {
   "cell_type": "markdown",
   "id": "overall-defendant",
   "metadata": {},
   "source": [
    "All arrays have a property called `.shape` that returns a tuple of the size in each dimension. It’s less important which dimension is which, but it’s critical that the arrays you pass to functions are in the shape that the functions expect. A common way to confirm that your data has the proper shape is to print the data and its shape until you’re sure everything is working like you expect."
   ]
  },
  {
   "cell_type": "markdown",
   "id": "fantastic-waters",
   "metadata": {},
   "source": [
    "This next example will show this process. You’ll create an array with a complex shape, check it, and reorder it to look like it’s supposed to:"
   ]
  },
  {
   "cell_type": "code",
   "execution_count": 3,
   "id": "conservative-creation",
   "metadata": {},
   "outputs": [
    {
     "data": {
      "text/plain": [
       "(2, 2, 3)"
      ]
     },
     "execution_count": 3,
     "metadata": {},
     "output_type": "execute_result"
    }
   ],
   "source": [
    "import numpy as np\n",
    "\n",
    "temperatures = np.array([\n",
    "    29.3, 42.1, 18.8, 16.1, 38.0, 12.5,\n",
    "    12.6, 49.9, 38.6, 31.3, 9.2, 22.2\n",
    "]).reshape(2, 2, 3)\n",
    "\n",
    "temperatures.shape"
   ]
  },
  {
   "cell_type": "code",
   "execution_count": 4,
   "id": "worst-publicity",
   "metadata": {},
   "outputs": [
    {
     "data": {
      "text/plain": [
       "array([[[29.3, 42.1, 18.8],\n",
       "        [16.1, 38. , 12.5]],\n",
       "\n",
       "       [[12.6, 49.9, 38.6],\n",
       "        [31.3,  9.2, 22.2]]])"
      ]
     },
     "execution_count": 4,
     "metadata": {},
     "output_type": "execute_result"
    }
   ],
   "source": [
    "temperatures"
   ]
  },
  {
   "cell_type": "code",
   "execution_count": 5,
   "id": "persistent-nancy",
   "metadata": {},
   "outputs": [
    {
     "data": {
      "text/plain": [
       "array([[[29.3, 16.1],\n",
       "        [42.1, 38. ],\n",
       "        [18.8, 12.5]],\n",
       "\n",
       "       [[12.6, 31.3],\n",
       "        [49.9,  9.2],\n",
       "        [38.6, 22.2]]])"
      ]
     },
     "execution_count": 5,
     "metadata": {},
     "output_type": "execute_result"
    }
   ],
   "source": [
    "np.swapaxes(temperatures, 1, 2)"
   ]
  },
  {
   "cell_type": "markdown",
   "id": "younger-renewal",
   "metadata": {},
   "source": [
    "Here, you use a numpy.ndarray method called `.reshape()` to form a `2 × 2 × 3` block of data. When you check the shape of your array in input 3, it’s exactly what you told it to be. However, you can see how printed arrays quickly become hard to visualize in three or more dimensions. After you swap axes with `.swapaxes()`, it becomes little clearer which dimension is which. You’ll see more about axes in the next section."
   ]
  },
  {
   "cell_type": "markdown",
   "id": "breeding-oxide",
   "metadata": {},
   "source": [
    "Shape will come up again in the section on broadcasting. For now, just keep in mind that these little checks don’t cost anything. You can always delete the cells or get rid of the code once things are running smoothly."
   ]
  },
  {
   "cell_type": "markdown",
   "id": "interstate-notice",
   "metadata": {},
   "source": [
    "## Understanding Axes\n",
    "\n",
    "The example above shows how important it is to know not only what shape your data is in but also which data is in which **axis**. In NumPy arrays, axes are zero-indexed and identify which dimension is which. For example, a two-dimensional array has a vertical axis (axis 0) and a horizontal axis (axis 1). Lots of functions and commands in NumPy change their behavior based on which axis you tell them to process."
   ]
  },
  {
   "cell_type": "markdown",
   "id": "historic-glossary",
   "metadata": {},
   "source": [
    "This example will show how `.max()` behaves by default, with no `axis` argument, and how it changes functionality depending on which axis you specify when you do supply an argument:"
   ]
  },
  {
   "cell_type": "code",
   "execution_count": 9,
   "id": "loaded-dispute",
   "metadata": {},
   "outputs": [],
   "source": [
    "import numpy as np\n",
    "\n",
    "table = np.array([\n",
    "    [5, 3, 7, 1, 2],\n",
    "    [2, 6, 7 , 9 ,3],\n",
    "    [1, 1, 1, 1, 8],\n",
    "    [4, 3, 2, 0, 10],\n",
    "])"
   ]
  },
  {
   "cell_type": "code",
   "execution_count": 14,
   "id": "fresh-report",
   "metadata": {},
   "outputs": [
    {
     "data": {
      "text/plain": [
       "array([[ 5,  3,  7,  1,  2],\n",
       "       [ 2,  6,  7,  9,  3],\n",
       "       [ 1,  1,  1,  1,  8],\n",
       "       [ 4,  3,  2,  0, 10]])"
      ]
     },
     "execution_count": 14,
     "metadata": {},
     "output_type": "execute_result"
    }
   ],
   "source": [
    "table"
   ]
  },
  {
   "cell_type": "code",
   "execution_count": 15,
   "id": "rational-franchise",
   "metadata": {},
   "outputs": [
    {
     "data": {
      "text/plain": [
       "array([ 5,  3,  7,  1,  2,  2,  6,  7,  9,  3,  1,  1,  1,  1,  8,  4,  3,\n",
       "        2,  0, 10])"
      ]
     },
     "execution_count": 15,
     "metadata": {},
     "output_type": "execute_result"
    }
   ],
   "source": [
    "table.flatten()"
   ]
  },
  {
   "cell_type": "code",
   "execution_count": 16,
   "id": "reserved-insulation",
   "metadata": {},
   "outputs": [
    {
     "data": {
      "text/plain": [
       "(4, 5)"
      ]
     },
     "execution_count": 16,
     "metadata": {},
     "output_type": "execute_result"
    }
   ],
   "source": [
    "table.shape"
   ]
  },
  {
   "cell_type": "code",
   "execution_count": 18,
   "id": "convinced-fluid",
   "metadata": {},
   "outputs": [
    {
     "data": {
      "text/plain": [
       "10"
      ]
     },
     "execution_count": 18,
     "metadata": {},
     "output_type": "execute_result"
    }
   ],
   "source": [
    "table.max()"
   ]
  },
  {
   "cell_type": "code",
   "execution_count": 19,
   "id": "strong-sally",
   "metadata": {},
   "outputs": [
    {
     "data": {
      "text/plain": [
       "array([ 5,  6,  7,  9, 10])"
      ]
     },
     "execution_count": 19,
     "metadata": {},
     "output_type": "execute_result"
    }
   ],
   "source": [
    "table.max(axis=0)"
   ]
  },
  {
   "cell_type": "code",
   "execution_count": 20,
   "id": "opening-porcelain",
   "metadata": {},
   "outputs": [
    {
     "data": {
      "text/plain": [
       "array([ 7,  9,  8, 10])"
      ]
     },
     "execution_count": 20,
     "metadata": {},
     "output_type": "execute_result"
    }
   ],
   "source": [
    "table.max(axis=1)"
   ]
  },
  {
   "cell_type": "markdown",
   "id": "bottom-impact",
   "metadata": {},
   "source": [
    "By default, `.max()` returns the largest value in the entire array, no matter how many dimensions there are. However, once you specify an axis, it performs that calculation for each set of values along that particular axis. For example, with an argument of `axis=0`, `.max() `selects the maximum value in each of the four vertical sets of values in table and returns an array that has been **flattened**, or aggregated into a one-dimensional array."
   ]
  },
  {
   "cell_type": "markdown",
   "id": "exceptional-treat",
   "metadata": {},
   "source": [
    "In fact, many of NumPy’s functions behave this way: If no axis is specified, then they perform an operation on the entire dataset. Otherwise, they perform the operation in an **axis-wise** fashion."
   ]
  },
  {
   "cell_type": "markdown",
   "id": "comic-shore",
   "metadata": {},
   "source": [
    "### Reshaping Arrays"
   ]
  },
  {
   "cell_type": "markdown",
   "id": "skilled-speaker",
   "metadata": {},
   "source": [
    "Another important concept here is to reshape your NumPy Arrays, especially when you are dealing with multidimensional arrays. It's common for you to create a NumPy Array in just one dimension, reshaping it to a multidimension later, or vice versa. A key idea here is that you can change the shape of your arrays, but the number of elements should not be changed; for example, you can't reshape a `3x3` array to a `10x1` array. The total number of elements (or a so-called data buffer in the ndarray internal organization) should be consistent before and after reshaping. Or ,you might need to resize, but that's another story. Now, let's look at some shape manipulations:"
   ]
  },
  {
   "cell_type": "code",
   "execution_count": 26,
   "id": "challenging-investigation",
   "metadata": {},
   "outputs": [],
   "source": [
    "x = np.arange(24)"
   ]
  },
  {
   "cell_type": "code",
   "execution_count": 27,
   "id": "fifty-preparation",
   "metadata": {},
   "outputs": [
    {
     "data": {
      "text/plain": [
       "array([ 0,  1,  2,  3,  4,  5,  6,  7,  8,  9, 10, 11, 12, 13, 14, 15, 16,\n",
       "       17, 18, 19, 20, 21, 22, 23])"
      ]
     },
     "execution_count": 27,
     "metadata": {},
     "output_type": "execute_result"
    }
   ],
   "source": [
    "x"
   ]
  },
  {
   "cell_type": "code",
   "execution_count": 28,
   "id": "economic-divorce",
   "metadata": {},
   "outputs": [],
   "source": [
    "x.shape = 2, 3, -1"
   ]
  },
  {
   "cell_type": "code",
   "execution_count": 29,
   "id": "dress-contemporary",
   "metadata": {},
   "outputs": [
    {
     "data": {
      "text/plain": [
       "array([[[ 0,  1,  2,  3],\n",
       "        [ 4,  5,  6,  7],\n",
       "        [ 8,  9, 10, 11]],\n",
       "\n",
       "       [[12, 13, 14, 15],\n",
       "        [16, 17, 18, 19],\n",
       "        [20, 21, 22, 23]]])"
      ]
     },
     "execution_count": 29,
     "metadata": {},
     "output_type": "execute_result"
    }
   ],
   "source": [
    "x"
   ]
  },
  {
   "cell_type": "code",
   "execution_count": 30,
   "id": "massive-character",
   "metadata": {},
   "outputs": [
    {
     "data": {
      "text/plain": [
       "(96, 32, 8)"
      ]
     },
     "execution_count": 30,
     "metadata": {},
     "output_type": "execute_result"
    }
   ],
   "source": [
    "x.strides"
   ]
  },
  {
   "cell_type": "markdown",
   "id": "previous-tournament",
   "metadata": {},
   "source": [
    "The basic reshaping technique changes the `numpy.shape` attribute. In the preceding example, we have an array whose shape is `(24, 1)`, and after altering the shape attribute, we obtain an array of the same size but the shape has been changed to `2x3x4`. Note that `-1` in a shape means the remaining shape size of the transferred array."
   ]
  },
  {
   "cell_type": "markdown",
   "id": "careful-filename",
   "metadata": {},
   "source": [
    "The following example is to reshape a `100x100x100` array back to just one dimension; here, we apply two functions, `numpy.flatten()` and `numpy.ravel()`, to collapse the array, and at the same time, we also compare the execution time. We notice that the speed difference between `numpy.flatten()` and `numpy.ravel()` is huge, but both of them are much faster than three layers of Python looping. The difference in performance between the two functions is that `np.flatten()` creates a copy from the original array, while `np.ravel()` just changes the view (if you don't remember the difference between copies and views, go back a bit to previous sections on how numpy manages memory section)."
   ]
  },
  {
   "cell_type": "code",
   "execution_count": 52,
   "id": "apart-counter",
   "metadata": {},
   "outputs": [],
   "source": [
    "x = np.arange(1000000)"
   ]
  },
  {
   "cell_type": "code",
   "execution_count": 53,
   "id": "general-final",
   "metadata": {},
   "outputs": [],
   "source": [
    "x.shape = 100, 100, 100"
   ]
  },
  {
   "cell_type": "code",
   "execution_count": 40,
   "id": "realistic-printer",
   "metadata": {},
   "outputs": [
    {
     "name": "stdout",
     "output_type": "stream",
     "text": [
      "462 ns ± 10.9 ns per loop (mean ± std. dev. of 7 runs, 1000000 loops each)\n"
     ]
    }
   ],
   "source": [
    "%timeit x.flatten() "
   ]
  },
  {
   "cell_type": "code",
   "execution_count": 41,
   "id": "historical-control",
   "metadata": {},
   "outputs": [
    {
     "name": "stdout",
     "output_type": "stream",
     "text": [
      "142 ns ± 3.36 ns per loop (mean ± std. dev. of 7 runs, 10000000 loops each)\n"
     ]
    }
   ],
   "source": [
    "%timeit x.ravel()"
   ]
  },
  {
   "cell_type": "markdown",
   "id": "collectible-watershed",
   "metadata": {},
   "source": [
    "This example simply shows you that NumPy offers many functions and some of them can produce same results; pick up the function that satisfies your purpose and, at the same time, provides you with optimized performance."
   ]
  },
  {
   "cell_type": "markdown",
   "id": "alive-entry",
   "metadata": {},
   "source": [
    "## Broadcasting\n",
    "\n",
    "NumPy operations are mostly done element-wise, which requires two arrays in an operation to have the same shape; however, this doesn't mean that NumPy operations can't take two differently shaped arrays (refer to the first example we looked at with scalars). NumPy provides the flexibility to broadcast a smaller-sized array across a larger one. But we can't broadcast the array to just about any shape. It needs to follow certain constrains; we will be covering them in this section. One key idea to keep in mind is that broadcasting involves performing meaningful operations over two differently shaped arrays. However, inappropriate broadcasting might lead to an inefficient use of memory that slows down computation."
   ]
  },
  {
   "cell_type": "markdown",
   "id": "juvenile-baker",
   "metadata": {},
   "source": [
    "### Broadcasting rules"
   ]
  },
  {
   "cell_type": "markdown",
   "id": "downtown-committee",
   "metadata": {},
   "source": [
    "The general rule for broadcasting is to determine whether two arrays are compatible with dimensioning. There are two conditions that need to be met:\n",
    "\n",
    "- Two arrays should be of equal dimensions\n",
    "- One of them is 1"
   ]
  },
  {
   "cell_type": "markdown",
   "id": "interior-bearing",
   "metadata": {},
   "source": [
    "If the preceding conditions are not met, a ValueError exception will be thrown to indicate that the arrays have incompatible shapes. Now, we are going through three examples to take a look at how broadcasting rules work:"
   ]
  },
  {
   "cell_type": "code",
   "execution_count": 58,
   "id": "competitive-coating",
   "metadata": {},
   "outputs": [],
   "source": [
    "x = np.array([[0, 0, 0], [10, 10, 10], [20, 20, 20]]) "
   ]
  },
  {
   "cell_type": "code",
   "execution_count": 59,
   "id": "adapted-howard",
   "metadata": {},
   "outputs": [
    {
     "data": {
      "text/plain": [
       "array([[ 0,  0,  0],\n",
       "       [10, 10, 10],\n",
       "       [20, 20, 20]])"
      ]
     },
     "execution_count": 59,
     "metadata": {},
     "output_type": "execute_result"
    }
   ],
   "source": [
    "x"
   ]
  },
  {
   "cell_type": "code",
   "execution_count": 60,
   "id": "bizarre-publicity",
   "metadata": {},
   "outputs": [],
   "source": [
    "y = np.array([1, 2, 3]) "
   ]
  },
  {
   "cell_type": "code",
   "execution_count": 61,
   "id": "arctic-enforcement",
   "metadata": {},
   "outputs": [
    {
     "data": {
      "text/plain": [
       "array([1, 2, 3])"
      ]
     },
     "execution_count": 61,
     "metadata": {},
     "output_type": "execute_result"
    }
   ],
   "source": [
    "y"
   ]
  },
  {
   "cell_type": "code",
   "execution_count": 62,
   "id": "needed-jurisdiction",
   "metadata": {},
   "outputs": [
    {
     "data": {
      "text/plain": [
       "array([[ 1,  2,  3],\n",
       "       [11, 12, 13],\n",
       "       [21, 22, 23]])"
      ]
     },
     "execution_count": 62,
     "metadata": {},
     "output_type": "execute_result"
    }
   ],
   "source": [
    "x + y"
   ]
  },
  {
   "cell_type": "markdown",
   "id": "certified-wayne",
   "metadata": {},
   "source": [
    "Let's make the preceding code into a graph to help us understand broadcasting. The `x` variable has a shape of `(3, 3)`, while `y` only has a shape of `3`. But in NumPy broadcasting, the shape of `y` is translated to `3` by `1`; therefore, the second condition of the rule has been met. `y` has been broadcast to the same shape of `x` by repeating it. The `+` operation can apply element-wise."
   ]
  },
  {
   "cell_type": "markdown",
   "id": "signal-consent",
   "metadata": {},
   "source": [
    "<img src=\"../images/broadcasting-1.png\" alt=\"broadcasting-1\" width=500 align=\"left\" />"
   ]
  },
  {
   "cell_type": "markdown",
   "id": "senior-corporation",
   "metadata": {},
   "source": [
    "Next, we are going to show you the result of broadcasting both arrays:"
   ]
  },
  {
   "cell_type": "code",
   "execution_count": 64,
   "id": "hybrid-sustainability",
   "metadata": {},
   "outputs": [],
   "source": [
    "x = np.array([[0], [10], [20]]) "
   ]
  },
  {
   "cell_type": "code",
   "execution_count": 66,
   "id": "accessory-certificate",
   "metadata": {},
   "outputs": [
    {
     "data": {
      "text/plain": [
       "((3, 1), (3,))"
      ]
     },
     "execution_count": 66,
     "metadata": {},
     "output_type": "execute_result"
    }
   ],
   "source": [
    "x.shape, y.shape"
   ]
  },
  {
   "cell_type": "code",
   "execution_count": 67,
   "id": "capable-valuation",
   "metadata": {},
   "outputs": [
    {
     "data": {
      "text/plain": [
       "array([[ 1,  2,  3],\n",
       "       [11, 12, 13],\n",
       "       [21, 22, 23]])"
      ]
     },
     "execution_count": 67,
     "metadata": {},
     "output_type": "execute_result"
    }
   ],
   "source": [
    "x + y"
   ]
  },
  {
   "cell_type": "markdown",
   "id": "gorgeous-playing",
   "metadata": {},
   "source": [
    "The preceding example shows you how both `x` and `y` are broadcast. `x` is broadcast by the column, while `y` is broadcast by the row since both of them have dimension that are equal to 1 in terms of their shape. The second broadcasting condition has been met, and the new result array is a `3` by `3` array."
   ]
  },
  {
   "cell_type": "markdown",
   "id": "formed-authorization",
   "metadata": {},
   "source": [
    "<img src=\"../images/broadcasting-2.jpg\" alt=\"broadcasting-2\" width=500 align=\"left\" />"
   ]
  },
  {
   "cell_type": "markdown",
   "id": "hazardous-receipt",
   "metadata": {},
   "source": [
    "Let's take a look of our last example, which two arrays can't meet the requirement of broadcasting rules:"
   ]
  },
  {
   "cell_type": "code",
   "execution_count": 69,
   "id": "demanding-moment",
   "metadata": {},
   "outputs": [],
   "source": [
    "x = np.array([[0, 0, 0], [10, 10, 10], [20, 20, 20]])"
   ]
  },
  {
   "cell_type": "code",
   "execution_count": 70,
   "id": "amended-netherlands",
   "metadata": {},
   "outputs": [],
   "source": [
    "y = np.arange(1, 5) "
   ]
  },
  {
   "cell_type": "code",
   "execution_count": 71,
   "id": "every-fortune",
   "metadata": {},
   "outputs": [
    {
     "ename": "ValueError",
     "evalue": "operands could not be broadcast together with shapes (3,3) (4,) ",
     "output_type": "error",
     "traceback": [
      "\u001b[0;31m---------------------------------------------------------------------------\u001b[0m",
      "\u001b[0;31mValueError\u001b[0m                                Traceback (most recent call last)",
      "\u001b[0;32m<ipython-input-71-cd60f97aa77f>\u001b[0m in \u001b[0;36m<module>\u001b[0;34m\u001b[0m\n\u001b[0;32m----> 1\u001b[0;31m \u001b[0mx\u001b[0m \u001b[0;34m+\u001b[0m \u001b[0my\u001b[0m\u001b[0;34m\u001b[0m\u001b[0;34m\u001b[0m\u001b[0m\n\u001b[0m",
      "\u001b[0;31mValueError\u001b[0m: operands could not be broadcast together with shapes (3,3) (4,) "
     ]
    }
   ],
   "source": [
    "x + y"
   ]
  },
  {
   "cell_type": "markdown",
   "id": "recognized-punch",
   "metadata": {},
   "source": [
    "In the third example, broadcasting can't be performed due to `x` and `y` as they have different shapes in the row dimension and none of them are equal to `1`. Thus, none of the broadcasting conditions can be met. NumPy throws `ValueError`, telling you that the shape is incompatible."
   ]
  },
  {
   "cell_type": "markdown",
   "id": "documented-juvenile",
   "metadata": {},
   "source": [
    "<img src=\"../images/broadcasting-3.jpg\" alt=\"broadcasting-3\" width=500 align=\"left\" />"
   ]
  },
  {
   "cell_type": "markdown",
   "id": "offensive-inside",
   "metadata": {},
   "source": [
    "Understanding broadcasting is an important part of mastering vectorized calculations, and vectorized calculations are the way to write clean, idiomatic NumPy code."
   ]
  }
 ],
 "metadata": {
  "kernelspec": {
   "display_name": "Python 3",
   "language": "python",
   "name": "python3"
  },
  "language_info": {
   "codemirror_mode": {
    "name": "ipython",
    "version": 3
   },
   "file_extension": ".py",
   "mimetype": "text/x-python",
   "name": "python",
   "nbconvert_exporter": "python",
   "pygments_lexer": "ipython3",
   "version": "3.7.9"
  },
  "nteract": {
   "version": "nteract-on-jupyter@2.1.3"
  }
 },
 "nbformat": 4,
 "nbformat_minor": 5
}
