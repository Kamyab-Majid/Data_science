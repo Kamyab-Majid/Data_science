{
 "cells": [
  {
   "cell_type": "markdown",
   "id": "appointed-atmosphere",
   "metadata": {},
   "source": [
    "# Linear Algebra\n",
    "\n",
    "NumPy is designed for numeric computations; underneath the hood it is still the powerful `ndarray` object, but at the same time NumPy provides different types of objects to solve mathematical problems. "
   ]
  },
  {
   "cell_type": "markdown",
   "id": "applied-substance",
   "metadata": {},
   "source": [
    "In this section, we will cover the matrix object and polynomial object to help you solve problems using a non-ndarray way. Again, NumPy provides a lot of standard mathematical algorithms and supports multi-dimensional data. While a matrix can't perform three-dimensional data, using the `ndarray` objects with the NumPy functions of linear algebra and polynomials is more preferable"
   ]
  },
  {
   "cell_type": "markdown",
   "id": "acute-obligation",
   "metadata": {},
   "source": [
    "## The `matrix` class"
   ]
  },
  {
   "cell_type": "markdown",
   "id": "express-market",
   "metadata": {},
   "source": [
    "For linear algebra, using matrices might be more straightforward. The matrix object in NumPy inherits all the attributes and methods from `ndarray`, but it's strictly two-dimensional, while `ndarray` can be multi-dimensional. The well-known advantage of using NumPy matrices is that they provide matrix multiplication as the `*` notation; for example, if `x` and `y` are matrices, `x * y` is their matrix product. However, starting from Python 3.5/NumPy 1.10, native matrix multiplication is supported with the new operator `@`."
   ]
  },
  {
   "cell_type": "markdown",
   "id": "patient-thousand",
   "metadata": {},
   "source": [
    "However, matrix objects still provide convenient conversion such as inverse and conjugate transpose while an `ndarray` does not. "
   ]
  },
  {
   "cell_type": "code",
   "execution_count": 1,
   "id": "general-eagle",
   "metadata": {},
   "outputs": [],
   "source": [
    "import numpy as np"
   ]
  },
  {
   "cell_type": "code",
   "execution_count": 2,
   "id": "ceramic-inquiry",
   "metadata": {},
   "outputs": [],
   "source": [
    "nd_array = np.arange(9).reshape(3,3)"
   ]
  },
  {
   "cell_type": "code",
   "execution_count": 3,
   "id": "alpine-language",
   "metadata": {},
   "outputs": [],
   "source": [
    "x = np.matrix(nd_array)"
   ]
  },
  {
   "cell_type": "code",
   "execution_count": 4,
   "id": "chronic-jackson",
   "metadata": {},
   "outputs": [],
   "source": [
    "# equivalent to np.matrix(data, copy = False)\n",
    "y = np.mat(np.identity(3))"
   ]
  },
  {
   "cell_type": "code",
   "execution_count": 5,
   "id": "welsh-quantity",
   "metadata": {},
   "outputs": [
    {
     "data": {
      "text/plain": [
       "matrix([[0, 1, 2],\n",
       "        [3, 4, 5],\n",
       "        [6, 7, 8]])"
      ]
     },
     "execution_count": 5,
     "metadata": {},
     "output_type": "execute_result"
    }
   ],
   "source": [
    "x"
   ]
  },
  {
   "cell_type": "code",
   "execution_count": 6,
   "id": "outdoor-organic",
   "metadata": {},
   "outputs": [
    {
     "data": {
      "text/plain": [
       "matrix([[1., 0., 0.],\n",
       "        [0., 1., 0.],\n",
       "        [0., 0., 1.]])"
      ]
     },
     "execution_count": 6,
     "metadata": {},
     "output_type": "execute_result"
    }
   ],
   "source": [
    "y"
   ]
  },
  {
   "cell_type": "markdown",
   "id": "happy-constitutional",
   "metadata": {},
   "source": [
    "There are a couple of ways to create or convert to a NumPy matrix object, and the more preferred way is to use `numpy.mat()` or `numpy.matrix()`. Both methods create matrices, but `numpy.matrix()` creates a copy while `numpy.mat()` changes the view only; it's equivalent to `numpy.matrix(data, copy = False)`. "
   ]
  },
  {
   "cell_type": "markdown",
   "id": "limited-sleeve",
   "metadata": {},
   "source": [
    "In the previous example, we create two matrices, both of which are from the `ndarray `object (the `np.identity(3)` returns a `3 x 3` identity array). Of course you can use a string or list to create a matrix, for example: `np.matrix('0 1 2; 3 4 5; 6 7 8')`, and `np.matrix([[0,1,2],[3,4,5],[6,7,8]])` will create the same matrix as `x`."
   ]
  },
  {
   "cell_type": "code",
   "execution_count": 7,
   "id": "individual-pixel",
   "metadata": {},
   "outputs": [
    {
     "data": {
      "text/plain": [
       "matrix([[0, 1, 2],\n",
       "        [3, 4, 5],\n",
       "        [6, 7, 8]])"
      ]
     },
     "execution_count": 7,
     "metadata": {},
     "output_type": "execute_result"
    }
   ],
   "source": [
    "np.matrix('0 1 2; 3 4 5; 6 7 8')"
   ]
  },
  {
   "cell_type": "code",
   "execution_count": 8,
   "id": "absent-vintage",
   "metadata": {},
   "outputs": [
    {
     "data": {
      "text/plain": [
       "matrix([[0, 1, 2],\n",
       "        [3, 4, 5],\n",
       "        [6, 7, 8]])"
      ]
     },
     "execution_count": 8,
     "metadata": {},
     "output_type": "execute_result"
    }
   ],
   "source": [
    "np.mat('0 1 2; 3 4 5; 6 7 8')"
   ]
  },
  {
   "cell_type": "markdown",
   "id": "desirable-syndication",
   "metadata": {},
   "source": [
    "In the following example, we are going to do some basic matrix operations:"
   ]
  },
  {
   "cell_type": "code",
   "execution_count": 9,
   "id": "quick-jacob",
   "metadata": {},
   "outputs": [
    {
     "data": {
      "text/plain": [
       "matrix([[1., 1., 2.],\n",
       "        [3., 5., 5.],\n",
       "        [6., 7., 9.]])"
      ]
     },
     "execution_count": 9,
     "metadata": {},
     "output_type": "execute_result"
    }
   ],
   "source": [
    "x + y"
   ]
  },
  {
   "cell_type": "code",
   "execution_count": 10,
   "id": "warming-phenomenon",
   "metadata": {},
   "outputs": [
    {
     "data": {
      "text/plain": [
       "matrix([[ 15,  18,  21],\n",
       "        [ 42,  54,  66],\n",
       "        [ 69,  90, 111]])"
      ]
     },
     "execution_count": 10,
     "metadata": {},
     "output_type": "execute_result"
    }
   ],
   "source": [
    "x * x"
   ]
  },
  {
   "cell_type": "code",
   "execution_count": 11,
   "id": "about-sperm",
   "metadata": {},
   "outputs": [
    {
     "data": {
      "text/plain": [
       "array([[ 15,  18,  21],\n",
       "       [ 42,  54,  66],\n",
       "       [ 69,  90, 111]])"
      ]
     },
     "execution_count": 11,
     "metadata": {},
     "output_type": "execute_result"
    }
   ],
   "source": [
    "np.dot(nd_array, nd_array)"
   ]
  },
  {
   "cell_type": "code",
   "execution_count": 12,
   "id": "electronic-crossing",
   "metadata": {},
   "outputs": [
    {
     "data": {
      "text/plain": [
       "matrix([[ 180,  234,  288],\n",
       "        [ 558,  720,  882],\n",
       "        [ 936, 1206, 1476]])"
      ]
     },
     "execution_count": 12,
     "metadata": {},
     "output_type": "execute_result"
    }
   ],
   "source": [
    "x ** 3"
   ]
  },
  {
   "cell_type": "code",
   "execution_count": 13,
   "id": "flexible-hormone",
   "metadata": {},
   "outputs": [],
   "source": [
    "z = np.matrix(np.random.randint(1, 50, 9).reshape(3,3)) "
   ]
  },
  {
   "cell_type": "code",
   "execution_count": 14,
   "id": "genuine-award",
   "metadata": {},
   "outputs": [
    {
     "data": {
      "text/plain": [
       "matrix([[ 6, 24, 21],\n",
       "        [18,  6,  4],\n",
       "        [ 9, 48, 21]])"
      ]
     },
     "execution_count": 14,
     "metadata": {},
     "output_type": "execute_result"
    }
   ],
   "source": [
    "z"
   ]
  },
  {
   "cell_type": "code",
   "execution_count": 18,
   "id": "christian-plasma",
   "metadata": {},
   "outputs": [
    {
     "data": {
      "text/plain": [
       "matrix([[-0.00785153,  0.05995717, -0.00356888],\n",
       "        [-0.04068522, -0.00749465,  0.04211278],\n",
       "        [ 0.09635974, -0.00856531, -0.04710921]])"
      ]
     },
     "execution_count": 18,
     "metadata": {},
     "output_type": "execute_result"
    }
   ],
   "source": [
    "z.I"
   ]
  },
  {
   "cell_type": "code",
   "execution_count": 19,
   "id": "rubber-yeast",
   "metadata": {},
   "outputs": [
    {
     "data": {
      "text/plain": [
       "matrix([[ 6, 18,  9],\n",
       "        [24,  6, 48],\n",
       "        [21,  4, 21]])"
      ]
     },
     "execution_count": 19,
     "metadata": {},
     "output_type": "execute_result"
    }
   ],
   "source": [
    "z.H"
   ]
  },
  {
   "cell_type": "markdown",
   "id": "understood-evolution",
   "metadata": {},
   "source": [
    "You can see from the previous example that, when we use the `*` notation, it applies the matrix multiplication as you use `numpy.dot()` for `ndarray` (we will talk about this in the next section). Also, the `**` power notation is done in a matrix way. We also created a matrix `z` from random functions to show when the matrix is invertible (not singular). You can obtain the inverse matrix using `numpy.matrix.I`. We can also do a conjugate (Hermitian) transpose using `numpy.matrix.H`."
   ]
  },
  {
   "cell_type": "markdown",
   "id": "documented-facial",
   "metadata": {},
   "source": [
    "Now we know how to create a matrix object and do some basic operations, it's time for some practice. Let's try to solve a simple linear equation. Suppose we have a linear equation as $A x = b$ and we want to know the value of $x$. A possible solution will be as follows:\n",
    "\n",
    "$$\n",
    "A^{-1}A x = A^{-1} b \\\\\n",
    "I x = A^{-1} b \\\\\n",
    "x = A^{-1} b\n",
    "$$"
   ]
  },
  {
   "cell_type": "markdown",
   "id": "otherwise-dressing",
   "metadata": {},
   "source": [
    "We obtain `x` by multiplying the inverse of `A` and `b`, so let's do this with `numpy.matrix`:"
   ]
  },
  {
   "cell_type": "code",
   "execution_count": 20,
   "id": "pressed-growing",
   "metadata": {},
   "outputs": [],
   "source": [
    "A = np.mat('3 1 4; 1 5 9; 2 6 5') \n",
    "b = np.mat([[1],[2],[3]])\n",
    "x = A.I * b"
   ]
  },
  {
   "cell_type": "code",
   "execution_count": 21,
   "id": "direct-venue",
   "metadata": {},
   "outputs": [
    {
     "data": {
      "text/plain": [
       "matrix([[ 0.26666667],\n",
       "        [ 0.46666667],\n",
       "        [-0.06666667]])"
      ]
     },
     "execution_count": 21,
     "metadata": {},
     "output_type": "execute_result"
    }
   ],
   "source": [
    "x"
   ]
  },
  {
   "cell_type": "code",
   "execution_count": 22,
   "id": "supported-definition",
   "metadata": {},
   "outputs": [
    {
     "data": {
      "text/plain": [
       "matrix([[1.],\n",
       "        [2.],\n",
       "        [3.]])"
      ]
     },
     "execution_count": 22,
     "metadata": {},
     "output_type": "execute_result"
    }
   ],
   "source": [
    "A * x"
   ]
  },
  {
   "cell_type": "code",
   "execution_count": 23,
   "id": "reserved-champion",
   "metadata": {},
   "outputs": [
    {
     "data": {
      "text/plain": [
       "matrix([[1],\n",
       "        [2],\n",
       "        [3]])"
      ]
     },
     "execution_count": 23,
     "metadata": {},
     "output_type": "execute_result"
    }
   ],
   "source": [
    "b"
   ]
  },
  {
   "cell_type": "code",
   "execution_count": 24,
   "id": "suspended-confidence",
   "metadata": {},
   "outputs": [
    {
     "data": {
      "text/plain": [
       "matrix([[False],\n",
       "        [False],\n",
       "        [ True]])"
      ]
     },
     "execution_count": 24,
     "metadata": {},
     "output_type": "execute_result"
    }
   ],
   "source": [
    "A * x == b"
   ]
  },
  {
   "cell_type": "code",
   "execution_count": 26,
   "id": "partial-julian",
   "metadata": {},
   "outputs": [
    {
     "data": {
      "text/plain": [
       "True"
      ]
     },
     "execution_count": 26,
     "metadata": {},
     "output_type": "execute_result"
    }
   ],
   "source": [
    "np.allclose(A * x, b)"
   ]
  },
  {
   "cell_type": "markdown",
   "id": "classified-bahrain",
   "metadata": {},
   "source": [
    "We obtained `x`, and we used `numpy.allclose()` to compare the **LHS** and the **RHS** within a tolerance. The default absolute tolerance is `1e-8`. The result returns `True`, meaning that LHS and RHS are equal within the tolerance, which verifies our solution. Though `numpy.matrix()` takes an ordinary matrix form, in most cases ndarray would be good enough for you to do linear algebra."
   ]
  },
  {
   "cell_type": "markdown",
   "id": "promotional-steering",
   "metadata": {},
   "source": [
    "Now we will simply compare the performance between ndarray and matrix:"
   ]
  },
  {
   "cell_type": "code",
   "execution_count": 27,
   "id": "antique-capacity",
   "metadata": {},
   "outputs": [],
   "source": [
    "x = np.arange(25000000).reshape(5000,5000) "
   ]
  },
  {
   "cell_type": "code",
   "execution_count": 28,
   "id": "completed-maximum",
   "metadata": {},
   "outputs": [],
   "source": [
    "y = np.mat(x)"
   ]
  },
  {
   "cell_type": "code",
   "execution_count": 29,
   "id": "independent-fisher",
   "metadata": {},
   "outputs": [
    {
     "name": "stdout",
     "output_type": "stream",
     "text": [
      "90.4 ns ± 2.41 ns per loop (mean ± std. dev. of 7 runs, 10000000 loops each)\n"
     ]
    }
   ],
   "source": [
    "%timeit x.T"
   ]
  },
  {
   "cell_type": "code",
   "execution_count": 30,
   "id": "equal-faith",
   "metadata": {},
   "outputs": [
    {
     "name": "stdout",
     "output_type": "stream",
     "text": [
      "482 ns ± 21.8 ns per loop (mean ± std. dev. of 7 runs, 1000000 loops each)\n"
     ]
    }
   ],
   "source": [
    "%timeit y.T"
   ]
  },
  {
   "cell_type": "markdown",
   "id": "located-legend",
   "metadata": {},
   "source": [
    "This example shows a huge performance difference between ndarray and matrix when doing a transpose. Both `x` and `y` have 5,000 by 5,000 elements, but `x` is a two-dimensional ndarray, while `y` converted it to the same shape matrix. The NumPy matrix will always do operations in the matrix way, even if the computation has been optimized by NumPy."
   ]
  },
  {
   "cell_type": "markdown",
   "id": "qualified-chile",
   "metadata": {},
   "source": [
    "While `ndarray` here by default reverses the dimensions instead of permuting the axes (the matrix always permutes the axes), that's a huge performance improvement trick done in `ndarray`. Therefore, `ndarray` is preferred when doing linear algebra especially for large sets of data considering its performance. Use `matrix` only when necessary. Before we go on to the next section, let's go through two more `matrix` object properties that convert a `matrix` to a basic `ndarray`:"
   ]
  },
  {
   "cell_type": "code",
   "execution_count": 31,
   "id": "raised-torture",
   "metadata": {},
   "outputs": [
    {
     "data": {
      "text/plain": [
       "array([[3, 1, 4],\n",
       "       [1, 5, 9],\n",
       "       [2, 6, 5]])"
      ]
     },
     "execution_count": 31,
     "metadata": {},
     "output_type": "execute_result"
    }
   ],
   "source": [
    "A.A"
   ]
  },
  {
   "cell_type": "code",
   "execution_count": 32,
   "id": "capable-configuration",
   "metadata": {},
   "outputs": [
    {
     "data": {
      "text/plain": [
       "array([3, 1, 4, 1, 5, 9, 2, 6, 5])"
      ]
     },
     "execution_count": 32,
     "metadata": {},
     "output_type": "execute_result"
    }
   ],
   "source": [
    "A.A1"
   ]
  },
  {
   "cell_type": "markdown",
   "id": "compliant-adrian",
   "metadata": {},
   "source": [
    "The previous examples use the matrix `A` we created in the linear equation practice. `numpy.matrix.A` returns the basic ndarray and `numpy.matrix.A1` returns a one-dimensional ndarray."
   ]
  },
  {
   "cell_type": "markdown",
   "id": "proved-hughes",
   "metadata": {},
   "source": [
    "## Products\n",
    "\n",
    "There are five vector products we will cover here:"
   ]
  },
  {
   "cell_type": "markdown",
   "id": "adjustable-happening",
   "metadata": {},
   "source": [
    "###  `np.dot`"
   ]
  },
  {
   "cell_type": "code",
   "execution_count": 45,
   "id": "white-harassment",
   "metadata": {},
   "outputs": [],
   "source": [
    "x = np.array([[1, 2], [3, 4]])"
   ]
  },
  {
   "cell_type": "code",
   "execution_count": 47,
   "id": "precise-contrary",
   "metadata": {},
   "outputs": [],
   "source": [
    "y = np.array([[10, 20], [30, 40]])"
   ]
  },
  {
   "cell_type": "code",
   "execution_count": 48,
   "id": "least-hebrew",
   "metadata": {},
   "outputs": [
    {
     "data": {
      "text/plain": [
       "array([[ 70, 100],\n",
       "       [150, 220]])"
      ]
     },
     "execution_count": 48,
     "metadata": {},
     "output_type": "execute_result"
    }
   ],
   "source": [
    "np.dot(x, y)"
   ]
  },
  {
   "cell_type": "markdown",
   "id": "extended-shannon",
   "metadata": {},
   "source": [
    "The `numpy.dot()` function performs matrix multiplication, and the detailed calculation is shown here:\n",
    "\n",
    "<img src=\"../images/np_dot.jpg\" alt=\"numpy-dot-product\" width=500 align=\"left\" />"
   ]
  },
  {
   "cell_type": "markdown",
   "id": "damaged-selling",
   "metadata": {},
   "source": [
    "### `np.vdot`"
   ]
  },
  {
   "cell_type": "markdown",
   "id": "funded-zoning",
   "metadata": {},
   "source": [
    "`numpy.vdot()` handles multi-dimensional arrays differently than `numpy.dot()`. It does not perform a matrix product, but flattens input arguments to one-dimensional vectors first"
   ]
  },
  {
   "cell_type": "code",
   "execution_count": 49,
   "id": "sealed-phrase",
   "metadata": {},
   "outputs": [
    {
     "data": {
      "text/plain": [
       "300"
      ]
     },
     "execution_count": 49,
     "metadata": {},
     "output_type": "execute_result"
    }
   ],
   "source": [
    "np.vdot(x, y)"
   ]
  },
  {
   "cell_type": "markdown",
   "id": "fantastic-storage",
   "metadata": {},
   "source": [
    "The detailed calculation of `numpy.vdot()` is as follows:\n",
    "\n",
    "<img src=\"../images/np_vdot.jpg\" alt=\"numpy-vdot-product\" width=500 align=\"left\" />"
   ]
  },
  {
   "cell_type": "markdown",
   "id": "chicken-burner",
   "metadata": {},
   "source": [
    "### `np.outer`"
   ]
  },
  {
   "cell_type": "markdown",
   "id": "valuable-occupation",
   "metadata": {},
   "source": [
    "The `numpy.outer()` function is the outer product of two vectors. It flattens the input arrays if they are not one-dimensional. Let's say that the flattened input vector `A` has shape `(M, )` and the flattened input vector `B` has shape `(N, )`. Then the result shape would be `(M, N)`:"
   ]
  },
  {
   "cell_type": "code",
   "execution_count": 52,
   "id": "adjacent-sugar",
   "metadata": {},
   "outputs": [
    {
     "data": {
      "text/plain": [
       "array([[ 10,  20,  30,  40],\n",
       "       [ 20,  40,  60,  80],\n",
       "       [ 30,  60,  90, 120],\n",
       "       [ 40,  80, 120, 160]])"
      ]
     },
     "execution_count": 52,
     "metadata": {},
     "output_type": "execute_result"
    }
   ],
   "source": [
    "np.outer(x,y)"
   ]
  },
  {
   "cell_type": "markdown",
   "id": "afraid-biodiversity",
   "metadata": {},
   "source": [
    "The detailed calculation of `numpy.outer()` is as follows:\n",
    "\n",
    "<img src=\"../images/np_outerdot.jpg\" alt=\"numpy-outer-product\" width=500 align=\"left\" />"
   ]
  },
  {
   "cell_type": "markdown",
   "id": "static-concert",
   "metadata": {},
   "source": [
    "### `np.cross`"
   ]
  },
  {
   "cell_type": "markdown",
   "id": "moral-edgar",
   "metadata": {},
   "source": [
    "The last one is the `numpy.cross()` product, a binary operation of two vectors (and it can only work for vectors) in three-dimensional space, the result of which is a vector perpendicular to both input data `(a,b)`. If you are not familiar with the outer product, please refer to https://en.wikipedia.org/wiki/Cross_product."
   ]
  },
  {
   "cell_type": "markdown",
   "id": "fitting-cameroon",
   "metadata": {},
   "source": [
    "The following example shows that `a` and `b` are arrays of vectors, and the cross product of `(a,b)` and `(b,a)`:"
   ]
  },
  {
   "cell_type": "code",
   "execution_count": 54,
   "id": "forward-applicant",
   "metadata": {},
   "outputs": [],
   "source": [
    "a = np.array([1, 0, 0])"
   ]
  },
  {
   "cell_type": "code",
   "execution_count": 55,
   "id": "numeric-appearance",
   "metadata": {},
   "outputs": [],
   "source": [
    "b = np.array([0, 1, 0])"
   ]
  },
  {
   "cell_type": "code",
   "execution_count": 56,
   "id": "spatial-calcium",
   "metadata": {},
   "outputs": [
    {
     "data": {
      "text/plain": [
       "array([0, 0, 1])"
      ]
     },
     "execution_count": 56,
     "metadata": {},
     "output_type": "execute_result"
    }
   ],
   "source": [
    "np.cross(a,b)"
   ]
  },
  {
   "cell_type": "code",
   "execution_count": 57,
   "id": "disabled-behavior",
   "metadata": {},
   "outputs": [
    {
     "data": {
      "text/plain": [
       "array([ 0,  0, -1])"
      ]
     },
     "execution_count": 57,
     "metadata": {},
     "output_type": "execute_result"
    }
   ],
   "source": [
    "np.cross(b,a)"
   ]
  },
  {
   "cell_type": "markdown",
   "id": "integrated-mississippi",
   "metadata": {},
   "source": [
    "A detailed calculation is shown in the following graph, and the cross-product of two vectors `a` and `b` is denoted by `a x b`:\n",
    "\n",
    "<img src=\"../images/axb.jpg\" alt=\"numpy-axb\" width=500 align=\"left\" />"
   ]
  },
  {
   "cell_type": "markdown",
   "id": "finished-inquiry",
   "metadata": {},
   "source": [
    "The previous functions are provided by NumPy for standard vector routines. Now we are going to talk about the key topic of this section: the `numpy.linalg` sub-modules for linear algebra. Using the NumPy ndarray with `numpy.linalg` would be better than using `numpy.matrix()`."
   ]
  },
  {
   "cell_type": "markdown",
   "id": "considered-apartment",
   "metadata": {},
   "source": [
    "> **Note:** If you have `scipy` as a dependency to your program, `scipy.linalg` has more advanced functions such as trigonometric functions in matrix, and more decomposition choices than `numpy.linalg`. However, NumPy includes all the basic operations."
   ]
  },
  {
   "cell_type": "markdown",
   "id": "pacific-uncle",
   "metadata": {},
   "source": [
    "## `ndarray` Linear Algebra\n",
    "\n",
    "In the following examples, we will go through the rest of the basic operations of `numpy.linalg` and use them to solve the linear equation in the matrix section:"
   ]
  },
  {
   "cell_type": "code",
   "execution_count": 58,
   "id": "intended-pixel",
   "metadata": {},
   "outputs": [],
   "source": [
    "x = np.array([[4,8],[7,9]]) "
   ]
  },
  {
   "cell_type": "code",
   "execution_count": 59,
   "id": "alternate-being",
   "metadata": {},
   "outputs": [
    {
     "data": {
      "text/plain": [
       "-20.000000000000007"
      ]
     },
     "execution_count": 59,
     "metadata": {},
     "output_type": "execute_result"
    }
   ],
   "source": [
    "np.linalg.det(x)"
   ]
  },
  {
   "cell_type": "markdown",
   "id": "monthly-peace",
   "metadata": {},
   "source": [
    "The previous example computes the determinant of a square array. Of course we can use `numpy.linalg.inv()` to compute the inverse of an array, just as we use `numpy.matrix.I`:"
   ]
  },
  {
   "cell_type": "code",
   "execution_count": 60,
   "id": "animated-bishop",
   "metadata": {},
   "outputs": [
    {
     "data": {
      "text/plain": [
       "array([[-0.45,  0.4 ],\n",
       "       [ 0.35, -0.2 ]])"
      ]
     },
     "execution_count": 60,
     "metadata": {},
     "output_type": "execute_result"
    }
   ],
   "source": [
    "np.linalg.inv(x)"
   ]
  },
  {
   "cell_type": "code",
   "execution_count": 61,
   "id": "occupied-jurisdiction",
   "metadata": {},
   "outputs": [
    {
     "data": {
      "text/plain": [
       "matrix([[-0.45,  0.4 ],\n",
       "        [ 0.35, -0.2 ]])"
      ]
     },
     "execution_count": 61,
     "metadata": {},
     "output_type": "execute_result"
    }
   ],
   "source": [
    "np.mat(x).I"
   ]
  },
  {
   "cell_type": "markdown",
   "id": "devoted-spanish",
   "metadata": {},
   "source": [
    "From the previous example, we can see that `numpy.linalg.inv()` provides an identical result to `numpy.matrix.I`. The only difference is that `numpy.linalg` returns ndarray."
   ]
  },
  {
   "cell_type": "markdown",
   "id": "worst-translation",
   "metadata": {},
   "source": [
    "Next, we will go back to the linear equation $A x = b$ again, to see how we can use `numpy.linalg.solve()` to achieve the same result as using the `matrix` object:"
   ]
  },
  {
   "cell_type": "code",
   "execution_count": 62,
   "id": "hybrid-drink",
   "metadata": {},
   "outputs": [],
   "source": [
    "x = np.linalg.solve(A,b) "
   ]
  },
  {
   "cell_type": "code",
   "execution_count": 63,
   "id": "proper-policy",
   "metadata": {},
   "outputs": [
    {
     "data": {
      "text/plain": [
       "array([-0.21111111, -0.07777778,  0.17777778])"
      ]
     },
     "execution_count": 63,
     "metadata": {},
     "output_type": "execute_result"
    }
   ],
   "source": [
    "x"
   ]
  },
  {
   "cell_type": "markdown",
   "id": "twenty-european",
   "metadata": {},
   "source": [
    "`numpy.linalg.solve(A,b)` computes the solution for `x`, where the first input parameter (`A`) stands for the coefficient array and the second parameter (`b`) stands for the coordinate or dependent variable values. The `numpy.linalg.solve()` function honored the input data type. In the example, we use matrices as input, so the output also returns a matrix `x`. We can also use the `ndarray` as our inputs."
   ]
  },
  {
   "cell_type": "markdown",
   "id": "divine-luxury",
   "metadata": {},
   "source": [
    "When doing linear algebra with NumPy, it's better to use only one data type, either `ndarray` or `matrix`. It's not recommended to have a mixed type in the calculation. One reason is to reduce the conversion between different data types; the other reason is to avoid unexpected errors in the computation with two types. Since `ndarray` has fewer restrictions on data dimensions and can perform all matrix-like operations, using `ndarray` with `numpy.linalg`, is preferred over `matrix`."
   ]
  },
  {
   "cell_type": "markdown",
   "id": "representative-career",
   "metadata": {},
   "source": [
    "## Decomposition\n",
    "\n",
    "There are there decompositions provided by numpy.linalg and in this section, we will cover two that are the most commonly used: **singular value decomposition (svd)** and **QR factorization**. Let's start by computing the **eigenvalues** and **eigenvectors** first."
   ]
  },
  {
   "cell_type": "markdown",
   "id": "removed-chapter",
   "metadata": {},
   "source": [
    "> Before we get started, if you are not familiar with eigenvalues and eigenvectors, you may review them at https://en.wikipedia.org/wiki/Eigenvalues_and_eigenvectors. Let's start:"
   ]
  },
  {
   "cell_type": "code",
   "execution_count": 64,
   "id": "czech-southeast",
   "metadata": {},
   "outputs": [],
   "source": [
    "x = np.random.randint(0, 10, 9).reshape(3,3)"
   ]
  },
  {
   "cell_type": "code",
   "execution_count": 65,
   "id": "charged-class",
   "metadata": {},
   "outputs": [],
   "source": [
    "w, v = np.linalg.eig(x)"
   ]
  },
  {
   "cell_type": "code",
   "execution_count": 68,
   "id": "searching-process",
   "metadata": {},
   "outputs": [
    {
     "data": {
      "text/plain": [
       "array([12.87715332+0.j        , -2.43857666+2.42016424j,\n",
       "       -2.43857666-2.42016424j])"
      ]
     },
     "execution_count": 68,
     "metadata": {},
     "output_type": "execute_result"
    }
   ],
   "source": [
    "w"
   ]
  },
  {
   "cell_type": "code",
   "execution_count": 69,
   "id": "adverse-service",
   "metadata": {},
   "outputs": [
    {
     "data": {
      "text/plain": [
       "array([[ 0.56669725+0.j        , -0.4348928 -0.39009698j,\n",
       "        -0.4348928 +0.39009698j],\n",
       "       [ 0.66046889+0.j        , -0.25608806+0.26726508j,\n",
       "        -0.25608806-0.26726508j],\n",
       "       [ 0.49258002+0.j        ,  0.7222748 +0.j        ,\n",
       "         0.7222748 -0.j        ]])"
      ]
     },
     "execution_count": 69,
     "metadata": {},
     "output_type": "execute_result"
    }
   ],
   "source": [
    "v"
   ]
  },
  {
   "cell_type": "markdown",
   "id": "seeing-sitting",
   "metadata": {},
   "source": [
    "In the previous example, first we created a `3 x 3` `ndarray` using `numpy.random.randint()` and we computed the eigenvalues and eigenvectors using `np.linalg.eig()`. The function returns two tuples: the first one is the eigenvalues, each repeated according to its multiplicity, and the second one is the normalized eigenvectors, in which column `v[: , i]` is the eigenvector corresponding to the eigenvalue `w[i]`. In this example, we unpacked the tuples into `w` and `v`."
   ]
  },
  {
   "cell_type": "markdown",
   "id": "dried-filing",
   "metadata": {},
   "source": [
    "If the input ndarray is complex-valued, the computed eigenvectors would be the complex type too, as you can see in the following example:"
   ]
  },
  {
   "cell_type": "code",
   "execution_count": 70,
   "id": "bridal-supervision",
   "metadata": {},
   "outputs": [],
   "source": [
    "y = np.array([[1, 2j],[-3j, 4]])"
   ]
  },
  {
   "cell_type": "code",
   "execution_count": 71,
   "id": "numerical-walnut",
   "metadata": {},
   "outputs": [
    {
     "data": {
      "text/plain": [
       "(array([-0.37228132+0.j,  5.37228132+0.j]),\n",
       " array([[ 0.82456484+0.j        , -0.        +0.41597356j],\n",
       "        [-0.        +0.56576746j,  0.90937671+0.j        ]]))"
      ]
     },
     "execution_count": 71,
     "metadata": {},
     "output_type": "execute_result"
    }
   ],
   "source": [
    "np.linalg.eig(y)"
   ]
  },
  {
   "cell_type": "markdown",
   "id": "innovative-experience",
   "metadata": {},
   "source": [
    "`svd` can be thought of as an extension of the eigenvalue. We can use `numpy.linalg.svd()` to decompose an `M x N` array, so let's start with a simple example"
   ]
  },
  {
   "cell_type": "code",
   "execution_count": 76,
   "id": "ethical-advisory",
   "metadata": {},
   "outputs": [],
   "source": [
    "A = np.array([3,1,4,1,5,9,2,6,5]).reshape(3,3)"
   ]
  },
  {
   "cell_type": "code",
   "execution_count": 77,
   "id": "lesbian-stevens",
   "metadata": {},
   "outputs": [],
   "source": [
    "u, sigma, vh = np.linalg.svd(A)"
   ]
  },
  {
   "cell_type": "code",
   "execution_count": 78,
   "id": "multiple-lancaster",
   "metadata": {},
   "outputs": [
    {
     "data": {
      "text/plain": [
       "array([[-0.32463251,  0.79898436,  0.50619929],\n",
       "       [-0.75307473,  0.1054674 , -0.64942672],\n",
       "       [-0.57226932, -0.59203093,  0.56745679]])"
      ]
     },
     "execution_count": 78,
     "metadata": {},
     "output_type": "execute_result"
    }
   ],
   "source": [
    "u"
   ]
  },
  {
   "cell_type": "code",
   "execution_count": 79,
   "id": "liquid-batch",
   "metadata": {},
   "outputs": [
    {
     "data": {
      "text/plain": [
       "array([[-0.21141476, -0.55392606, -0.80527617],\n",
       "       [ 0.46331722, -0.78224635,  0.41644663],\n",
       "       [ 0.86060499,  0.28505536, -0.42202191]])"
      ]
     },
     "execution_count": 79,
     "metadata": {},
     "output_type": "execute_result"
    }
   ],
   "source": [
    "vh"
   ]
  },
  {
   "cell_type": "code",
   "execution_count": 80,
   "id": "previous-nepal",
   "metadata": {},
   "outputs": [
    {
     "data": {
      "text/plain": [
       "array([13.58235799,  2.84547726,  2.32869289])"
      ]
     },
     "execution_count": 80,
     "metadata": {},
     "output_type": "execute_result"
    }
   ],
   "source": [
    "sigma"
   ]
  },
  {
   "cell_type": "markdown",
   "id": "cathedral-child",
   "metadata": {},
   "source": [
    "In this example, `numpy.linalg.svd()` returned three tuples of arrays and we unpacked it into three variables: `u`, `sigma`, and `vh`, in which `u` stands for the left-singular vectors of `A` (eigenvectors of $AA^{-1}$), `vh` is the inverse matrix of the right singular vectors of `A` (eigenvectors of ($(A^{-1}A)^{-1}$), and `sigma` is the non-zero singular values of `A` (eigenvalues of both $AA^{-1}$ and $A^{-1}A$). In the example, there are three eigenvalues and they were returned in order. You might be suspicious about the result, so let's do some math to verify it:"
   ]
  },
  {
   "cell_type": "code",
   "execution_count": 81,
   "id": "coral-namibia",
   "metadata": {},
   "outputs": [],
   "source": [
    "diag_sigma = np.diag(sigma)"
   ]
  },
  {
   "cell_type": "code",
   "execution_count": 82,
   "id": "vulnerable-railway",
   "metadata": {},
   "outputs": [
    {
     "data": {
      "text/plain": [
       "array([[13.58235799,  0.        ,  0.        ],\n",
       "       [ 0.        ,  2.84547726,  0.        ],\n",
       "       [ 0.        ,  0.        ,  2.32869289]])"
      ]
     },
     "execution_count": 82,
     "metadata": {},
     "output_type": "execute_result"
    }
   ],
   "source": [
    "diag_sigma "
   ]
  },
  {
   "cell_type": "code",
   "execution_count": 83,
   "id": "elementary-genesis",
   "metadata": {},
   "outputs": [],
   "source": [
    "Av = u.dot(diag_sigma).dot(vh)"
   ]
  },
  {
   "cell_type": "code",
   "execution_count": 84,
   "id": "endless-channels",
   "metadata": {},
   "outputs": [
    {
     "data": {
      "text/plain": [
       "array([[3., 1., 4.],\n",
       "       [1., 5., 9.],\n",
       "       [2., 6., 5.]])"
      ]
     },
     "execution_count": 84,
     "metadata": {},
     "output_type": "execute_result"
    }
   ],
   "source": [
    "Av"
   ]
  },
  {
   "cell_type": "code",
   "execution_count": 85,
   "id": "lesbian-intranet",
   "metadata": {},
   "outputs": [
    {
     "data": {
      "text/plain": [
       "True"
      ]
     },
     "execution_count": 85,
     "metadata": {},
     "output_type": "execute_result"
    }
   ],
   "source": [
    "np.allclose(A, Av)"
   ]
  },
  {
   "cell_type": "markdown",
   "id": "hairy-government",
   "metadata": {},
   "source": [
    "The input array `A` can be translated to $U\\Sigma V^*$ in `svd`, where $\\Sigma$ is the vector of singular values. However, the returned `sigma` from NumPy is an array with non-zero values, and we need to make it into a vector, so in this example the shape would be `(3,3)`. We first use `numpy.diag()` to make `sigma` a diagonal matrix called `diag_sigma`. Then we just perform a matrix multiplication between `u`, `diag_sigma`, and `vh`, to check that the calculated result (`Av`) is identical to the original input `A`, meaning we verified the `svd` result."
   ]
  },
  {
   "cell_type": "markdown",
   "id": "killing-giving",
   "metadata": {},
   "source": [
    "**QR decomposition**, sometimes called polar decomposition, works for any `M x N` array and decomposes it into an orthogonal matrix (Q) and an upper triangular matrix (R). Let's try to use it to solve the previous $Ax = b$ problem:"
   ]
  },
  {
   "cell_type": "code",
   "execution_count": 86,
   "id": "lightweight-philosophy",
   "metadata": {},
   "outputs": [],
   "source": [
    "b = np.array([1, 2, 3]).reshape(3, 1) "
   ]
  },
  {
   "cell_type": "code",
   "execution_count": 87,
   "id": "placed-limitation",
   "metadata": {},
   "outputs": [],
   "source": [
    "q, r = np.linalg.qr(A) "
   ]
  },
  {
   "cell_type": "code",
   "execution_count": 88,
   "id": "light-giving",
   "metadata": {},
   "outputs": [],
   "source": [
    "x = np.dot(np.linalg.inv(r), np.dot(q.T, b))"
   ]
  },
  {
   "cell_type": "code",
   "execution_count": 89,
   "id": "fifth-analysis",
   "metadata": {},
   "outputs": [
    {
     "data": {
      "text/plain": [
       "array([[ 0.26666667],\n",
       "       [ 0.46666667],\n",
       "       [-0.06666667]])"
      ]
     },
     "execution_count": 89,
     "metadata": {},
     "output_type": "execute_result"
    }
   ],
   "source": [
    "x"
   ]
  },
  {
   "cell_type": "markdown",
   "id": "superb-messenger",
   "metadata": {},
   "source": [
    "We decomposed `A` using `numpy.linalg.qr()` to obtain `q` and `r`. So now the original equation is translated into $(q * r)x = b$. We can obtain `x` using matrix multiplication (the dot product) of inverse `r` and inverse `q` and `b`. Since `q` is a unitary matrix, we used transpose instead of inverse. As you can see, the result `x` is the same as when we used matrix and `numpy.linalg.solve()`; it's just another way to solve the linear problem."
   ]
  },
  {
   "cell_type": "markdown",
   "id": "institutional-exploration",
   "metadata": {},
   "source": [
    "## Polynomial mathematics\n",
    "\n",
    "NumPy also provides methods to work with polynomials, and includes a package called `numpy.polynomial` to create, manipulate, and fit the polynomials. A common application of this would be interpolation and extrapolation. In this section, our focus is still on using `ndarray` with NumPy functions instead of using polynomial instances."
   ]
  },
  {
   "cell_type": "markdown",
   "id": "subtle-alloy",
   "metadata": {},
   "source": [
    "As we stated in the matrix class section, using `ndarray` with NumPy functions is preferred since `ndarray` can be accepted in any functions while matrix and polynomial objects need to be converted, especially when communicating to other programs. Both of them provided handy properties, but in most cases `ndarray` would be good enough."
   ]
  },
  {
   "cell_type": "markdown",
   "id": "rubber-artwork",
   "metadata": {},
   "source": [
    "In this section, we will cover how to calculate the coefficients based on a set of roots, and how to solve a polynomial equation, and finally we will evaluate integrals and derivatives. Let's start by calculating the coefficients of a polynomial:"
   ]
  },
  {
   "cell_type": "code",
   "execution_count": 90,
   "id": "mighty-biology",
   "metadata": {},
   "outputs": [],
   "source": [
    "root = np.array([1, 2, 3, 4]) "
   ]
  },
  {
   "cell_type": "code",
   "execution_count": 91,
   "id": "afraid-booking",
   "metadata": {},
   "outputs": [
    {
     "data": {
      "text/plain": [
       "array([  1., -10.,  35., -50.,  24.])"
      ]
     },
     "execution_count": 91,
     "metadata": {},
     "output_type": "execute_result"
    }
   ],
   "source": [
    "np.poly(root)"
   ]
  },
  {
   "cell_type": "markdown",
   "id": "extensive-picking",
   "metadata": {},
   "source": [
    "`numpy.poly()` returned a one-dimensional array of polynomial coefficients whose roots are the given array `root` from the highest to lowest exponents. In this example, we take the root array `[1,2,3,4]` and return the polynomial, which is equivalent to $x^4 - 10x^3 + 35x^2 - 50x + 24$."
   ]
  },
  {
   "cell_type": "markdown",
   "id": "italian-vault",
   "metadata": {},
   "source": [
    "One thing we need be careful about is that the input roots array should be a one-dimensional or square two-dimensional array, or a ValueError will be triggered. Of course, we can also perform the opposite operation: calculating the roots based on the coefficients using `numpy.roots()`:"
   ]
  },
  {
   "cell_type": "code",
   "execution_count": 97,
   "id": "impaired-usage",
   "metadata": {},
   "outputs": [
    {
     "data": {
      "text/plain": [
       "array([4., 3., 2., 1.])"
      ]
     },
     "execution_count": 97,
     "metadata": {},
     "output_type": "execute_result"
    }
   ],
   "source": [
    "np.roots([1, -10, 35, -50, 24])"
   ]
  },
  {
   "cell_type": "markdown",
   "id": "neural-zambia",
   "metadata": {},
   "source": [
    "Now, let's say we have the equation $y = x^4 - 10x^3 + 35x^2 - 50x + 24$, and we want to know the value of `y` when `x = 5`. We can use `numpy.polyval()` to calculate this:"
   ]
  },
  {
   "cell_type": "code",
   "execution_count": 98,
   "id": "considerable-february",
   "metadata": {},
   "outputs": [
    {
     "data": {
      "text/plain": [
       "24"
      ]
     },
     "execution_count": 98,
     "metadata": {},
     "output_type": "execute_result"
    }
   ],
   "source": [
    "np.polyval([1, -10, 35, -50, 24], 5) "
   ]
  },
  {
   "cell_type": "markdown",
   "id": "north-insertion",
   "metadata": {},
   "source": [
    "`numpy.polyval()` takes two input parameters, the first being the coefficient array of the polynomial, and the second one being the specific point value to evaluate the given polynomial. We can also input a sequence of `x`, and the result will return an `ndarray` whose values correspond to the given `x` sequence."
   ]
  },
  {
   "cell_type": "markdown",
   "id": "enhanced-photograph",
   "metadata": {},
   "source": [
    "Next we will talk about **integrals** and **derivatives**. We will continue the example of $x^4 - 10x^3 + 35x^2 - 50^x + 24$:"
   ]
  },
  {
   "cell_type": "code",
   "execution_count": 99,
   "id": "responsible-debut",
   "metadata": {},
   "outputs": [],
   "source": [
    "coef = np.array([1, -10, 35, -50, 24])"
   ]
  },
  {
   "cell_type": "code",
   "execution_count": 100,
   "id": "voluntary-plenty",
   "metadata": {},
   "outputs": [],
   "source": [
    "integral = np.polyint(coef)"
   ]
  },
  {
   "cell_type": "code",
   "execution_count": 101,
   "id": "prescribed-jason",
   "metadata": {},
   "outputs": [
    {
     "data": {
      "text/plain": [
       "array([  0.2       ,  -2.5       ,  11.66666667, -25.        ,\n",
       "        24.        ,   0.        ])"
      ]
     },
     "execution_count": 101,
     "metadata": {},
     "output_type": "execute_result"
    }
   ],
   "source": [
    "integral"
   ]
  },
  {
   "cell_type": "code",
   "execution_count": 102,
   "id": "instant-choir",
   "metadata": {},
   "outputs": [
    {
     "data": {
      "text/plain": [
       "array([ True,  True,  True,  True,  True])"
      ]
     },
     "execution_count": 102,
     "metadata": {},
     "output_type": "execute_result"
    }
   ],
   "source": [
    "np.polyder(integral) == coef"
   ]
  },
  {
   "cell_type": "code",
   "execution_count": 107,
   "id": "primary-decade",
   "metadata": {},
   "outputs": [
    {
     "data": {
      "text/plain": [
       "array([], dtype=int64)"
      ]
     },
     "execution_count": 107,
     "metadata": {},
     "output_type": "execute_result"
    }
   ],
   "source": [
    "np.polyder(coef, 5)"
   ]
  },
  {
   "cell_type": "markdown",
   "id": "eight-reference",
   "metadata": {},
   "source": [
    "In this example, we use `numpy.polyint()` for the integral calculus and the result is equivalent to:\n",
    "\n",
    "$\\frac{1}{5}x^5 - \\frac{1}{4}x^4 + \\frac{35}{3}x^3 - 25x^2 + 24x$\n",
    "\n",
    "The default integration constant is `0`, but we can specify it using the input parameter `k`. You can do some exercises on this by yourself for the integral of a different `k`."
   ]
  },
  {
   "cell_type": "markdown",
   "id": "posted-breathing",
   "metadata": {},
   "source": [
    "In summary, for most cases `ndarray` and NumPy functions can solve problems related to polynomials. They are also a more preferred way since there is less conversion between types in the program, meaning fewer potential issues. However, when dealing with special polynomials, we still need the polynomial package. We are almost done with the math part. In the next section, we will talk about the application of linear algebra."
   ]
  }
 ],
 "metadata": {
  "kernelspec": {
   "display_name": "Python 3",
   "language": "python",
   "name": "python3"
  },
  "language_info": {
   "codemirror_mode": {
    "name": "ipython",
    "version": 3
   },
   "file_extension": ".py",
   "mimetype": "text/x-python",
   "name": "python",
   "nbconvert_exporter": "python",
   "pygments_lexer": "ipython3",
   "version": "3.7.9"
  }
 },
 "nbformat": 4,
 "nbformat_minor": 5
}
