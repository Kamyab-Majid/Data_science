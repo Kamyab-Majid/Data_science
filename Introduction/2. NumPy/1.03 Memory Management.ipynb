{
 "cells": [
  {
   "cell_type": "markdown",
   "id": "bearing-constant",
   "metadata": {},
   "source": [
    "# Memory Management in NumPy"
   ]
  },
  {
   "cell_type": "markdown",
   "id": "absolute-ozone",
   "metadata": {},
   "source": [
    "the very core of NumPy is the ndarray object.<br>\n",
    " We are going to finish ndarray: strides, which will give you memory layout<br>\n",
    "NumPy arrays can deal not only with numbers but also with various types of data;\n",
    " <br>\n",
    " we will talk about record arrays and date time arrays.<br>\n",
    "  Lastly, we will show how to read/write NumPy arrays from/to files."
   ]
  },
  {
   "cell_type": "markdown",
   "id": "nervous-secret",
   "metadata": {},
   "source": [
    "## Internal memory layout of an ndarray"
   ]
  },
  {
   "cell_type": "markdown",
   "id": "nearby-dating",
   "metadata": {},
   "source": [
    "An instance of class `ndarray` consists of a contiguous one-dimensional segment of computer memory (owned by the array, or by some other object), combined with an indexing scheme that maps `N` integers into the location of an item in the block. The ranges in which the indices can vary is specified by the **shape** of the array. How many bytes each item takes and how the bytes are interpreted is defined by the data-type object associated with the array."
   ]
  },
  {
   "cell_type": "markdown",
   "id": "varying-seattle",
   "metadata": {},
   "source": [
    "A particularly interesting attribute of the ndarray object is `flags`. Type the following code:"
   ]
  },
  {
   "cell_type": "code",
   "execution_count": null,
   "id": "1a6ab462-269f-4385-ab9d-ad0998a5f371",
   "metadata": {},
   "outputs": [],
   "source": [
    "!pip install numpy"
   ]
  },
  {
   "cell_type": "code",
   "execution_count": 3,
   "id": "fewer-solid",
   "metadata": {},
   "outputs": [],
   "source": [
    "import numpy as np"
   ]
  },
  {
   "cell_type": "code",
   "execution_count": 2,
   "id": "informational-remains",
   "metadata": {},
   "outputs": [],
   "source": [
    "x = np.array([1, 2, 3])"
   ]
  },
  {
   "cell_type": "code",
   "execution_count": 3,
   "id": "special-davis",
   "metadata": {},
   "outputs": [
    {
     "data": {
      "text/plain": [
       "  C_CONTIGUOUS : True\n",
       "  F_CONTIGUOUS : True\n",
       "  OWNDATA : True\n",
       "  WRITEABLE : True\n",
       "  ALIGNED : True\n",
       "  WRITEBACKIFCOPY : False\n",
       "  UPDATEIFCOPY : False"
      ]
     },
     "execution_count": 3,
     "metadata": {},
     "output_type": "execute_result"
    }
   ],
   "source": [
    "x.flags"
   ]
  },
  {
   "cell_type": "markdown",
   "id": "waiting-luther",
   "metadata": {},
   "source": [
    "The `flags` attribute holds information about the memory layout of the array. The `C_CONTIGUOUS` field in the output indicates whether the array was a C-style array. This means that the indexing of this array is done like a C array. This is also called row-major indexing in the case of 2D arrays. This means that, when moving through the array, the row index is incremented first, and then the column index is incremented. In the case of a multidimensional C-style array, the last dimension is incremented first, followed by the last but one, and so on."
   ]
  },
  {
   "cell_type": "markdown",
   "id": "steady-halifax",
   "metadata": {},
   "source": [
    "Similarly, the `F_CONTIGUOUS` attribute indicates whether the array is a Fortran-style array. Such an array is said to have column-major indexing (R, Julia, and MATLAB use column-major arrays). This means that, when moving through the array, the first index (along the column) is incremented first."
   ]
  },
  {
   "cell_type": "code",
   "execution_count": 4,
   "id": "buried-jason",
   "metadata": {},
   "outputs": [],
   "source": [
    "c_array = np.random.rand(10000, 10000) "
   ]
  },
  {
   "cell_type": "code",
   "execution_count": 5,
   "id": "demanding-dispute",
   "metadata": {},
   "outputs": [],
   "source": [
    "f_array = np.asfortranarray(np.random.rand(10000, 10000)) "
   ]
  },
  {
   "cell_type": "code",
   "execution_count": 6,
   "id": "developing-blues",
   "metadata": {},
   "outputs": [],
   "source": [
    "def sum_row(x):\n",
    "    '''\n",
    "    Given an array `x`, return the sum of its zeroth row.\n",
    "    '''\n",
    "    return np.sum(x[0, :])"
   ]
  },
  {
   "cell_type": "code",
   "execution_count": 7,
   "id": "aquatic-crawford",
   "metadata": {},
   "outputs": [],
   "source": [
    "def sum_col(x):\n",
    "    '''\n",
    "    Given an array `x`, return the sum of its zeroth column.\n",
    "    '''\n",
    "    return np.sum(x[:, 0])"
   ]
  },
  {
   "cell_type": "markdown",
   "id": "specialized-touch",
   "metadata": {},
   "source": [
    "Now, let's test the performance of the two functions on both the arrays using IPython's %timeit magic function:"
   ]
  },
  {
   "cell_type": "code",
   "execution_count": 8,
   "id": "internal-generation",
   "metadata": {},
   "outputs": [
    {
     "name": "stdout",
     "output_type": "stream",
     "text": [
      "7.93 µs ± 345 ns per loop (mean ± std. dev. of 7 runs, 100000 loops each)\n"
     ]
    }
   ],
   "source": [
    "%timeit sum_row(c_array) "
   ]
  },
  {
   "cell_type": "code",
   "execution_count": 9,
   "id": "floating-bunny",
   "metadata": {},
   "outputs": [
    {
     "name": "stdout",
     "output_type": "stream",
     "text": [
      "125 µs ± 2.3 µs per loop (mean ± std. dev. of 7 runs, 10000 loops each)\n"
     ]
    }
   ],
   "source": [
    "%timeit sum_row(f_array) "
   ]
  },
  {
   "cell_type": "code",
   "execution_count": 10,
   "id": "motivated-copper",
   "metadata": {},
   "outputs": [
    {
     "name": "stdout",
     "output_type": "stream",
     "text": [
      "122 µs ± 1.08 µs per loop (mean ± std. dev. of 7 runs, 10000 loops each)\n"
     ]
    }
   ],
   "source": [
    "%timeit sum_col(c_array) "
   ]
  },
  {
   "cell_type": "code",
   "execution_count": 11,
   "id": "innovative-mattress",
   "metadata": {},
   "outputs": [
    {
     "name": "stdout",
     "output_type": "stream",
     "text": [
      "7.57 µs ± 134 ns per loop (mean ± std. dev. of 7 runs, 100000 loops each)\n"
     ]
    }
   ],
   "source": [
    "%timeit sum_col(f_array) "
   ]
  },
  {
   "cell_type": "markdown",
   "id": "generous-texture",
   "metadata": {},
   "source": [
    "As we can see, summing up the row of a C array is much faster than summing up its column. This is because, in a C array, elements in a row are laid out in successive memory locations. The opposite is true for a Fortran array, where the elements of a column are laid out in consecutive memory locations."
   ]
  },
  {
   "cell_type": "markdown",
   "id": "delayed-heath",
   "metadata": {},
   "source": [
    "This is an important distinction and allows you to suitably arrange your data in an array, depending on the kind of algorithm or operation you are performing. Knowing this distinction can help you speed up your code by orders of magnitude."
   ]
  },
  {
   "cell_type": "markdown",
   "id": "several-movement",
   "metadata": {},
   "source": [
    "## Views and Copies"
   ]
  },
  {
   "cell_type": "markdown",
   "id": "eleven-latino",
   "metadata": {},
   "source": [
    "There are primarily two ways of accessing data by slicing and indexing. They are called copies and views: you can either access elements directly from an array, or create a copy of the array that contains only the accessed elements. Since a view is a reference of the original array (in Python, all variables are references), modifying a view modifies the original array too. This is not true for copies."
   ]
  },
  {
   "cell_type": "markdown",
   "id": "outdoor-jewelry",
   "metadata": {},
   "source": [
    "The `may_share_memory` function in NumPy miscellaneous routines can be used to determine whether two arrays are copies or views of each other. "
   ]
  },
  {
   "cell_type": "markdown",
   "id": "behind-bernard",
   "metadata": {},
   "source": [
    "Generally, slicing an array creates a view and indexing it creates a copy. Let us study these differences through a few code snippets. First, let's create a random `100x10` array."
   ]
  },
  {
   "cell_type": "code",
   "execution_count": 13,
   "id": "likely-banks",
   "metadata": {
    "collapsed": true,
    "jupyter": {
     "outputs_hidden": true
    },
    "tags": []
   },
   "outputs": [
    {
     "data": {
      "text/plain": [
       "array([[1.83183442e-01, 5.03727016e-02, 6.91836737e-01, 6.13923627e-01,\n",
       "        1.65589208e-01, 4.49132210e-01, 2.16924950e-01, 7.74187757e-01,\n",
       "        4.63904821e-01, 7.74208842e-01],\n",
       "       [1.31951619e-01, 2.93148677e-01, 6.84048241e-01, 1.83739177e-01,\n",
       "        7.99416356e-02, 9.19033111e-01, 4.43710461e-01, 4.49154985e-01,\n",
       "        7.37933924e-01, 6.98654988e-01],\n",
       "       [4.59235856e-01, 5.04378790e-01, 7.10357961e-01, 1.23245341e-01,\n",
       "        5.97631128e-01, 7.37284685e-01, 8.75775134e-01, 5.96583366e-01,\n",
       "        3.42031460e-01, 7.69751267e-01],\n",
       "       [2.24712354e-01, 4.25445039e-01, 5.69028307e-01, 9.73732544e-02,\n",
       "        6.75193556e-01, 3.16961238e-01, 1.99143184e-01, 9.27786935e-01,\n",
       "        4.57317936e-01, 4.46594401e-01],\n",
       "       [3.77203334e-01, 5.73914536e-01, 6.54710634e-01, 4.33162656e-01,\n",
       "        6.46938407e-01, 5.82295507e-01, 6.79786881e-02, 1.09091260e-01,\n",
       "        3.31205620e-01, 7.81785576e-01],\n",
       "       [9.27846149e-01, 8.22974865e-01, 4.05486924e-01, 8.86290445e-01,\n",
       "        1.13970863e-01, 9.70892951e-01, 5.56226986e-01, 1.22863594e-01,\n",
       "        6.40303631e-01, 8.15976589e-01],\n",
       "       [4.53161410e-01, 3.23101390e-01, 7.30109051e-01, 6.31201695e-01,\n",
       "        4.56809139e-02, 9.64980603e-01, 1.31682531e-01, 6.98255775e-01,\n",
       "        8.77950754e-01, 8.57564535e-01],\n",
       "       [6.40710575e-02, 9.85104197e-01, 9.12641142e-01, 5.98668577e-01,\n",
       "        8.96258679e-01, 3.55776710e-02, 1.57282859e-02, 9.02057132e-01,\n",
       "        2.42629075e-02, 7.48498909e-02],\n",
       "       [5.91827685e-01, 6.83278624e-01, 6.91839419e-01, 7.33002084e-01,\n",
       "        9.16501451e-01, 6.14102232e-01, 4.02470413e-01, 2.62646588e-01,\n",
       "        5.19970632e-01, 3.56086329e-01],\n",
       "       [7.81133808e-01, 9.26626004e-01, 5.94540473e-01, 6.74840809e-01,\n",
       "        9.69475215e-01, 4.45942793e-01, 4.17803813e-02, 7.19761806e-01,\n",
       "        8.28311829e-01, 3.35496344e-01],\n",
       "       [9.44416701e-01, 7.58239467e-01, 9.31466455e-01, 2.32653886e-01,\n",
       "        7.59777153e-01, 2.85941832e-01, 5.29485842e-01, 1.18847948e-01,\n",
       "        2.35560456e-01, 2.90917079e-01],\n",
       "       [5.55731787e-01, 2.57941570e-02, 9.25014089e-01, 1.79168451e-01,\n",
       "        6.61820806e-01, 2.08467230e-01, 8.92871462e-01, 5.29661339e-01,\n",
       "        7.56069222e-01, 3.43522619e-01],\n",
       "       [8.16922824e-01, 4.87670893e-01, 6.76765274e-01, 6.08887492e-01,\n",
       "        6.44116986e-01, 8.86100660e-01, 6.04270234e-01, 2.65919542e-01,\n",
       "        3.37583435e-01, 7.90551486e-01],\n",
       "       [7.73769008e-01, 6.94212195e-01, 2.05443173e-01, 1.42908913e-01,\n",
       "        5.85822616e-01, 7.76534047e-01, 2.44602278e-01, 4.20650333e-01,\n",
       "        5.64561898e-01, 2.85658118e-01],\n",
       "       [8.28853906e-01, 6.79644903e-01, 8.25796075e-01, 4.73232639e-01,\n",
       "        1.65372538e-01, 1.45210237e-01, 9.72282423e-01, 2.73764181e-01,\n",
       "        6.96635345e-01, 8.02686707e-01],\n",
       "       [5.07255579e-01, 3.00176925e-01, 4.59653605e-01, 2.06252653e-01,\n",
       "        4.22079734e-01, 6.58595306e-01, 6.36933818e-01, 1.42155207e-02,\n",
       "        9.34072860e-01, 5.86921782e-01],\n",
       "       [1.76458779e-01, 9.51791695e-01, 3.23771644e-01, 9.16708225e-01,\n",
       "        9.37671655e-01, 5.51987512e-01, 2.92898249e-01, 1.24208151e-02,\n",
       "        8.17579648e-01, 9.82596730e-01],\n",
       "       [4.99109758e-01, 8.65324375e-01, 8.09133159e-01, 2.23649685e-01,\n",
       "        1.71546216e-01, 8.05087425e-01, 2.08733360e-01, 7.38419572e-01,\n",
       "        3.15793689e-01, 1.96230771e-01],\n",
       "       [8.40723057e-01, 7.10621756e-01, 2.93149220e-01, 3.28831952e-01,\n",
       "        7.97545295e-01, 2.53509617e-01, 9.94931406e-01, 5.01917363e-01,\n",
       "        4.04444083e-01, 3.95938427e-02],\n",
       "       [3.97112698e-01, 5.09560808e-01, 1.98841856e-01, 2.76940258e-01,\n",
       "        7.80309962e-01, 3.63780795e-01, 6.67193458e-01, 1.10962784e-01,\n",
       "        2.49334524e-01, 8.07935399e-01],\n",
       "       [4.81557138e-02, 5.49787464e-01, 7.43199499e-01, 7.82190695e-01,\n",
       "        3.85576006e-01, 1.03311764e-01, 1.69908428e-02, 3.26578380e-01,\n",
       "        6.33972813e-01, 5.58559316e-01],\n",
       "       [3.07401900e-01, 4.05807538e-01, 2.11668234e-01, 9.31802385e-01,\n",
       "        9.21504434e-01, 9.05484379e-01, 7.82514130e-01, 4.57433236e-01,\n",
       "        2.31505863e-01, 5.89845204e-01],\n",
       "       [5.41620268e-01, 8.93347682e-01, 1.75535501e-01, 3.92350555e-01,\n",
       "        9.92667425e-01, 5.11133595e-01, 6.80909596e-01, 4.38481105e-02,\n",
       "        7.74937063e-01, 5.85898994e-01],\n",
       "       [7.54480853e-01, 4.47515089e-01, 3.95769437e-01, 5.55974017e-01,\n",
       "        4.64066419e-01, 6.52579737e-01, 6.53085455e-02, 5.50508415e-01,\n",
       "        5.58358450e-01, 6.32785816e-01],\n",
       "       [5.74834919e-01, 8.19925445e-01, 7.64600295e-01, 4.71240816e-02,\n",
       "        7.35829701e-02, 8.44004069e-01, 6.52455658e-01, 3.98037697e-01,\n",
       "        1.31546937e-01, 4.48083297e-01],\n",
       "       [7.46392767e-01, 5.26756856e-01, 3.05055346e-01, 6.87007528e-01,\n",
       "        1.48063799e-01, 2.71399500e-01, 2.50881381e-02, 2.88522375e-01,\n",
       "        2.42211273e-01, 2.51400709e-01],\n",
       "       [3.86387573e-02, 7.50440232e-01, 1.42549824e-01, 9.83426014e-01,\n",
       "        4.35128287e-01, 3.70204525e-01, 1.03070808e-03, 3.14031973e-01,\n",
       "        7.85647915e-01, 1.73318363e-01],\n",
       "       [7.01128486e-01, 2.46888139e-01, 5.77976726e-02, 2.39772532e-01,\n",
       "        3.68437318e-01, 4.19075045e-01, 4.35548134e-01, 1.20773892e-01,\n",
       "        8.51141316e-01, 7.11354583e-01],\n",
       "       [7.41669432e-01, 5.65652754e-01, 3.52612738e-01, 1.31685429e-01,\n",
       "        5.67312409e-01, 7.03898712e-01, 5.79577765e-01, 8.42719542e-01,\n",
       "        6.95669439e-01, 6.80373106e-01],\n",
       "       [7.08142051e-01, 3.26234329e-01, 7.73392509e-01, 2.16507946e-01,\n",
       "        8.12885687e-01, 4.53518233e-01, 7.14914877e-01, 4.79005684e-02,\n",
       "        4.36991110e-01, 8.92489012e-01],\n",
       "       [8.43910414e-01, 4.73438529e-01, 5.68654058e-02, 2.02859704e-01,\n",
       "        3.56507469e-01, 2.20100357e-01, 4.08444141e-01, 5.16370629e-01,\n",
       "        7.43008893e-01, 7.45189411e-01],\n",
       "       [2.14486039e-01, 7.82122616e-02, 6.53584799e-01, 3.01863632e-02,\n",
       "        5.06188322e-01, 3.34758489e-01, 2.52231238e-01, 9.97151807e-01,\n",
       "        8.13417864e-01, 9.07949407e-01],\n",
       "       [2.15431186e-02, 1.38686464e-01, 9.58257157e-01, 5.45207712e-01,\n",
       "        1.02184792e-02, 6.68339655e-03, 1.07224205e-01, 8.12202026e-01,\n",
       "        4.23473759e-01, 3.13273480e-01],\n",
       "       [5.91481037e-01, 4.96608811e-01, 7.51669219e-01, 1.11080600e-01,\n",
       "        5.10751712e-01, 6.75146246e-01, 8.76651879e-01, 7.71725327e-01,\n",
       "        6.42128994e-01, 9.98099101e-01],\n",
       "       [7.37143710e-01, 8.03332849e-01, 9.02386547e-01, 8.34821269e-01,\n",
       "        3.10738091e-01, 1.50455818e-01, 2.90027522e-01, 1.37028494e-01,\n",
       "        2.72152731e-01, 9.80908242e-01],\n",
       "       [5.20712068e-01, 4.13493129e-01, 9.81880766e-01, 6.58950062e-02,\n",
       "        5.73453319e-02, 9.50940688e-01, 2.13277724e-01, 3.57114312e-01,\n",
       "        9.16089207e-01, 5.86405788e-01],\n",
       "       [4.01608070e-01, 9.37816395e-01, 7.69646932e-02, 7.55254734e-01,\n",
       "        5.90576150e-01, 5.60791337e-01, 6.21891015e-01, 4.38889955e-01,\n",
       "        6.05868512e-01, 3.83153802e-01],\n",
       "       [9.96609548e-01, 8.79364691e-01, 9.67382754e-01, 7.73090464e-01,\n",
       "        2.55110114e-01, 2.92242763e-01, 2.03820676e-01, 5.94452322e-01,\n",
       "        2.76511438e-01, 5.14840291e-01],\n",
       "       [1.27346667e-01, 4.41195324e-01, 7.71632691e-01, 2.98366207e-01,\n",
       "        4.66985717e-02, 2.13562553e-01, 7.40859677e-03, 3.71512822e-02,\n",
       "        4.34194264e-01, 5.73434419e-01],\n",
       "       [5.47402544e-01, 1.21135894e-01, 2.34495923e-01, 6.60654244e-01,\n",
       "        7.70214572e-01, 9.68682207e-01, 2.76345774e-01, 2.09765560e-01,\n",
       "        3.93006649e-01, 8.63067334e-01],\n",
       "       [1.18093540e-02, 4.01994513e-01, 5.70093229e-01, 2.70426701e-01,\n",
       "        6.47196920e-01, 4.83176849e-01, 3.74930079e-01, 1.96862116e-01,\n",
       "        1.36911239e-01, 8.00749927e-01],\n",
       "       [1.77957792e-01, 9.21293548e-01, 1.91147506e-01, 6.49889143e-01,\n",
       "        2.31970793e-01, 7.38797247e-01, 8.91112035e-01, 8.42162063e-01,\n",
       "        2.94176990e-01, 1.08311364e-01],\n",
       "       [4.57946699e-01, 4.30965932e-01, 4.89238371e-01, 2.30841167e-01,\n",
       "        1.69259702e-01, 5.06276118e-01, 7.84012245e-01, 9.61332515e-01,\n",
       "        7.62777406e-01, 5.88427656e-01],\n",
       "       [3.53434044e-01, 3.49939061e-01, 1.08023560e-01, 1.81459441e-01,\n",
       "        5.90166812e-01, 6.98453114e-01, 7.26657436e-01, 4.59158221e-01,\n",
       "        4.67366009e-01, 7.85647247e-01],\n",
       "       [6.81872299e-01, 5.30794000e-01, 9.39032580e-01, 4.25954588e-01,\n",
       "        1.62400793e-01, 2.19900544e-01, 3.35049943e-01, 4.44334154e-01,\n",
       "        3.21259166e-01, 6.10251121e-01],\n",
       "       [1.98936689e-01, 4.63566817e-01, 1.55345579e-01, 1.30206683e-01,\n",
       "        1.43216675e-02, 8.90577996e-01, 2.77782621e-01, 4.46695018e-01,\n",
       "        8.82125410e-01, 4.91707860e-01],\n",
       "       [1.18661676e-01, 7.94618887e-01, 3.85239413e-01, 1.08368026e-02,\n",
       "        3.42951741e-01, 6.15141146e-01, 6.12957995e-01, 8.08412781e-01,\n",
       "        7.56876016e-01, 2.54992553e-01],\n",
       "       [9.05121813e-01, 7.78698872e-01, 8.02065197e-01, 6.87315388e-01,\n",
       "        3.70404165e-01, 1.44031689e-01, 1.49079539e-01, 5.78568300e-01,\n",
       "        2.61387333e-01, 2.02319519e-01],\n",
       "       [8.75399071e-02, 8.03108115e-01, 3.69160254e-02, 3.83853786e-01,\n",
       "        1.73414143e-01, 3.54790938e-01, 2.99111209e-01, 2.70882679e-01,\n",
       "        9.75016226e-01, 6.42405724e-01],\n",
       "       [7.99636929e-01, 5.54403470e-01, 8.01044041e-01, 1.26295961e-01,\n",
       "        5.29635655e-01, 3.78818163e-01, 6.82648052e-02, 7.17842989e-01,\n",
       "        9.01181578e-02, 4.63022774e-01],\n",
       "       [6.86721725e-02, 4.54017811e-01, 1.73426139e-01, 3.94633700e-01,\n",
       "        1.01687064e-01, 3.70595924e-01, 9.14815474e-01, 9.88421594e-01,\n",
       "        7.87932749e-01, 1.22231571e-01],\n",
       "       [3.26744609e-01, 9.43962255e-01, 6.07048367e-02, 8.30304891e-01,\n",
       "        1.68408157e-01, 5.26951499e-02, 6.86216822e-01, 1.04251650e-01,\n",
       "        6.96101677e-01, 7.47194267e-01],\n",
       "       [2.88775521e-01, 4.03957851e-01, 1.81627581e-01, 7.69237684e-02,\n",
       "        5.94204382e-01, 7.18744543e-01, 2.87260888e-01, 2.10531360e-01,\n",
       "        7.51996215e-01, 6.82512735e-01],\n",
       "       [8.06171070e-01, 6.04530883e-01, 9.77656023e-01, 6.13330550e-01,\n",
       "        2.72021410e-01, 4.59050176e-01, 5.77473614e-01, 9.72265521e-01,\n",
       "        1.83825863e-01, 3.96835969e-01],\n",
       "       [3.68641355e-01, 8.27810770e-01, 2.77253544e-01, 4.92086606e-01,\n",
       "        3.87732121e-01, 9.78988862e-01, 9.05497778e-01, 6.66596257e-01,\n",
       "        6.73523671e-01, 4.77301934e-02],\n",
       "       [9.94212824e-01, 8.46991416e-01, 8.87705551e-01, 5.58123063e-01,\n",
       "        8.41645271e-01, 6.73135638e-01, 3.76408632e-01, 6.07165896e-01,\n",
       "        4.44232798e-01, 7.10954544e-01],\n",
       "       [4.36240840e-01, 6.47961120e-01, 6.60909785e-02, 4.04216522e-01,\n",
       "        7.43834482e-01, 8.25993124e-01, 5.41835689e-01, 9.82289216e-01,\n",
       "        6.96275859e-01, 4.91228059e-01],\n",
       "       [1.17242939e-01, 9.15264935e-01, 7.97524827e-01, 7.97817339e-01,\n",
       "        8.29683995e-01, 1.81615076e-01, 1.15054346e-01, 7.50540178e-01,\n",
       "        8.55750480e-01, 4.40918052e-01],\n",
       "       [8.37761610e-01, 1.97980483e-01, 3.54084526e-01, 3.72974521e-01,\n",
       "        5.40239261e-01, 7.38572423e-01, 5.45432059e-01, 4.79913708e-01,\n",
       "        3.78572546e-01, 6.49483880e-01],\n",
       "       [4.34698716e-01, 3.00604972e-01, 9.10902847e-01, 1.24208295e-01,\n",
       "        4.52020784e-02, 5.64216507e-01, 3.76745551e-02, 5.99342221e-01,\n",
       "        8.20518614e-01, 5.27591611e-01],\n",
       "       [6.70345719e-01, 5.51953716e-01, 4.37314893e-01, 9.66642933e-01,\n",
       "        1.19165174e-01, 3.59746975e-01, 1.66861009e-01, 2.15664028e-01,\n",
       "        8.74387347e-01, 4.45394600e-01],\n",
       "       [2.91026713e-02, 6.47722115e-01, 5.95274291e-01, 7.95246912e-01,\n",
       "        8.72298833e-01, 1.73376105e-01, 7.14721861e-01, 7.02593138e-01,\n",
       "        6.33577085e-01, 7.48097662e-01],\n",
       "       [1.11148309e-01, 8.08381594e-01, 9.76794033e-01, 5.74332978e-01,\n",
       "        9.00715921e-01, 9.38562610e-01, 9.82257625e-01, 6.92551898e-02,\n",
       "        8.02912179e-01, 3.51338050e-01],\n",
       "       [9.98563586e-01, 9.06226152e-02, 3.03638606e-01, 3.00854076e-01,\n",
       "        3.95109228e-02, 8.02792655e-01, 2.02025788e-01, 3.38302157e-01,\n",
       "        8.08609450e-01, 5.77297219e-03],\n",
       "       [7.20052218e-01, 5.57976534e-01, 6.17989215e-01, 5.57562541e-01,\n",
       "        8.89016838e-01, 7.45114643e-01, 2.99267274e-01, 8.58438449e-01,\n",
       "        1.56855670e-01, 7.66855539e-01],\n",
       "       [6.10350963e-01, 6.90505661e-01, 3.29928685e-01, 9.83463139e-01,\n",
       "        6.19950115e-01, 5.42370598e-01, 7.14607813e-02, 3.15808456e-04,\n",
       "        8.87343540e-01, 8.68485468e-01],\n",
       "       [7.02455129e-01, 8.05932705e-01, 4.77774813e-01, 7.81726552e-01,\n",
       "        8.72018305e-01, 7.32162838e-02, 5.05696296e-02, 3.10500791e-03,\n",
       "        2.15512544e-02, 9.08000244e-01],\n",
       "       [5.13143961e-01, 6.30937374e-01, 5.00337021e-01, 5.03325367e-01,\n",
       "        3.42231093e-01, 2.38558056e-01, 8.68290154e-01, 6.15131229e-01,\n",
       "        7.88766961e-02, 6.07859267e-01],\n",
       "       [7.94485744e-01, 1.71458333e-01, 1.80841683e-01, 9.04429319e-01,\n",
       "        5.60726625e-01, 6.89120503e-01, 6.75201114e-01, 2.53722212e-01,\n",
       "        8.55324290e-01, 3.41471762e-01],\n",
       "       [4.26014728e-01, 4.85857280e-01, 8.48102349e-01, 2.61067335e-01,\n",
       "        7.01062066e-01, 4.71811335e-01, 6.95676697e-02, 9.60194930e-01,\n",
       "        3.23583107e-01, 7.28387704e-01],\n",
       "       [1.05905225e-02, 6.07336874e-01, 2.66571811e-01, 5.13777452e-01,\n",
       "        6.93997684e-01, 8.84203516e-01, 4.81676332e-01, 8.07698677e-01,\n",
       "        5.55935712e-02, 5.14644015e-01],\n",
       "       [9.78862293e-01, 7.64762820e-02, 8.12632843e-01, 2.98096646e-01,\n",
       "        4.97342124e-01, 4.60162170e-01, 9.71648129e-01, 1.97590428e-01,\n",
       "        9.41431608e-01, 8.08867684e-01],\n",
       "       [1.61502553e-01, 2.78278477e-01, 5.65370386e-01, 5.10362827e-01,\n",
       "        3.01132353e-01, 2.15886788e-01, 7.61481094e-02, 4.71328920e-01,\n",
       "        5.12599172e-01, 1.23751625e-01],\n",
       "       [1.17505830e-01, 2.96651777e-01, 2.02806565e-01, 1.52888533e-01,\n",
       "        1.59779947e-01, 2.68810006e-01, 5.40923291e-02, 4.89938053e-01,\n",
       "        2.48633776e-01, 2.71206995e-01],\n",
       "       [3.85257885e-01, 9.11549857e-01, 4.15308950e-01, 1.41024246e-02,\n",
       "        1.39977844e-02, 1.92990139e-01, 2.50891314e-01, 7.43156198e-01,\n",
       "        7.87111990e-01, 7.17034108e-01],\n",
       "       [5.35662530e-01, 3.00630298e-01, 6.06583312e-01, 2.89696645e-01,\n",
       "        2.85775828e-02, 6.28352952e-01, 2.16728071e-01, 2.17739482e-01,\n",
       "        4.58328771e-01, 6.74447845e-02],\n",
       "       [8.57862158e-01, 9.01947880e-01, 3.06990071e-01, 3.37175022e-01,\n",
       "        4.68480392e-01, 6.81184197e-01, 6.03394098e-02, 6.92833355e-01,\n",
       "        2.00150413e-01, 9.38134533e-01],\n",
       "       [2.02076955e-03, 8.81267053e-01, 9.80989381e-02, 3.00631225e-01,\n",
       "        1.34211658e-01, 2.73510492e-01, 4.28938842e-01, 9.88212362e-01,\n",
       "        1.73465236e-01, 6.35222772e-01],\n",
       "       [9.35612540e-01, 3.73649522e-02, 4.44496377e-01, 1.66946631e-01,\n",
       "        4.88536666e-01, 1.98701122e-01, 5.71686629e-01, 4.16919308e-01,\n",
       "        7.25042193e-01, 3.95043180e-01],\n",
       "       [3.60021768e-01, 4.85327057e-02, 5.93004142e-01, 1.06634358e-01,\n",
       "        6.04304790e-01, 2.49215125e-01, 9.44060605e-01, 7.61838696e-01,\n",
       "        2.14764678e-02, 1.31382720e-01],\n",
       "       [1.32707603e-01, 2.39546644e-01, 4.67243328e-01, 8.66099399e-01,\n",
       "        7.64484383e-02, 2.84460073e-01, 7.74485339e-01, 7.79090228e-01,\n",
       "        1.37277263e-01, 5.69844494e-01],\n",
       "       [1.30084965e-01, 9.65968110e-01, 3.87238402e-01, 4.57550681e-01,\n",
       "        6.36587380e-02, 5.61220036e-01, 5.68587598e-01, 4.11272644e-01,\n",
       "        9.50301564e-01, 3.91899500e-01],\n",
       "       [9.06291610e-01, 9.48054870e-01, 8.13570188e-03, 6.63307353e-01,\n",
       "        7.64919472e-01, 6.19297145e-01, 9.89273573e-01, 3.97067087e-02,\n",
       "        8.97283909e-01, 3.35505220e-01],\n",
       "       [3.38371005e-01, 9.98988264e-01, 6.62997875e-01, 7.20144753e-01,\n",
       "        7.58849852e-01, 4.02321668e-01, 6.99961480e-01, 8.35686827e-01,\n",
       "        6.14744865e-01, 5.98268362e-01],\n",
       "       [9.97692472e-01, 7.39686860e-01, 8.31383891e-01, 8.89907379e-01,\n",
       "        6.49019325e-01, 6.17961486e-01, 2.60389629e-01, 8.54161872e-01,\n",
       "        7.69061722e-01, 6.63005476e-01],\n",
       "       [8.73527979e-01, 5.96681439e-01, 7.74164373e-01, 5.18261617e-01,\n",
       "        1.54993571e-01, 2.30885474e-01, 5.15532694e-02, 3.12624433e-01,\n",
       "        7.17887323e-01, 4.91519988e-01],\n",
       "       [8.30030519e-01, 8.74358880e-01, 2.57346899e-01, 1.38979083e-01,\n",
       "        9.17601764e-01, 9.57778143e-01, 4.71432007e-01, 2.66257313e-01,\n",
       "        4.88084424e-01, 3.00387299e-01],\n",
       "       [1.87125195e-01, 6.83403672e-01, 3.24140170e-01, 7.28150865e-01,\n",
       "        5.80848593e-01, 4.19157925e-01, 4.81795979e-01, 8.27911871e-01,\n",
       "        6.43164737e-01, 8.34730131e-01],\n",
       "       [1.53307538e-01, 8.15779083e-01, 2.59851227e-01, 9.93548898e-01,\n",
       "        1.17230792e-01, 6.82846129e-03, 8.97381195e-02, 6.36728855e-01,\n",
       "        7.57852838e-01, 8.63406566e-01],\n",
       "       [4.30913583e-01, 7.54593987e-01, 2.96366094e-01, 8.65425326e-01,\n",
       "        8.24563847e-01, 5.92364340e-01, 5.90646688e-01, 6.61217035e-01,\n",
       "        8.87465680e-01, 4.03937170e-01],\n",
       "       [8.80618579e-01, 6.22496052e-03, 3.54143366e-01, 3.73904421e-01,\n",
       "        4.00005428e-02, 6.79260958e-01, 7.30679340e-02, 5.02722935e-01,\n",
       "        9.13137605e-02, 7.33968258e-01],\n",
       "       [9.92979804e-01, 9.46866791e-01, 4.99224733e-01, 5.29434094e-02,\n",
       "        6.66122827e-01, 4.53764912e-01, 8.44436665e-01, 2.01478897e-01,\n",
       "        9.22185956e-01, 6.63116663e-01],\n",
       "       [7.36446374e-01, 5.18165312e-01, 9.22665997e-01, 3.67088666e-01,\n",
       "        3.22517531e-02, 9.87324285e-01, 1.49320584e-01, 8.59430321e-01,\n",
       "        8.11605789e-01, 9.72570134e-01],\n",
       "       [1.52899966e-01, 1.35166387e-01, 2.44936768e-01, 8.18473802e-01,\n",
       "        4.37122932e-01, 2.69324730e-01, 6.13925638e-01, 7.91359650e-01,\n",
       "        7.56716617e-01, 3.30170315e-01],\n",
       "       [3.28072681e-01, 9.72136487e-01, 1.75334010e-01, 3.19529245e-01,\n",
       "        6.24374865e-01, 9.90749257e-01, 1.40773311e-01, 1.86589150e-02,\n",
       "        1.34075947e-01, 4.47051208e-01],\n",
       "       [9.86166716e-01, 8.27446502e-01, 7.60953449e-01, 7.16718231e-01,\n",
       "        6.23348979e-01, 5.72630007e-01, 4.84058922e-01, 1.37285030e-02,\n",
       "        5.83815358e-01, 6.46462857e-01],\n",
       "       [6.11648008e-01, 8.91289774e-01, 3.41040754e-01, 8.09651279e-01,\n",
       "        9.00664423e-01, 3.09972132e-01, 6.18306011e-02, 5.74890853e-01,\n",
       "        4.54316793e-02, 5.35145294e-01],\n",
       "       [9.67968836e-01, 9.64116193e-01, 8.94920683e-01, 5.82388497e-02,\n",
       "        3.02459472e-01, 8.49475982e-01, 2.46433029e-01, 7.60323154e-02,\n",
       "        2.96950727e-01, 1.16690017e-01],\n",
       "       [9.31308928e-01, 9.89677439e-01, 7.35447933e-01, 2.90853011e-01,\n",
       "        1.55405986e-01, 2.06320489e-01, 6.96440183e-01, 8.14542905e-01,\n",
       "        8.93666275e-01, 1.87544433e-01],\n",
       "       [1.51943702e-01, 8.20532029e-01, 8.45674242e-01, 6.04620631e-01,\n",
       "        1.26112095e-01, 7.10263296e-02, 6.36545608e-02, 8.87735723e-01,\n",
       "        8.74511077e-03, 4.10329966e-01]])"
      ]
     },
     "execution_count": 13,
     "metadata": {},
     "output_type": "execute_result"
    }
   ],
   "source": [
    "x = np.random.rand(100, 10)\n",
    "x"
   ]
  },
  {
   "cell_type": "markdown",
   "id": "nearby-florist",
   "metadata": {},
   "source": [
    "Now, let us extract the first five rows of the array and assign them to variable `y`."
   ]
  },
  {
   "cell_type": "code",
   "execution_count": 14,
   "id": "configured-rapid",
   "metadata": {},
   "outputs": [
    {
     "data": {
      "text/plain": [
       "array([[0.18318344, 0.0503727 , 0.69183674, 0.61392363, 0.16558921,\n",
       "        0.44913221, 0.21692495, 0.77418776, 0.46390482, 0.77420884],\n",
       "       [0.13195162, 0.29314868, 0.68404824, 0.18373918, 0.07994164,\n",
       "        0.91903311, 0.44371046, 0.44915498, 0.73793392, 0.69865499],\n",
       "       [0.45923586, 0.50437879, 0.71035796, 0.12324534, 0.59763113,\n",
       "        0.73728468, 0.87577513, 0.59658337, 0.34203146, 0.76975127],\n",
       "       [0.22471235, 0.42544504, 0.56902831, 0.09737325, 0.67519356,\n",
       "        0.31696124, 0.19914318, 0.92778694, 0.45731794, 0.4465944 ],\n",
       "       [0.37720333, 0.57391454, 0.65471063, 0.43316266, 0.64693841,\n",
       "        0.58229551, 0.06797869, 0.10909126, 0.33120562, 0.78178558]])"
      ]
     },
     "execution_count": 14,
     "metadata": {},
     "output_type": "execute_result"
    }
   ],
   "source": [
    "y = x[:5, :]\n",
    "y"
   ]
  },
  {
   "cell_type": "markdown",
   "id": "naval-pickup",
   "metadata": {},
   "source": [
    "Let us see if `y` is a view of `x`."
   ]
  },
  {
   "cell_type": "code",
   "execution_count": 10,
   "id": "every-initial",
   "metadata": {},
   "outputs": [
    {
     "data": {
      "text/plain": [
       "True"
      ]
     },
     "execution_count": 10,
     "metadata": {},
     "output_type": "execute_result"
    }
   ],
   "source": [
    "np.may_share_memory(x, y)"
   ]
  },
  {
   "cell_type": "markdown",
   "id": "ancient-incentive",
   "metadata": {},
   "source": [
    "Now let us modify the array `y` and see how it affects `x`. Set all the elements of `y` to zero:"
   ]
  },
  {
   "cell_type": "code",
   "execution_count": 52,
   "id": "pending-breach",
   "metadata": {},
   "outputs": [],
   "source": [
    "y[:] = 0 "
   ]
  },
  {
   "cell_type": "code",
   "execution_count": 53,
   "id": "arabic-taylor",
   "metadata": {},
   "outputs": [
    {
     "data": {
      "text/plain": [
       "array([[0., 0., 0., 0., 0., 0., 0., 0., 0., 0.],\n",
       "       [0., 0., 0., 0., 0., 0., 0., 0., 0., 0.],\n",
       "       [0., 0., 0., 0., 0., 0., 0., 0., 0., 0.],\n",
       "       [0., 0., 0., 0., 0., 0., 0., 0., 0., 0.],\n",
       "       [0., 0., 0., 0., 0., 0., 0., 0., 0., 0.]])"
      ]
     },
     "execution_count": 53,
     "metadata": {},
     "output_type": "execute_result"
    }
   ],
   "source": [
    "x[:5, :]"
   ]
  },
  {
   "cell_type": "markdown",
   "id": "norwegian-actor",
   "metadata": {},
   "source": [
    "The code snippet prints out five rows of zeros. This is because `y` was just a view, a reference to `x`."
   ]
  },
  {
   "cell_type": "markdown",
   "id": "mental-product",
   "metadata": {},
   "source": [
    "Next, let's create a copy to see the difference. We use the preceding method that uses a random function to create the `x` array, but this time we initialize the `y` array using `numpy.empty` to create an empty array first and then copy the values from `x` to `y`. So, now `y` is not a view/reference of `x` anymore; it's an independent array but has the same values as part of `x`. Let's use the may_share_memory function again to verify that `y` is the copy of `x`:"
   ]
  },
  {
   "cell_type": "code",
   "execution_count": 58,
   "id": "unavailable-spring",
   "metadata": {},
   "outputs": [],
   "source": [
    "x = np.random.rand(100, 10)\n",
    "y = np.empty([5, 10]) "
   ]
  },
  {
   "cell_type": "code",
   "execution_count": 59,
   "id": "heated-camcorder",
   "metadata": {},
   "outputs": [],
   "source": [
    "y[:] = x[:5, :]"
   ]
  },
  {
   "cell_type": "code",
   "execution_count": 60,
   "id": "hispanic-shock",
   "metadata": {},
   "outputs": [
    {
     "data": {
      "text/plain": [
       "False"
      ]
     },
     "execution_count": 60,
     "metadata": {},
     "output_type": "execute_result"
    }
   ],
   "source": [
    "np.may_share_memory(x, y)"
   ]
  },
  {
   "cell_type": "markdown",
   "id": "developed-curtis",
   "metadata": {},
   "source": [
    "Let's alter the value in `y` and check whether the value of `x` changes as well:"
   ]
  },
  {
   "cell_type": "code",
   "execution_count": 61,
   "id": "dietary-lotus",
   "metadata": {},
   "outputs": [],
   "source": [
    "y[:] = 0"
   ]
  },
  {
   "cell_type": "code",
   "execution_count": 63,
   "id": "phantom-transportation",
   "metadata": {},
   "outputs": [
    {
     "data": {
      "text/plain": [
       "array([[0.22594285, 0.84943588, 0.63799672, 0.90865088, 0.89087029,\n",
       "        0.66289172, 0.41134246, 0.46546459, 0.46927432, 0.34504615],\n",
       "       [0.56702582, 0.04641427, 0.9855564 , 0.40668092, 0.0628503 ,\n",
       "        0.56129959, 0.35503778, 0.22145278, 0.72152542, 0.70329602],\n",
       "       [0.26986364, 0.4927989 , 0.4388591 , 0.15837464, 0.65150918,\n",
       "        0.62545448, 0.47597151, 0.28765198, 0.38625864, 0.56950966],\n",
       "       [0.08818207, 0.9425105 , 0.59893522, 0.61628436, 0.51038646,\n",
       "        0.05008038, 0.85750826, 0.55464599, 0.14657257, 0.56587341],\n",
       "       [0.63737814, 0.30478605, 0.69243957, 0.54875134, 0.55246097,\n",
       "        0.2616949 , 0.26626916, 0.98765586, 0.80260403, 0.03282723]])"
      ]
     },
     "execution_count": 63,
     "metadata": {},
     "output_type": "execute_result"
    }
   ],
   "source": [
    "x[:5, :]"
   ]
  },
  {
   "cell_type": "markdown",
   "id": "aware-poultry",
   "metadata": {},
   "source": [
    "You should see the preceding snippet print out five rows of random numbers as we initialized `x`, so changing `y` to `0` didn't affect `x`."
   ]
  },
  {
   "cell_type": "markdown",
   "id": "b9deffc6",
   "metadata": {},
   "source": [
    "\n",
    "# How does it use the same memory to change the shape??"
   ]
  },
  {
   "cell_type": "markdown",
   "id": "competitive-thursday",
   "metadata": {},
   "source": [
    "## Introducing strides"
   ]
  },
  {
   "cell_type": "markdown",
   "id": "interior-black",
   "metadata": {},
   "source": [
    "Strides are the indexing scheme in NumPy arrays, and indicate the number of bytes to jump to find the next element. We all know the performance improvements of NumPy come from a homogeneous multidimensional array object with fixed-size items, the `numpy.ndarray` object. We've talked about the `shape` (dimension) of the `ndarray` object, the data type, and the order (the C-style row-major indexing arrays and the Fortran style column-major arrays.) Now it's time to take a closer look at **strides**."
   ]
  },
  {
   "cell_type": "markdown",
   "id": "special-pixel",
   "metadata": {},
   "source": [
    "###  Example"
   ]
  },
  {
   "cell_type": "markdown",
   "id": "welsh-speaking",
   "metadata": {},
   "source": [
    "Let's start by creating a NumPy array and changing its shape to see the differences in the strides."
   ]
  },
  {
   "cell_type": "code",
   "execution_count": 11,
   "id": "greek-brush",
   "metadata": {},
   "outputs": [],
   "source": [
    "x = np.arange(8, dtype = np.int8)"
   ]
  },
  {
   "cell_type": "code",
   "execution_count": 12,
   "id": "later-military",
   "metadata": {},
   "outputs": [
    {
     "data": {
      "text/plain": [
       "array([0, 1, 2, 3, 4, 5, 6, 7], dtype=int8)"
      ]
     },
     "execution_count": 12,
     "metadata": {},
     "output_type": "execute_result"
    }
   ],
   "source": [
    "x"
   ]
  },
  {
   "cell_type": "code",
   "execution_count": 13,
   "id": "beneficial-conditions",
   "metadata": {},
   "outputs": [
    {
     "data": {
      "text/plain": [
       "(1,)"
      ]
     },
     "execution_count": 13,
     "metadata": {},
     "output_type": "execute_result"
    }
   ],
   "source": [
    "x.strides"
   ]
  },
  {
   "cell_type": "code",
   "execution_count": 79,
   "id": "southeast-massachusetts",
   "metadata": {},
   "outputs": [
    {
     "data": {
      "text/plain": [
       "<memory at 0x7f416c68f120>"
      ]
     },
     "execution_count": 79,
     "metadata": {},
     "output_type": "execute_result"
    }
   ],
   "source": [
    "x.data"
   ]
  },
  {
   "cell_type": "markdown",
   "id": "geological-munich",
   "metadata": {},
   "source": [
    "A one-dimensional array `x` is created and its data type is NumPy integer 8, which means each element in the array is an 8-bit integer (1 byte each, and a total of 8 bytes). The strides represent the `tuple` of bytes to step in each dimension when traversing an array. In the previous example, it's one dimension, so we obtain the tuple as `(1, )`. Each element is 1 byte apart from its previous element. When we print out `x.data`, we can get the Python buffer object pointing to the start of the data"
   ]
  },
  {
   "cell_type": "markdown",
   "id": "offensive-surface",
   "metadata": {},
   "source": [
    "Change the shape and see the stride change:"
   ]
  },
  {
   "cell_type": "code",
   "execution_count": 14,
   "id": "mineral-zambia",
   "metadata": {},
   "outputs": [],
   "source": [
    "x.shape = 2, 4"
   ]
  },
  {
   "cell_type": "code",
   "execution_count": 17,
   "id": "remarkable-desert",
   "metadata": {},
   "outputs": [
    {
     "data": {
      "text/plain": [
       "(4, 1)"
      ]
     },
     "execution_count": 17,
     "metadata": {},
     "output_type": "execute_result"
    }
   ],
   "source": [
    "x.strides"
   ]
  },
  {
   "cell_type": "markdown",
   "id": "confidential-consolidation",
   "metadata": {},
   "source": [
    "Now we change the dimensions of `x` to `2x4` and check the strides again. We can see it changes to `(4, 1)`, which means the elements in the first dimension are four bytes apart, and the array need to jump four bytes to find the next row, but the elements in the second dimension are still 1 byte apart, jumping one byte to find the next column. Let's print out `x.data` again, and we can see that the memory layout of the data remains the same, but only the strides change. The same behavior occurs when we change the shape to be three dimensional: `1x4x2` arrays. (What if our arrays are constructed by the Fortran style order? How will the strides change due to changing the shapes? Try to create a column-major array and do the same exercise to check this out.)"
   ]
  },
  {
   "cell_type": "code",
   "execution_count": 18,
   "id": "mature-duration",
   "metadata": {},
   "outputs": [],
   "source": [
    "x.shape = 1, 4, 2"
   ]
  },
  {
   "cell_type": "code",
   "execution_count": 19,
   "id": "normal-bookmark",
   "metadata": {},
   "outputs": [
    {
     "data": {
      "text/plain": [
       "(8, 2, 1)"
      ]
     },
     "execution_count": 19,
     "metadata": {},
     "output_type": "execute_result"
    }
   ],
   "source": [
    "x.strides"
   ]
  },
  {
   "cell_type": "code",
   "execution_count": 15,
   "id": "superior-aviation",
   "metadata": {},
   "outputs": [
    {
     "data": {
      "text/plain": [
       "<memory at 0x7f734bf38ba0>"
      ]
     },
     "execution_count": 15,
     "metadata": {},
     "output_type": "execute_result"
    }
   ],
   "source": [
    "x.data"
   ]
  },
  {
   "cell_type": "code",
   "execution_count": 16,
   "id": "c1fb5d43-068c-4919-a06c-bc4d86a7bcdb",
   "metadata": {},
   "outputs": [
    {
     "data": {
      "text/plain": [
       "[0, 2, 4, 6, 8]"
      ]
     },
     "execution_count": 16,
     "metadata": {},
     "output_type": "execute_result"
    }
   ],
   "source": [
    "my_list = [0,1,2,3,4,5,6,7,8]\n",
    "my_list[0::2]"
   ]
  },
  {
   "cell_type": "markdown",
   "id": "swiss-ability",
   "metadata": {},
   "source": [
    "### How can the stride improve our NumPy experience?"
   ]
  },
  {
   "cell_type": "markdown",
   "id": "previous-appreciation",
   "metadata": {},
   "source": [
    "So now we know what a stride is, and its relationship to an ndarray object, but how can the stride improve our NumPy experience? Let's do some stride manipulation to get a better sense of this: two arrays are with same content but have different strides:"
   ]
  },
  {
   "cell_type": "code",
   "execution_count": 18,
   "id": "respiratory-dominant",
   "metadata": {},
   "outputs": [],
   "source": [
    "import numpy as np\n",
    "x = np.ones((10000, )) "
   ]
  },
  {
   "cell_type": "code",
   "execution_count": 19,
   "id": "narrow-wells",
   "metadata": {},
   "outputs": [],
   "source": [
    "y = np.ones((1000000, ))[::100]  # 1000000 = 100 * 10000"
   ]
  },
  {
   "cell_type": "code",
   "execution_count": 20,
   "id": "seasonal-dictionary",
   "metadata": {},
   "outputs": [
    {
     "data": {
      "text/plain": [
       "((10000,), (10000,))"
      ]
     },
     "execution_count": 20,
     "metadata": {},
     "output_type": "execute_result"
    }
   ],
   "source": [
    "x.shape, y.shape"
   ]
  },
  {
   "cell_type": "code",
   "execution_count": 21,
   "id": "quarterly-gospel",
   "metadata": {},
   "outputs": [
    {
     "data": {
      "text/plain": [
       "True"
      ]
     },
     "execution_count": 21,
     "metadata": {},
     "output_type": "execute_result"
    }
   ],
   "source": [
    "(x == y).all()"
   ]
  },
  {
   "cell_type": "markdown",
   "id": "talented-russia",
   "metadata": {},
   "source": [
    "We create two NumPy Arrays, `x` and `y`, and do a comparison; we can see that the two arrays are equal. They have the same shape and all the elements are one, but actually the two arrays are different in terms of memory layout. Let's simply use the flags attribute to check the two arrays' memory layout."
   ]
  },
  {
   "cell_type": "code",
   "execution_count": 22,
   "id": "recent-spectrum",
   "metadata": {},
   "outputs": [
    {
     "data": {
      "text/plain": [
       "  C_CONTIGUOUS : True\n",
       "  F_CONTIGUOUS : True\n",
       "  OWNDATA : True\n",
       "  WRITEABLE : True\n",
       "  ALIGNED : True\n",
       "  WRITEBACKIFCOPY : False\n",
       "  UPDATEIFCOPY : False"
      ]
     },
     "execution_count": 22,
     "metadata": {},
     "output_type": "execute_result"
    }
   ],
   "source": [
    "x.flags"
   ]
  },
  {
   "cell_type": "code",
   "execution_count": 23,
   "id": "black-eating",
   "metadata": {},
   "outputs": [
    {
     "data": {
      "text/plain": [
       "  C_CONTIGUOUS : False\n",
       "  F_CONTIGUOUS : False\n",
       "  OWNDATA : False\n",
       "  WRITEABLE : True\n",
       "  ALIGNED : True\n",
       "  WRITEBACKIFCOPY : False\n",
       "  UPDATEIFCOPY : False"
      ]
     },
     "execution_count": 23,
     "metadata": {},
     "output_type": "execute_result"
    }
   ],
   "source": [
    "y.flags"
   ]
  },
  {
   "cell_type": "markdown",
   "id": "local-things",
   "metadata": {},
   "source": [
    "We can see that the `x` array is continuous in both the C and Fortran order while `y` is not. Let's check the strides for the difference:"
   ]
  },
  {
   "cell_type": "code",
   "execution_count": 24,
   "id": "environmental-afghanistan",
   "metadata": {},
   "outputs": [
    {
     "data": {
      "text/plain": [
       "((8,), (800,))"
      ]
     },
     "execution_count": 24,
     "metadata": {},
     "output_type": "execute_result"
    }
   ],
   "source": [
    "x.strides, y.strides"
   ]
  },
  {
   "cell_type": "markdown",
   "id": "infinite-collect",
   "metadata": {},
   "source": [
    "Array `x` is created continuously, so in the same dimension each element is eight bytes apart (the default `dtype` of `numpy.ones` is a 64-bit float); however, `y` is created from a subset of 10000 * 100 for every 100 elements, so the index schema in the memory layout is not continuous."
   ]
  },
  {
   "cell_type": "markdown",
   "id": "civilian-board",
   "metadata": {},
   "source": [
    "Even though `x` and `y` have the same shape, each element in `y` is 800 bytes apart from each other. When you use NumPy arrays `x` and `y`, you might not notice the difference in indexing, but the memory layout does affect the performance. Let's use the `%timeit` to check this out:"
   ]
  },
  {
   "cell_type": "code",
   "execution_count": 25,
   "id": "honey-blair",
   "metadata": {},
   "outputs": [
    {
     "name": "stdout",
     "output_type": "stream",
     "text": [
      "4.57 µs ± 66.5 ns per loop (mean ± std. dev. of 7 runs, 100000 loops each)\n"
     ]
    }
   ],
   "source": [
    "%timeit x.sum()"
   ]
  },
  {
   "cell_type": "code",
   "execution_count": 26,
   "id": "korean-culture",
   "metadata": {},
   "outputs": [
    {
     "name": "stdout",
     "output_type": "stream",
     "text": [
      "22.5 µs ± 701 ns per loop (mean ± std. dev. of 7 runs, 10000 loops each)\n"
     ]
    }
   ],
   "source": [
    "%timeit y.sum()"
   ]
  },
  {
   "cell_type": "markdown",
   "id": "modern-messaging",
   "metadata": {},
   "source": [
    "Typically with a fixed cache size, when the stride size gets larger, the hit rate (the fraction of memory accessed that finds data in the cache) will be lower, comparatively, while the miss rate (the fraction of memory accessed that has to go to the memory) will be higher. The cache hit time and miss time compose the average data access time. Let's try to look at our example again from the cache perspective. Array `x` with smaller strides is faster than the larger strides of `y`. The reason for the difference in performance is that the CPU is pulling data from the main memory to its cache in blocks, and the smaller stride means fewer transfers are needed. See the following graph for details, where the red line represents the size of the CPU cache, and blue boxes represent the memory layout containing the data."
   ]
  },
  {
   "cell_type": "markdown",
   "id": "isolated-postcard",
   "metadata": {},
   "source": [
    "It's obvious that if `x` and `y` are both required, 100 blue boxes of data, the required cache time for `x` will be less."
   ]
  },
  {
   "cell_type": "markdown",
   "id": "adapted-johnson",
   "metadata": {},
   "source": [
    "<img src=\"../images/cpu-cache.jpg\" alt=\"cpu-cache\" width=500 align=\"left\" />"
   ]
  },
  {
   "cell_type": "markdown",
   "id": "registered-clause",
   "metadata": {},
   "source": [
    "### Stride in N-dimensional `ndarray`"
   ]
  },
  {
   "cell_type": "markdown",
   "id": "norwegian-robertson",
   "metadata": {},
   "source": [
    "A segment of memory is inherently 1-dimensional, and there are many different schemes for arranging the items of an N-dimensional array in a 1-dimensional block. NumPy is flexible, and ndarray objects can accommodate any strided indexing scheme. In a strided scheme, the N-dimensional index (`n_0, n_1, ..., n_{N-1}`) corresponds to the offset (in bytes):\n",
    "\n",
    "$n_{\\text{offset}} = \\sum_{k=0}^{N-1} s_k n_k$\n",
    "\n",
    "from the beginning of the memory block associated with the array. Here, $s_k$ are integers which specify the strides of the array."
   ]
  },
  {
   "cell_type": "code",
   "execution_count": 123,
   "id": "advanced-sacrifice",
   "metadata": {},
   "outputs": [],
   "source": [
    "import numpy as np"
   ]
  },
  {
   "cell_type": "code",
   "execution_count": 124,
   "id": "oriental-brooklyn",
   "metadata": {},
   "outputs": [],
   "source": [
    "x = np.random.rand(3, 4)"
   ]
  },
  {
   "cell_type": "code",
   "execution_count": 125,
   "id": "strategic-scholar",
   "metadata": {},
   "outputs": [
    {
     "data": {
      "text/plain": [
       "(8, 32.0)"
      ]
     },
     "execution_count": 125,
     "metadata": {},
     "output_type": "execute_result"
    }
   ],
   "source": [
    "x.itemsize, x.nbytes / x.shape[0]"
   ]
  },
  {
   "cell_type": "code",
   "execution_count": 126,
   "id": "higher-impossible",
   "metadata": {},
   "outputs": [
    {
     "data": {
      "text/plain": [
       "(32, 8)"
      ]
     },
     "execution_count": 126,
     "metadata": {},
     "output_type": "execute_result"
    }
   ],
   "source": [
    "x.strides"
   ]
  },
  {
   "cell_type": "code",
   "execution_count": 127,
   "id": "revolutionary-radio",
   "metadata": {},
   "outputs": [
    {
     "data": {
      "text/plain": [
       "array([0.86715172, 0.75103058, 0.59647724, 0.96017377, 0.70260017,\n",
       "       0.39786388, 0.03984518, 0.12612843, 0.00936317, 0.49894596,\n",
       "       0.78386359, 0.43940843])"
      ]
     },
     "execution_count": 127,
     "metadata": {},
     "output_type": "execute_result"
    }
   ],
   "source": [
    "# .flatten() returns numpy array\n",
    "x.flatten()"
   ]
  },
  {
   "cell_type": "code",
   "execution_count": 128,
   "id": "appointed-classic",
   "metadata": {},
   "outputs": [
    {
     "data": {
      "text/plain": [
       "array([0.86715172, 0.75103058, 0.59647724, 0.96017377, 0.70260017,\n",
       "       0.39786388, 0.03984518, 0.12612843, 0.00936317, 0.49894596,\n",
       "       0.78386359, 0.43940843])"
      ]
     },
     "execution_count": 128,
     "metadata": {},
     "output_type": "execute_result"
    }
   ],
   "source": [
    "# .flat returns iterator\n",
    "np.array(x.flat)"
   ]
  },
  {
   "cell_type": "code",
   "execution_count": 129,
   "id": "precious-silence",
   "metadata": {},
   "outputs": [
    {
     "data": {
      "text/plain": [
       "array([0.70260017, 0.39786388, 0.03984518, 0.12612843])"
      ]
     },
     "execution_count": 129,
     "metadata": {},
     "output_type": "execute_result"
    }
   ],
   "source": [
    "# a stride of 1 is equal to 32 bytes\n",
    "x[1]"
   ]
  },
  {
   "cell_type": "markdown",
   "id": "fancy-projector",
   "metadata": {},
   "source": [
    "## Conclusion: Why `np.array` not `list`"
   ]
  },
  {
   "cell_type": "code",
   "execution_count": null,
   "id": "graphic-armenia",
   "metadata": {},
   "outputs": [],
   "source": [
    "x = [1, '2', [1, 2, 3]]\n",
    "arr = np.array([1, 2, 3])"
   ]
  },
  {
   "cell_type": "markdown",
   "id": "satisfied-nowhere",
   "metadata": {},
   "source": [
    "list: more memory is needed\n",
    "      homogenous memory in numpy results in more speed  -> different data types\n",
    "      c_array f_array  ---->  which operations are slow which are fast? which axes?\n",
    "      default is memory view in numpy -----> no copy\n",
    "      debug ---> flags, strides, data, (under the hood information)\n",
    "      \n",
    "      vectorization --> beutiy, no foor loop, formula == code\n",
    "      broadcasting --> no broadcasting in python"
   ]
  }
 ],
 "metadata": {
  "kernelspec": {
   "display_name": "Python 3 (ipykernel)",
   "language": "python",
   "name": "python3"
  },
  "language_info": {
   "codemirror_mode": {
    "name": "ipython",
    "version": 3
   },
   "file_extension": ".py",
   "mimetype": "text/x-python",
   "name": "python",
   "nbconvert_exporter": "python",
   "pygments_lexer": "ipython3",
   "version": "3.8.12"
  },
  "nteract": {
   "version": "nteract-on-jupyter@2.1.3"
  }
 },
 "nbformat": 4,
 "nbformat_minor": 5
}
