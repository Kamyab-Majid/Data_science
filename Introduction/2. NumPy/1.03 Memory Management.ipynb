{
 "cells": [
  {
   "cell_type": "markdown",
   "id": "bearing-constant",
   "metadata": {},
   "source": [
    "# Memory Management in NumPy"
   ]
  },
  {
   "cell_type": "markdown",
   "id": "absolute-ozone",
   "metadata": {},
   "source": [
    "ُhe very core of NumPy is the ndarray object. We are going to finish the last important attribute of ndarray: strides, which will give you the full picture of memory layout. Also, it's time to show you that NumPy arrays can deal not only with numbers but also with various types of data; we will talk about record arrays and date time arrays. Lastly, we will show how to read/write NumPy arrays from/to files, and start to do some real-world analysis using NumPy."
   ]
  },
  {
   "cell_type": "markdown",
   "id": "nervous-secret",
   "metadata": {},
   "source": [
    "## Internal memory layout of an ndarray"
   ]
  },
  {
   "cell_type": "markdown",
   "id": "nearby-dating",
   "metadata": {},
   "source": [
    "An instance of class `ndarray` consists of a contiguous one-dimensional segment of computer memory (owned by the array, or by some other object), combined with an indexing scheme that maps `N` integers into the location of an item in the block. The ranges in which the indices can vary is specified by the **shape** of the array. How many bytes each item takes and how the bytes are interpreted is defined by the data-type object associated with the array."
   ]
  },
  {
   "cell_type": "markdown",
   "id": "varying-seattle",
   "metadata": {},
   "source": [
    "A particularly interesting attribute of the ndarray object is `flags`. Type the following code:"
   ]
  },
  {
   "cell_type": "code",
   "execution_count": 1,
   "id": "fewer-solid",
   "metadata": {},
   "outputs": [],
   "source": [
    "import numpy as np"
   ]
  },
  {
   "cell_type": "code",
   "execution_count": 2,
   "id": "informational-remains",
   "metadata": {},
   "outputs": [],
   "source": [
    "x = np.array([1, 2, 3])"
   ]
  },
  {
   "cell_type": "code",
   "execution_count": 3,
   "id": "special-davis",
   "metadata": {},
   "outputs": [
    {
     "data": {
      "text/plain": [
       "  C_CONTIGUOUS : True\n",
       "  F_CONTIGUOUS : True\n",
       "  OWNDATA : True\n",
       "  WRITEABLE : True\n",
       "  ALIGNED : True\n",
       "  WRITEBACKIFCOPY : False\n",
       "  UPDATEIFCOPY : False"
      ]
     },
     "execution_count": 3,
     "metadata": {},
     "output_type": "execute_result"
    }
   ],
   "source": [
    "x.flags"
   ]
  },
  {
   "cell_type": "markdown",
   "id": "waiting-luther",
   "metadata": {},
   "source": [
    "The `flags` attribute holds information about the memory layout of the array. The `C_CONTIGUOUS` field in the output indicates whether the array was a C-style array. This means that the indexing of this array is done like a C array. This is also called row-major indexing in the case of 2D arrays. This means that, when moving through the array, the row index is incremented first, and then the column index is incremented. In the case of a multidimensional C-style array, the last dimension is incremented first, followed by the last but one, and so on."
   ]
  },
  {
   "cell_type": "markdown",
   "id": "steady-halifax",
   "metadata": {},
   "source": [
    "Similarly, the `F_CONTIGUOUS` attribute indicates whether the array is a Fortran-style array. Such an array is said to have column-major indexing (R, Julia, and MATLAB use column-major arrays). This means that, when moving through the array, the first index (along the column) is incremented first."
   ]
  },
  {
   "cell_type": "code",
   "execution_count": 5,
   "id": "buried-jason",
   "metadata": {},
   "outputs": [],
   "source": [
    "c_array = np.random.rand(10000, 10000) "
   ]
  },
  {
   "cell_type": "code",
   "execution_count": 23,
   "id": "demanding-dispute",
   "metadata": {},
   "outputs": [],
   "source": [
    "f_array = np.asfortranarray(c_array) "
   ]
  },
  {
   "cell_type": "code",
   "execution_count": 24,
   "id": "developing-blues",
   "metadata": {},
   "outputs": [],
   "source": [
    "def sum_row(x):\n",
    "    '''\n",
    "    Given an array `x`, return the sum of its zeroth row.\n",
    "    '''\n",
    "    return np.sum(x[0, :])"
   ]
  },
  {
   "cell_type": "code",
   "execution_count": 25,
   "id": "aquatic-crawford",
   "metadata": {},
   "outputs": [],
   "source": [
    "def sum_col(x):\n",
    "    '''\n",
    "    Given an array `x`, return the sum of its zeroth column.\n",
    "    '''\n",
    "    return np.sum(x[:, 0])"
   ]
  },
  {
   "cell_type": "markdown",
   "id": "specialized-touch",
   "metadata": {},
   "source": [
    "Now, let's test the performance of the two functions on both the arrays using IPython's %timeit magic function:"
   ]
  },
  {
   "cell_type": "code",
   "execution_count": 26,
   "id": "internal-generation",
   "metadata": {},
   "outputs": [
    {
     "name": "stdout",
     "output_type": "stream",
     "text": [
      "6.03 µs ± 123 ns per loop (mean ± std. dev. of 7 runs, 100000 loops each)\n"
     ]
    }
   ],
   "source": [
    "%timeit sum_row(c_array) "
   ]
  },
  {
   "cell_type": "code",
   "execution_count": 27,
   "id": "floating-bunny",
   "metadata": {},
   "outputs": [
    {
     "name": "stdout",
     "output_type": "stream",
     "text": [
      "101 µs ± 3.2 µs per loop (mean ± std. dev. of 7 runs, 10000 loops each)\n"
     ]
    }
   ],
   "source": [
    "%timeit sum_row(f_array) "
   ]
  },
  {
   "cell_type": "code",
   "execution_count": 28,
   "id": "motivated-copper",
   "metadata": {},
   "outputs": [
    {
     "name": "stdout",
     "output_type": "stream",
     "text": [
      "103 µs ± 2.54 µs per loop (mean ± std. dev. of 7 runs, 10000 loops each)\n"
     ]
    }
   ],
   "source": [
    "%timeit sum_col(c_array) "
   ]
  },
  {
   "cell_type": "code",
   "execution_count": 29,
   "id": "innovative-mattress",
   "metadata": {},
   "outputs": [
    {
     "name": "stdout",
     "output_type": "stream",
     "text": [
      "6.14 µs ± 164 ns per loop (mean ± std. dev. of 7 runs, 100000 loops each)\n"
     ]
    }
   ],
   "source": [
    "%timeit sum_col(f_array) "
   ]
  },
  {
   "cell_type": "markdown",
   "id": "generous-texture",
   "metadata": {},
   "source": [
    "As we can see, summing up the row of a C array is much faster than summing up its column. This is because, in a C array, elements in a row are laid out in successive memory locations. The opposite is true for a Fortran array, where the elements of a column are laid out in consecutive memory locations."
   ]
  },
  {
   "cell_type": "markdown",
   "id": "delayed-heath",
   "metadata": {},
   "source": [
    "This is an important distinction and allows you to suitably arrange your data in an array, depending on the kind of algorithm or operation you are performing. Knowing this distinction can help you speed up your code by orders of magnitude."
   ]
  },
  {
   "cell_type": "markdown",
   "id": "several-movement",
   "metadata": {},
   "source": [
    "## Views and Copies"
   ]
  },
  {
   "cell_type": "markdown",
   "id": "eleven-latino",
   "metadata": {},
   "source": [
    "There are primarily two ways of accessing data by slicing and indexing. They are called copies and views: you can either access elements directly from an array, or create a copy of the array that contains only the accessed elements. Since a view is a reference of the original array (in Python, all variables are references), modifying a view modifies the original array too. This is not true for copies."
   ]
  },
  {
   "cell_type": "markdown",
   "id": "outdoor-jewelry",
   "metadata": {},
   "source": [
    "The `may_share_memory` function in NumPy miscellaneous routines can be used to determine whether two arrays are copies or views of each other. While this method does the job in most cases, it is not always reliable, since it uses heuristics. It may return incorrect results too. For introductory purposes, however, we shall take it for granted."
   ]
  },
  {
   "cell_type": "markdown",
   "id": "behind-bernard",
   "metadata": {},
   "source": [
    "Generally, slicing an array creates a view and indexing it creates a copy. Let us study these differences through a few code snippets. First, let's create a random `100x10` array."
   ]
  },
  {
   "cell_type": "code",
   "execution_count": 8,
   "id": "likely-banks",
   "metadata": {},
   "outputs": [],
   "source": [
    "x = np.random.rand(100, 10)"
   ]
  },
  {
   "cell_type": "markdown",
   "id": "nearby-florist",
   "metadata": {},
   "source": [
    "Now, let us extract the first five rows of the array and assign them to variable `y`."
   ]
  },
  {
   "cell_type": "code",
   "execution_count": 9,
   "id": "configured-rapid",
   "metadata": {},
   "outputs": [],
   "source": [
    "y = x[:5, :]"
   ]
  },
  {
   "cell_type": "markdown",
   "id": "naval-pickup",
   "metadata": {},
   "source": [
    "Let us see if `y` is a view of `x`."
   ]
  },
  {
   "cell_type": "code",
   "execution_count": 10,
   "id": "every-initial",
   "metadata": {},
   "outputs": [
    {
     "data": {
      "text/plain": [
       "True"
      ]
     },
     "execution_count": 10,
     "metadata": {},
     "output_type": "execute_result"
    }
   ],
   "source": [
    "np.may_share_memory(x, y)"
   ]
  },
  {
   "cell_type": "markdown",
   "id": "ancient-incentive",
   "metadata": {},
   "source": [
    "Now let us modify the array `y` and see how it affects `x`. Set all the elements of `y` to zero:"
   ]
  },
  {
   "cell_type": "code",
   "execution_count": 52,
   "id": "pending-breach",
   "metadata": {},
   "outputs": [],
   "source": [
    "y[:] = 0 "
   ]
  },
  {
   "cell_type": "code",
   "execution_count": 53,
   "id": "arabic-taylor",
   "metadata": {},
   "outputs": [
    {
     "data": {
      "text/plain": [
       "array([[0., 0., 0., 0., 0., 0., 0., 0., 0., 0.],\n",
       "       [0., 0., 0., 0., 0., 0., 0., 0., 0., 0.],\n",
       "       [0., 0., 0., 0., 0., 0., 0., 0., 0., 0.],\n",
       "       [0., 0., 0., 0., 0., 0., 0., 0., 0., 0.],\n",
       "       [0., 0., 0., 0., 0., 0., 0., 0., 0., 0.]])"
      ]
     },
     "execution_count": 53,
     "metadata": {},
     "output_type": "execute_result"
    }
   ],
   "source": [
    "x[:5, :]"
   ]
  },
  {
   "cell_type": "markdown",
   "id": "norwegian-actor",
   "metadata": {},
   "source": [
    "The code snippet prints out five rows of zeros. This is because `y` was just a view, a reference to `x`."
   ]
  },
  {
   "cell_type": "markdown",
   "id": "mental-product",
   "metadata": {},
   "source": [
    "Next, let's create a copy to see the difference. We use the preceding method that uses a random function to create the `x` array, but this time we initialize the `y` array using `numpy.empty` to create an empty array first and then copy the values from `x` to `y`. So, now `y` is not a view/reference of `x` anymore; it's an independent array but has the same values as part of `x`. Let's use the may_share_memory function again to verify that `y` is the copy of `x`:"
   ]
  },
  {
   "cell_type": "code",
   "execution_count": 58,
   "id": "unavailable-spring",
   "metadata": {},
   "outputs": [],
   "source": [
    "x = np.random.rand(100, 10)\n",
    "y = np.empty([5, 10]) "
   ]
  },
  {
   "cell_type": "code",
   "execution_count": 59,
   "id": "heated-camcorder",
   "metadata": {},
   "outputs": [],
   "source": [
    "y[:] = x[:5, :]"
   ]
  },
  {
   "cell_type": "code",
   "execution_count": 60,
   "id": "hispanic-shock",
   "metadata": {},
   "outputs": [
    {
     "data": {
      "text/plain": [
       "False"
      ]
     },
     "execution_count": 60,
     "metadata": {},
     "output_type": "execute_result"
    }
   ],
   "source": [
    "np.may_share_memory(x, y)"
   ]
  },
  {
   "cell_type": "markdown",
   "id": "developed-curtis",
   "metadata": {},
   "source": [
    "Let's alter the value in `y` and check whether the value of `x` changes as well:"
   ]
  },
  {
   "cell_type": "code",
   "execution_count": 61,
   "id": "dietary-lotus",
   "metadata": {},
   "outputs": [],
   "source": [
    "y[:] = 0"
   ]
  },
  {
   "cell_type": "code",
   "execution_count": 63,
   "id": "phantom-transportation",
   "metadata": {},
   "outputs": [
    {
     "data": {
      "text/plain": [
       "array([[0.22594285, 0.84943588, 0.63799672, 0.90865088, 0.89087029,\n",
       "        0.66289172, 0.41134246, 0.46546459, 0.46927432, 0.34504615],\n",
       "       [0.56702582, 0.04641427, 0.9855564 , 0.40668092, 0.0628503 ,\n",
       "        0.56129959, 0.35503778, 0.22145278, 0.72152542, 0.70329602],\n",
       "       [0.26986364, 0.4927989 , 0.4388591 , 0.15837464, 0.65150918,\n",
       "        0.62545448, 0.47597151, 0.28765198, 0.38625864, 0.56950966],\n",
       "       [0.08818207, 0.9425105 , 0.59893522, 0.61628436, 0.51038646,\n",
       "        0.05008038, 0.85750826, 0.55464599, 0.14657257, 0.56587341],\n",
       "       [0.63737814, 0.30478605, 0.69243957, 0.54875134, 0.55246097,\n",
       "        0.2616949 , 0.26626916, 0.98765586, 0.80260403, 0.03282723]])"
      ]
     },
     "execution_count": 63,
     "metadata": {},
     "output_type": "execute_result"
    }
   ],
   "source": [
    "x[:5, :]"
   ]
  },
  {
   "cell_type": "markdown",
   "id": "aware-poultry",
   "metadata": {},
   "source": [
    "You should see the preceding snippet print out five rows of random numbers as we initialized `x`, so changing `y` to `0` didn't affect `x`."
   ]
  },
  {
   "cell_type": "markdown",
   "id": "competitive-thursday",
   "metadata": {},
   "source": [
    "## Introducing strides"
   ]
  },
  {
   "cell_type": "markdown",
   "id": "interior-black",
   "metadata": {},
   "source": [
    "Strides are the indexing scheme in NumPy arrays, and indicate the number of bytes to jump to find the next element. We all know the performance improvements of NumPy come from a homogeneous multidimensional array object with fixed-size items, the `numpy.ndarray` object. We've talked about the `shape` (dimension) of the `ndarray` object, the data type, and the order (the C-style row-major indexing arrays and the Fortran style column-major arrays.) Now it's time to take a closer look at **strides**."
   ]
  },
  {
   "cell_type": "markdown",
   "id": "special-pixel",
   "metadata": {},
   "source": [
    "###  Example"
   ]
  },
  {
   "cell_type": "markdown",
   "id": "welsh-speaking",
   "metadata": {},
   "source": [
    "Let's start by creating a NumPy array and changing its shape to see the differences in the strides."
   ]
  },
  {
   "cell_type": "code",
   "execution_count": 11,
   "id": "greek-brush",
   "metadata": {},
   "outputs": [],
   "source": [
    "x = np.arange(8, dtype = np.int8)"
   ]
  },
  {
   "cell_type": "code",
   "execution_count": 12,
   "id": "later-military",
   "metadata": {},
   "outputs": [
    {
     "data": {
      "text/plain": [
       "array([0, 1, 2, 3, 4, 5, 6, 7], dtype=int8)"
      ]
     },
     "execution_count": 12,
     "metadata": {},
     "output_type": "execute_result"
    }
   ],
   "source": [
    "x"
   ]
  },
  {
   "cell_type": "code",
   "execution_count": 13,
   "id": "beneficial-conditions",
   "metadata": {},
   "outputs": [
    {
     "data": {
      "text/plain": [
       "(1,)"
      ]
     },
     "execution_count": 13,
     "metadata": {},
     "output_type": "execute_result"
    }
   ],
   "source": [
    "x.strides"
   ]
  },
  {
   "cell_type": "code",
   "execution_count": 79,
   "id": "southeast-massachusetts",
   "metadata": {},
   "outputs": [
    {
     "data": {
      "text/plain": [
       "<memory at 0x7f416c68f120>"
      ]
     },
     "execution_count": 79,
     "metadata": {},
     "output_type": "execute_result"
    }
   ],
   "source": [
    "x.data"
   ]
  },
  {
   "cell_type": "markdown",
   "id": "geological-munich",
   "metadata": {},
   "source": [
    "A one-dimensional array `x` is created and its data type is NumPy integer 8, which means each element in the array is an 8-bit integer (1 byte each, and a total of 8 bytes). The strides represent the `tuple` of bytes to step in each dimension when traversing an array. In the previous example, it's one dimension, so we obtain the tuple as `(1, )`. Each element is 1 byte apart from its previous element. When we print out `x.data`, we can get the Python buffer object pointing to the start of the data"
   ]
  },
  {
   "cell_type": "markdown",
   "id": "offensive-surface",
   "metadata": {},
   "source": [
    "Change the shape and see the stride change:"
   ]
  },
  {
   "cell_type": "code",
   "execution_count": 14,
   "id": "mineral-zambia",
   "metadata": {},
   "outputs": [],
   "source": [
    "x.shape = 2, 4"
   ]
  },
  {
   "cell_type": "code",
   "execution_count": 17,
   "id": "remarkable-desert",
   "metadata": {},
   "outputs": [
    {
     "data": {
      "text/plain": [
       "(4, 1)"
      ]
     },
     "execution_count": 17,
     "metadata": {},
     "output_type": "execute_result"
    }
   ],
   "source": [
    "x.strides"
   ]
  },
  {
   "cell_type": "markdown",
   "id": "confidential-consolidation",
   "metadata": {},
   "source": [
    "Now we change the dimensions of `x` to `2x4` and check the strides again. We can see it changes to `(4, 1)`, which means the elements in the first dimension are four bytes apart, and the array need to jump four bytes to find the next row, but the elements in the second dimension are still 1 byte apart, jumping one byte to find the next column. Let's print out `x.data` again, and we can see that the memory layout of the data remains the same, but only the strides change. The same behavior occurs when we change the shape to be three dimensional: `1x4x2` arrays. (What if our arrays are constructed by the Fortran style order? How will the strides change due to changing the shapes? Try to create a column-major array and do the same exercise to check this out.)"
   ]
  },
  {
   "cell_type": "code",
   "execution_count": 18,
   "id": "mature-duration",
   "metadata": {},
   "outputs": [],
   "source": [
    "x.shape = 1, 4, 2"
   ]
  },
  {
   "cell_type": "code",
   "execution_count": 19,
   "id": "normal-bookmark",
   "metadata": {},
   "outputs": [
    {
     "data": {
      "text/plain": [
       "(8, 2, 1)"
      ]
     },
     "execution_count": 19,
     "metadata": {},
     "output_type": "execute_result"
    }
   ],
   "source": [
    "x.strides"
   ]
  },
  {
   "cell_type": "code",
   "execution_count": 20,
   "id": "superior-aviation",
   "metadata": {},
   "outputs": [
    {
     "data": {
      "text/plain": [
       "<memory at 0x7ff1b8841c50>"
      ]
     },
     "execution_count": 20,
     "metadata": {},
     "output_type": "execute_result"
    }
   ],
   "source": [
    "x.data"
   ]
  },
  {
   "cell_type": "markdown",
   "id": "swiss-ability",
   "metadata": {},
   "source": [
    "### How can the stride improve our NumPy experience?"
   ]
  },
  {
   "cell_type": "markdown",
   "id": "previous-appreciation",
   "metadata": {},
   "source": [
    "So now we know what a stride is, and its relationship to an ndarray object, but how can the stride improve our NumPy experience? Let's do some stride manipulation to get a better sense of this: two arrays are with same content but have different strides:"
   ]
  },
  {
   "cell_type": "code",
   "execution_count": 25,
   "id": "respiratory-dominant",
   "metadata": {},
   "outputs": [],
   "source": [
    "x = np.ones((10000, )) "
   ]
  },
  {
   "cell_type": "code",
   "execution_count": 26,
   "id": "narrow-wells",
   "metadata": {},
   "outputs": [],
   "source": [
    "y = np.ones((10000 * 100, ))[::100] "
   ]
  },
  {
   "cell_type": "code",
   "execution_count": 23,
   "id": "seasonal-dictionary",
   "metadata": {},
   "outputs": [
    {
     "data": {
      "text/plain": [
       "((10000,), (10000,))"
      ]
     },
     "execution_count": 23,
     "metadata": {},
     "output_type": "execute_result"
    }
   ],
   "source": [
    "x.shape, y.shape"
   ]
  },
  {
   "cell_type": "code",
   "execution_count": 24,
   "id": "quarterly-gospel",
   "metadata": {},
   "outputs": [
    {
     "data": {
      "text/plain": [
       "True"
      ]
     },
     "execution_count": 24,
     "metadata": {},
     "output_type": "execute_result"
    }
   ],
   "source": [
    "(x == y).all()"
   ]
  },
  {
   "cell_type": "markdown",
   "id": "talented-russia",
   "metadata": {},
   "source": [
    "We create two NumPy Arrays, `x` and `y`, and do a comparison; we can see that the two arrays are equal. They have the same shape and all the elements are one, but actually the two arrays are different in terms of memory layout. Let's simply use the flags attribute to check the two arrays' memory layout."
   ]
  },
  {
   "cell_type": "code",
   "execution_count": 116,
   "id": "recent-spectrum",
   "metadata": {},
   "outputs": [
    {
     "data": {
      "text/plain": [
       "  C_CONTIGUOUS : True\n",
       "  F_CONTIGUOUS : True\n",
       "  OWNDATA : True\n",
       "  WRITEABLE : True\n",
       "  ALIGNED : True\n",
       "  WRITEBACKIFCOPY : False\n",
       "  UPDATEIFCOPY : False"
      ]
     },
     "execution_count": 116,
     "metadata": {},
     "output_type": "execute_result"
    }
   ],
   "source": [
    "x.flags"
   ]
  },
  {
   "cell_type": "code",
   "execution_count": 118,
   "id": "black-eating",
   "metadata": {},
   "outputs": [
    {
     "data": {
      "text/plain": [
       "  C_CONTIGUOUS : False\n",
       "  F_CONTIGUOUS : False\n",
       "  OWNDATA : False\n",
       "  WRITEABLE : True\n",
       "  ALIGNED : True\n",
       "  WRITEBACKIFCOPY : False\n",
       "  UPDATEIFCOPY : False"
      ]
     },
     "execution_count": 118,
     "metadata": {},
     "output_type": "execute_result"
    }
   ],
   "source": [
    "y.flags"
   ]
  },
  {
   "cell_type": "markdown",
   "id": "local-things",
   "metadata": {},
   "source": [
    "We can see that the `x` array is continuous in both the C and Fortran order while `y` is not. Let's check the strides for the difference:"
   ]
  },
  {
   "cell_type": "code",
   "execution_count": 120,
   "id": "environmental-afghanistan",
   "metadata": {},
   "outputs": [
    {
     "data": {
      "text/plain": [
       "((8,), (800,))"
      ]
     },
     "execution_count": 120,
     "metadata": {},
     "output_type": "execute_result"
    }
   ],
   "source": [
    "x.strides, y.strides"
   ]
  },
  {
   "cell_type": "markdown",
   "id": "infinite-collect",
   "metadata": {},
   "source": [
    "Array `x` is created continuously, so in the same dimension each element is eight bytes apart (the default `dtype` of `numpy.ones` is a 64-bit float); however, `y` is created from a subset of 10000 * 100 for every 100 elements, so the index schema in the memory layout is not continuous."
   ]
  },
  {
   "cell_type": "markdown",
   "id": "civilian-board",
   "metadata": {},
   "source": [
    "Even though `x` and `y` have the same shape, each element in `y` is 800 bytes apart from each other. When you use NumPy arrays `x` and `y`, you might not notice the difference in indexing, but the memory layout does affect the performance. Let's use the `%timeit` to check this out:"
   ]
  },
  {
   "cell_type": "code",
   "execution_count": 121,
   "id": "honey-blair",
   "metadata": {},
   "outputs": [
    {
     "name": "stdout",
     "output_type": "stream",
     "text": [
      "4.09 µs ± 36.3 ns per loop (mean ± std. dev. of 7 runs, 100000 loops each)\n"
     ]
    }
   ],
   "source": [
    "%timeit x.sum()"
   ]
  },
  {
   "cell_type": "code",
   "execution_count": 122,
   "id": "korean-culture",
   "metadata": {},
   "outputs": [
    {
     "name": "stdout",
     "output_type": "stream",
     "text": [
      "19.8 µs ± 992 ns per loop (mean ± std. dev. of 7 runs, 10000 loops each)\n"
     ]
    }
   ],
   "source": [
    "%timeit y.sum()"
   ]
  },
  {
   "cell_type": "markdown",
   "id": "modern-messaging",
   "metadata": {},
   "source": [
    "Typically with a fixed cache size, when the stride size gets larger, the hit rate (the fraction of memory accessed that finds data in the cache) will be lower, comparatively, while the miss rate (the fraction of memory accessed that has to go to the memory) will be higher. The cache hit time and miss time compose the average data access time. Let's try to look at our example again from the cache perspective. Array `x` with smaller strides is faster than the larger strides of `y`. The reason for the difference in performance is that the CPU is pulling data from the main memory to its cache in blocks, and the smaller stride means fewer transfers are needed. See the following graph for details, where the red line represents the size of the CPU cache, and blue boxes represent the memory layout containing the data."
   ]
  },
  {
   "cell_type": "markdown",
   "id": "isolated-postcard",
   "metadata": {},
   "source": [
    "It's obvious that if `x` and `y` are both required, 100 blue boxes of data, the required cache time for `x` will be less."
   ]
  },
  {
   "cell_type": "markdown",
   "id": "adapted-johnson",
   "metadata": {},
   "source": [
    "<img src=\"../images/cpu-cache.jpg\" alt=\"cpu-cache\" width=500 align=\"left\" />"
   ]
  },
  {
   "cell_type": "markdown",
   "id": "registered-clause",
   "metadata": {},
   "source": [
    "### Stride in N-dimensional `ndarray`"
   ]
  },
  {
   "cell_type": "markdown",
   "id": "norwegian-robertson",
   "metadata": {},
   "source": [
    "A segment of memory is inherently 1-dimensional, and there are many different schemes for arranging the items of an N-dimensional array in a 1-dimensional block. NumPy is flexible, and ndarray objects can accommodate any strided indexing scheme. In a strided scheme, the N-dimensional index (`n_0, n_1, ..., n_{N-1}`) corresponds to the offset (in bytes):\n",
    "\n",
    "$n_{\\text{offset}} = \\sum_{k=0}^{N-1} s_k n_k$\n",
    "\n",
    "from the beginning of the memory block associated with the array. Here, $s_k$ are integers which specify the strides of the array."
   ]
  },
  {
   "cell_type": "code",
   "execution_count": 123,
   "id": "advanced-sacrifice",
   "metadata": {},
   "outputs": [],
   "source": [
    "import numpy as np"
   ]
  },
  {
   "cell_type": "code",
   "execution_count": 124,
   "id": "oriental-brooklyn",
   "metadata": {},
   "outputs": [],
   "source": [
    "x = np.random.rand(3, 4)"
   ]
  },
  {
   "cell_type": "code",
   "execution_count": 125,
   "id": "strategic-scholar",
   "metadata": {},
   "outputs": [
    {
     "data": {
      "text/plain": [
       "(8, 32.0)"
      ]
     },
     "execution_count": 125,
     "metadata": {},
     "output_type": "execute_result"
    }
   ],
   "source": [
    "x.itemsize, x.nbytes / x.shape[0]"
   ]
  },
  {
   "cell_type": "code",
   "execution_count": 126,
   "id": "higher-impossible",
   "metadata": {},
   "outputs": [
    {
     "data": {
      "text/plain": [
       "(32, 8)"
      ]
     },
     "execution_count": 126,
     "metadata": {},
     "output_type": "execute_result"
    }
   ],
   "source": [
    "x.strides"
   ]
  },
  {
   "cell_type": "code",
   "execution_count": 127,
   "id": "revolutionary-radio",
   "metadata": {},
   "outputs": [
    {
     "data": {
      "text/plain": [
       "array([0.86715172, 0.75103058, 0.59647724, 0.96017377, 0.70260017,\n",
       "       0.39786388, 0.03984518, 0.12612843, 0.00936317, 0.49894596,\n",
       "       0.78386359, 0.43940843])"
      ]
     },
     "execution_count": 127,
     "metadata": {},
     "output_type": "execute_result"
    }
   ],
   "source": [
    "# .flatten() returns numpy array\n",
    "x.flatten()"
   ]
  },
  {
   "cell_type": "code",
   "execution_count": 128,
   "id": "appointed-classic",
   "metadata": {},
   "outputs": [
    {
     "data": {
      "text/plain": [
       "array([0.86715172, 0.75103058, 0.59647724, 0.96017377, 0.70260017,\n",
       "       0.39786388, 0.03984518, 0.12612843, 0.00936317, 0.49894596,\n",
       "       0.78386359, 0.43940843])"
      ]
     },
     "execution_count": 128,
     "metadata": {},
     "output_type": "execute_result"
    }
   ],
   "source": [
    "# .flat returns iterator\n",
    "np.array(x.flat)"
   ]
  },
  {
   "cell_type": "code",
   "execution_count": 129,
   "id": "precious-silence",
   "metadata": {},
   "outputs": [
    {
     "data": {
      "text/plain": [
       "array([0.70260017, 0.39786388, 0.03984518, 0.12612843])"
      ]
     },
     "execution_count": 129,
     "metadata": {},
     "output_type": "execute_result"
    }
   ],
   "source": [
    "# a stride of 1 is equal to 32 bytes\n",
    "x[1]"
   ]
  },
  {
   "cell_type": "markdown",
   "id": "fancy-projector",
   "metadata": {},
   "source": [
    "## Conclusion: Why `np.array` not `list`"
   ]
  },
  {
   "cell_type": "code",
   "execution_count": null,
   "id": "graphic-armenia",
   "metadata": {},
   "outputs": [],
   "source": [
    "x = [1, '2', [1, 2, 3]]\n",
    "arr = np.array([1, 2, 3])"
   ]
  },
  {
   "cell_type": "markdown",
   "id": "satisfied-nowhere",
   "metadata": {},
   "source": [
    "list: more memory is needed\n",
    "      homogenous memory in numpy results in more speed  -> different data types\n",
    "      c_array f_array  ---->  which operations are slow which are fast? which axes?\n",
    "      default is memory view in numpy -----> no copy\n",
    "      debug ---> flags, strides, data, (under the hood information)\n",
    "      \n",
    "      vectorization --> beutiy, no foor loop, formula == code\n",
    "      broadcasting --> no broadcasting in python"
   ]
  }
 ],
 "metadata": {
  "kernelspec": {
   "display_name": "Python 3 (ipykernel)",
   "language": "python",
   "name": "python3"
  },
  "language_info": {
   "codemirror_mode": {
    "name": "ipython",
    "version": 3
   },
   "file_extension": ".py",
   "mimetype": "text/x-python",
   "name": "python",
   "nbconvert_exporter": "python",
   "pygments_lexer": "ipython3",
   "version": "3.8.12"
  },
  "nteract": {
   "version": "nteract-on-jupyter@2.1.3"
  }
 },
 "nbformat": 4,
 "nbformat_minor": 5
}
